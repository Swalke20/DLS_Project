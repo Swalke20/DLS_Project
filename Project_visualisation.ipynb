{
 "cells": [
  {
   "cell_type": "code",
   "execution_count": 42,
   "metadata": {},
   "outputs": [
    {
     "name": "stdout",
     "output_type": "stream",
     "text": [
      "Note: you may need to restart the kernel to use updated packages.\n"
     ]
    }
   ],
   "source": [
    "pip freeze > requirements.txt"
   ]
  },
  {
   "cell_type": "code",
   "execution_count": 43,
   "metadata": {},
   "outputs": [],
   "source": [
    "import pandas as pd\n",
    "import numpy as np\n",
    "import matplotlib\n",
    "import matplotlib.pyplot as plt\n",
    "import seaborn as sns\n",
    "from scipy import stats"
   ]
  },
  {
   "cell_type": "code",
   "execution_count": 44,
   "metadata": {},
   "outputs": [],
   "source": [
    "data_df = pd.read_csv(\"Project_data_csv\")"
   ]
  },
  {
   "cell_type": "code",
   "execution_count": 45,
   "metadata": {},
   "outputs": [
    {
     "data": {
      "text/plain": [
       "(270223, 30)"
      ]
     },
     "execution_count": 45,
     "metadata": {},
     "output_type": "execute_result"
    }
   ],
   "source": [
    "data_df.shape"
   ]
  },
  {
   "cell_type": "code",
   "execution_count": 46,
   "metadata": {},
   "outputs": [
    {
     "data": {
      "text/html": [
       "<div>\n",
       "<style scoped>\n",
       "    .dataframe tbody tr th:only-of-type {\n",
       "        vertical-align: middle;\n",
       "    }\n",
       "\n",
       "    .dataframe tbody tr th {\n",
       "        vertical-align: top;\n",
       "    }\n",
       "\n",
       "    .dataframe thead th {\n",
       "        text-align: right;\n",
       "    }\n",
       "</style>\n",
       "<table border=\"1\" class=\"dataframe\">\n",
       "  <thead>\n",
       "    <tr style=\"text-align: right;\">\n",
       "      <th></th>\n",
       "      <th>Unnamed: 0</th>\n",
       "      <th>batting_team</th>\n",
       "      <th>bowling_team</th>\n",
       "      <th>innings_num</th>\n",
       "      <th>over_col</th>\n",
       "      <th>ball_col</th>\n",
       "      <th>Match ID</th>\n",
       "      <th>Start Date</th>\n",
       "      <th>Runs</th>\n",
       "      <th>Running Total</th>\n",
       "      <th>...</th>\n",
       "      <th>Wickets Remaining</th>\n",
       "      <th>Extras</th>\n",
       "      <th>Over and Balls Total</th>\n",
       "      <th>Team Value</th>\n",
       "      <th>DLS %</th>\n",
       "      <th>Target Score</th>\n",
       "      <th>Ground RPO</th>\n",
       "      <th>Ground RPW</th>\n",
       "      <th>Batting Team Result DLS</th>\n",
       "      <th>DLS Correct?</th>\n",
       "    </tr>\n",
       "  </thead>\n",
       "  <tbody>\n",
       "    <tr>\n",
       "      <th>0</th>\n",
       "      <td>0</td>\n",
       "      <td>Pakistan</td>\n",
       "      <td>Australia</td>\n",
       "      <td>2</td>\n",
       "      <td>20</td>\n",
       "      <td>1</td>\n",
       "      <td>1000887</td>\n",
       "      <td>2017-01-13</td>\n",
       "      <td>0</td>\n",
       "      <td>91</td>\n",
       "      <td>...</td>\n",
       "      <td>7</td>\n",
       "      <td>N/E</td>\n",
       "      <td>55</td>\n",
       "      <td>16</td>\n",
       "      <td>38.6</td>\n",
       "      <td>104</td>\n",
       "      <td>4.79</td>\n",
       "      <td>29.31</td>\n",
       "      <td>Australia</td>\n",
       "      <td>Yes</td>\n",
       "    </tr>\n",
       "    <tr>\n",
       "      <th>1</th>\n",
       "      <td>1</td>\n",
       "      <td>Pakistan</td>\n",
       "      <td>Australia</td>\n",
       "      <td>2</td>\n",
       "      <td>20</td>\n",
       "      <td>2</td>\n",
       "      <td>1000887</td>\n",
       "      <td>2017-01-13</td>\n",
       "      <td>0</td>\n",
       "      <td>91</td>\n",
       "      <td>...</td>\n",
       "      <td>7</td>\n",
       "      <td>N/E</td>\n",
       "      <td>55</td>\n",
       "      <td>16</td>\n",
       "      <td>38.8</td>\n",
       "      <td>104</td>\n",
       "      <td>4.79</td>\n",
       "      <td>29.31</td>\n",
       "      <td>Australia</td>\n",
       "      <td>Yes</td>\n",
       "    </tr>\n",
       "    <tr>\n",
       "      <th>2</th>\n",
       "      <td>2</td>\n",
       "      <td>Pakistan</td>\n",
       "      <td>Australia</td>\n",
       "      <td>2</td>\n",
       "      <td>20</td>\n",
       "      <td>3</td>\n",
       "      <td>1000887</td>\n",
       "      <td>2017-01-13</td>\n",
       "      <td>0</td>\n",
       "      <td>91</td>\n",
       "      <td>...</td>\n",
       "      <td>7</td>\n",
       "      <td>N/E</td>\n",
       "      <td>55</td>\n",
       "      <td>16</td>\n",
       "      <td>38.9</td>\n",
       "      <td>105</td>\n",
       "      <td>4.79</td>\n",
       "      <td>29.31</td>\n",
       "      <td>Australia</td>\n",
       "      <td>Yes</td>\n",
       "    </tr>\n",
       "    <tr>\n",
       "      <th>3</th>\n",
       "      <td>3</td>\n",
       "      <td>Pakistan</td>\n",
       "      <td>Australia</td>\n",
       "      <td>2</td>\n",
       "      <td>20</td>\n",
       "      <td>4</td>\n",
       "      <td>1000887</td>\n",
       "      <td>2017-01-13</td>\n",
       "      <td>0</td>\n",
       "      <td>91</td>\n",
       "      <td>...</td>\n",
       "      <td>7</td>\n",
       "      <td>N/E</td>\n",
       "      <td>55</td>\n",
       "      <td>16</td>\n",
       "      <td>39.1</td>\n",
       "      <td>105</td>\n",
       "      <td>4.79</td>\n",
       "      <td>29.31</td>\n",
       "      <td>Australia</td>\n",
       "      <td>Yes</td>\n",
       "    </tr>\n",
       "    <tr>\n",
       "      <th>4</th>\n",
       "      <td>4</td>\n",
       "      <td>Pakistan</td>\n",
       "      <td>Australia</td>\n",
       "      <td>2</td>\n",
       "      <td>20</td>\n",
       "      <td>5</td>\n",
       "      <td>1000887</td>\n",
       "      <td>2017-01-13</td>\n",
       "      <td>1</td>\n",
       "      <td>92</td>\n",
       "      <td>...</td>\n",
       "      <td>7</td>\n",
       "      <td>N/E</td>\n",
       "      <td>55</td>\n",
       "      <td>16</td>\n",
       "      <td>39.3</td>\n",
       "      <td>106</td>\n",
       "      <td>4.79</td>\n",
       "      <td>29.31</td>\n",
       "      <td>Australia</td>\n",
       "      <td>Yes</td>\n",
       "    </tr>\n",
       "  </tbody>\n",
       "</table>\n",
       "<p>5 rows × 30 columns</p>\n",
       "</div>"
      ],
      "text/plain": [
       "   Unnamed: 0 batting_team bowling_team  innings_num  over_col  ball_col   \n",
       "0           0     Pakistan    Australia            2        20         1  \\\n",
       "1           1     Pakistan    Australia            2        20         2   \n",
       "2           2     Pakistan    Australia            2        20         3   \n",
       "3           3     Pakistan    Australia            2        20         4   \n",
       "4           4     Pakistan    Australia            2        20         5   \n",
       "\n",
       "   Match ID  Start Date  Runs  Running Total  ... Wickets Remaining  Extras   \n",
       "0   1000887  2017-01-13     0             91  ...                 7     N/E  \\\n",
       "1   1000887  2017-01-13     0             91  ...                 7     N/E   \n",
       "2   1000887  2017-01-13     0             91  ...                 7     N/E   \n",
       "3   1000887  2017-01-13     0             91  ...                 7     N/E   \n",
       "4   1000887  2017-01-13     1             92  ...                 7     N/E   \n",
       "\n",
       "  Over and Balls Total Team Value DLS % Target Score  Ground RPO  Ground RPW   \n",
       "0                   55         16  38.6          104        4.79       29.31  \\\n",
       "1                   55         16  38.8          104        4.79       29.31   \n",
       "2                   55         16  38.9          105        4.79       29.31   \n",
       "3                   55         16  39.1          105        4.79       29.31   \n",
       "4                   55         16  39.3          106        4.79       29.31   \n",
       "\n",
       "   Batting Team Result DLS  DLS Correct?  \n",
       "0                Australia           Yes  \n",
       "1                Australia           Yes  \n",
       "2                Australia           Yes  \n",
       "3                Australia           Yes  \n",
       "4                Australia           Yes  \n",
       "\n",
       "[5 rows x 30 columns]"
      ]
     },
     "execution_count": 46,
     "metadata": {},
     "output_type": "execute_result"
    }
   ],
   "source": [
    "data_df.head()"
   ]
  },
  {
   "cell_type": "code",
   "execution_count": 47,
   "metadata": {},
   "outputs": [
    {
     "name": "stdout",
     "output_type": "stream",
     "text": [
      "<class 'pandas.core.frame.DataFrame'>\n",
      "RangeIndex: 270223 entries, 0 to 270222\n",
      "Data columns (total 30 columns):\n",
      " #   Column                   Non-Null Count   Dtype  \n",
      "---  ------                   --------------   -----  \n",
      " 0   Unnamed: 0               270223 non-null  int64  \n",
      " 1   batting_team             270223 non-null  object \n",
      " 2   bowling_team             270223 non-null  object \n",
      " 3   innings_num              270223 non-null  int64  \n",
      " 4   over_col                 270223 non-null  int64  \n",
      " 5   ball_col                 270223 non-null  int64  \n",
      " 6   Match ID                 270223 non-null  int64  \n",
      " 7   Start Date               270223 non-null  object \n",
      " 8   Runs                     270223 non-null  int64  \n",
      " 9   Running Total            270223 non-null  int64  \n",
      " 10  Batter out               270223 non-null  object \n",
      " 11  Wickets taken            270223 non-null  int64  \n",
      " 12  Start Team               270223 non-null  object \n",
      " 13  Remaining Team           270223 non-null  object \n",
      " 14  Venue                    270223 non-null  object \n",
      " 15  Winner                   270223 non-null  object \n",
      " 16  First Team Innings       270223 non-null  int64  \n",
      " 17  Remaining Overs          270223 non-null  int64  \n",
      " 18  Remaining Balls          270223 non-null  int64  \n",
      " 19  Remainder                270223 non-null  float64\n",
      " 20  Wickets Remaining        270223 non-null  int64  \n",
      " 21  Extras                   270223 non-null  object \n",
      " 22  Over and Balls Total     270223 non-null  int64  \n",
      " 23  Team Value               270223 non-null  int64  \n",
      " 24  DLS %                    270223 non-null  float64\n",
      " 25  Target Score             270223 non-null  int64  \n",
      " 26  Ground RPO               270223 non-null  float64\n",
      " 27  Ground RPW               270223 non-null  float64\n",
      " 28  Batting Team Result DLS  270223 non-null  object \n",
      " 29  DLS Correct?             270223 non-null  object \n",
      "dtypes: float64(4), int64(15), object(11)\n",
      "memory usage: 61.8+ MB\n"
     ]
    }
   ],
   "source": [
    "data_df.info()"
   ]
  },
  {
   "cell_type": "markdown",
   "metadata": {},
   "source": [
    "Do I need to change the original data code to change batting team and bowling team to team 1 and team 2?  And should I remove "
   ]
  },
  {
   "cell_type": "code",
   "execution_count": 48,
   "metadata": {},
   "outputs": [],
   "source": [
    "winner_no = []\n",
    "for index, row in data_df.iterrows():\n",
    "    if row['Winner'] == row['batting_team']:\n",
    "        winner_no.append(2)\n",
    "    elif row['Winner'] == row['bowling_team']:\n",
    "        winner_no.append(1)\n",
    "    else:\n",
    "       winner_no.append(0)"
   ]
  },
  {
   "cell_type": "code",
   "execution_count": 49,
   "metadata": {},
   "outputs": [],
   "source": [
    "winner_no_df = pd.DataFrame(winner_no)"
   ]
  },
  {
   "cell_type": "code",
   "execution_count": 50,
   "metadata": {},
   "outputs": [
    {
     "name": "stdout",
     "output_type": "stream",
     "text": [
      "<class 'pandas.core.frame.DataFrame'>\n",
      "RangeIndex: 270223 entries, 0 to 270222\n",
      "Data columns (total 1 columns):\n",
      " #   Column  Non-Null Count   Dtype\n",
      "---  ------  --------------   -----\n",
      " 0   0       270223 non-null  int64\n",
      "dtypes: int64(1)\n",
      "memory usage: 2.1 MB\n"
     ]
    }
   ],
   "source": [
    "winner_no_df.info()"
   ]
  },
  {
   "cell_type": "code",
   "execution_count": 51,
   "metadata": {},
   "outputs": [],
   "source": [
    "winner_no_df.rename(columns={0: 'Winner_num'}, inplace=True)"
   ]
  },
  {
   "cell_type": "markdown",
   "metadata": {},
   "source": [
    "Turning the Team 1 win, Team 2 win and Draw numbers into 3 categories (2,1,0 respectively)"
   ]
  },
  {
   "cell_type": "code",
   "execution_count": 52,
   "metadata": {},
   "outputs": [],
   "source": [
    "winner_no_df['Winner_num'] = winner_no_df.Winner_num.astype('category')\n"
   ]
  },
  {
   "cell_type": "code",
   "execution_count": 53,
   "metadata": {},
   "outputs": [],
   "source": [
    "data_df['Winner_num'] = winner_no_df['Winner_num']"
   ]
  },
  {
   "cell_type": "code",
   "execution_count": 54,
   "metadata": {},
   "outputs": [
    {
     "name": "stdout",
     "output_type": "stream",
     "text": [
      "<class 'pandas.core.frame.DataFrame'>\n",
      "RangeIndex: 270223 entries, 0 to 270222\n",
      "Data columns (total 31 columns):\n",
      " #   Column                   Non-Null Count   Dtype   \n",
      "---  ------                   --------------   -----   \n",
      " 0   Unnamed: 0               270223 non-null  int64   \n",
      " 1   batting_team             270223 non-null  object  \n",
      " 2   bowling_team             270223 non-null  object  \n",
      " 3   innings_num              270223 non-null  int64   \n",
      " 4   over_col                 270223 non-null  int64   \n",
      " 5   ball_col                 270223 non-null  int64   \n",
      " 6   Match ID                 270223 non-null  int64   \n",
      " 7   Start Date               270223 non-null  object  \n",
      " 8   Runs                     270223 non-null  int64   \n",
      " 9   Running Total            270223 non-null  int64   \n",
      " 10  Batter out               270223 non-null  object  \n",
      " 11  Wickets taken            270223 non-null  int64   \n",
      " 12  Start Team               270223 non-null  object  \n",
      " 13  Remaining Team           270223 non-null  object  \n",
      " 14  Venue                    270223 non-null  object  \n",
      " 15  Winner                   270223 non-null  object  \n",
      " 16  First Team Innings       270223 non-null  int64   \n",
      " 17  Remaining Overs          270223 non-null  int64   \n",
      " 18  Remaining Balls          270223 non-null  int64   \n",
      " 19  Remainder                270223 non-null  float64 \n",
      " 20  Wickets Remaining        270223 non-null  int64   \n",
      " 21  Extras                   270223 non-null  object  \n",
      " 22  Over and Balls Total     270223 non-null  int64   \n",
      " 23  Team Value               270223 non-null  int64   \n",
      " 24  DLS %                    270223 non-null  float64 \n",
      " 25  Target Score             270223 non-null  int64   \n",
      " 26  Ground RPO               270223 non-null  float64 \n",
      " 27  Ground RPW               270223 non-null  float64 \n",
      " 28  Batting Team Result DLS  270223 non-null  object  \n",
      " 29  DLS Correct?             270223 non-null  object  \n",
      " 30  Winner_num               270223 non-null  category\n",
      "dtypes: category(1), float64(4), int64(15), object(11)\n",
      "memory usage: 62.1+ MB\n"
     ]
    }
   ],
   "source": [
    "data_df.info()"
   ]
  },
  {
   "cell_type": "markdown",
   "metadata": {},
   "source": [
    "Chose numerical values that feed into my hypothesis (wickets taken, team value, ground scores and remaining overs and balls feed into the prediction.)  Changed Winner into a numerical field for prediction as this will be the target variable."
   ]
  },
  {
   "cell_type": "code",
   "execution_count": 55,
   "metadata": {},
   "outputs": [],
   "source": [
    "data_df = data_df[['Match ID', 'Running Total', 'Wickets taken', 'First Team Innings', 'Remainder', 'Team Value', 'Ground RPO', 'Ground RPW', 'Winner_num' ]]"
   ]
  },
  {
   "cell_type": "code",
   "execution_count": 56,
   "metadata": {},
   "outputs": [],
   "source": [
    "data_df.rename(columns={'Running Total': 'Team 1 Score', 'First Team Innings': 'Team 0 Score'}, inplace=True)"
   ]
  },
  {
   "cell_type": "code",
   "execution_count": 57,
   "metadata": {},
   "outputs": [
    {
     "data": {
      "text/html": [
       "<div>\n",
       "<style scoped>\n",
       "    .dataframe tbody tr th:only-of-type {\n",
       "        vertical-align: middle;\n",
       "    }\n",
       "\n",
       "    .dataframe tbody tr th {\n",
       "        vertical-align: top;\n",
       "    }\n",
       "\n",
       "    .dataframe thead th {\n",
       "        text-align: right;\n",
       "    }\n",
       "</style>\n",
       "<table border=\"1\" class=\"dataframe\">\n",
       "  <thead>\n",
       "    <tr style=\"text-align: right;\">\n",
       "      <th></th>\n",
       "      <th>Match ID</th>\n",
       "      <th>Team 1 Score</th>\n",
       "      <th>Wickets taken</th>\n",
       "      <th>Team 0 Score</th>\n",
       "      <th>Remainder</th>\n",
       "      <th>Team Value</th>\n",
       "      <th>Ground RPO</th>\n",
       "      <th>Ground RPW</th>\n",
       "      <th>Winner_num</th>\n",
       "    </tr>\n",
       "  </thead>\n",
       "  <tbody>\n",
       "    <tr>\n",
       "      <th>0</th>\n",
       "      <td>1000887</td>\n",
       "      <td>91</td>\n",
       "      <td>3</td>\n",
       "      <td>268</td>\n",
       "      <td>29.5</td>\n",
       "      <td>16</td>\n",
       "      <td>4.79</td>\n",
       "      <td>29.31</td>\n",
       "      <td>1</td>\n",
       "    </tr>\n",
       "    <tr>\n",
       "      <th>1</th>\n",
       "      <td>1000887</td>\n",
       "      <td>91</td>\n",
       "      <td>3</td>\n",
       "      <td>268</td>\n",
       "      <td>29.4</td>\n",
       "      <td>16</td>\n",
       "      <td>4.79</td>\n",
       "      <td>29.31</td>\n",
       "      <td>1</td>\n",
       "    </tr>\n",
       "    <tr>\n",
       "      <th>2</th>\n",
       "      <td>1000887</td>\n",
       "      <td>91</td>\n",
       "      <td>3</td>\n",
       "      <td>268</td>\n",
       "      <td>29.3</td>\n",
       "      <td>16</td>\n",
       "      <td>4.79</td>\n",
       "      <td>29.31</td>\n",
       "      <td>1</td>\n",
       "    </tr>\n",
       "    <tr>\n",
       "      <th>3</th>\n",
       "      <td>1000887</td>\n",
       "      <td>91</td>\n",
       "      <td>3</td>\n",
       "      <td>268</td>\n",
       "      <td>29.2</td>\n",
       "      <td>16</td>\n",
       "      <td>4.79</td>\n",
       "      <td>29.31</td>\n",
       "      <td>1</td>\n",
       "    </tr>\n",
       "    <tr>\n",
       "      <th>4</th>\n",
       "      <td>1000887</td>\n",
       "      <td>92</td>\n",
       "      <td>3</td>\n",
       "      <td>268</td>\n",
       "      <td>29.1</td>\n",
       "      <td>16</td>\n",
       "      <td>4.79</td>\n",
       "      <td>29.31</td>\n",
       "      <td>1</td>\n",
       "    </tr>\n",
       "    <tr>\n",
       "      <th>...</th>\n",
       "      <td>...</td>\n",
       "      <td>...</td>\n",
       "      <td>...</td>\n",
       "      <td>...</td>\n",
       "      <td>...</td>\n",
       "      <td>...</td>\n",
       "      <td>...</td>\n",
       "      <td>...</td>\n",
       "      <td>...</td>\n",
       "    </tr>\n",
       "    <tr>\n",
       "      <th>270218</th>\n",
       "      <td>997995</td>\n",
       "      <td>225</td>\n",
       "      <td>3</td>\n",
       "      <td>228</td>\n",
       "      <td>3.0</td>\n",
       "      <td>13</td>\n",
       "      <td>5.40</td>\n",
       "      <td>31.64</td>\n",
       "      <td>2</td>\n",
       "    </tr>\n",
       "    <tr>\n",
       "      <th>270219</th>\n",
       "      <td>997995</td>\n",
       "      <td>225</td>\n",
       "      <td>3</td>\n",
       "      <td>228</td>\n",
       "      <td>2.5</td>\n",
       "      <td>13</td>\n",
       "      <td>5.40</td>\n",
       "      <td>31.64</td>\n",
       "      <td>2</td>\n",
       "    </tr>\n",
       "    <tr>\n",
       "      <th>270220</th>\n",
       "      <td>997995</td>\n",
       "      <td>225</td>\n",
       "      <td>3</td>\n",
       "      <td>228</td>\n",
       "      <td>2.4</td>\n",
       "      <td>13</td>\n",
       "      <td>5.40</td>\n",
       "      <td>31.64</td>\n",
       "      <td>2</td>\n",
       "    </tr>\n",
       "    <tr>\n",
       "      <th>270221</th>\n",
       "      <td>997995</td>\n",
       "      <td>225</td>\n",
       "      <td>3</td>\n",
       "      <td>228</td>\n",
       "      <td>2.3</td>\n",
       "      <td>13</td>\n",
       "      <td>5.40</td>\n",
       "      <td>31.64</td>\n",
       "      <td>2</td>\n",
       "    </tr>\n",
       "    <tr>\n",
       "      <th>270222</th>\n",
       "      <td>997995</td>\n",
       "      <td>229</td>\n",
       "      <td>3</td>\n",
       "      <td>228</td>\n",
       "      <td>2.2</td>\n",
       "      <td>13</td>\n",
       "      <td>5.40</td>\n",
       "      <td>31.64</td>\n",
       "      <td>2</td>\n",
       "    </tr>\n",
       "  </tbody>\n",
       "</table>\n",
       "<p>270223 rows × 9 columns</p>\n",
       "</div>"
      ],
      "text/plain": [
       "        Match ID  Team 1 Score  Wickets taken  Team 0 Score  Remainder   \n",
       "0        1000887            91              3           268       29.5  \\\n",
       "1        1000887            91              3           268       29.4   \n",
       "2        1000887            91              3           268       29.3   \n",
       "3        1000887            91              3           268       29.2   \n",
       "4        1000887            92              3           268       29.1   \n",
       "...          ...           ...            ...           ...        ...   \n",
       "270218    997995           225              3           228        3.0   \n",
       "270219    997995           225              3           228        2.5   \n",
       "270220    997995           225              3           228        2.4   \n",
       "270221    997995           225              3           228        2.3   \n",
       "270222    997995           229              3           228        2.2   \n",
       "\n",
       "        Team Value  Ground RPO  Ground RPW Winner_num  \n",
       "0               16        4.79       29.31          1  \n",
       "1               16        4.79       29.31          1  \n",
       "2               16        4.79       29.31          1  \n",
       "3               16        4.79       29.31          1  \n",
       "4               16        4.79       29.31          1  \n",
       "...            ...         ...         ...        ...  \n",
       "270218          13        5.40       31.64          2  \n",
       "270219          13        5.40       31.64          2  \n",
       "270220          13        5.40       31.64          2  \n",
       "270221          13        5.40       31.64          2  \n",
       "270222          13        5.40       31.64          2  \n",
       "\n",
       "[270223 rows x 9 columns]"
      ]
     },
     "execution_count": 57,
     "metadata": {},
     "output_type": "execute_result"
    }
   ],
   "source": [
    "data_df"
   ]
  },
  {
   "cell_type": "code",
   "execution_count": 58,
   "metadata": {},
   "outputs": [
    {
     "name": "stdout",
     "output_type": "stream",
     "text": [
      "<class 'pandas.core.frame.DataFrame'>\n",
      "RangeIndex: 270223 entries, 0 to 270222\n",
      "Data columns (total 9 columns):\n",
      " #   Column         Non-Null Count   Dtype   \n",
      "---  ------         --------------   -----   \n",
      " 0   Match ID       270223 non-null  int64   \n",
      " 1   Team 1 Score   270223 non-null  int64   \n",
      " 2   Wickets taken  270223 non-null  int64   \n",
      " 3   Team 0 Score   270223 non-null  int64   \n",
      " 4   Remainder      270223 non-null  float64 \n",
      " 5   Team Value     270223 non-null  int64   \n",
      " 6   Ground RPO     270223 non-null  float64 \n",
      " 7   Ground RPW     270223 non-null  float64 \n",
      " 8   Winner_num     270223 non-null  category\n",
      "dtypes: category(1), float64(3), int64(5)\n",
      "memory usage: 16.8 MB\n"
     ]
    }
   ],
   "source": [
    "data_df.info()"
   ]
  },
  {
   "cell_type": "code",
   "execution_count": 59,
   "metadata": {},
   "outputs": [
    {
     "data": {
      "text/html": [
       "<div>\n",
       "<style scoped>\n",
       "    .dataframe tbody tr th:only-of-type {\n",
       "        vertical-align: middle;\n",
       "    }\n",
       "\n",
       "    .dataframe tbody tr th {\n",
       "        vertical-align: top;\n",
       "    }\n",
       "\n",
       "    .dataframe thead th {\n",
       "        text-align: right;\n",
       "    }\n",
       "</style>\n",
       "<table border=\"1\" class=\"dataframe\">\n",
       "  <thead>\n",
       "    <tr style=\"text-align: right;\">\n",
       "      <th></th>\n",
       "      <th>Match ID</th>\n",
       "      <th>Team 1 Score</th>\n",
       "      <th>Wickets taken</th>\n",
       "      <th>Team 0 Score</th>\n",
       "      <th>Remainder</th>\n",
       "      <th>Team Value</th>\n",
       "      <th>Ground RPO</th>\n",
       "      <th>Ground RPW</th>\n",
       "    </tr>\n",
       "  </thead>\n",
       "  <tbody>\n",
       "    <tr>\n",
       "      <th>count</th>\n",
       "      <td>2.702230e+05</td>\n",
       "      <td>270223.000000</td>\n",
       "      <td>270223.000000</td>\n",
       "      <td>270223.000000</td>\n",
       "      <td>270223.000000</td>\n",
       "      <td>270223.000000</td>\n",
       "      <td>270223.000000</td>\n",
       "      <td>270223.000000</td>\n",
       "    </tr>\n",
       "    <tr>\n",
       "      <th>mean</th>\n",
       "      <td>6.876220e+05</td>\n",
       "      <td>157.262972</td>\n",
       "      <td>4.340881</td>\n",
       "      <td>261.399596</td>\n",
       "      <td>17.326729</td>\n",
       "      <td>12.531653</td>\n",
       "      <td>4.944435</td>\n",
       "      <td>30.351967</td>\n",
       "    </tr>\n",
       "    <tr>\n",
       "      <th>std</th>\n",
       "      <td>4.037781e+05</td>\n",
       "      <td>52.133525</td>\n",
       "      <td>2.190549</td>\n",
       "      <td>55.610740</td>\n",
       "      <td>7.871791</td>\n",
       "      <td>5.533073</td>\n",
       "      <td>0.353677</td>\n",
       "      <td>3.465019</td>\n",
       "    </tr>\n",
       "    <tr>\n",
       "      <th>min</th>\n",
       "      <td>6.481400e+04</td>\n",
       "      <td>37.000000</td>\n",
       "      <td>0.000000</td>\n",
       "      <td>91.000000</td>\n",
       "      <td>0.000000</td>\n",
       "      <td>1.000000</td>\n",
       "      <td>3.980000</td>\n",
       "      <td>20.560000</td>\n",
       "    </tr>\n",
       "    <tr>\n",
       "      <th>25%</th>\n",
       "      <td>3.500470e+05</td>\n",
       "      <td>118.000000</td>\n",
       "      <td>3.000000</td>\n",
       "      <td>224.000000</td>\n",
       "      <td>11.200000</td>\n",
       "      <td>8.000000</td>\n",
       "      <td>4.720000</td>\n",
       "      <td>28.180000</td>\n",
       "    </tr>\n",
       "    <tr>\n",
       "      <th>50%</th>\n",
       "      <td>6.361610e+05</td>\n",
       "      <td>150.000000</td>\n",
       "      <td>4.000000</td>\n",
       "      <td>260.000000</td>\n",
       "      <td>18.100000</td>\n",
       "      <td>13.000000</td>\n",
       "      <td>4.850000</td>\n",
       "      <td>29.640000</td>\n",
       "    </tr>\n",
       "    <tr>\n",
       "      <th>75%</th>\n",
       "      <td>1.122279e+06</td>\n",
       "      <td>190.000000</td>\n",
       "      <td>6.000000</td>\n",
       "      <td>299.000000</td>\n",
       "      <td>24.200000</td>\n",
       "      <td>17.000000</td>\n",
       "      <td>5.090000</td>\n",
       "      <td>32.440000</td>\n",
       "    </tr>\n",
       "    <tr>\n",
       "      <th>max</th>\n",
       "      <td>1.343685e+06</td>\n",
       "      <td>438.000000</td>\n",
       "      <td>10.000000</td>\n",
       "      <td>498.000000</td>\n",
       "      <td>30.000000</td>\n",
       "      <td>29.000000</td>\n",
       "      <td>6.910000</td>\n",
       "      <td>53.080000</td>\n",
       "    </tr>\n",
       "  </tbody>\n",
       "</table>\n",
       "</div>"
      ],
      "text/plain": [
       "           Match ID   Team 1 Score  Wickets taken   Team 0 Score   \n",
       "count  2.702230e+05  270223.000000  270223.000000  270223.000000  \\\n",
       "mean   6.876220e+05     157.262972       4.340881     261.399596   \n",
       "std    4.037781e+05      52.133525       2.190549      55.610740   \n",
       "min    6.481400e+04      37.000000       0.000000      91.000000   \n",
       "25%    3.500470e+05     118.000000       3.000000     224.000000   \n",
       "50%    6.361610e+05     150.000000       4.000000     260.000000   \n",
       "75%    1.122279e+06     190.000000       6.000000     299.000000   \n",
       "max    1.343685e+06     438.000000      10.000000     498.000000   \n",
       "\n",
       "           Remainder     Team Value     Ground RPO     Ground RPW  \n",
       "count  270223.000000  270223.000000  270223.000000  270223.000000  \n",
       "mean       17.326729      12.531653       4.944435      30.351967  \n",
       "std         7.871791       5.533073       0.353677       3.465019  \n",
       "min         0.000000       1.000000       3.980000      20.560000  \n",
       "25%        11.200000       8.000000       4.720000      28.180000  \n",
       "50%        18.100000      13.000000       4.850000      29.640000  \n",
       "75%        24.200000      17.000000       5.090000      32.440000  \n",
       "max        30.000000      29.000000       6.910000      53.080000  "
      ]
     },
     "execution_count": 59,
     "metadata": {},
     "output_type": "execute_result"
    }
   ],
   "source": [
    "data_df.describe()"
   ]
  },
  {
   "cell_type": "markdown",
   "metadata": {},
   "source": [
    "#write some commentary here about the statistics"
   ]
  },
  {
   "cell_type": "code",
   "execution_count": 60,
   "metadata": {},
   "outputs": [
    {
     "data": {
      "image/png": "[encoded data removed]",
      "text/plain": [
       "<Figure size 1000x800 with 9 Axes>"
      ]
     },
     "metadata": {},
     "output_type": "display_data"
    }
   ],
   "source": [
    "data_df.hist(bins=50, figsize=(10, 8))\n",
    "plt.show()"
   ]
  },
  {
   "cell_type": "markdown",
   "metadata": {},
   "source": [
    "Commentary\n",
    "\n",
    "Shall I plot the Winner before I categorise?\n",
    "Very imbalanced - 1 and 2 mainly fine but 0 not.\n",
    "\n",
    "For the DLS table - does it tell you the score needed to draw or to win??  May be making this unfair."
   ]
  },
  {
   "cell_type": "code",
   "execution_count": 64,
   "metadata": {},
   "outputs": [],
   "source": [
    "filter_df = data_df[data_df['Winner_num']==0]"
   ]
  },
  {
   "cell_type": "code",
   "execution_count": 70,
   "metadata": {},
   "outputs": [
    {
     "data": {
      "text/plain": [
       "19"
      ]
     },
     "execution_count": 70,
     "metadata": {},
     "output_type": "execute_result"
    }
   ],
   "source": [
    "\n",
    "filter_df['Match ID'].nunique()"
   ]
  },
  {
   "cell_type": "markdown",
   "metadata": {},
   "source": [
    "https://www.analyticsvidhya.com/blog/2020/07/10-techniques-to-deal-with-class-imbalance-in-machine-learning/#:~:text=In%20a%20dataset%20with%20highly,obviously%20not%20the%20correct%20one."
   ]
  },
  {
   "cell_type": "markdown",
   "metadata": {},
   "source": [
    "Models\n",
    "\n",
    "Random Forest\n",
    "SVM\n",
    "Neural Network"
   ]
  }
 ],
 "metadata": {
  "kernelspec": {
   "display_name": "Python 3",
   "language": "python",
   "name": "python3"
  },
  "language_info": {
   "codemirror_mode": {
    "name": "ipython",
    "version": 3
   },
   "file_extension": ".py",
   "mimetype": "text/x-python",
   "name": "python",
   "nbconvert_exporter": "python",
   "pygments_lexer": "ipython3",
   "version": "3.10.11"
  }
 },
 "nbformat": 4,
 "nbformat_minor": 2
}
