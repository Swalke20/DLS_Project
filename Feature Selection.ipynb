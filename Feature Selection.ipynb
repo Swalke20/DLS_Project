{
 "cells": [
  {
   "cell_type": "code",
   "execution_count": 2,
   "id": "41f2a512",
   "metadata": {},
   "outputs": [],
   "source": [
    "import pandas as pd\n",
    "import numpy as np\n",
    "import tensorflow as tf\n",
    "from sklearn.ensemble import RandomForestClassifier\n",
    "from sklearn.metrics import accuracy_score\n"
   ]
  },
  {
   "cell_type": "code",
   "execution_count": 3,
   "id": "1b2fcf2a",
   "metadata": {},
   "outputs": [
    {
     "name": "stdout",
     "output_type": "stream",
     "text": [
      "Note: you may need to restart the kernel to use updated packages.\n"
     ]
    }
   ],
   "source": [
    "pip freeze > model_requirements.txt"
   ]
  },
  {
   "cell_type": "code",
   "execution_count": 4,
   "id": "f3c5d8ff",
   "metadata": {},
   "outputs": [],
   "source": [
    "data_train_df = pd.read_csv(\"data_train_csv\")\n",
    "data_smauto_train_df = pd.read_csv(\"data_smauto_train_csv\")\n",
    "data_smin_train_df = pd.read_csv(\"data_smin_train_csv\")\n",
    "\n",
    "data_test_df = pd.read_csv(\"data_test_csv\")\n",
    "data_val_df = pd.read_csv(\"data_val_csv\")"
   ]
  },
  {
   "cell_type": "code",
   "execution_count": 5,
   "id": "3582d8c1",
   "metadata": {},
   "outputs": [],
   "source": [
    "#own module which takes in df for train, test and val and returns in x and y format.  Can also sample.\n",
    "from data_formatting import data_format"
   ]
  },
  {
   "cell_type": "code",
   "execution_count": 6,
   "id": "049939e6",
   "metadata": {},
   "outputs": [],
   "source": [
    "X_train, X_test, X_val, y_train, y_test, y_val = data_format(data_smin_train_df, data_test_df, data_val_df, None, None)"
   ]
  },
  {
   "cell_type": "markdown",
   "id": "9db77e1e",
   "metadata": {},
   "source": [
    "Highly correlated data - could remove some of the features\n",
    "\n"
   ]
  },
  {
   "cell_type": "code",
   "execution_count": 7,
   "id": "7e6a1aed",
   "metadata": {},
   "outputs": [
    {
     "name": "stdout",
     "output_type": "stream",
     "text": [
      "2\n",
      "Epoch 1/100\n",
      "9002/9002 [==============================] - 9s 1ms/step - loss: -467852.4688 - val_loss: -1351597.3750\n",
      "Epoch 2/100\n",
      "9002/9002 [==============================] - 9s 1ms/step - loss: -2679447.5000 - val_loss: -4602409.5000\n",
      "Epoch 3/100\n",
      "9002/9002 [==============================] - 9s 988us/step - loss: -6594999.0000 - val_loss: -9618968.0000\n",
      "Epoch 4/100\n",
      "9002/9002 [==============================] - 9s 1ms/step - loss: -12172822.0000 - val_loss: -16378386.0000\n",
      "Epoch 5/100\n",
      "9002/9002 [==============================] - 9s 993us/step - loss: -19387272.0000 - val_loss: -24862786.0000\n",
      "Epoch 6/100\n",
      "9002/9002 [==============================] - 9s 979us/step - loss: -28246572.0000 - val_loss: -35071532.0000\n",
      "Epoch 7/100\n",
      "9002/9002 [==============================] - 9s 964us/step - loss: -38720820.0000 - val_loss: -46991820.0000\n",
      "Epoch 8/100\n",
      "9002/9002 [==============================] - 9s 979us/step - loss: -50813092.0000 - val_loss: -60613376.0000\n",
      "Epoch 9/100\n",
      "9002/9002 [==============================] - 21s 2ms/step - loss: -64525364.0000 - val_loss: -75961096.0000\n",
      "Epoch 10/100\n",
      "9002/9002 [==============================] - 24s 3ms/step - loss: -79851312.0000 - val_loss: -92991480.0000\n",
      "Epoch 11/100\n",
      "9002/9002 [==============================] - 10s 1ms/step - loss: -96807920.0000 - val_loss: -111743280.0000\n",
      "Epoch 12/100\n",
      "9002/9002 [==============================] - 10s 1ms/step - loss: -115363808.0000 - val_loss: -132193384.0000\n",
      "Epoch 13/100\n",
      "9002/9002 [==============================] - 10s 1ms/step - loss: -135525264.0000 - val_loss: -154335520.0000\n",
      "Epoch 14/100\n",
      "9002/9002 [==============================] - 10s 1ms/step - loss: -157315328.0000 - val_loss: -178189392.0000\n",
      "Epoch 15/100\n",
      "8121/9002 [==========================>...] - ETA: 0s - loss: -179581328.0000"
     ]
    }
   ],
   "source": [
    "# Assuming you have X_train, X_test, y_train, and y_test\n",
    "\n",
    "# Autoencoder\n",
    "input_dim = X_train.shape[1]\n",
    "\n",
    "for encoding_dim in [2, 4, 8, 16, 32]:\n",
    "    print(encoding_dim)\n",
    "    # Encoder\n",
    "    input_layer = tf.keras.layers.Input(shape=(input_dim,))\n",
    "    encoder_layer = tf.keras.layers.Dense(encoding_dim, activation='relu')(input_layer)\n",
    "    encoder = tf.keras.models.Model(inputs=input_layer, outputs=encoder_layer)\n",
    "\n",
    "    # Decoder\n",
    "    decoder_layer = tf.keras.layers.Dense(input_dim, activation='sigmoid')(encoder_layer)\n",
    "    autoencoder = tf.keras.models.Model(inputs=input_layer, outputs=decoder_layer)\n",
    "\n",
    "    # Compile the model with binary crossentropy since it's a multi-class classification problem\n",
    "    autoencoder.compile(optimizer='adam', loss='binary_crossentropy')\n",
    "\n",
    "    # Train the Autoencoder\n",
    "    autoencoder.fit(X_train, X_train, epochs=100, batch_size=32, shuffle=True, validation_data=(X_val, X_val))\n",
    "\n",
    "    # Extract features using the trained encoder\n",
    "    X_train_encoded = encoder.predict(X_train)\n",
    "    X_test_encoded = encoder.predict(X_test)\n",
    "\n",
    "    # Use the encoded features with a Random Forest model\n",
    "    rf_classifier = RandomForestClassifier(random_state=7)\n",
    "    rf_classifier.fit(X_train_encoded, y_train)\n",
    "\n",
    "    # Make predictions on the test set\n",
    "    y_pred_test = rf_classifier.predict(X_test_encoded)\n",
    "\n",
    "    # Evaluate the performance\n",
    "    test_accuracy = accuracy_score(y_test, y_pred_test)\n",
    "    print(f\"Random Forest Accuracy: {test_accuracy}\")\n"
   ]
  },
  {
   "cell_type": "code",
   "execution_count": null,
   "id": "e7370ab5",
   "metadata": {},
   "outputs": [],
   "source": [
    "X_train, X_test, X_val, y_train, y_test, y_val = data_format(data_smin_train_df, data_test_df, data_val_df, None, None)"
   ]
  }
 ],
 "metadata": {
  "kernelspec": {
   "display_name": "Python 3 (ipykernel)",
   "language": "python",
   "name": "python3"
  },
  "language_info": {
   "codemirror_mode": {
    "name": "ipython",
    "version": 3
   },
   "file_extension": ".py",
   "mimetype": "text/x-python",
   "name": "python",
   "nbconvert_exporter": "python",
   "pygments_lexer": "ipython3",
   "version": "3.10.11"
  }
 },
 "nbformat": 4,
 "nbformat_minor": 5
}
