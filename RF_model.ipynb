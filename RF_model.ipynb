{
 "cells": [
  {
   "cell_type": "code",
   "execution_count": 1,
   "metadata": {},
   "outputs": [
    {
     "name": "stdout",
     "output_type": "stream",
     "text": [
      "Note: you may need to restart the kernel to use updated packages.\n"
     ]
    }
   ],
   "source": [
    "pip freeze > model_requirements.txt"
   ]
  },
  {
   "cell_type": "code",
   "execution_count": 2,
   "metadata": {},
   "outputs": [],
   "source": [
    "import pandas as pd\n",
    "from sklearn.ensemble import RandomForestClassifier\n",
    "from sklearn.metrics import accuracy_score, confusion_matrix, classification_report, ConfusionMatrixDisplay\n",
    "import matplotlib.pyplot as plt\n",
    "import seaborn as sns"
   ]
  },
  {
   "cell_type": "code",
   "execution_count": 3,
   "metadata": {},
   "outputs": [],
   "source": [
    "#data_train_df = pd.read_csv(\"data_train_csv\")\n",
    "\n",
    "#data_train_df = pd.read_csv(\"data_train_smote_auto_csv\")\n",
    "\n",
    "data_train_df = pd.read_csv(\"data_smin_train_csv\")\n",
    "\n",
    "data_test_df = pd.read_csv(\"data_test_csv\")\n",
    "\n",
    "data_val_df = pd.read_csv(\"data_val_csv\")"
   ]
  },
  {
   "cell_type": "code",
   "execution_count": 4,
   "metadata": {},
   "outputs": [
    {
     "data": {
      "text/html": [
       "<div>\n",
       "<style scoped>\n",
       "    .dataframe tbody tr th:only-of-type {\n",
       "        vertical-align: middle;\n",
       "    }\n",
       "\n",
       "    .dataframe tbody tr th {\n",
       "        vertical-align: top;\n",
       "    }\n",
       "\n",
       "    .dataframe thead th {\n",
       "        text-align: right;\n",
       "    }\n",
       "</style>\n",
       "<table border=\"1\" class=\"dataframe\">\n",
       "  <thead>\n",
       "    <tr style=\"text-align: right;\">\n",
       "      <th></th>\n",
       "      <th>Unnamed: 0</th>\n",
       "      <th>Wickets taken</th>\n",
       "      <th>Remaining Team Value</th>\n",
       "      <th>Remaining Average Team Value</th>\n",
       "      <th>Start Team Value</th>\n",
       "      <th>Ground RPO</th>\n",
       "      <th>Ground RPW</th>\n",
       "      <th>Remaining overs and balls</th>\n",
       "      <th>Remainder</th>\n",
       "      <th>Winner_num</th>\n",
       "    </tr>\n",
       "  </thead>\n",
       "  <tbody>\n",
       "    <tr>\n",
       "      <th>0</th>\n",
       "      <td>0</td>\n",
       "      <td>3</td>\n",
       "      <td>16</td>\n",
       "      <td>2.000000</td>\n",
       "      <td>24</td>\n",
       "      <td>4.790000</td>\n",
       "      <td>29.310000</td>\n",
       "      <td>179</td>\n",
       "      <td>29.500000</td>\n",
       "      <td>1</td>\n",
       "    </tr>\n",
       "    <tr>\n",
       "      <th>1</th>\n",
       "      <td>1</td>\n",
       "      <td>3</td>\n",
       "      <td>16</td>\n",
       "      <td>2.000000</td>\n",
       "      <td>24</td>\n",
       "      <td>4.790000</td>\n",
       "      <td>29.310000</td>\n",
       "      <td>177</td>\n",
       "      <td>29.300000</td>\n",
       "      <td>1</td>\n",
       "    </tr>\n",
       "    <tr>\n",
       "      <th>2</th>\n",
       "      <td>2</td>\n",
       "      <td>3</td>\n",
       "      <td>16</td>\n",
       "      <td>2.000000</td>\n",
       "      <td>24</td>\n",
       "      <td>4.790000</td>\n",
       "      <td>29.310000</td>\n",
       "      <td>176</td>\n",
       "      <td>29.200000</td>\n",
       "      <td>1</td>\n",
       "    </tr>\n",
       "    <tr>\n",
       "      <th>3</th>\n",
       "      <td>3</td>\n",
       "      <td>3</td>\n",
       "      <td>16</td>\n",
       "      <td>2.000000</td>\n",
       "      <td>24</td>\n",
       "      <td>4.790000</td>\n",
       "      <td>29.310000</td>\n",
       "      <td>174</td>\n",
       "      <td>29.000000</td>\n",
       "      <td>1</td>\n",
       "    </tr>\n",
       "    <tr>\n",
       "      <th>4</th>\n",
       "      <td>4</td>\n",
       "      <td>3</td>\n",
       "      <td>16</td>\n",
       "      <td>2.000000</td>\n",
       "      <td>24</td>\n",
       "      <td>4.790000</td>\n",
       "      <td>29.310000</td>\n",
       "      <td>173</td>\n",
       "      <td>28.500000</td>\n",
       "      <td>1</td>\n",
       "    </tr>\n",
       "    <tr>\n",
       "      <th>...</th>\n",
       "      <td>...</td>\n",
       "      <td>...</td>\n",
       "      <td>...</td>\n",
       "      <td>...</td>\n",
       "      <td>...</td>\n",
       "      <td>...</td>\n",
       "      <td>...</td>\n",
       "      <td>...</td>\n",
       "      <td>...</td>\n",
       "      <td>...</td>\n",
       "    </tr>\n",
       "    <tr>\n",
       "      <th>288036</th>\n",
       "      <td>288036</td>\n",
       "      <td>5</td>\n",
       "      <td>12</td>\n",
       "      <td>2.000000</td>\n",
       "      <td>26</td>\n",
       "      <td>5.550000</td>\n",
       "      <td>35.420000</td>\n",
       "      <td>30</td>\n",
       "      <td>5.066664</td>\n",
       "      <td>0</td>\n",
       "    </tr>\n",
       "    <tr>\n",
       "      <th>288037</th>\n",
       "      <td>288037</td>\n",
       "      <td>8</td>\n",
       "      <td>4</td>\n",
       "      <td>1.333333</td>\n",
       "      <td>24</td>\n",
       "      <td>4.882388</td>\n",
       "      <td>31.781520</td>\n",
       "      <td>15</td>\n",
       "      <td>2.300000</td>\n",
       "      <td>0</td>\n",
       "    </tr>\n",
       "    <tr>\n",
       "      <th>288038</th>\n",
       "      <td>288038</td>\n",
       "      <td>4</td>\n",
       "      <td>12</td>\n",
       "      <td>1.785364</td>\n",
       "      <td>22</td>\n",
       "      <td>4.915760</td>\n",
       "      <td>30.887770</td>\n",
       "      <td>123</td>\n",
       "      <td>20.349755</td>\n",
       "      <td>0</td>\n",
       "    </tr>\n",
       "    <tr>\n",
       "      <th>288039</th>\n",
       "      <td>288039</td>\n",
       "      <td>2</td>\n",
       "      <td>17</td>\n",
       "      <td>1.897666</td>\n",
       "      <td>23</td>\n",
       "      <td>4.649480</td>\n",
       "      <td>27.400417</td>\n",
       "      <td>173</td>\n",
       "      <td>28.500000</td>\n",
       "      <td>0</td>\n",
       "    </tr>\n",
       "    <tr>\n",
       "      <th>288040</th>\n",
       "      <td>288040</td>\n",
       "      <td>3</td>\n",
       "      <td>15</td>\n",
       "      <td>1.875000</td>\n",
       "      <td>24</td>\n",
       "      <td>6.050000</td>\n",
       "      <td>39.410000</td>\n",
       "      <td>161</td>\n",
       "      <td>26.935868</td>\n",
       "      <td>0</td>\n",
       "    </tr>\n",
       "  </tbody>\n",
       "</table>\n",
       "<p>288041 rows × 10 columns</p>\n",
       "</div>"
      ],
      "text/plain": [
       "        Unnamed: 0  Wickets taken  Remaining Team Value   \n",
       "0                0              3                    16  \\\n",
       "1                1              3                    16   \n",
       "2                2              3                    16   \n",
       "3                3              3                    16   \n",
       "4                4              3                    16   \n",
       "...            ...            ...                   ...   \n",
       "288036      288036              5                    12   \n",
       "288037      288037              8                     4   \n",
       "288038      288038              4                    12   \n",
       "288039      288039              2                    17   \n",
       "288040      288040              3                    15   \n",
       "\n",
       "        Remaining Average Team Value  Start Team Value  Ground RPO   \n",
       "0                           2.000000                24    4.790000  \\\n",
       "1                           2.000000                24    4.790000   \n",
       "2                           2.000000                24    4.790000   \n",
       "3                           2.000000                24    4.790000   \n",
       "4                           2.000000                24    4.790000   \n",
       "...                              ...               ...         ...   \n",
       "288036                      2.000000                26    5.550000   \n",
       "288037                      1.333333                24    4.882388   \n",
       "288038                      1.785364                22    4.915760   \n",
       "288039                      1.897666                23    4.649480   \n",
       "288040                      1.875000                24    6.050000   \n",
       "\n",
       "        Ground RPW  Remaining overs and balls  Remainder  Winner_num  \n",
       "0        29.310000                        179  29.500000           1  \n",
       "1        29.310000                        177  29.300000           1  \n",
       "2        29.310000                        176  29.200000           1  \n",
       "3        29.310000                        174  29.000000           1  \n",
       "4        29.310000                        173  28.500000           1  \n",
       "...            ...                        ...        ...         ...  \n",
       "288036   35.420000                         30   5.066664           0  \n",
       "288037   31.781520                         15   2.300000           0  \n",
       "288038   30.887770                        123  20.349755           0  \n",
       "288039   27.400417                        173  28.500000           0  \n",
       "288040   39.410000                        161  26.935868           0  \n",
       "\n",
       "[288041 rows x 10 columns]"
      ]
     },
     "execution_count": 4,
     "metadata": {},
     "output_type": "execute_result"
    }
   ],
   "source": [
    "data_train_df"
   ]
  },
  {
   "cell_type": "code",
   "execution_count": 5,
   "metadata": {},
   "outputs": [],
   "source": [
    "data_train_df = data_train_df.drop(['Unnamed: 0'], axis=1)\n",
    "data_test_df = data_test_df.drop(['Unnamed: 0'], axis=1)\n",
    "data_val_df = data_val_df.drop(['Unnamed: 0'], axis=1)"
   ]
  },
  {
   "cell_type": "code",
   "execution_count": 6,
   "metadata": {},
   "outputs": [],
   "source": [
    "y_train = data_train_df['Winner_num']\n",
    "X_train = data_train_df.drop('Winner_num',axis=1)\n",
    "X_test = data_test_df.drop('Winner_num',axis=1) \n",
    "y_test = data_test_df['Winner_num']\n",
    "X_val = data_val_df.drop('Winner_num',axis=1) \n",
    "y_val = data_val_df['Winner_num']"
   ]
  },
  {
   "cell_type": "code",
   "execution_count": 7,
   "metadata": {},
   "outputs": [
    {
     "data": {
      "text/html": [
       "<div>\n",
       "<style scoped>\n",
       "    .dataframe tbody tr th:only-of-type {\n",
       "        vertical-align: middle;\n",
       "    }\n",
       "\n",
       "    .dataframe tbody tr th {\n",
       "        vertical-align: top;\n",
       "    }\n",
       "\n",
       "    .dataframe thead th {\n",
       "        text-align: right;\n",
       "    }\n",
       "</style>\n",
       "<table border=\"1\" class=\"dataframe\">\n",
       "  <thead>\n",
       "    <tr style=\"text-align: right;\">\n",
       "      <th></th>\n",
       "      <th>Wickets taken</th>\n",
       "      <th>Remaining Team Value</th>\n",
       "      <th>Remaining Average Team Value</th>\n",
       "      <th>Start Team Value</th>\n",
       "      <th>Ground RPO</th>\n",
       "      <th>Ground RPW</th>\n",
       "      <th>Remaining overs and balls</th>\n",
       "      <th>Remainder</th>\n",
       "      <th>Winner_num</th>\n",
       "    </tr>\n",
       "  </thead>\n",
       "  <tbody>\n",
       "    <tr>\n",
       "      <th>0</th>\n",
       "      <td>3</td>\n",
       "      <td>16</td>\n",
       "      <td>2.000000</td>\n",
       "      <td>24</td>\n",
       "      <td>4.790000</td>\n",
       "      <td>29.310000</td>\n",
       "      <td>179</td>\n",
       "      <td>29.500000</td>\n",
       "      <td>1</td>\n",
       "    </tr>\n",
       "    <tr>\n",
       "      <th>1</th>\n",
       "      <td>3</td>\n",
       "      <td>16</td>\n",
       "      <td>2.000000</td>\n",
       "      <td>24</td>\n",
       "      <td>4.790000</td>\n",
       "      <td>29.310000</td>\n",
       "      <td>177</td>\n",
       "      <td>29.300000</td>\n",
       "      <td>1</td>\n",
       "    </tr>\n",
       "    <tr>\n",
       "      <th>2</th>\n",
       "      <td>3</td>\n",
       "      <td>16</td>\n",
       "      <td>2.000000</td>\n",
       "      <td>24</td>\n",
       "      <td>4.790000</td>\n",
       "      <td>29.310000</td>\n",
       "      <td>176</td>\n",
       "      <td>29.200000</td>\n",
       "      <td>1</td>\n",
       "    </tr>\n",
       "    <tr>\n",
       "      <th>3</th>\n",
       "      <td>3</td>\n",
       "      <td>16</td>\n",
       "      <td>2.000000</td>\n",
       "      <td>24</td>\n",
       "      <td>4.790000</td>\n",
       "      <td>29.310000</td>\n",
       "      <td>174</td>\n",
       "      <td>29.000000</td>\n",
       "      <td>1</td>\n",
       "    </tr>\n",
       "    <tr>\n",
       "      <th>4</th>\n",
       "      <td>3</td>\n",
       "      <td>16</td>\n",
       "      <td>2.000000</td>\n",
       "      <td>24</td>\n",
       "      <td>4.790000</td>\n",
       "      <td>29.310000</td>\n",
       "      <td>173</td>\n",
       "      <td>28.500000</td>\n",
       "      <td>1</td>\n",
       "    </tr>\n",
       "    <tr>\n",
       "      <th>...</th>\n",
       "      <td>...</td>\n",
       "      <td>...</td>\n",
       "      <td>...</td>\n",
       "      <td>...</td>\n",
       "      <td>...</td>\n",
       "      <td>...</td>\n",
       "      <td>...</td>\n",
       "      <td>...</td>\n",
       "      <td>...</td>\n",
       "    </tr>\n",
       "    <tr>\n",
       "      <th>288036</th>\n",
       "      <td>5</td>\n",
       "      <td>12</td>\n",
       "      <td>2.000000</td>\n",
       "      <td>26</td>\n",
       "      <td>5.550000</td>\n",
       "      <td>35.420000</td>\n",
       "      <td>30</td>\n",
       "      <td>5.066664</td>\n",
       "      <td>0</td>\n",
       "    </tr>\n",
       "    <tr>\n",
       "      <th>288037</th>\n",
       "      <td>8</td>\n",
       "      <td>4</td>\n",
       "      <td>1.333333</td>\n",
       "      <td>24</td>\n",
       "      <td>4.882388</td>\n",
       "      <td>31.781520</td>\n",
       "      <td>15</td>\n",
       "      <td>2.300000</td>\n",
       "      <td>0</td>\n",
       "    </tr>\n",
       "    <tr>\n",
       "      <th>288038</th>\n",
       "      <td>4</td>\n",
       "      <td>12</td>\n",
       "      <td>1.785364</td>\n",
       "      <td>22</td>\n",
       "      <td>4.915760</td>\n",
       "      <td>30.887770</td>\n",
       "      <td>123</td>\n",
       "      <td>20.349755</td>\n",
       "      <td>0</td>\n",
       "    </tr>\n",
       "    <tr>\n",
       "      <th>288039</th>\n",
       "      <td>2</td>\n",
       "      <td>17</td>\n",
       "      <td>1.897666</td>\n",
       "      <td>23</td>\n",
       "      <td>4.649480</td>\n",
       "      <td>27.400417</td>\n",
       "      <td>173</td>\n",
       "      <td>28.500000</td>\n",
       "      <td>0</td>\n",
       "    </tr>\n",
       "    <tr>\n",
       "      <th>288040</th>\n",
       "      <td>3</td>\n",
       "      <td>15</td>\n",
       "      <td>1.875000</td>\n",
       "      <td>24</td>\n",
       "      <td>6.050000</td>\n",
       "      <td>39.410000</td>\n",
       "      <td>161</td>\n",
       "      <td>26.935868</td>\n",
       "      <td>0</td>\n",
       "    </tr>\n",
       "  </tbody>\n",
       "</table>\n",
       "<p>288041 rows × 9 columns</p>\n",
       "</div>"
      ],
      "text/plain": [
       "        Wickets taken  Remaining Team Value  Remaining Average Team Value   \n",
       "0                   3                    16                      2.000000  \\\n",
       "1                   3                    16                      2.000000   \n",
       "2                   3                    16                      2.000000   \n",
       "3                   3                    16                      2.000000   \n",
       "4                   3                    16                      2.000000   \n",
       "...               ...                   ...                           ...   \n",
       "288036              5                    12                      2.000000   \n",
       "288037              8                     4                      1.333333   \n",
       "288038              4                    12                      1.785364   \n",
       "288039              2                    17                      1.897666   \n",
       "288040              3                    15                      1.875000   \n",
       "\n",
       "        Start Team Value  Ground RPO  Ground RPW  Remaining overs and balls   \n",
       "0                     24    4.790000   29.310000                        179  \\\n",
       "1                     24    4.790000   29.310000                        177   \n",
       "2                     24    4.790000   29.310000                        176   \n",
       "3                     24    4.790000   29.310000                        174   \n",
       "4                     24    4.790000   29.310000                        173   \n",
       "...                  ...         ...         ...                        ...   \n",
       "288036                26    5.550000   35.420000                         30   \n",
       "288037                24    4.882388   31.781520                         15   \n",
       "288038                22    4.915760   30.887770                        123   \n",
       "288039                23    4.649480   27.400417                        173   \n",
       "288040                24    6.050000   39.410000                        161   \n",
       "\n",
       "        Remainder  Winner_num  \n",
       "0       29.500000           1  \n",
       "1       29.300000           1  \n",
       "2       29.200000           1  \n",
       "3       29.000000           1  \n",
       "4       28.500000           1  \n",
       "...           ...         ...  \n",
       "288036   5.066664           0  \n",
       "288037   2.300000           0  \n",
       "288038  20.349755           0  \n",
       "288039  28.500000           0  \n",
       "288040  26.935868           0  \n",
       "\n",
       "[288041 rows x 9 columns]"
      ]
     },
     "execution_count": 7,
     "metadata": {},
     "output_type": "execute_result"
    }
   ],
   "source": [
    "data_train_df"
   ]
  },
  {
   "cell_type": "markdown",
   "metadata": {},
   "source": [
    "Random Forest model"
   ]
  },
  {
   "cell_type": "code",
   "execution_count": 8,
   "metadata": {},
   "outputs": [
    {
     "data": {
      "text/html": [
       "<div>\n",
       "<style scoped>\n",
       "    .dataframe tbody tr th:only-of-type {\n",
       "        vertical-align: middle;\n",
       "    }\n",
       "\n",
       "    .dataframe tbody tr th {\n",
       "        vertical-align: top;\n",
       "    }\n",
       "\n",
       "    .dataframe thead th {\n",
       "        text-align: right;\n",
       "    }\n",
       "</style>\n",
       "<table border=\"1\" class=\"dataframe\">\n",
       "  <thead>\n",
       "    <tr style=\"text-align: right;\">\n",
       "      <th></th>\n",
       "      <th>Wickets taken</th>\n",
       "      <th>Remaining Team Value</th>\n",
       "      <th>Remaining Average Team Value</th>\n",
       "      <th>Start Team Value</th>\n",
       "      <th>Ground RPO</th>\n",
       "      <th>Ground RPW</th>\n",
       "      <th>Remaining overs and balls</th>\n",
       "      <th>Remainder</th>\n",
       "    </tr>\n",
       "  </thead>\n",
       "  <tbody>\n",
       "    <tr>\n",
       "      <th>0</th>\n",
       "      <td>3</td>\n",
       "      <td>16</td>\n",
       "      <td>2.000000</td>\n",
       "      <td>24</td>\n",
       "      <td>4.790000</td>\n",
       "      <td>29.310000</td>\n",
       "      <td>179</td>\n",
       "      <td>29.500000</td>\n",
       "    </tr>\n",
       "    <tr>\n",
       "      <th>1</th>\n",
       "      <td>3</td>\n",
       "      <td>16</td>\n",
       "      <td>2.000000</td>\n",
       "      <td>24</td>\n",
       "      <td>4.790000</td>\n",
       "      <td>29.310000</td>\n",
       "      <td>177</td>\n",
       "      <td>29.300000</td>\n",
       "    </tr>\n",
       "    <tr>\n",
       "      <th>2</th>\n",
       "      <td>3</td>\n",
       "      <td>16</td>\n",
       "      <td>2.000000</td>\n",
       "      <td>24</td>\n",
       "      <td>4.790000</td>\n",
       "      <td>29.310000</td>\n",
       "      <td>176</td>\n",
       "      <td>29.200000</td>\n",
       "    </tr>\n",
       "    <tr>\n",
       "      <th>3</th>\n",
       "      <td>3</td>\n",
       "      <td>16</td>\n",
       "      <td>2.000000</td>\n",
       "      <td>24</td>\n",
       "      <td>4.790000</td>\n",
       "      <td>29.310000</td>\n",
       "      <td>174</td>\n",
       "      <td>29.000000</td>\n",
       "    </tr>\n",
       "    <tr>\n",
       "      <th>4</th>\n",
       "      <td>3</td>\n",
       "      <td>16</td>\n",
       "      <td>2.000000</td>\n",
       "      <td>24</td>\n",
       "      <td>4.790000</td>\n",
       "      <td>29.310000</td>\n",
       "      <td>173</td>\n",
       "      <td>28.500000</td>\n",
       "    </tr>\n",
       "    <tr>\n",
       "      <th>...</th>\n",
       "      <td>...</td>\n",
       "      <td>...</td>\n",
       "      <td>...</td>\n",
       "      <td>...</td>\n",
       "      <td>...</td>\n",
       "      <td>...</td>\n",
       "      <td>...</td>\n",
       "      <td>...</td>\n",
       "    </tr>\n",
       "    <tr>\n",
       "      <th>288036</th>\n",
       "      <td>5</td>\n",
       "      <td>12</td>\n",
       "      <td>2.000000</td>\n",
       "      <td>26</td>\n",
       "      <td>5.550000</td>\n",
       "      <td>35.420000</td>\n",
       "      <td>30</td>\n",
       "      <td>5.066664</td>\n",
       "    </tr>\n",
       "    <tr>\n",
       "      <th>288037</th>\n",
       "      <td>8</td>\n",
       "      <td>4</td>\n",
       "      <td>1.333333</td>\n",
       "      <td>24</td>\n",
       "      <td>4.882388</td>\n",
       "      <td>31.781520</td>\n",
       "      <td>15</td>\n",
       "      <td>2.300000</td>\n",
       "    </tr>\n",
       "    <tr>\n",
       "      <th>288038</th>\n",
       "      <td>4</td>\n",
       "      <td>12</td>\n",
       "      <td>1.785364</td>\n",
       "      <td>22</td>\n",
       "      <td>4.915760</td>\n",
       "      <td>30.887770</td>\n",
       "      <td>123</td>\n",
       "      <td>20.349755</td>\n",
       "    </tr>\n",
       "    <tr>\n",
       "      <th>288039</th>\n",
       "      <td>2</td>\n",
       "      <td>17</td>\n",
       "      <td>1.897666</td>\n",
       "      <td>23</td>\n",
       "      <td>4.649480</td>\n",
       "      <td>27.400417</td>\n",
       "      <td>173</td>\n",
       "      <td>28.500000</td>\n",
       "    </tr>\n",
       "    <tr>\n",
       "      <th>288040</th>\n",
       "      <td>3</td>\n",
       "      <td>15</td>\n",
       "      <td>1.875000</td>\n",
       "      <td>24</td>\n",
       "      <td>6.050000</td>\n",
       "      <td>39.410000</td>\n",
       "      <td>161</td>\n",
       "      <td>26.935868</td>\n",
       "    </tr>\n",
       "  </tbody>\n",
       "</table>\n",
       "<p>288041 rows × 8 columns</p>\n",
       "</div>"
      ],
      "text/plain": [
       "        Wickets taken  Remaining Team Value  Remaining Average Team Value   \n",
       "0                   3                    16                      2.000000  \\\n",
       "1                   3                    16                      2.000000   \n",
       "2                   3                    16                      2.000000   \n",
       "3                   3                    16                      2.000000   \n",
       "4                   3                    16                      2.000000   \n",
       "...               ...                   ...                           ...   \n",
       "288036              5                    12                      2.000000   \n",
       "288037              8                     4                      1.333333   \n",
       "288038              4                    12                      1.785364   \n",
       "288039              2                    17                      1.897666   \n",
       "288040              3                    15                      1.875000   \n",
       "\n",
       "        Start Team Value  Ground RPO  Ground RPW  Remaining overs and balls   \n",
       "0                     24    4.790000   29.310000                        179  \\\n",
       "1                     24    4.790000   29.310000                        177   \n",
       "2                     24    4.790000   29.310000                        176   \n",
       "3                     24    4.790000   29.310000                        174   \n",
       "4                     24    4.790000   29.310000                        173   \n",
       "...                  ...         ...         ...                        ...   \n",
       "288036                26    5.550000   35.420000                         30   \n",
       "288037                24    4.882388   31.781520                         15   \n",
       "288038                22    4.915760   30.887770                        123   \n",
       "288039                23    4.649480   27.400417                        173   \n",
       "288040                24    6.050000   39.410000                        161   \n",
       "\n",
       "        Remainder  \n",
       "0       29.500000  \n",
       "1       29.300000  \n",
       "2       29.200000  \n",
       "3       29.000000  \n",
       "4       28.500000  \n",
       "...           ...  \n",
       "288036   5.066664  \n",
       "288037   2.300000  \n",
       "288038  20.349755  \n",
       "288039  28.500000  \n",
       "288040  26.935868  \n",
       "\n",
       "[288041 rows x 8 columns]"
      ]
     },
     "execution_count": 8,
     "metadata": {},
     "output_type": "execute_result"
    }
   ],
   "source": [
    "X_train"
   ]
  },
  {
   "cell_type": "code",
   "execution_count": 9,
   "metadata": {},
   "outputs": [
    {
     "data": {
      "text/html": [
       "<div>\n",
       "<style scoped>\n",
       "    .dataframe tbody tr th:only-of-type {\n",
       "        vertical-align: middle;\n",
       "    }\n",
       "\n",
       "    .dataframe tbody tr th {\n",
       "        vertical-align: top;\n",
       "    }\n",
       "\n",
       "    .dataframe thead th {\n",
       "        text-align: right;\n",
       "    }\n",
       "</style>\n",
       "<table border=\"1\" class=\"dataframe\">\n",
       "  <thead>\n",
       "    <tr style=\"text-align: right;\">\n",
       "      <th></th>\n",
       "      <th>Wickets taken</th>\n",
       "      <th>Remaining Team Value</th>\n",
       "      <th>Remaining Average Team Value</th>\n",
       "      <th>Start Team Value</th>\n",
       "      <th>Ground RPO</th>\n",
       "      <th>Ground RPW</th>\n",
       "      <th>Remaining overs and balls</th>\n",
       "      <th>Remainder</th>\n",
       "    </tr>\n",
       "  </thead>\n",
       "  <tbody>\n",
       "    <tr>\n",
       "      <th>0</th>\n",
       "      <td>3</td>\n",
       "      <td>16</td>\n",
       "      <td>2.000000</td>\n",
       "      <td>24</td>\n",
       "      <td>4.79</td>\n",
       "      <td>29.31</td>\n",
       "      <td>156</td>\n",
       "      <td>26.0</td>\n",
       "    </tr>\n",
       "    <tr>\n",
       "      <th>1</th>\n",
       "      <td>3</td>\n",
       "      <td>16</td>\n",
       "      <td>2.000000</td>\n",
       "      <td>24</td>\n",
       "      <td>4.79</td>\n",
       "      <td>29.31</td>\n",
       "      <td>154</td>\n",
       "      <td>25.4</td>\n",
       "    </tr>\n",
       "    <tr>\n",
       "      <th>2</th>\n",
       "      <td>3</td>\n",
       "      <td>16</td>\n",
       "      <td>2.000000</td>\n",
       "      <td>24</td>\n",
       "      <td>4.79</td>\n",
       "      <td>29.31</td>\n",
       "      <td>149</td>\n",
       "      <td>24.5</td>\n",
       "    </tr>\n",
       "    <tr>\n",
       "      <th>3</th>\n",
       "      <td>4</td>\n",
       "      <td>13</td>\n",
       "      <td>1.857143</td>\n",
       "      <td>24</td>\n",
       "      <td>4.79</td>\n",
       "      <td>29.31</td>\n",
       "      <td>144</td>\n",
       "      <td>24.0</td>\n",
       "    </tr>\n",
       "    <tr>\n",
       "      <th>4</th>\n",
       "      <td>4</td>\n",
       "      <td>13</td>\n",
       "      <td>1.857143</td>\n",
       "      <td>24</td>\n",
       "      <td>4.79</td>\n",
       "      <td>29.31</td>\n",
       "      <td>143</td>\n",
       "      <td>23.5</td>\n",
       "    </tr>\n",
       "    <tr>\n",
       "      <th>...</th>\n",
       "      <td>...</td>\n",
       "      <td>...</td>\n",
       "      <td>...</td>\n",
       "      <td>...</td>\n",
       "      <td>...</td>\n",
       "      <td>...</td>\n",
       "      <td>...</td>\n",
       "      <td>...</td>\n",
       "    </tr>\n",
       "    <tr>\n",
       "      <th>27017</th>\n",
       "      <td>2</td>\n",
       "      <td>16</td>\n",
       "      <td>1.777778</td>\n",
       "      <td>21</td>\n",
       "      <td>5.40</td>\n",
       "      <td>31.64</td>\n",
       "      <td>87</td>\n",
       "      <td>14.3</td>\n",
       "    </tr>\n",
       "    <tr>\n",
       "      <th>27018</th>\n",
       "      <td>2</td>\n",
       "      <td>16</td>\n",
       "      <td>1.777778</td>\n",
       "      <td>21</td>\n",
       "      <td>5.40</td>\n",
       "      <td>31.64</td>\n",
       "      <td>80</td>\n",
       "      <td>13.2</td>\n",
       "    </tr>\n",
       "    <tr>\n",
       "      <th>27019</th>\n",
       "      <td>2</td>\n",
       "      <td>16</td>\n",
       "      <td>1.777778</td>\n",
       "      <td>21</td>\n",
       "      <td>5.40</td>\n",
       "      <td>31.64</td>\n",
       "      <td>43</td>\n",
       "      <td>7.1</td>\n",
       "    </tr>\n",
       "    <tr>\n",
       "      <th>27020</th>\n",
       "      <td>2</td>\n",
       "      <td>16</td>\n",
       "      <td>1.777778</td>\n",
       "      <td>21</td>\n",
       "      <td>5.40</td>\n",
       "      <td>31.64</td>\n",
       "      <td>38</td>\n",
       "      <td>6.2</td>\n",
       "    </tr>\n",
       "    <tr>\n",
       "      <th>27021</th>\n",
       "      <td>2</td>\n",
       "      <td>16</td>\n",
       "      <td>1.777778</td>\n",
       "      <td>21</td>\n",
       "      <td>5.40</td>\n",
       "      <td>31.64</td>\n",
       "      <td>36</td>\n",
       "      <td>6.0</td>\n",
       "    </tr>\n",
       "  </tbody>\n",
       "</table>\n",
       "<p>27022 rows × 8 columns</p>\n",
       "</div>"
      ],
      "text/plain": [
       "       Wickets taken  Remaining Team Value  Remaining Average Team Value   \n",
       "0                  3                    16                      2.000000  \\\n",
       "1                  3                    16                      2.000000   \n",
       "2                  3                    16                      2.000000   \n",
       "3                  4                    13                      1.857143   \n",
       "4                  4                    13                      1.857143   \n",
       "...              ...                   ...                           ...   \n",
       "27017              2                    16                      1.777778   \n",
       "27018              2                    16                      1.777778   \n",
       "27019              2                    16                      1.777778   \n",
       "27020              2                    16                      1.777778   \n",
       "27021              2                    16                      1.777778   \n",
       "\n",
       "       Start Team Value  Ground RPO  Ground RPW  Remaining overs and balls   \n",
       "0                    24        4.79       29.31                        156  \\\n",
       "1                    24        4.79       29.31                        154   \n",
       "2                    24        4.79       29.31                        149   \n",
       "3                    24        4.79       29.31                        144   \n",
       "4                    24        4.79       29.31                        143   \n",
       "...                 ...         ...         ...                        ...   \n",
       "27017                21        5.40       31.64                         87   \n",
       "27018                21        5.40       31.64                         80   \n",
       "27019                21        5.40       31.64                         43   \n",
       "27020                21        5.40       31.64                         38   \n",
       "27021                21        5.40       31.64                         36   \n",
       "\n",
       "       Remainder  \n",
       "0           26.0  \n",
       "1           25.4  \n",
       "2           24.5  \n",
       "3           24.0  \n",
       "4           23.5  \n",
       "...          ...  \n",
       "27017       14.3  \n",
       "27018       13.2  \n",
       "27019        7.1  \n",
       "27020        6.2  \n",
       "27021        6.0  \n",
       "\n",
       "[27022 rows x 8 columns]"
      ]
     },
     "execution_count": 9,
     "metadata": {},
     "output_type": "execute_result"
    }
   ],
   "source": [
    "X_test"
   ]
  },
  {
   "cell_type": "markdown",
   "metadata": {},
   "source": [
    "Train the baseline RF classifier"
   ]
  },
  {
   "cell_type": "code",
   "execution_count": 10,
   "metadata": {},
   "outputs": [
    {
     "data": {
      "text/html": [
       "<style>#sk-container-id-1 {color: black;}#sk-container-id-1 pre{padding: 0;}#sk-container-id-1 div.sk-toggleable {background-color: white;}#sk-container-id-1 label.sk-toggleable__label {cursor: pointer;display: block;width: 100%;margin-bottom: 0;padding: 0.3em;box-sizing: border-box;text-align: center;}#sk-container-id-1 label.sk-toggleable__label-arrow:before {content: \"▸\";float: left;margin-right: 0.25em;color: #696969;}#sk-container-id-1 label.sk-toggleable__label-arrow:hover:before {color: black;}#sk-container-id-1 div.sk-estimator:hover label.sk-toggleable__label-arrow:before {color: black;}#sk-container-id-1 div.sk-toggleable__content {max-height: 0;max-width: 0;overflow: hidden;text-align: left;background-color: #f0f8ff;}#sk-container-id-1 div.sk-toggleable__content pre {margin: 0.2em;color: black;border-radius: 0.25em;background-color: #f0f8ff;}#sk-container-id-1 input.sk-toggleable__control:checked~div.sk-toggleable__content {max-height: 200px;max-width: 100%;overflow: auto;}#sk-container-id-1 input.sk-toggleable__control:checked~label.sk-toggleable__label-arrow:before {content: \"▾\";}#sk-container-id-1 div.sk-estimator input.sk-toggleable__control:checked~label.sk-toggleable__label {background-color: #d4ebff;}#sk-container-id-1 div.sk-label input.sk-toggleable__control:checked~label.sk-toggleable__label {background-color: #d4ebff;}#sk-container-id-1 input.sk-hidden--visually {border: 0;clip: rect(1px 1px 1px 1px);clip: rect(1px, 1px, 1px, 1px);height: 1px;margin: -1px;overflow: hidden;padding: 0;position: absolute;width: 1px;}#sk-container-id-1 div.sk-estimator {font-family: monospace;background-color: #f0f8ff;border: 1px dotted black;border-radius: 0.25em;box-sizing: border-box;margin-bottom: 0.5em;}#sk-container-id-1 div.sk-estimator:hover {background-color: #d4ebff;}#sk-container-id-1 div.sk-parallel-item::after {content: \"\";width: 100%;border-bottom: 1px solid gray;flex-grow: 1;}#sk-container-id-1 div.sk-label:hover label.sk-toggleable__label {background-color: #d4ebff;}#sk-container-id-1 div.sk-serial::before {content: \"\";position: absolute;border-left: 1px solid gray;box-sizing: border-box;top: 0;bottom: 0;left: 50%;z-index: 0;}#sk-container-id-1 div.sk-serial {display: flex;flex-direction: column;align-items: center;background-color: white;padding-right: 0.2em;padding-left: 0.2em;position: relative;}#sk-container-id-1 div.sk-item {position: relative;z-index: 1;}#sk-container-id-1 div.sk-parallel {display: flex;align-items: stretch;justify-content: center;background-color: white;position: relative;}#sk-container-id-1 div.sk-item::before, #sk-container-id-1 div.sk-parallel-item::before {content: \"\";position: absolute;border-left: 1px solid gray;box-sizing: border-box;top: 0;bottom: 0;left: 50%;z-index: -1;}#sk-container-id-1 div.sk-parallel-item {display: flex;flex-direction: column;z-index: 1;position: relative;background-color: white;}#sk-container-id-1 div.sk-parallel-item:first-child::after {align-self: flex-end;width: 50%;}#sk-container-id-1 div.sk-parallel-item:last-child::after {align-self: flex-start;width: 50%;}#sk-container-id-1 div.sk-parallel-item:only-child::after {width: 0;}#sk-container-id-1 div.sk-dashed-wrapped {border: 1px dashed gray;margin: 0 0.4em 0.5em 0.4em;box-sizing: border-box;padding-bottom: 0.4em;background-color: white;}#sk-container-id-1 div.sk-label label {font-family: monospace;font-weight: bold;display: inline-block;line-height: 1.2em;}#sk-container-id-1 div.sk-label-container {text-align: center;}#sk-container-id-1 div.sk-container {/* jupyter's `normalize.less` sets `[hidden] { display: none; }` but bootstrap.min.css set `[hidden] { display: none !important; }` so we also need the `!important` here to be able to override the default hidden behavior on the sphinx rendered scikit-learn.org. See: https://github.com/scikit-learn/scikit-learn/issues/21755 */display: inline-block !important;position: relative;}#sk-container-id-1 div.sk-text-repr-fallback {display: none;}</style><div id=\"sk-container-id-1\" class=\"sk-top-container\"><div class=\"sk-text-repr-fallback\"><pre>RandomForestClassifier(random_state=7)</pre><b>In a Jupyter environment, please rerun this cell to show the HTML representation or trust the notebook. <br />On GitHub, the HTML representation is unable to render, please try loading this page with nbviewer.org.</b></div><div class=\"sk-container\" hidden><div class=\"sk-item\"><div class=\"sk-estimator sk-toggleable\"><input class=\"sk-toggleable__control sk-hidden--visually\" id=\"sk-estimator-id-1\" type=\"checkbox\" checked><label for=\"sk-estimator-id-1\" class=\"sk-toggleable__label sk-toggleable__label-arrow\">RandomForestClassifier</label><div class=\"sk-toggleable__content\"><pre>RandomForestClassifier(random_state=7)</pre></div></div></div></div></div>"
      ],
      "text/plain": [
       "RandomForestClassifier(random_state=7)"
      ]
     },
     "execution_count": 10,
     "metadata": {},
     "output_type": "execute_result"
    }
   ],
   "source": [
    "rnd_clf = RandomForestClassifier(random_state=7)\n",
    "rnd_clf.fit(X_train, y_train)"
   ]
  },
  {
   "cell_type": "code",
   "execution_count": 11,
   "metadata": {},
   "outputs": [
    {
     "name": "stdout",
     "output_type": "stream",
     "text": [
      "Training score: 0.9799334122572828\n",
      "Testing score: 0.9299089630671304\n"
     ]
    }
   ],
   "source": [
    "rnd_clf_train_score = rnd_clf.score(X_train, y_train)\n",
    "rnd_clf_test_score = rnd_clf.score(X_test, y_test)\n",
    "print(\"Training score:\", rnd_clf_train_score)\n",
    "print(\"Testing score:\", rnd_clf_test_score)"
   ]
  },
  {
   "cell_type": "code",
   "execution_count": 12,
   "metadata": {},
   "outputs": [],
   "source": [
    "y_pred_rf = rnd_clf.predict(X_test)\n",
    "cm = confusion_matrix(y_test, y_pred_rf, labels=rnd_clf.classes_)\n",
    "cm_norm = confusion_matrix(y_test, y_pred_rf, labels=rnd_clf.classes_, normalize='true')\n",
    "cmd = ConfusionMatrixDisplay(confusion_matrix = cm, display_labels=['1', '2', '3'])"
   ]
  },
  {
   "cell_type": "code",
   "execution_count": 13,
   "metadata": {},
   "outputs": [
    {
     "data": {
      "image/png": "[encoded data removed]",
      "text/plain": [
       "<Figure size 640x480 with 2 Axes>"
      ]
     },
     "metadata": {},
     "output_type": "display_data"
    }
   ],
   "source": [
    "cmd.plot()\n",
    "plt.ylabel('Actual Values')\n",
    "plt.xlabel('Predicted Values')\n",
    "plt.show()"
   ]
  },
  {
   "cell_type": "code",
   "execution_count": 14,
   "metadata": {},
   "outputs": [
    {
     "data": {
      "image/png": "[encoded data removed]",
      "text/plain": [
       "<Figure size 640x480 with 2 Axes>"
      ]
     },
     "metadata": {},
     "output_type": "display_data"
    }
   ],
   "source": [
    "cmd_norm = ConfusionMatrixDisplay(confusion_matrix = cm_norm, display_labels=['1', '2', '3'])\n",
    "cmd_norm.plot()\n",
    "plt.ylabel('Actual Values')\n",
    "plt.xlabel('Predicted Values')\n",
    "plt.show()"
   ]
  },
  {
   "cell_type": "code",
   "execution_count": 15,
   "metadata": {},
   "outputs": [
    {
     "name": "stdout",
     "output_type": "stream",
     "text": [
      "              precision    recall  f1-score   support\n",
      "\n",
      "          -1       0.93      0.93      0.93     12913\n",
      "           0       0.80      0.84      0.82       357\n",
      "           1       0.94      0.93      0.93     13752\n",
      "\n",
      "    accuracy                           0.93     27022\n",
      "   macro avg       0.89      0.90      0.89     27022\n",
      "weighted avg       0.93      0.93      0.93     27022\n",
      "\n"
     ]
    }
   ],
   "source": [
    "print(classification_report(y_test, y_pred_rf))"
   ]
  },
  {
   "cell_type": "markdown",
   "metadata": {},
   "source": [
    "Tune the RF model"
   ]
  },
  {
   "cell_type": "code",
   "execution_count": 16,
   "metadata": {},
   "outputs": [
    {
     "name": "stdout",
     "output_type": "stream",
     "text": [
      "Accuracy for 1 max_depth is:0.6841520954759922\n",
      "Accuracy for 2 max_depth is:0.6744379683597003\n",
      "Accuracy for 3 max_depth is:0.6525673050235915\n",
      "Accuracy for 4 max_depth is:0.6389305208622444\n",
      "Accuracy for 5 max_depth is:0.6513831066703673\n",
      "Accuracy for 6 max_depth is:0.6699602183365714\n",
      "Accuracy for 7 max_depth is:0.7019150707743547\n",
      "Accuracy for 8 max_depth is:0.725728559533722\n",
      "Accuracy for 9 max_depth is:0.7532611712461837\n",
      "Accuracy for 10 max_depth is:0.7813858821352576\n",
      "Accuracy for 11 max_depth is:0.8112313812563604\n",
      "Accuracy for 12 max_depth is:0.8372097326302156\n",
      "Accuracy for 13 max_depth is:0.8652049218244056\n",
      "Accuracy for 14 max_depth is:0.8896475159589231\n",
      "Accuracy for 15 max_depth is:0.9117032102877232\n",
      "Accuracy for 16 max_depth is:0.9262281432139884\n",
      "Accuracy for 17 max_depth is:0.9350356184660931\n",
      "Accuracy for 18 max_depth is:0.9391433065038394\n",
      "Accuracy for 19 max_depth is:0.9404570265519474\n",
      "Accuracy for 20 max_depth is:0.9394393560921455\n",
      "Accuracy for 21 max_depth is:0.9381811453418447\n",
      "Accuracy for 22 max_depth is:0.9363493385142011\n",
      "Accuracy for 23 max_depth is:0.93531316495513\n",
      "Accuracy for 24 max_depth is:0.9348690905726709\n",
      "Accuracy for 25 max_depth is:0.934295494495328\n",
      "Accuracy for 26 max_depth is:0.9338329170135998\n",
      "Accuracy for 27 max_depth is:0.9334813581274863\n",
      "Accuracy for 28 max_depth is:0.9330742899435656\n",
      "Accuracy for 29 max_depth is:0.9327967434545287\n",
      "Accuracy for 30 max_depth is:0.9326117124618374\n",
      "Accuracy for 31 max_depth is:0.9324451845684152\n",
      "Accuracy for 32 max_depth is:0.9323711721713387\n",
      "Accuracy for 33 max_depth is:0.9321491349801092\n",
      "Accuracy for 34 max_depth is:0.9321676380793783\n",
      "Accuracy for 35 max_depth is:0.9323711721713387\n",
      "Accuracy for 36 max_depth is:0.9322046442779166\n",
      "Accuracy for 37 max_depth is:0.9321676380793783\n",
      "Accuracy for 38 max_depth is:0.9322231473771857\n",
      "Accuracy for 39 max_depth is:0.9322601535757239\n",
      "Accuracy for 40 max_depth is:0.9321491349801092\n",
      "Accuracy for 41 max_depth is:0.9321861411786474\n",
      "Accuracy for 42 max_depth is:0.93213063188084\n",
      "Accuracy for 43 max_depth is:0.9322416504764548\n",
      "Accuracy for 44 max_depth is:0.9321121287815709\n",
      "Accuracy for 45 max_depth is:0.9321491349801092\n",
      "Accuracy for 46 max_depth is:0.9321121287815709\n",
      "Accuracy for 47 max_depth is:0.9320936256823018\n",
      "Accuracy for 48 max_depth is:0.9321491349801092\n",
      "Accuracy for 49 max_depth is:0.9321491349801092\n",
      "Accuracy for 50 max_depth is:0.9321491349801092\n"
     ]
    }
   ],
   "source": [
    "for m in range(1,51):\n",
    "    model = RandomForestClassifier(n_estimators=1000, max_depth=m, n_jobs=-1, random_state=7)\n",
    "    model.fit(X_train, y_train)\n",
    "    y_pred = model.predict(X_val)\n",
    "    accuracy = accuracy_score(y_val, y_pred)\n",
    "    print(f\"Accuracy for {m} max_depth is:{accuracy}\")"
   ]
  },
  {
   "cell_type": "markdown",
   "metadata": {},
   "source": [
    "https://github.com/ngoix/scikit-learn/commit/2661da0d3578eda406dcf1867443d9f744165c5f"
   ]
  },
  {
   "cell_type": "code",
   "execution_count": 17,
   "metadata": {},
   "outputs": [
    {
     "name": "stderr",
     "output_type": "stream",
     "text": [
      "C:\\Users\\carth\\AppData\\Local\\Packages\\PythonSoftwareFoundation.Python.3.10_qbz5n2kfra8p0\\LocalCache\\local-packages\\Python310\\site-packages\\sklearn\\ensemble\\_forest.py:578: UserWarning: Some inputs do not have OOB scores. This probably means too few trees were used to compute any reliable OOB estimates.\n",
      "  warn(\n"
     ]
    },
    {
     "name": "stdout",
     "output_type": "stream",
     "text": [
      "1 RandomForestClassifier (max_features='auto')\n"
     ]
    },
    {
     "name": "stderr",
     "output_type": "stream",
     "text": [
      "C:\\Users\\carth\\AppData\\Local\\Packages\\PythonSoftwareFoundation.Python.3.10_qbz5n2kfra8p0\\LocalCache\\local-packages\\Python310\\site-packages\\sklearn\\ensemble\\_forest.py:578: UserWarning: Some inputs do not have OOB scores. This probably means too few trees were used to compute any reliable OOB estimates.\n",
      "  warn(\n"
     ]
    },
    {
     "name": "stdout",
     "output_type": "stream",
     "text": [
      "2 RandomForestClassifier (max_features='auto')\n"
     ]
    },
    {
     "name": "stderr",
     "output_type": "stream",
     "text": [
      "C:\\Users\\carth\\AppData\\Local\\Packages\\PythonSoftwareFoundation.Python.3.10_qbz5n2kfra8p0\\LocalCache\\local-packages\\Python310\\site-packages\\sklearn\\ensemble\\_forest.py:578: UserWarning: Some inputs do not have OOB scores. This probably means too few trees were used to compute any reliable OOB estimates.\n",
      "  warn(\n"
     ]
    },
    {
     "name": "stdout",
     "output_type": "stream",
     "text": [
      "3 RandomForestClassifier (max_features='auto')\n"
     ]
    },
    {
     "name": "stderr",
     "output_type": "stream",
     "text": [
      "C:\\Users\\carth\\AppData\\Local\\Packages\\PythonSoftwareFoundation.Python.3.10_qbz5n2kfra8p0\\LocalCache\\local-packages\\Python310\\site-packages\\sklearn\\ensemble\\_forest.py:578: UserWarning: Some inputs do not have OOB scores. This probably means too few trees were used to compute any reliable OOB estimates.\n",
      "  warn(\n"
     ]
    },
    {
     "name": "stdout",
     "output_type": "stream",
     "text": [
      "4 RandomForestClassifier (max_features='auto')\n"
     ]
    },
    {
     "name": "stderr",
     "output_type": "stream",
     "text": [
      "C:\\Users\\carth\\AppData\\Local\\Packages\\PythonSoftwareFoundation.Python.3.10_qbz5n2kfra8p0\\LocalCache\\local-packages\\Python310\\site-packages\\sklearn\\ensemble\\_forest.py:578: UserWarning: Some inputs do not have OOB scores. This probably means too few trees were used to compute any reliable OOB estimates.\n",
      "  warn(\n"
     ]
    },
    {
     "name": "stdout",
     "output_type": "stream",
     "text": [
      "5 RandomForestClassifier (max_features='auto')\n"
     ]
    },
    {
     "name": "stderr",
     "output_type": "stream",
     "text": [
      "C:\\Users\\carth\\AppData\\Local\\Packages\\PythonSoftwareFoundation.Python.3.10_qbz5n2kfra8p0\\LocalCache\\local-packages\\Python310\\site-packages\\sklearn\\ensemble\\_forest.py:578: UserWarning: Some inputs do not have OOB scores. This probably means too few trees were used to compute any reliable OOB estimates.\n",
      "  warn(\n"
     ]
    },
    {
     "name": "stdout",
     "output_type": "stream",
     "text": [
      "6 RandomForestClassifier (max_features='auto')\n"
     ]
    },
    {
     "name": "stderr",
     "output_type": "stream",
     "text": [
      "C:\\Users\\carth\\AppData\\Local\\Packages\\PythonSoftwareFoundation.Python.3.10_qbz5n2kfra8p0\\LocalCache\\local-packages\\Python310\\site-packages\\sklearn\\ensemble\\_forest.py:578: UserWarning: Some inputs do not have OOB scores. This probably means too few trees were used to compute any reliable OOB estimates.\n",
      "  warn(\n"
     ]
    },
    {
     "name": "stdout",
     "output_type": "stream",
     "text": [
      "7 RandomForestClassifier (max_features='auto')\n"
     ]
    },
    {
     "name": "stderr",
     "output_type": "stream",
     "text": [
      "C:\\Users\\carth\\AppData\\Local\\Packages\\PythonSoftwareFoundation.Python.3.10_qbz5n2kfra8p0\\LocalCache\\local-packages\\Python310\\site-packages\\sklearn\\ensemble\\_forest.py:578: UserWarning: Some inputs do not have OOB scores. This probably means too few trees were used to compute any reliable OOB estimates.\n",
      "  warn(\n"
     ]
    },
    {
     "name": "stdout",
     "output_type": "stream",
     "text": [
      "8 RandomForestClassifier (max_features='auto')\n"
     ]
    },
    {
     "name": "stderr",
     "output_type": "stream",
     "text": [
      "C:\\Users\\carth\\AppData\\Local\\Packages\\PythonSoftwareFoundation.Python.3.10_qbz5n2kfra8p0\\LocalCache\\local-packages\\Python310\\site-packages\\sklearn\\ensemble\\_forest.py:578: UserWarning: Some inputs do not have OOB scores. This probably means too few trees were used to compute any reliable OOB estimates.\n",
      "  warn(\n"
     ]
    },
    {
     "name": "stdout",
     "output_type": "stream",
     "text": [
      "9 RandomForestClassifier (max_features='auto')\n"
     ]
    },
    {
     "name": "stderr",
     "output_type": "stream",
     "text": [
      "C:\\Users\\carth\\AppData\\Local\\Packages\\PythonSoftwareFoundation.Python.3.10_qbz5n2kfra8p0\\LocalCache\\local-packages\\Python310\\site-packages\\sklearn\\ensemble\\_forest.py:578: UserWarning: Some inputs do not have OOB scores. This probably means too few trees were used to compute any reliable OOB estimates.\n",
      "  warn(\n"
     ]
    },
    {
     "name": "stdout",
     "output_type": "stream",
     "text": [
      "10 RandomForestClassifier (max_features='auto')\n"
     ]
    },
    {
     "name": "stderr",
     "output_type": "stream",
     "text": [
      "C:\\Users\\carth\\AppData\\Local\\Packages\\PythonSoftwareFoundation.Python.3.10_qbz5n2kfra8p0\\LocalCache\\local-packages\\Python310\\site-packages\\sklearn\\ensemble\\_forest.py:578: UserWarning: Some inputs do not have OOB scores. This probably means too few trees were used to compute any reliable OOB estimates.\n",
      "  warn(\n"
     ]
    },
    {
     "name": "stdout",
     "output_type": "stream",
     "text": [
      "11 RandomForestClassifier (max_features='auto')\n"
     ]
    },
    {
     "name": "stderr",
     "output_type": "stream",
     "text": [
      "C:\\Users\\carth\\AppData\\Local\\Packages\\PythonSoftwareFoundation.Python.3.10_qbz5n2kfra8p0\\LocalCache\\local-packages\\Python310\\site-packages\\sklearn\\ensemble\\_forest.py:578: UserWarning: Some inputs do not have OOB scores. This probably means too few trees were used to compute any reliable OOB estimates.\n",
      "  warn(\n"
     ]
    },
    {
     "name": "stdout",
     "output_type": "stream",
     "text": [
      "12 RandomForestClassifier (max_features='auto')\n"
     ]
    },
    {
     "name": "stderr",
     "output_type": "stream",
     "text": [
      "C:\\Users\\carth\\AppData\\Local\\Packages\\PythonSoftwareFoundation.Python.3.10_qbz5n2kfra8p0\\LocalCache\\local-packages\\Python310\\site-packages\\sklearn\\ensemble\\_forest.py:578: UserWarning: Some inputs do not have OOB scores. This probably means too few trees were used to compute any reliable OOB estimates.\n",
      "  warn(\n"
     ]
    },
    {
     "name": "stdout",
     "output_type": "stream",
     "text": [
      "13 RandomForestClassifier (max_features='auto')\n"
     ]
    },
    {
     "name": "stderr",
     "output_type": "stream",
     "text": [
      "C:\\Users\\carth\\AppData\\Local\\Packages\\PythonSoftwareFoundation.Python.3.10_qbz5n2kfra8p0\\LocalCache\\local-packages\\Python310\\site-packages\\sklearn\\ensemble\\_forest.py:578: UserWarning: Some inputs do not have OOB scores. This probably means too few trees were used to compute any reliable OOB estimates.\n",
      "  warn(\n"
     ]
    },
    {
     "name": "stdout",
     "output_type": "stream",
     "text": [
      "14 RandomForestClassifier (max_features='auto')\n"
     ]
    },
    {
     "name": "stderr",
     "output_type": "stream",
     "text": [
      "C:\\Users\\carth\\AppData\\Local\\Packages\\PythonSoftwareFoundation.Python.3.10_qbz5n2kfra8p0\\LocalCache\\local-packages\\Python310\\site-packages\\sklearn\\ensemble\\_forest.py:578: UserWarning: Some inputs do not have OOB scores. This probably means too few trees were used to compute any reliable OOB estimates.\n",
      "  warn(\n"
     ]
    },
    {
     "name": "stdout",
     "output_type": "stream",
     "text": [
      "15 RandomForestClassifier (max_features='auto')\n"
     ]
    },
    {
     "name": "stderr",
     "output_type": "stream",
     "text": [
      "C:\\Users\\carth\\AppData\\Local\\Packages\\PythonSoftwareFoundation.Python.3.10_qbz5n2kfra8p0\\LocalCache\\local-packages\\Python310\\site-packages\\sklearn\\ensemble\\_forest.py:578: UserWarning: Some inputs do not have OOB scores. This probably means too few trees were used to compute any reliable OOB estimates.\n",
      "  warn(\n"
     ]
    },
    {
     "name": "stdout",
     "output_type": "stream",
     "text": [
      "16 RandomForestClassifier (max_features='auto')\n"
     ]
    },
    {
     "name": "stderr",
     "output_type": "stream",
     "text": [
      "C:\\Users\\carth\\AppData\\Local\\Packages\\PythonSoftwareFoundation.Python.3.10_qbz5n2kfra8p0\\LocalCache\\local-packages\\Python310\\site-packages\\sklearn\\ensemble\\_forest.py:578: UserWarning: Some inputs do not have OOB scores. This probably means too few trees were used to compute any reliable OOB estimates.\n",
      "  warn(\n"
     ]
    },
    {
     "name": "stdout",
     "output_type": "stream",
     "text": [
      "17 RandomForestClassifier (max_features='auto')\n"
     ]
    },
    {
     "name": "stderr",
     "output_type": "stream",
     "text": [
      "C:\\Users\\carth\\AppData\\Local\\Packages\\PythonSoftwareFoundation.Python.3.10_qbz5n2kfra8p0\\LocalCache\\local-packages\\Python310\\site-packages\\sklearn\\ensemble\\_forest.py:578: UserWarning: Some inputs do not have OOB scores. This probably means too few trees were used to compute any reliable OOB estimates.\n",
      "  warn(\n"
     ]
    },
    {
     "name": "stdout",
     "output_type": "stream",
     "text": [
      "18 RandomForestClassifier (max_features='auto')\n"
     ]
    },
    {
     "name": "stderr",
     "output_type": "stream",
     "text": [
      "C:\\Users\\carth\\AppData\\Local\\Packages\\PythonSoftwareFoundation.Python.3.10_qbz5n2kfra8p0\\LocalCache\\local-packages\\Python310\\site-packages\\sklearn\\ensemble\\_forest.py:578: UserWarning: Some inputs do not have OOB scores. This probably means too few trees were used to compute any reliable OOB estimates.\n",
      "  warn(\n"
     ]
    },
    {
     "name": "stdout",
     "output_type": "stream",
     "text": [
      "19 RandomForestClassifier (max_features='auto')\n"
     ]
    },
    {
     "name": "stderr",
     "output_type": "stream",
     "text": [
      "C:\\Users\\carth\\AppData\\Local\\Packages\\PythonSoftwareFoundation.Python.3.10_qbz5n2kfra8p0\\LocalCache\\local-packages\\Python310\\site-packages\\sklearn\\ensemble\\_forest.py:578: UserWarning: Some inputs do not have OOB scores. This probably means too few trees were used to compute any reliable OOB estimates.\n",
      "  warn(\n"
     ]
    },
    {
     "name": "stdout",
     "output_type": "stream",
     "text": [
      "20 RandomForestClassifier (max_features='auto')\n"
     ]
    },
    {
     "name": "stderr",
     "output_type": "stream",
     "text": [
      "C:\\Users\\carth\\AppData\\Local\\Packages\\PythonSoftwareFoundation.Python.3.10_qbz5n2kfra8p0\\LocalCache\\local-packages\\Python310\\site-packages\\sklearn\\ensemble\\_forest.py:578: UserWarning: Some inputs do not have OOB scores. This probably means too few trees were used to compute any reliable OOB estimates.\n",
      "  warn(\n"
     ]
    },
    {
     "name": "stdout",
     "output_type": "stream",
     "text": [
      "21 RandomForestClassifier (max_features='auto')\n"
     ]
    },
    {
     "name": "stderr",
     "output_type": "stream",
     "text": [
      "C:\\Users\\carth\\AppData\\Local\\Packages\\PythonSoftwareFoundation.Python.3.10_qbz5n2kfra8p0\\LocalCache\\local-packages\\Python310\\site-packages\\sklearn\\ensemble\\_forest.py:578: UserWarning: Some inputs do not have OOB scores. This probably means too few trees were used to compute any reliable OOB estimates.\n",
      "  warn(\n"
     ]
    },
    {
     "name": "stdout",
     "output_type": "stream",
     "text": [
      "22 RandomForestClassifier (max_features='auto')\n"
     ]
    },
    {
     "name": "stderr",
     "output_type": "stream",
     "text": [
      "C:\\Users\\carth\\AppData\\Local\\Packages\\PythonSoftwareFoundation.Python.3.10_qbz5n2kfra8p0\\LocalCache\\local-packages\\Python310\\site-packages\\sklearn\\ensemble\\_forest.py:578: UserWarning: Some inputs do not have OOB scores. This probably means too few trees were used to compute any reliable OOB estimates.\n",
      "  warn(\n"
     ]
    },
    {
     "name": "stdout",
     "output_type": "stream",
     "text": [
      "23 RandomForestClassifier (max_features='auto')\n"
     ]
    },
    {
     "name": "stderr",
     "output_type": "stream",
     "text": [
      "C:\\Users\\carth\\AppData\\Local\\Packages\\PythonSoftwareFoundation.Python.3.10_qbz5n2kfra8p0\\LocalCache\\local-packages\\Python310\\site-packages\\sklearn\\ensemble\\_forest.py:578: UserWarning: Some inputs do not have OOB scores. This probably means too few trees were used to compute any reliable OOB estimates.\n",
      "  warn(\n"
     ]
    },
    {
     "name": "stdout",
     "output_type": "stream",
     "text": [
      "24 RandomForestClassifier (max_features='auto')\n"
     ]
    },
    {
     "name": "stderr",
     "output_type": "stream",
     "text": [
      "C:\\Users\\carth\\AppData\\Local\\Packages\\PythonSoftwareFoundation.Python.3.10_qbz5n2kfra8p0\\LocalCache\\local-packages\\Python310\\site-packages\\sklearn\\ensemble\\_forest.py:578: UserWarning: Some inputs do not have OOB scores. This probably means too few trees were used to compute any reliable OOB estimates.\n",
      "  warn(\n"
     ]
    },
    {
     "name": "stdout",
     "output_type": "stream",
     "text": [
      "25 RandomForestClassifier (max_features='auto')\n"
     ]
    },
    {
     "name": "stderr",
     "output_type": "stream",
     "text": [
      "C:\\Users\\carth\\AppData\\Local\\Packages\\PythonSoftwareFoundation.Python.3.10_qbz5n2kfra8p0\\LocalCache\\local-packages\\Python310\\site-packages\\sklearn\\ensemble\\_forest.py:578: UserWarning: Some inputs do not have OOB scores. This probably means too few trees were used to compute any reliable OOB estimates.\n",
      "  warn(\n"
     ]
    },
    {
     "name": "stdout",
     "output_type": "stream",
     "text": [
      "26 RandomForestClassifier (max_features='auto')\n"
     ]
    },
    {
     "name": "stderr",
     "output_type": "stream",
     "text": [
      "C:\\Users\\carth\\AppData\\Local\\Packages\\PythonSoftwareFoundation.Python.3.10_qbz5n2kfra8p0\\LocalCache\\local-packages\\Python310\\site-packages\\sklearn\\ensemble\\_forest.py:578: UserWarning: Some inputs do not have OOB scores. This probably means too few trees were used to compute any reliable OOB estimates.\n",
      "  warn(\n"
     ]
    },
    {
     "name": "stdout",
     "output_type": "stream",
     "text": [
      "27 RandomForestClassifier (max_features='auto')\n"
     ]
    },
    {
     "name": "stderr",
     "output_type": "stream",
     "text": [
      "C:\\Users\\carth\\AppData\\Local\\Packages\\PythonSoftwareFoundation.Python.3.10_qbz5n2kfra8p0\\LocalCache\\local-packages\\Python310\\site-packages\\sklearn\\ensemble\\_forest.py:578: UserWarning: Some inputs do not have OOB scores. This probably means too few trees were used to compute any reliable OOB estimates.\n",
      "  warn(\n"
     ]
    },
    {
     "name": "stdout",
     "output_type": "stream",
     "text": [
      "28 RandomForestClassifier (max_features='auto')\n"
     ]
    },
    {
     "name": "stderr",
     "output_type": "stream",
     "text": [
      "C:\\Users\\carth\\AppData\\Local\\Packages\\PythonSoftwareFoundation.Python.3.10_qbz5n2kfra8p0\\LocalCache\\local-packages\\Python310\\site-packages\\sklearn\\ensemble\\_forest.py:578: UserWarning: Some inputs do not have OOB scores. This probably means too few trees were used to compute any reliable OOB estimates.\n",
      "  warn(\n"
     ]
    },
    {
     "name": "stdout",
     "output_type": "stream",
     "text": [
      "29 RandomForestClassifier (max_features='auto')\n"
     ]
    },
    {
     "name": "stderr",
     "output_type": "stream",
     "text": [
      "C:\\Users\\carth\\AppData\\Local\\Packages\\PythonSoftwareFoundation.Python.3.10_qbz5n2kfra8p0\\LocalCache\\local-packages\\Python310\\site-packages\\sklearn\\ensemble\\_forest.py:578: UserWarning: Some inputs do not have OOB scores. This probably means too few trees were used to compute any reliable OOB estimates.\n",
      "  warn(\n"
     ]
    },
    {
     "name": "stdout",
     "output_type": "stream",
     "text": [
      "30 RandomForestClassifier (max_features='auto')\n"
     ]
    },
    {
     "name": "stderr",
     "output_type": "stream",
     "text": [
      "C:\\Users\\carth\\AppData\\Local\\Packages\\PythonSoftwareFoundation.Python.3.10_qbz5n2kfra8p0\\LocalCache\\local-packages\\Python310\\site-packages\\sklearn\\ensemble\\_forest.py:578: UserWarning: Some inputs do not have OOB scores. This probably means too few trees were used to compute any reliable OOB estimates.\n",
      "  warn(\n"
     ]
    },
    {
     "name": "stdout",
     "output_type": "stream",
     "text": [
      "31 RandomForestClassifier (max_features='auto')\n"
     ]
    },
    {
     "name": "stderr",
     "output_type": "stream",
     "text": [
      "C:\\Users\\carth\\AppData\\Local\\Packages\\PythonSoftwareFoundation.Python.3.10_qbz5n2kfra8p0\\LocalCache\\local-packages\\Python310\\site-packages\\sklearn\\ensemble\\_forest.py:578: UserWarning: Some inputs do not have OOB scores. This probably means too few trees were used to compute any reliable OOB estimates.\n",
      "  warn(\n"
     ]
    },
    {
     "name": "stdout",
     "output_type": "stream",
     "text": [
      "32 RandomForestClassifier (max_features='auto')\n",
      "33 RandomForestClassifier (max_features='auto')\n",
      "34 RandomForestClassifier (max_features='auto')\n",
      "35 RandomForestClassifier (max_features='auto')\n",
      "36 RandomForestClassifier (max_features='auto')\n",
      "37 RandomForestClassifier (max_features='auto')\n",
      "38 RandomForestClassifier (max_features='auto')\n",
      "39 RandomForestClassifier (max_features='auto')\n",
      "40 RandomForestClassifier (max_features='auto')\n",
      "41 RandomForestClassifier (max_features='auto')\n",
      "42 RandomForestClassifier (max_features='auto')\n",
      "43 RandomForestClassifier (max_features='auto')\n",
      "44 RandomForestClassifier (max_features='auto')\n",
      "45 RandomForestClassifier (max_features='auto')\n",
      "46 RandomForestClassifier (max_features='auto')\n",
      "47 RandomForestClassifier (max_features='auto')\n",
      "48 RandomForestClassifier (max_features='auto')\n",
      "49 RandomForestClassifier (max_features='auto')\n",
      "50 RandomForestClassifier (max_features='auto')\n",
      "51 RandomForestClassifier (max_features='auto')\n",
      "52 RandomForestClassifier (max_features='auto')\n",
      "53 RandomForestClassifier (max_features='auto')\n",
      "54 RandomForestClassifier (max_features='auto')\n",
      "55 RandomForestClassifier (max_features='auto')\n",
      "56 RandomForestClassifier (max_features='auto')\n",
      "57 RandomForestClassifier (max_features='auto')\n",
      "58 RandomForestClassifier (max_features='auto')\n",
      "59 RandomForestClassifier (max_features='auto')\n",
      "60 RandomForestClassifier (max_features='auto')\n",
      "61 RandomForestClassifier (max_features='auto')\n",
      "62 RandomForestClassifier (max_features='auto')\n",
      "63 RandomForestClassifier (max_features='auto')\n",
      "64 RandomForestClassifier (max_features='auto')\n",
      "65 RandomForestClassifier (max_features='auto')\n",
      "66 RandomForestClassifier (max_features='auto')\n",
      "67 RandomForestClassifier (max_features='auto')\n",
      "68 RandomForestClassifier (max_features='auto')\n",
      "69 RandomForestClassifier (max_features='auto')\n",
      "70 RandomForestClassifier (max_features='auto')\n",
      "71 RandomForestClassifier (max_features='auto')\n",
      "72 RandomForestClassifier (max_features='auto')\n",
      "73 RandomForestClassifier (max_features='auto')\n",
      "74 RandomForestClassifier (max_features='auto')\n",
      "75 RandomForestClassifier (max_features='auto')\n",
      "76 RandomForestClassifier (max_features='auto')\n",
      "77 RandomForestClassifier (max_features='auto')\n",
      "78 RandomForestClassifier (max_features='auto')\n",
      "79 RandomForestClassifier (max_features='auto')\n",
      "80 RandomForestClassifier (max_features='auto')\n",
      "81 RandomForestClassifier (max_features='auto')\n",
      "82 RandomForestClassifier (max_features='auto')\n",
      "83 RandomForestClassifier (max_features='auto')\n",
      "84 RandomForestClassifier (max_features='auto')\n",
      "85 RandomForestClassifier (max_features='auto')\n",
      "86 RandomForestClassifier (max_features='auto')\n",
      "87 RandomForestClassifier (max_features='auto')\n",
      "88 RandomForestClassifier (max_features='auto')\n",
      "89 RandomForestClassifier (max_features='auto')\n",
      "90 RandomForestClassifier (max_features='auto')\n",
      "91 RandomForestClassifier (max_features='auto')\n",
      "92 RandomForestClassifier (max_features='auto')\n",
      "93 RandomForestClassifier (max_features='auto')\n",
      "94 RandomForestClassifier (max_features='auto')\n",
      "95 RandomForestClassifier (max_features='auto')\n",
      "96 RandomForestClassifier (max_features='auto')\n",
      "97 RandomForestClassifier (max_features='auto')\n",
      "98 RandomForestClassifier (max_features='auto')\n",
      "99 RandomForestClassifier (max_features='auto')\n",
      "100 RandomForestClassifier (max_features='auto')\n",
      "101 RandomForestClassifier (max_features='auto')\n",
      "102 RandomForestClassifier (max_features='auto')\n",
      "103 RandomForestClassifier (max_features='auto')\n",
      "104 RandomForestClassifier (max_features='auto')\n",
      "105 RandomForestClassifier (max_features='auto')\n",
      "106 RandomForestClassifier (max_features='auto')\n",
      "107 RandomForestClassifier (max_features='auto')\n",
      "108 RandomForestClassifier (max_features='auto')\n",
      "109 RandomForestClassifier (max_features='auto')\n",
      "110 RandomForestClassifier (max_features='auto')\n",
      "111 RandomForestClassifier (max_features='auto')\n",
      "112 RandomForestClassifier (max_features='auto')\n",
      "113 RandomForestClassifier (max_features='auto')\n",
      "114 RandomForestClassifier (max_features='auto')\n",
      "115 RandomForestClassifier (max_features='auto')\n",
      "116 RandomForestClassifier (max_features='auto')\n",
      "117 RandomForestClassifier (max_features='auto')\n",
      "118 RandomForestClassifier (max_features='auto')\n",
      "119 RandomForestClassifier (max_features='auto')\n",
      "120 RandomForestClassifier (max_features='auto')\n",
      "121 RandomForestClassifier (max_features='auto')\n",
      "122 RandomForestClassifier (max_features='auto')\n",
      "123 RandomForestClassifier (max_features='auto')\n",
      "124 RandomForestClassifier (max_features='auto')\n",
      "125 RandomForestClassifier (max_features='auto')\n",
      "126 RandomForestClassifier (max_features='auto')\n",
      "127 RandomForestClassifier (max_features='auto')\n",
      "128 RandomForestClassifier (max_features='auto')\n",
      "129 RandomForestClassifier (max_features='auto')\n",
      "130 RandomForestClassifier (max_features='auto')\n",
      "131 RandomForestClassifier (max_features='auto')\n",
      "132 RandomForestClassifier (max_features='auto')\n",
      "133 RandomForestClassifier (max_features='auto')\n",
      "134 RandomForestClassifier (max_features='auto')\n",
      "135 RandomForestClassifier (max_features='auto')\n",
      "136 RandomForestClassifier (max_features='auto')\n",
      "137 RandomForestClassifier (max_features='auto')\n",
      "138 RandomForestClassifier (max_features='auto')\n",
      "139 RandomForestClassifier (max_features='auto')\n",
      "140 RandomForestClassifier (max_features='auto')\n",
      "141 RandomForestClassifier (max_features='auto')\n",
      "142 RandomForestClassifier (max_features='auto')\n",
      "143 RandomForestClassifier (max_features='auto')\n",
      "144 RandomForestClassifier (max_features='auto')\n",
      "145 RandomForestClassifier (max_features='auto')\n",
      "146 RandomForestClassifier (max_features='auto')\n",
      "147 RandomForestClassifier (max_features='auto')\n",
      "148 RandomForestClassifier (max_features='auto')\n",
      "149 RandomForestClassifier (max_features='auto')\n",
      "150 RandomForestClassifier (max_features='auto')\n",
      "151 RandomForestClassifier (max_features='auto')\n",
      "152 RandomForestClassifier (max_features='auto')\n",
      "153 RandomForestClassifier (max_features='auto')\n",
      "154 RandomForestClassifier (max_features='auto')\n",
      "155 RandomForestClassifier (max_features='auto')\n",
      "156 RandomForestClassifier (max_features='auto')\n",
      "157 RandomForestClassifier (max_features='auto')\n",
      "158 RandomForestClassifier (max_features='auto')\n",
      "159 RandomForestClassifier (max_features='auto')\n",
      "160 RandomForestClassifier (max_features='auto')\n",
      "161 RandomForestClassifier (max_features='auto')\n",
      "162 RandomForestClassifier (max_features='auto')\n",
      "163 RandomForestClassifier (max_features='auto')\n",
      "164 RandomForestClassifier (max_features='auto')\n",
      "165 RandomForestClassifier (max_features='auto')\n",
      "166 RandomForestClassifier (max_features='auto')\n",
      "167 RandomForestClassifier (max_features='auto')\n",
      "168 RandomForestClassifier (max_features='auto')\n",
      "169 RandomForestClassifier (max_features='auto')\n",
      "170 RandomForestClassifier (max_features='auto')\n",
      "171 RandomForestClassifier (max_features='auto')\n",
      "172 RandomForestClassifier (max_features='auto')\n",
      "173 RandomForestClassifier (max_features='auto')\n",
      "174 RandomForestClassifier (max_features='auto')\n",
      "175 RandomForestClassifier (max_features='auto')\n",
      "176 RandomForestClassifier (max_features='auto')\n",
      "177 RandomForestClassifier (max_features='auto')\n",
      "178 RandomForestClassifier (max_features='auto')\n",
      "179 RandomForestClassifier (max_features='auto')\n",
      "180 RandomForestClassifier (max_features='auto')\n",
      "181 RandomForestClassifier (max_features='auto')\n",
      "182 RandomForestClassifier (max_features='auto')\n",
      "183 RandomForestClassifier (max_features='auto')\n",
      "184 RandomForestClassifier (max_features='auto')\n",
      "185 RandomForestClassifier (max_features='auto')\n",
      "186 RandomForestClassifier (max_features='auto')\n",
      "187 RandomForestClassifier (max_features='auto')\n",
      "188 RandomForestClassifier (max_features='auto')\n",
      "189 RandomForestClassifier (max_features='auto')\n",
      "190 RandomForestClassifier (max_features='auto')\n",
      "191 RandomForestClassifier (max_features='auto')\n",
      "192 RandomForestClassifier (max_features='auto')\n",
      "193 RandomForestClassifier (max_features='auto')\n",
      "194 RandomForestClassifier (max_features='auto')\n",
      "195 RandomForestClassifier (max_features='auto')\n",
      "196 RandomForestClassifier (max_features='auto')\n",
      "197 RandomForestClassifier (max_features='auto')\n",
      "198 RandomForestClassifier (max_features='auto')\n",
      "199 RandomForestClassifier (max_features='auto')\n",
      "200 RandomForestClassifier (max_features='auto')\n",
      "201 RandomForestClassifier (max_features='auto')\n",
      "202 RandomForestClassifier (max_features='auto')\n",
      "203 RandomForestClassifier (max_features='auto')\n",
      "204 RandomForestClassifier (max_features='auto')\n",
      "205 RandomForestClassifier (max_features='auto')\n",
      "206 RandomForestClassifier (max_features='auto')\n",
      "207 RandomForestClassifier (max_features='auto')\n",
      "208 RandomForestClassifier (max_features='auto')\n",
      "209 RandomForestClassifier (max_features='auto')\n",
      "210 RandomForestClassifier (max_features='auto')\n",
      "211 RandomForestClassifier (max_features='auto')\n",
      "212 RandomForestClassifier (max_features='auto')\n",
      "213 RandomForestClassifier (max_features='auto')\n",
      "214 RandomForestClassifier (max_features='auto')\n",
      "215 RandomForestClassifier (max_features='auto')\n",
      "216 RandomForestClassifier (max_features='auto')\n",
      "217 RandomForestClassifier (max_features='auto')\n",
      "218 RandomForestClassifier (max_features='auto')\n",
      "219 RandomForestClassifier (max_features='auto')\n",
      "220 RandomForestClassifier (max_features='auto')\n",
      "221 RandomForestClassifier (max_features='auto')\n",
      "222 RandomForestClassifier (max_features='auto')\n",
      "223 RandomForestClassifier (max_features='auto')\n",
      "224 RandomForestClassifier (max_features='auto')\n",
      "225 RandomForestClassifier (max_features='auto')\n",
      "226 RandomForestClassifier (max_features='auto')\n",
      "227 RandomForestClassifier (max_features='auto')\n",
      "228 RandomForestClassifier (max_features='auto')\n",
      "229 RandomForestClassifier (max_features='auto')\n",
      "230 RandomForestClassifier (max_features='auto')\n",
      "231 RandomForestClassifier (max_features='auto')\n",
      "232 RandomForestClassifier (max_features='auto')\n",
      "233 RandomForestClassifier (max_features='auto')\n",
      "234 RandomForestClassifier (max_features='auto')\n",
      "235 RandomForestClassifier (max_features='auto')\n",
      "236 RandomForestClassifier (max_features='auto')\n",
      "237 RandomForestClassifier (max_features='auto')\n",
      "238 RandomForestClassifier (max_features='auto')\n",
      "239 RandomForestClassifier (max_features='auto')\n",
      "240 RandomForestClassifier (max_features='auto')\n",
      "241 RandomForestClassifier (max_features='auto')\n",
      "242 RandomForestClassifier (max_features='auto')\n",
      "243 RandomForestClassifier (max_features='auto')\n",
      "244 RandomForestClassifier (max_features='auto')\n",
      "245 RandomForestClassifier (max_features='auto')\n",
      "246 RandomForestClassifier (max_features='auto')\n",
      "247 RandomForestClassifier (max_features='auto')\n",
      "248 RandomForestClassifier (max_features='auto')\n",
      "249 RandomForestClassifier (max_features='auto')\n",
      "250 RandomForestClassifier (max_features='auto')\n",
      "251 RandomForestClassifier (max_features='auto')\n",
      "252 RandomForestClassifier (max_features='auto')\n",
      "253 RandomForestClassifier (max_features='auto')\n",
      "254 RandomForestClassifier (max_features='auto')\n",
      "255 RandomForestClassifier (max_features='auto')\n",
      "256 RandomForestClassifier (max_features='auto')\n",
      "257 RandomForestClassifier (max_features='auto')\n",
      "258 RandomForestClassifier (max_features='auto')\n",
      "259 RandomForestClassifier (max_features='auto')\n",
      "260 RandomForestClassifier (max_features='auto')\n",
      "261 RandomForestClassifier (max_features='auto')\n",
      "262 RandomForestClassifier (max_features='auto')\n",
      "263 RandomForestClassifier (max_features='auto')\n",
      "264 RandomForestClassifier (max_features='auto')\n",
      "265 RandomForestClassifier (max_features='auto')\n",
      "266 RandomForestClassifier (max_features='auto')\n",
      "267 RandomForestClassifier (max_features='auto')\n",
      "268 RandomForestClassifier (max_features='auto')\n",
      "269 RandomForestClassifier (max_features='auto')\n",
      "270 RandomForestClassifier (max_features='auto')\n",
      "271 RandomForestClassifier (max_features='auto')\n",
      "272 RandomForestClassifier (max_features='auto')\n",
      "273 RandomForestClassifier (max_features='auto')\n",
      "274 RandomForestClassifier (max_features='auto')\n",
      "275 RandomForestClassifier (max_features='auto')\n",
      "276 RandomForestClassifier (max_features='auto')\n",
      "277 RandomForestClassifier (max_features='auto')\n",
      "278 RandomForestClassifier (max_features='auto')\n",
      "279 RandomForestClassifier (max_features='auto')\n",
      "280 RandomForestClassifier (max_features='auto')\n",
      "281 RandomForestClassifier (max_features='auto')\n",
      "282 RandomForestClassifier (max_features='auto')\n",
      "283 RandomForestClassifier (max_features='auto')\n",
      "284 RandomForestClassifier (max_features='auto')\n",
      "285 RandomForestClassifier (max_features='auto')\n",
      "286 RandomForestClassifier (max_features='auto')\n",
      "287 RandomForestClassifier (max_features='auto')\n",
      "288 RandomForestClassifier (max_features='auto')\n",
      "289 RandomForestClassifier (max_features='auto')\n",
      "290 RandomForestClassifier (max_features='auto')\n",
      "291 RandomForestClassifier (max_features='auto')\n",
      "292 RandomForestClassifier (max_features='auto')\n",
      "293 RandomForestClassifier (max_features='auto')\n",
      "294 RandomForestClassifier (max_features='auto')\n",
      "295 RandomForestClassifier (max_features='auto')\n",
      "296 RandomForestClassifier (max_features='auto')\n",
      "297 RandomForestClassifier (max_features='auto')\n",
      "298 RandomForestClassifier (max_features='auto')\n",
      "299 RandomForestClassifier (max_features='auto')\n",
      "300 RandomForestClassifier (max_features='auto')\n",
      "301 RandomForestClassifier (max_features='auto')\n",
      "302 RandomForestClassifier (max_features='auto')\n",
      "303 RandomForestClassifier (max_features='auto')\n",
      "304 RandomForestClassifier (max_features='auto')\n",
      "305 RandomForestClassifier (max_features='auto')\n",
      "306 RandomForestClassifier (max_features='auto')\n",
      "307 RandomForestClassifier (max_features='auto')\n",
      "308 RandomForestClassifier (max_features='auto')\n",
      "309 RandomForestClassifier (max_features='auto')\n",
      "310 RandomForestClassifier (max_features='auto')\n",
      "311 RandomForestClassifier (max_features='auto')\n",
      "312 RandomForestClassifier (max_features='auto')\n",
      "313 RandomForestClassifier (max_features='auto')\n",
      "314 RandomForestClassifier (max_features='auto')\n",
      "315 RandomForestClassifier (max_features='auto')\n",
      "316 RandomForestClassifier (max_features='auto')\n",
      "317 RandomForestClassifier (max_features='auto')\n",
      "318 RandomForestClassifier (max_features='auto')\n",
      "319 RandomForestClassifier (max_features='auto')\n",
      "320 RandomForestClassifier (max_features='auto')\n",
      "321 RandomForestClassifier (max_features='auto')\n",
      "322 RandomForestClassifier (max_features='auto')\n",
      "323 RandomForestClassifier (max_features='auto')\n",
      "324 RandomForestClassifier (max_features='auto')\n",
      "325 RandomForestClassifier (max_features='auto')\n",
      "326 RandomForestClassifier (max_features='auto')\n",
      "327 RandomForestClassifier (max_features='auto')\n",
      "328 RandomForestClassifier (max_features='auto')\n",
      "329 RandomForestClassifier (max_features='auto')\n",
      "330 RandomForestClassifier (max_features='auto')\n",
      "331 RandomForestClassifier (max_features='auto')\n",
      "332 RandomForestClassifier (max_features='auto')\n",
      "333 RandomForestClassifier (max_features='auto')\n",
      "334 RandomForestClassifier (max_features='auto')\n",
      "335 RandomForestClassifier (max_features='auto')\n",
      "336 RandomForestClassifier (max_features='auto')\n",
      "337 RandomForestClassifier (max_features='auto')\n",
      "338 RandomForestClassifier (max_features='auto')\n",
      "339 RandomForestClassifier (max_features='auto')\n",
      "340 RandomForestClassifier (max_features='auto')\n",
      "341 RandomForestClassifier (max_features='auto')\n",
      "342 RandomForestClassifier (max_features='auto')\n",
      "343 RandomForestClassifier (max_features='auto')\n",
      "344 RandomForestClassifier (max_features='auto')\n",
      "345 RandomForestClassifier (max_features='auto')\n",
      "346 RandomForestClassifier (max_features='auto')\n",
      "347 RandomForestClassifier (max_features='auto')\n",
      "348 RandomForestClassifier (max_features='auto')\n",
      "349 RandomForestClassifier (max_features='auto')\n",
      "350 RandomForestClassifier (max_features='auto')\n",
      "351 RandomForestClassifier (max_features='auto')\n",
      "352 RandomForestClassifier (max_features='auto')\n",
      "353 RandomForestClassifier (max_features='auto')\n",
      "354 RandomForestClassifier (max_features='auto')\n",
      "355 RandomForestClassifier (max_features='auto')\n",
      "356 RandomForestClassifier (max_features='auto')\n",
      "357 RandomForestClassifier (max_features='auto')\n",
      "358 RandomForestClassifier (max_features='auto')\n",
      "359 RandomForestClassifier (max_features='auto')\n",
      "360 RandomForestClassifier (max_features='auto')\n",
      "361 RandomForestClassifier (max_features='auto')\n",
      "362 RandomForestClassifier (max_features='auto')\n",
      "363 RandomForestClassifier (max_features='auto')\n",
      "364 RandomForestClassifier (max_features='auto')\n",
      "365 RandomForestClassifier (max_features='auto')\n",
      "366 RandomForestClassifier (max_features='auto')\n",
      "367 RandomForestClassifier (max_features='auto')\n",
      "368 RandomForestClassifier (max_features='auto')\n",
      "369 RandomForestClassifier (max_features='auto')\n",
      "370 RandomForestClassifier (max_features='auto')\n",
      "371 RandomForestClassifier (max_features='auto')\n",
      "372 RandomForestClassifier (max_features='auto')\n",
      "373 RandomForestClassifier (max_features='auto')\n",
      "374 RandomForestClassifier (max_features='auto')\n",
      "375 RandomForestClassifier (max_features='auto')\n",
      "376 RandomForestClassifier (max_features='auto')\n",
      "377 RandomForestClassifier (max_features='auto')\n",
      "378 RandomForestClassifier (max_features='auto')\n",
      "379 RandomForestClassifier (max_features='auto')\n",
      "380 RandomForestClassifier (max_features='auto')\n",
      "381 RandomForestClassifier (max_features='auto')\n",
      "382 RandomForestClassifier (max_features='auto')\n",
      "383 RandomForestClassifier (max_features='auto')\n",
      "384 RandomForestClassifier (max_features='auto')\n",
      "385 RandomForestClassifier (max_features='auto')\n",
      "386 RandomForestClassifier (max_features='auto')\n",
      "387 RandomForestClassifier (max_features='auto')\n",
      "388 RandomForestClassifier (max_features='auto')\n",
      "389 RandomForestClassifier (max_features='auto')\n",
      "390 RandomForestClassifier (max_features='auto')\n",
      "391 RandomForestClassifier (max_features='auto')\n",
      "392 RandomForestClassifier (max_features='auto')\n",
      "393 RandomForestClassifier (max_features='auto')\n",
      "394 RandomForestClassifier (max_features='auto')\n",
      "395 RandomForestClassifier (max_features='auto')\n",
      "396 RandomForestClassifier (max_features='auto')\n",
      "397 RandomForestClassifier (max_features='auto')\n",
      "398 RandomForestClassifier (max_features='auto')\n",
      "399 RandomForestClassifier (max_features='auto')\n",
      "400 RandomForestClassifier (max_features='auto')\n"
     ]
    },
    {
     "name": "stderr",
     "output_type": "stream",
     "text": [
      "C:\\Users\\carth\\AppData\\Local\\Packages\\PythonSoftwareFoundation.Python.3.10_qbz5n2kfra8p0\\LocalCache\\local-packages\\Python310\\site-packages\\sklearn\\ensemble\\_forest.py:578: UserWarning: Some inputs do not have OOB scores. This probably means too few trees were used to compute any reliable OOB estimates.\n",
      "  warn(\n"
     ]
    },
    {
     "name": "stdout",
     "output_type": "stream",
     "text": [
      "1 RandomForestClassifier (max_features='sqrt')\n"
     ]
    },
    {
     "name": "stderr",
     "output_type": "stream",
     "text": [
      "C:\\Users\\carth\\AppData\\Local\\Packages\\PythonSoftwareFoundation.Python.3.10_qbz5n2kfra8p0\\LocalCache\\local-packages\\Python310\\site-packages\\sklearn\\ensemble\\_forest.py:578: UserWarning: Some inputs do not have OOB scores. This probably means too few trees were used to compute any reliable OOB estimates.\n",
      "  warn(\n"
     ]
    },
    {
     "name": "stdout",
     "output_type": "stream",
     "text": [
      "2 RandomForestClassifier (max_features='sqrt')\n"
     ]
    },
    {
     "name": "stderr",
     "output_type": "stream",
     "text": [
      "C:\\Users\\carth\\AppData\\Local\\Packages\\PythonSoftwareFoundation.Python.3.10_qbz5n2kfra8p0\\LocalCache\\local-packages\\Python310\\site-packages\\sklearn\\ensemble\\_forest.py:578: UserWarning: Some inputs do not have OOB scores. This probably means too few trees were used to compute any reliable OOB estimates.\n",
      "  warn(\n"
     ]
    },
    {
     "name": "stdout",
     "output_type": "stream",
     "text": [
      "3 RandomForestClassifier (max_features='sqrt')\n"
     ]
    },
    {
     "name": "stderr",
     "output_type": "stream",
     "text": [
      "C:\\Users\\carth\\AppData\\Local\\Packages\\PythonSoftwareFoundation.Python.3.10_qbz5n2kfra8p0\\LocalCache\\local-packages\\Python310\\site-packages\\sklearn\\ensemble\\_forest.py:578: UserWarning: Some inputs do not have OOB scores. This probably means too few trees were used to compute any reliable OOB estimates.\n",
      "  warn(\n"
     ]
    },
    {
     "name": "stdout",
     "output_type": "stream",
     "text": [
      "4 RandomForestClassifier (max_features='sqrt')\n"
     ]
    },
    {
     "name": "stderr",
     "output_type": "stream",
     "text": [
      "C:\\Users\\carth\\AppData\\Local\\Packages\\PythonSoftwareFoundation.Python.3.10_qbz5n2kfra8p0\\LocalCache\\local-packages\\Python310\\site-packages\\sklearn\\ensemble\\_forest.py:578: UserWarning: Some inputs do not have OOB scores. This probably means too few trees were used to compute any reliable OOB estimates.\n",
      "  warn(\n"
     ]
    },
    {
     "name": "stdout",
     "output_type": "stream",
     "text": [
      "5 RandomForestClassifier (max_features='sqrt')\n"
     ]
    },
    {
     "name": "stderr",
     "output_type": "stream",
     "text": [
      "C:\\Users\\carth\\AppData\\Local\\Packages\\PythonSoftwareFoundation.Python.3.10_qbz5n2kfra8p0\\LocalCache\\local-packages\\Python310\\site-packages\\sklearn\\ensemble\\_forest.py:578: UserWarning: Some inputs do not have OOB scores. This probably means too few trees were used to compute any reliable OOB estimates.\n",
      "  warn(\n"
     ]
    },
    {
     "name": "stdout",
     "output_type": "stream",
     "text": [
      "6 RandomForestClassifier (max_features='sqrt')\n"
     ]
    },
    {
     "name": "stderr",
     "output_type": "stream",
     "text": [
      "C:\\Users\\carth\\AppData\\Local\\Packages\\PythonSoftwareFoundation.Python.3.10_qbz5n2kfra8p0\\LocalCache\\local-packages\\Python310\\site-packages\\sklearn\\ensemble\\_forest.py:578: UserWarning: Some inputs do not have OOB scores. This probably means too few trees were used to compute any reliable OOB estimates.\n",
      "  warn(\n"
     ]
    },
    {
     "name": "stdout",
     "output_type": "stream",
     "text": [
      "7 RandomForestClassifier (max_features='sqrt')\n"
     ]
    },
    {
     "name": "stderr",
     "output_type": "stream",
     "text": [
      "C:\\Users\\carth\\AppData\\Local\\Packages\\PythonSoftwareFoundation.Python.3.10_qbz5n2kfra8p0\\LocalCache\\local-packages\\Python310\\site-packages\\sklearn\\ensemble\\_forest.py:578: UserWarning: Some inputs do not have OOB scores. This probably means too few trees were used to compute any reliable OOB estimates.\n",
      "  warn(\n"
     ]
    },
    {
     "name": "stdout",
     "output_type": "stream",
     "text": [
      "8 RandomForestClassifier (max_features='sqrt')\n"
     ]
    },
    {
     "name": "stderr",
     "output_type": "stream",
     "text": [
      "C:\\Users\\carth\\AppData\\Local\\Packages\\PythonSoftwareFoundation.Python.3.10_qbz5n2kfra8p0\\LocalCache\\local-packages\\Python310\\site-packages\\sklearn\\ensemble\\_forest.py:578: UserWarning: Some inputs do not have OOB scores. This probably means too few trees were used to compute any reliable OOB estimates.\n",
      "  warn(\n"
     ]
    },
    {
     "name": "stdout",
     "output_type": "stream",
     "text": [
      "9 RandomForestClassifier (max_features='sqrt')\n"
     ]
    },
    {
     "name": "stderr",
     "output_type": "stream",
     "text": [
      "C:\\Users\\carth\\AppData\\Local\\Packages\\PythonSoftwareFoundation.Python.3.10_qbz5n2kfra8p0\\LocalCache\\local-packages\\Python310\\site-packages\\sklearn\\ensemble\\_forest.py:578: UserWarning: Some inputs do not have OOB scores. This probably means too few trees were used to compute any reliable OOB estimates.\n",
      "  warn(\n"
     ]
    },
    {
     "name": "stdout",
     "output_type": "stream",
     "text": [
      "10 RandomForestClassifier (max_features='sqrt')\n"
     ]
    },
    {
     "name": "stderr",
     "output_type": "stream",
     "text": [
      "C:\\Users\\carth\\AppData\\Local\\Packages\\PythonSoftwareFoundation.Python.3.10_qbz5n2kfra8p0\\LocalCache\\local-packages\\Python310\\site-packages\\sklearn\\ensemble\\_forest.py:578: UserWarning: Some inputs do not have OOB scores. This probably means too few trees were used to compute any reliable OOB estimates.\n",
      "  warn(\n"
     ]
    },
    {
     "name": "stdout",
     "output_type": "stream",
     "text": [
      "11 RandomForestClassifier (max_features='sqrt')\n"
     ]
    },
    {
     "name": "stderr",
     "output_type": "stream",
     "text": [
      "C:\\Users\\carth\\AppData\\Local\\Packages\\PythonSoftwareFoundation.Python.3.10_qbz5n2kfra8p0\\LocalCache\\local-packages\\Python310\\site-packages\\sklearn\\ensemble\\_forest.py:578: UserWarning: Some inputs do not have OOB scores. This probably means too few trees were used to compute any reliable OOB estimates.\n",
      "  warn(\n"
     ]
    },
    {
     "name": "stdout",
     "output_type": "stream",
     "text": [
      "12 RandomForestClassifier (max_features='sqrt')\n"
     ]
    },
    {
     "name": "stderr",
     "output_type": "stream",
     "text": [
      "C:\\Users\\carth\\AppData\\Local\\Packages\\PythonSoftwareFoundation.Python.3.10_qbz5n2kfra8p0\\LocalCache\\local-packages\\Python310\\site-packages\\sklearn\\ensemble\\_forest.py:578: UserWarning: Some inputs do not have OOB scores. This probably means too few trees were used to compute any reliable OOB estimates.\n",
      "  warn(\n"
     ]
    },
    {
     "name": "stdout",
     "output_type": "stream",
     "text": [
      "13 RandomForestClassifier (max_features='sqrt')\n"
     ]
    },
    {
     "name": "stderr",
     "output_type": "stream",
     "text": [
      "C:\\Users\\carth\\AppData\\Local\\Packages\\PythonSoftwareFoundation.Python.3.10_qbz5n2kfra8p0\\LocalCache\\local-packages\\Python310\\site-packages\\sklearn\\ensemble\\_forest.py:578: UserWarning: Some inputs do not have OOB scores. This probably means too few trees were used to compute any reliable OOB estimates.\n",
      "  warn(\n"
     ]
    },
    {
     "name": "stdout",
     "output_type": "stream",
     "text": [
      "14 RandomForestClassifier (max_features='sqrt')\n"
     ]
    },
    {
     "name": "stderr",
     "output_type": "stream",
     "text": [
      "C:\\Users\\carth\\AppData\\Local\\Packages\\PythonSoftwareFoundation.Python.3.10_qbz5n2kfra8p0\\LocalCache\\local-packages\\Python310\\site-packages\\sklearn\\ensemble\\_forest.py:578: UserWarning: Some inputs do not have OOB scores. This probably means too few trees were used to compute any reliable OOB estimates.\n",
      "  warn(\n"
     ]
    },
    {
     "name": "stdout",
     "output_type": "stream",
     "text": [
      "15 RandomForestClassifier (max_features='sqrt')\n"
     ]
    },
    {
     "name": "stderr",
     "output_type": "stream",
     "text": [
      "C:\\Users\\carth\\AppData\\Local\\Packages\\PythonSoftwareFoundation.Python.3.10_qbz5n2kfra8p0\\LocalCache\\local-packages\\Python310\\site-packages\\sklearn\\ensemble\\_forest.py:578: UserWarning: Some inputs do not have OOB scores. This probably means too few trees were used to compute any reliable OOB estimates.\n",
      "  warn(\n"
     ]
    },
    {
     "name": "stdout",
     "output_type": "stream",
     "text": [
      "16 RandomForestClassifier (max_features='sqrt')\n"
     ]
    },
    {
     "name": "stderr",
     "output_type": "stream",
     "text": [
      "C:\\Users\\carth\\AppData\\Local\\Packages\\PythonSoftwareFoundation.Python.3.10_qbz5n2kfra8p0\\LocalCache\\local-packages\\Python310\\site-packages\\sklearn\\ensemble\\_forest.py:578: UserWarning: Some inputs do not have OOB scores. This probably means too few trees were used to compute any reliable OOB estimates.\n",
      "  warn(\n"
     ]
    },
    {
     "name": "stdout",
     "output_type": "stream",
     "text": [
      "17 RandomForestClassifier (max_features='sqrt')\n"
     ]
    },
    {
     "name": "stderr",
     "output_type": "stream",
     "text": [
      "C:\\Users\\carth\\AppData\\Local\\Packages\\PythonSoftwareFoundation.Python.3.10_qbz5n2kfra8p0\\LocalCache\\local-packages\\Python310\\site-packages\\sklearn\\ensemble\\_forest.py:578: UserWarning: Some inputs do not have OOB scores. This probably means too few trees were used to compute any reliable OOB estimates.\n",
      "  warn(\n"
     ]
    },
    {
     "name": "stdout",
     "output_type": "stream",
     "text": [
      "18 RandomForestClassifier (max_features='sqrt')\n"
     ]
    },
    {
     "name": "stderr",
     "output_type": "stream",
     "text": [
      "C:\\Users\\carth\\AppData\\Local\\Packages\\PythonSoftwareFoundation.Python.3.10_qbz5n2kfra8p0\\LocalCache\\local-packages\\Python310\\site-packages\\sklearn\\ensemble\\_forest.py:578: UserWarning: Some inputs do not have OOB scores. This probably means too few trees were used to compute any reliable OOB estimates.\n",
      "  warn(\n"
     ]
    },
    {
     "name": "stdout",
     "output_type": "stream",
     "text": [
      "19 RandomForestClassifier (max_features='sqrt')\n"
     ]
    },
    {
     "name": "stderr",
     "output_type": "stream",
     "text": [
      "C:\\Users\\carth\\AppData\\Local\\Packages\\PythonSoftwareFoundation.Python.3.10_qbz5n2kfra8p0\\LocalCache\\local-packages\\Python310\\site-packages\\sklearn\\ensemble\\_forest.py:578: UserWarning: Some inputs do not have OOB scores. This probably means too few trees were used to compute any reliable OOB estimates.\n",
      "  warn(\n"
     ]
    },
    {
     "name": "stdout",
     "output_type": "stream",
     "text": [
      "20 RandomForestClassifier (max_features='sqrt')\n"
     ]
    },
    {
     "name": "stderr",
     "output_type": "stream",
     "text": [
      "C:\\Users\\carth\\AppData\\Local\\Packages\\PythonSoftwareFoundation.Python.3.10_qbz5n2kfra8p0\\LocalCache\\local-packages\\Python310\\site-packages\\sklearn\\ensemble\\_forest.py:578: UserWarning: Some inputs do not have OOB scores. This probably means too few trees were used to compute any reliable OOB estimates.\n",
      "  warn(\n"
     ]
    },
    {
     "name": "stdout",
     "output_type": "stream",
     "text": [
      "21 RandomForestClassifier (max_features='sqrt')\n"
     ]
    },
    {
     "name": "stderr",
     "output_type": "stream",
     "text": [
      "C:\\Users\\carth\\AppData\\Local\\Packages\\PythonSoftwareFoundation.Python.3.10_qbz5n2kfra8p0\\LocalCache\\local-packages\\Python310\\site-packages\\sklearn\\ensemble\\_forest.py:578: UserWarning: Some inputs do not have OOB scores. This probably means too few trees were used to compute any reliable OOB estimates.\n",
      "  warn(\n"
     ]
    },
    {
     "name": "stdout",
     "output_type": "stream",
     "text": [
      "22 RandomForestClassifier (max_features='sqrt')\n"
     ]
    },
    {
     "name": "stderr",
     "output_type": "stream",
     "text": [
      "C:\\Users\\carth\\AppData\\Local\\Packages\\PythonSoftwareFoundation.Python.3.10_qbz5n2kfra8p0\\LocalCache\\local-packages\\Python310\\site-packages\\sklearn\\ensemble\\_forest.py:578: UserWarning: Some inputs do not have OOB scores. This probably means too few trees were used to compute any reliable OOB estimates.\n",
      "  warn(\n"
     ]
    },
    {
     "name": "stdout",
     "output_type": "stream",
     "text": [
      "23 RandomForestClassifier (max_features='sqrt')\n"
     ]
    },
    {
     "name": "stderr",
     "output_type": "stream",
     "text": [
      "C:\\Users\\carth\\AppData\\Local\\Packages\\PythonSoftwareFoundation.Python.3.10_qbz5n2kfra8p0\\LocalCache\\local-packages\\Python310\\site-packages\\sklearn\\ensemble\\_forest.py:578: UserWarning: Some inputs do not have OOB scores. This probably means too few trees were used to compute any reliable OOB estimates.\n",
      "  warn(\n"
     ]
    },
    {
     "name": "stdout",
     "output_type": "stream",
     "text": [
      "24 RandomForestClassifier (max_features='sqrt')\n"
     ]
    },
    {
     "name": "stderr",
     "output_type": "stream",
     "text": [
      "C:\\Users\\carth\\AppData\\Local\\Packages\\PythonSoftwareFoundation.Python.3.10_qbz5n2kfra8p0\\LocalCache\\local-packages\\Python310\\site-packages\\sklearn\\ensemble\\_forest.py:578: UserWarning: Some inputs do not have OOB scores. This probably means too few trees were used to compute any reliable OOB estimates.\n",
      "  warn(\n"
     ]
    },
    {
     "name": "stdout",
     "output_type": "stream",
     "text": [
      "25 RandomForestClassifier (max_features='sqrt')\n"
     ]
    },
    {
     "name": "stderr",
     "output_type": "stream",
     "text": [
      "C:\\Users\\carth\\AppData\\Local\\Packages\\PythonSoftwareFoundation.Python.3.10_qbz5n2kfra8p0\\LocalCache\\local-packages\\Python310\\site-packages\\sklearn\\ensemble\\_forest.py:578: UserWarning: Some inputs do not have OOB scores. This probably means too few trees were used to compute any reliable OOB estimates.\n",
      "  warn(\n"
     ]
    },
    {
     "name": "stdout",
     "output_type": "stream",
     "text": [
      "26 RandomForestClassifier (max_features='sqrt')\n"
     ]
    },
    {
     "name": "stderr",
     "output_type": "stream",
     "text": [
      "C:\\Users\\carth\\AppData\\Local\\Packages\\PythonSoftwareFoundation.Python.3.10_qbz5n2kfra8p0\\LocalCache\\local-packages\\Python310\\site-packages\\sklearn\\ensemble\\_forest.py:578: UserWarning: Some inputs do not have OOB scores. This probably means too few trees were used to compute any reliable OOB estimates.\n",
      "  warn(\n"
     ]
    },
    {
     "name": "stdout",
     "output_type": "stream",
     "text": [
      "27 RandomForestClassifier (max_features='sqrt')\n"
     ]
    },
    {
     "name": "stderr",
     "output_type": "stream",
     "text": [
      "C:\\Users\\carth\\AppData\\Local\\Packages\\PythonSoftwareFoundation.Python.3.10_qbz5n2kfra8p0\\LocalCache\\local-packages\\Python310\\site-packages\\sklearn\\ensemble\\_forest.py:578: UserWarning: Some inputs do not have OOB scores. This probably means too few trees were used to compute any reliable OOB estimates.\n",
      "  warn(\n"
     ]
    },
    {
     "name": "stdout",
     "output_type": "stream",
     "text": [
      "28 RandomForestClassifier (max_features='sqrt')\n"
     ]
    },
    {
     "name": "stderr",
     "output_type": "stream",
     "text": [
      "C:\\Users\\carth\\AppData\\Local\\Packages\\PythonSoftwareFoundation.Python.3.10_qbz5n2kfra8p0\\LocalCache\\local-packages\\Python310\\site-packages\\sklearn\\ensemble\\_forest.py:578: UserWarning: Some inputs do not have OOB scores. This probably means too few trees were used to compute any reliable OOB estimates.\n",
      "  warn(\n"
     ]
    },
    {
     "name": "stdout",
     "output_type": "stream",
     "text": [
      "29 RandomForestClassifier (max_features='sqrt')\n"
     ]
    },
    {
     "name": "stderr",
     "output_type": "stream",
     "text": [
      "C:\\Users\\carth\\AppData\\Local\\Packages\\PythonSoftwareFoundation.Python.3.10_qbz5n2kfra8p0\\LocalCache\\local-packages\\Python310\\site-packages\\sklearn\\ensemble\\_forest.py:578: UserWarning: Some inputs do not have OOB scores. This probably means too few trees were used to compute any reliable OOB estimates.\n",
      "  warn(\n"
     ]
    },
    {
     "name": "stdout",
     "output_type": "stream",
     "text": [
      "30 RandomForestClassifier (max_features='sqrt')\n"
     ]
    },
    {
     "name": "stderr",
     "output_type": "stream",
     "text": [
      "C:\\Users\\carth\\AppData\\Local\\Packages\\PythonSoftwareFoundation.Python.3.10_qbz5n2kfra8p0\\LocalCache\\local-packages\\Python310\\site-packages\\sklearn\\ensemble\\_forest.py:578: UserWarning: Some inputs do not have OOB scores. This probably means too few trees were used to compute any reliable OOB estimates.\n",
      "  warn(\n"
     ]
    },
    {
     "name": "stdout",
     "output_type": "stream",
     "text": [
      "31 RandomForestClassifier (max_features='sqrt')\n"
     ]
    },
    {
     "name": "stderr",
     "output_type": "stream",
     "text": [
      "C:\\Users\\carth\\AppData\\Local\\Packages\\PythonSoftwareFoundation.Python.3.10_qbz5n2kfra8p0\\LocalCache\\local-packages\\Python310\\site-packages\\sklearn\\ensemble\\_forest.py:578: UserWarning: Some inputs do not have OOB scores. This probably means too few trees were used to compute any reliable OOB estimates.\n",
      "  warn(\n"
     ]
    },
    {
     "name": "stdout",
     "output_type": "stream",
     "text": [
      "32 RandomForestClassifier (max_features='sqrt')\n",
      "33 RandomForestClassifier (max_features='sqrt')\n",
      "34 RandomForestClassifier (max_features='sqrt')\n",
      "35 RandomForestClassifier (max_features='sqrt')\n",
      "36 RandomForestClassifier (max_features='sqrt')\n",
      "37 RandomForestClassifier (max_features='sqrt')\n",
      "38 RandomForestClassifier (max_features='sqrt')\n",
      "39 RandomForestClassifier (max_features='sqrt')\n",
      "40 RandomForestClassifier (max_features='sqrt')\n",
      "41 RandomForestClassifier (max_features='sqrt')\n",
      "42 RandomForestClassifier (max_features='sqrt')\n",
      "43 RandomForestClassifier (max_features='sqrt')\n",
      "44 RandomForestClassifier (max_features='sqrt')\n",
      "45 RandomForestClassifier (max_features='sqrt')\n",
      "46 RandomForestClassifier (max_features='sqrt')\n",
      "47 RandomForestClassifier (max_features='sqrt')\n",
      "48 RandomForestClassifier (max_features='sqrt')\n",
      "49 RandomForestClassifier (max_features='sqrt')\n",
      "50 RandomForestClassifier (max_features='sqrt')\n",
      "51 RandomForestClassifier (max_features='sqrt')\n",
      "52 RandomForestClassifier (max_features='sqrt')\n",
      "53 RandomForestClassifier (max_features='sqrt')\n",
      "54 RandomForestClassifier (max_features='sqrt')\n",
      "55 RandomForestClassifier (max_features='sqrt')\n",
      "56 RandomForestClassifier (max_features='sqrt')\n",
      "57 RandomForestClassifier (max_features='sqrt')\n",
      "58 RandomForestClassifier (max_features='sqrt')\n",
      "59 RandomForestClassifier (max_features='sqrt')\n",
      "60 RandomForestClassifier (max_features='sqrt')\n",
      "61 RandomForestClassifier (max_features='sqrt')\n",
      "62 RandomForestClassifier (max_features='sqrt')\n",
      "63 RandomForestClassifier (max_features='sqrt')\n",
      "64 RandomForestClassifier (max_features='sqrt')\n",
      "65 RandomForestClassifier (max_features='sqrt')\n",
      "66 RandomForestClassifier (max_features='sqrt')\n",
      "67 RandomForestClassifier (max_features='sqrt')\n",
      "68 RandomForestClassifier (max_features='sqrt')\n",
      "69 RandomForestClassifier (max_features='sqrt')\n",
      "70 RandomForestClassifier (max_features='sqrt')\n",
      "71 RandomForestClassifier (max_features='sqrt')\n",
      "72 RandomForestClassifier (max_features='sqrt')\n",
      "73 RandomForestClassifier (max_features='sqrt')\n",
      "74 RandomForestClassifier (max_features='sqrt')\n",
      "75 RandomForestClassifier (max_features='sqrt')\n",
      "76 RandomForestClassifier (max_features='sqrt')\n",
      "77 RandomForestClassifier (max_features='sqrt')\n",
      "78 RandomForestClassifier (max_features='sqrt')\n",
      "79 RandomForestClassifier (max_features='sqrt')\n",
      "80 RandomForestClassifier (max_features='sqrt')\n",
      "81 RandomForestClassifier (max_features='sqrt')\n",
      "82 RandomForestClassifier (max_features='sqrt')\n",
      "83 RandomForestClassifier (max_features='sqrt')\n",
      "84 RandomForestClassifier (max_features='sqrt')\n",
      "85 RandomForestClassifier (max_features='sqrt')\n",
      "86 RandomForestClassifier (max_features='sqrt')\n",
      "87 RandomForestClassifier (max_features='sqrt')\n",
      "88 RandomForestClassifier (max_features='sqrt')\n",
      "89 RandomForestClassifier (max_features='sqrt')\n",
      "90 RandomForestClassifier (max_features='sqrt')\n",
      "91 RandomForestClassifier (max_features='sqrt')\n",
      "92 RandomForestClassifier (max_features='sqrt')\n",
      "93 RandomForestClassifier (max_features='sqrt')\n",
      "94 RandomForestClassifier (max_features='sqrt')\n",
      "95 RandomForestClassifier (max_features='sqrt')\n",
      "96 RandomForestClassifier (max_features='sqrt')\n",
      "97 RandomForestClassifier (max_features='sqrt')\n",
      "98 RandomForestClassifier (max_features='sqrt')\n",
      "99 RandomForestClassifier (max_features='sqrt')\n",
      "100 RandomForestClassifier (max_features='sqrt')\n",
      "101 RandomForestClassifier (max_features='sqrt')\n",
      "102 RandomForestClassifier (max_features='sqrt')\n",
      "103 RandomForestClassifier (max_features='sqrt')\n",
      "104 RandomForestClassifier (max_features='sqrt')\n",
      "105 RandomForestClassifier (max_features='sqrt')\n",
      "106 RandomForestClassifier (max_features='sqrt')\n",
      "107 RandomForestClassifier (max_features='sqrt')\n",
      "108 RandomForestClassifier (max_features='sqrt')\n",
      "109 RandomForestClassifier (max_features='sqrt')\n",
      "110 RandomForestClassifier (max_features='sqrt')\n",
      "111 RandomForestClassifier (max_features='sqrt')\n",
      "112 RandomForestClassifier (max_features='sqrt')\n",
      "113 RandomForestClassifier (max_features='sqrt')\n",
      "114 RandomForestClassifier (max_features='sqrt')\n",
      "115 RandomForestClassifier (max_features='sqrt')\n",
      "116 RandomForestClassifier (max_features='sqrt')\n",
      "117 RandomForestClassifier (max_features='sqrt')\n",
      "118 RandomForestClassifier (max_features='sqrt')\n",
      "119 RandomForestClassifier (max_features='sqrt')\n",
      "120 RandomForestClassifier (max_features='sqrt')\n",
      "121 RandomForestClassifier (max_features='sqrt')\n",
      "122 RandomForestClassifier (max_features='sqrt')\n",
      "123 RandomForestClassifier (max_features='sqrt')\n",
      "124 RandomForestClassifier (max_features='sqrt')\n",
      "125 RandomForestClassifier (max_features='sqrt')\n",
      "126 RandomForestClassifier (max_features='sqrt')\n",
      "127 RandomForestClassifier (max_features='sqrt')\n",
      "128 RandomForestClassifier (max_features='sqrt')\n",
      "129 RandomForestClassifier (max_features='sqrt')\n",
      "130 RandomForestClassifier (max_features='sqrt')\n",
      "131 RandomForestClassifier (max_features='sqrt')\n",
      "132 RandomForestClassifier (max_features='sqrt')\n",
      "133 RandomForestClassifier (max_features='sqrt')\n",
      "134 RandomForestClassifier (max_features='sqrt')\n",
      "135 RandomForestClassifier (max_features='sqrt')\n",
      "136 RandomForestClassifier (max_features='sqrt')\n",
      "137 RandomForestClassifier (max_features='sqrt')\n",
      "138 RandomForestClassifier (max_features='sqrt')\n",
      "139 RandomForestClassifier (max_features='sqrt')\n",
      "140 RandomForestClassifier (max_features='sqrt')\n",
      "141 RandomForestClassifier (max_features='sqrt')\n",
      "142 RandomForestClassifier (max_features='sqrt')\n",
      "143 RandomForestClassifier (max_features='sqrt')\n",
      "144 RandomForestClassifier (max_features='sqrt')\n",
      "145 RandomForestClassifier (max_features='sqrt')\n",
      "146 RandomForestClassifier (max_features='sqrt')\n",
      "147 RandomForestClassifier (max_features='sqrt')\n",
      "148 RandomForestClassifier (max_features='sqrt')\n",
      "149 RandomForestClassifier (max_features='sqrt')\n",
      "150 RandomForestClassifier (max_features='sqrt')\n",
      "151 RandomForestClassifier (max_features='sqrt')\n",
      "152 RandomForestClassifier (max_features='sqrt')\n",
      "153 RandomForestClassifier (max_features='sqrt')\n",
      "154 RandomForestClassifier (max_features='sqrt')\n",
      "155 RandomForestClassifier (max_features='sqrt')\n",
      "156 RandomForestClassifier (max_features='sqrt')\n",
      "157 RandomForestClassifier (max_features='sqrt')\n",
      "158 RandomForestClassifier (max_features='sqrt')\n",
      "159 RandomForestClassifier (max_features='sqrt')\n",
      "160 RandomForestClassifier (max_features='sqrt')\n",
      "161 RandomForestClassifier (max_features='sqrt')\n",
      "162 RandomForestClassifier (max_features='sqrt')\n",
      "163 RandomForestClassifier (max_features='sqrt')\n",
      "164 RandomForestClassifier (max_features='sqrt')\n",
      "165 RandomForestClassifier (max_features='sqrt')\n",
      "166 RandomForestClassifier (max_features='sqrt')\n",
      "167 RandomForestClassifier (max_features='sqrt')\n",
      "168 RandomForestClassifier (max_features='sqrt')\n",
      "169 RandomForestClassifier (max_features='sqrt')\n",
      "170 RandomForestClassifier (max_features='sqrt')\n",
      "171 RandomForestClassifier (max_features='sqrt')\n",
      "172 RandomForestClassifier (max_features='sqrt')\n",
      "173 RandomForestClassifier (max_features='sqrt')\n",
      "174 RandomForestClassifier (max_features='sqrt')\n",
      "175 RandomForestClassifier (max_features='sqrt')\n",
      "176 RandomForestClassifier (max_features='sqrt')\n",
      "177 RandomForestClassifier (max_features='sqrt')\n",
      "178 RandomForestClassifier (max_features='sqrt')\n",
      "179 RandomForestClassifier (max_features='sqrt')\n",
      "180 RandomForestClassifier (max_features='sqrt')\n",
      "181 RandomForestClassifier (max_features='sqrt')\n",
      "182 RandomForestClassifier (max_features='sqrt')\n",
      "183 RandomForestClassifier (max_features='sqrt')\n",
      "184 RandomForestClassifier (max_features='sqrt')\n",
      "185 RandomForestClassifier (max_features='sqrt')\n",
      "186 RandomForestClassifier (max_features='sqrt')\n",
      "187 RandomForestClassifier (max_features='sqrt')\n",
      "188 RandomForestClassifier (max_features='sqrt')\n",
      "189 RandomForestClassifier (max_features='sqrt')\n",
      "190 RandomForestClassifier (max_features='sqrt')\n",
      "191 RandomForestClassifier (max_features='sqrt')\n",
      "192 RandomForestClassifier (max_features='sqrt')\n",
      "193 RandomForestClassifier (max_features='sqrt')\n",
      "194 RandomForestClassifier (max_features='sqrt')\n",
      "195 RandomForestClassifier (max_features='sqrt')\n",
      "196 RandomForestClassifier (max_features='sqrt')\n",
      "197 RandomForestClassifier (max_features='sqrt')\n",
      "198 RandomForestClassifier (max_features='sqrt')\n",
      "199 RandomForestClassifier (max_features='sqrt')\n",
      "200 RandomForestClassifier (max_features='sqrt')\n",
      "201 RandomForestClassifier (max_features='sqrt')\n",
      "202 RandomForestClassifier (max_features='sqrt')\n",
      "203 RandomForestClassifier (max_features='sqrt')\n",
      "204 RandomForestClassifier (max_features='sqrt')\n",
      "205 RandomForestClassifier (max_features='sqrt')\n",
      "206 RandomForestClassifier (max_features='sqrt')\n",
      "207 RandomForestClassifier (max_features='sqrt')\n",
      "208 RandomForestClassifier (max_features='sqrt')\n",
      "209 RandomForestClassifier (max_features='sqrt')\n",
      "210 RandomForestClassifier (max_features='sqrt')\n",
      "211 RandomForestClassifier (max_features='sqrt')\n",
      "212 RandomForestClassifier (max_features='sqrt')\n",
      "213 RandomForestClassifier (max_features='sqrt')\n",
      "214 RandomForestClassifier (max_features='sqrt')\n",
      "215 RandomForestClassifier (max_features='sqrt')\n",
      "216 RandomForestClassifier (max_features='sqrt')\n",
      "217 RandomForestClassifier (max_features='sqrt')\n",
      "218 RandomForestClassifier (max_features='sqrt')\n",
      "219 RandomForestClassifier (max_features='sqrt')\n",
      "220 RandomForestClassifier (max_features='sqrt')\n",
      "221 RandomForestClassifier (max_features='sqrt')\n",
      "222 RandomForestClassifier (max_features='sqrt')\n",
      "223 RandomForestClassifier (max_features='sqrt')\n",
      "224 RandomForestClassifier (max_features='sqrt')\n",
      "225 RandomForestClassifier (max_features='sqrt')\n",
      "226 RandomForestClassifier (max_features='sqrt')\n",
      "227 RandomForestClassifier (max_features='sqrt')\n",
      "228 RandomForestClassifier (max_features='sqrt')\n",
      "229 RandomForestClassifier (max_features='sqrt')\n",
      "230 RandomForestClassifier (max_features='sqrt')\n",
      "231 RandomForestClassifier (max_features='sqrt')\n",
      "232 RandomForestClassifier (max_features='sqrt')\n",
      "233 RandomForestClassifier (max_features='sqrt')\n",
      "234 RandomForestClassifier (max_features='sqrt')\n",
      "235 RandomForestClassifier (max_features='sqrt')\n",
      "236 RandomForestClassifier (max_features='sqrt')\n",
      "237 RandomForestClassifier (max_features='sqrt')\n",
      "238 RandomForestClassifier (max_features='sqrt')\n",
      "239 RandomForestClassifier (max_features='sqrt')\n",
      "240 RandomForestClassifier (max_features='sqrt')\n",
      "241 RandomForestClassifier (max_features='sqrt')\n",
      "242 RandomForestClassifier (max_features='sqrt')\n",
      "243 RandomForestClassifier (max_features='sqrt')\n",
      "244 RandomForestClassifier (max_features='sqrt')\n",
      "245 RandomForestClassifier (max_features='sqrt')\n",
      "246 RandomForestClassifier (max_features='sqrt')\n",
      "247 RandomForestClassifier (max_features='sqrt')\n",
      "248 RandomForestClassifier (max_features='sqrt')\n",
      "249 RandomForestClassifier (max_features='sqrt')\n",
      "250 RandomForestClassifier (max_features='sqrt')\n",
      "251 RandomForestClassifier (max_features='sqrt')\n",
      "252 RandomForestClassifier (max_features='sqrt')\n",
      "253 RandomForestClassifier (max_features='sqrt')\n",
      "254 RandomForestClassifier (max_features='sqrt')\n",
      "255 RandomForestClassifier (max_features='sqrt')\n",
      "256 RandomForestClassifier (max_features='sqrt')\n",
      "257 RandomForestClassifier (max_features='sqrt')\n",
      "258 RandomForestClassifier (max_features='sqrt')\n",
      "259 RandomForestClassifier (max_features='sqrt')\n",
      "260 RandomForestClassifier (max_features='sqrt')\n",
      "261 RandomForestClassifier (max_features='sqrt')\n",
      "262 RandomForestClassifier (max_features='sqrt')\n",
      "263 RandomForestClassifier (max_features='sqrt')\n",
      "264 RandomForestClassifier (max_features='sqrt')\n",
      "265 RandomForestClassifier (max_features='sqrt')\n",
      "266 RandomForestClassifier (max_features='sqrt')\n",
      "267 RandomForestClassifier (max_features='sqrt')\n",
      "268 RandomForestClassifier (max_features='sqrt')\n",
      "269 RandomForestClassifier (max_features='sqrt')\n",
      "270 RandomForestClassifier (max_features='sqrt')\n",
      "271 RandomForestClassifier (max_features='sqrt')\n",
      "272 RandomForestClassifier (max_features='sqrt')\n",
      "273 RandomForestClassifier (max_features='sqrt')\n",
      "274 RandomForestClassifier (max_features='sqrt')\n",
      "275 RandomForestClassifier (max_features='sqrt')\n",
      "276 RandomForestClassifier (max_features='sqrt')\n",
      "277 RandomForestClassifier (max_features='sqrt')\n",
      "278 RandomForestClassifier (max_features='sqrt')\n",
      "279 RandomForestClassifier (max_features='sqrt')\n",
      "280 RandomForestClassifier (max_features='sqrt')\n",
      "281 RandomForestClassifier (max_features='sqrt')\n",
      "282 RandomForestClassifier (max_features='sqrt')\n",
      "283 RandomForestClassifier (max_features='sqrt')\n",
      "284 RandomForestClassifier (max_features='sqrt')\n",
      "285 RandomForestClassifier (max_features='sqrt')\n",
      "286 RandomForestClassifier (max_features='sqrt')\n",
      "287 RandomForestClassifier (max_features='sqrt')\n",
      "288 RandomForestClassifier (max_features='sqrt')\n",
      "289 RandomForestClassifier (max_features='sqrt')\n",
      "290 RandomForestClassifier (max_features='sqrt')\n",
      "291 RandomForestClassifier (max_features='sqrt')\n",
      "292 RandomForestClassifier (max_features='sqrt')\n",
      "293 RandomForestClassifier (max_features='sqrt')\n",
      "294 RandomForestClassifier (max_features='sqrt')\n",
      "295 RandomForestClassifier (max_features='sqrt')\n",
      "296 RandomForestClassifier (max_features='sqrt')\n",
      "297 RandomForestClassifier (max_features='sqrt')\n",
      "298 RandomForestClassifier (max_features='sqrt')\n",
      "299 RandomForestClassifier (max_features='sqrt')\n",
      "300 RandomForestClassifier (max_features='sqrt')\n",
      "301 RandomForestClassifier (max_features='sqrt')\n",
      "302 RandomForestClassifier (max_features='sqrt')\n",
      "303 RandomForestClassifier (max_features='sqrt')\n",
      "304 RandomForestClassifier (max_features='sqrt')\n",
      "305 RandomForestClassifier (max_features='sqrt')\n",
      "306 RandomForestClassifier (max_features='sqrt')\n",
      "307 RandomForestClassifier (max_features='sqrt')\n",
      "308 RandomForestClassifier (max_features='sqrt')\n",
      "309 RandomForestClassifier (max_features='sqrt')\n",
      "310 RandomForestClassifier (max_features='sqrt')\n",
      "311 RandomForestClassifier (max_features='sqrt')\n",
      "312 RandomForestClassifier (max_features='sqrt')\n",
      "313 RandomForestClassifier (max_features='sqrt')\n",
      "314 RandomForestClassifier (max_features='sqrt')\n",
      "315 RandomForestClassifier (max_features='sqrt')\n",
      "316 RandomForestClassifier (max_features='sqrt')\n",
      "317 RandomForestClassifier (max_features='sqrt')\n",
      "318 RandomForestClassifier (max_features='sqrt')\n",
      "319 RandomForestClassifier (max_features='sqrt')\n",
      "320 RandomForestClassifier (max_features='sqrt')\n",
      "321 RandomForestClassifier (max_features='sqrt')\n",
      "322 RandomForestClassifier (max_features='sqrt')\n",
      "323 RandomForestClassifier (max_features='sqrt')\n",
      "324 RandomForestClassifier (max_features='sqrt')\n",
      "325 RandomForestClassifier (max_features='sqrt')\n",
      "326 RandomForestClassifier (max_features='sqrt')\n",
      "327 RandomForestClassifier (max_features='sqrt')\n",
      "328 RandomForestClassifier (max_features='sqrt')\n",
      "329 RandomForestClassifier (max_features='sqrt')\n",
      "330 RandomForestClassifier (max_features='sqrt')\n",
      "331 RandomForestClassifier (max_features='sqrt')\n",
      "332 RandomForestClassifier (max_features='sqrt')\n",
      "333 RandomForestClassifier (max_features='sqrt')\n",
      "334 RandomForestClassifier (max_features='sqrt')\n",
      "335 RandomForestClassifier (max_features='sqrt')\n",
      "336 RandomForestClassifier (max_features='sqrt')\n",
      "337 RandomForestClassifier (max_features='sqrt')\n",
      "338 RandomForestClassifier (max_features='sqrt')\n",
      "339 RandomForestClassifier (max_features='sqrt')\n",
      "340 RandomForestClassifier (max_features='sqrt')\n",
      "341 RandomForestClassifier (max_features='sqrt')\n",
      "342 RandomForestClassifier (max_features='sqrt')\n",
      "343 RandomForestClassifier (max_features='sqrt')\n",
      "344 RandomForestClassifier (max_features='sqrt')\n",
      "345 RandomForestClassifier (max_features='sqrt')\n",
      "346 RandomForestClassifier (max_features='sqrt')\n",
      "347 RandomForestClassifier (max_features='sqrt')\n",
      "348 RandomForestClassifier (max_features='sqrt')\n",
      "349 RandomForestClassifier (max_features='sqrt')\n",
      "350 RandomForestClassifier (max_features='sqrt')\n",
      "351 RandomForestClassifier (max_features='sqrt')\n",
      "352 RandomForestClassifier (max_features='sqrt')\n",
      "353 RandomForestClassifier (max_features='sqrt')\n",
      "354 RandomForestClassifier (max_features='sqrt')\n",
      "355 RandomForestClassifier (max_features='sqrt')\n",
      "356 RandomForestClassifier (max_features='sqrt')\n",
      "357 RandomForestClassifier (max_features='sqrt')\n",
      "358 RandomForestClassifier (max_features='sqrt')\n",
      "359 RandomForestClassifier (max_features='sqrt')\n",
      "360 RandomForestClassifier (max_features='sqrt')\n",
      "361 RandomForestClassifier (max_features='sqrt')\n",
      "362 RandomForestClassifier (max_features='sqrt')\n",
      "363 RandomForestClassifier (max_features='sqrt')\n",
      "364 RandomForestClassifier (max_features='sqrt')\n",
      "365 RandomForestClassifier (max_features='sqrt')\n",
      "366 RandomForestClassifier (max_features='sqrt')\n",
      "367 RandomForestClassifier (max_features='sqrt')\n",
      "368 RandomForestClassifier (max_features='sqrt')\n",
      "369 RandomForestClassifier (max_features='sqrt')\n",
      "370 RandomForestClassifier (max_features='sqrt')\n",
      "371 RandomForestClassifier (max_features='sqrt')\n",
      "372 RandomForestClassifier (max_features='sqrt')\n",
      "373 RandomForestClassifier (max_features='sqrt')\n",
      "374 RandomForestClassifier (max_features='sqrt')\n",
      "375 RandomForestClassifier (max_features='sqrt')\n",
      "376 RandomForestClassifier (max_features='sqrt')\n",
      "377 RandomForestClassifier (max_features='sqrt')\n",
      "378 RandomForestClassifier (max_features='sqrt')\n",
      "379 RandomForestClassifier (max_features='sqrt')\n",
      "380 RandomForestClassifier (max_features='sqrt')\n",
      "381 RandomForestClassifier (max_features='sqrt')\n",
      "382 RandomForestClassifier (max_features='sqrt')\n",
      "383 RandomForestClassifier (max_features='sqrt')\n",
      "384 RandomForestClassifier (max_features='sqrt')\n",
      "385 RandomForestClassifier (max_features='sqrt')\n",
      "386 RandomForestClassifier (max_features='sqrt')\n",
      "387 RandomForestClassifier (max_features='sqrt')\n",
      "388 RandomForestClassifier (max_features='sqrt')\n",
      "389 RandomForestClassifier (max_features='sqrt')\n",
      "390 RandomForestClassifier (max_features='sqrt')\n",
      "391 RandomForestClassifier (max_features='sqrt')\n",
      "392 RandomForestClassifier (max_features='sqrt')\n",
      "393 RandomForestClassifier (max_features='sqrt')\n",
      "394 RandomForestClassifier (max_features='sqrt')\n",
      "395 RandomForestClassifier (max_features='sqrt')\n",
      "396 RandomForestClassifier (max_features='sqrt')\n",
      "397 RandomForestClassifier (max_features='sqrt')\n",
      "398 RandomForestClassifier (max_features='sqrt')\n",
      "399 RandomForestClassifier (max_features='sqrt')\n",
      "400 RandomForestClassifier (max_features='sqrt')\n"
     ]
    },
    {
     "name": "stderr",
     "output_type": "stream",
     "text": [
      "C:\\Users\\carth\\AppData\\Local\\Packages\\PythonSoftwareFoundation.Python.3.10_qbz5n2kfra8p0\\LocalCache\\local-packages\\Python310\\site-packages\\sklearn\\ensemble\\_forest.py:578: UserWarning: Some inputs do not have OOB scores. This probably means too few trees were used to compute any reliable OOB estimates.\n",
      "  warn(\n"
     ]
    },
    {
     "name": "stdout",
     "output_type": "stream",
     "text": [
      "1 ExtraTreesClassifier (max_features='auto')\n"
     ]
    },
    {
     "name": "stderr",
     "output_type": "stream",
     "text": [
      "C:\\Users\\carth\\AppData\\Local\\Packages\\PythonSoftwareFoundation.Python.3.10_qbz5n2kfra8p0\\LocalCache\\local-packages\\Python310\\site-packages\\sklearn\\ensemble\\_forest.py:578: UserWarning: Some inputs do not have OOB scores. This probably means too few trees were used to compute any reliable OOB estimates.\n",
      "  warn(\n"
     ]
    },
    {
     "name": "stdout",
     "output_type": "stream",
     "text": [
      "2 ExtraTreesClassifier (max_features='auto')\n"
     ]
    },
    {
     "name": "stderr",
     "output_type": "stream",
     "text": [
      "C:\\Users\\carth\\AppData\\Local\\Packages\\PythonSoftwareFoundation.Python.3.10_qbz5n2kfra8p0\\LocalCache\\local-packages\\Python310\\site-packages\\sklearn\\ensemble\\_forest.py:578: UserWarning: Some inputs do not have OOB scores. This probably means too few trees were used to compute any reliable OOB estimates.\n",
      "  warn(\n"
     ]
    },
    {
     "name": "stdout",
     "output_type": "stream",
     "text": [
      "3 ExtraTreesClassifier (max_features='auto')\n"
     ]
    },
    {
     "name": "stderr",
     "output_type": "stream",
     "text": [
      "C:\\Users\\carth\\AppData\\Local\\Packages\\PythonSoftwareFoundation.Python.3.10_qbz5n2kfra8p0\\LocalCache\\local-packages\\Python310\\site-packages\\sklearn\\ensemble\\_forest.py:578: UserWarning: Some inputs do not have OOB scores. This probably means too few trees were used to compute any reliable OOB estimates.\n",
      "  warn(\n"
     ]
    },
    {
     "name": "stdout",
     "output_type": "stream",
     "text": [
      "4 ExtraTreesClassifier (max_features='auto')\n"
     ]
    },
    {
     "name": "stderr",
     "output_type": "stream",
     "text": [
      "C:\\Users\\carth\\AppData\\Local\\Packages\\PythonSoftwareFoundation.Python.3.10_qbz5n2kfra8p0\\LocalCache\\local-packages\\Python310\\site-packages\\sklearn\\ensemble\\_forest.py:578: UserWarning: Some inputs do not have OOB scores. This probably means too few trees were used to compute any reliable OOB estimates.\n",
      "  warn(\n"
     ]
    },
    {
     "name": "stdout",
     "output_type": "stream",
     "text": [
      "5 ExtraTreesClassifier (max_features='auto')\n"
     ]
    },
    {
     "name": "stderr",
     "output_type": "stream",
     "text": [
      "C:\\Users\\carth\\AppData\\Local\\Packages\\PythonSoftwareFoundation.Python.3.10_qbz5n2kfra8p0\\LocalCache\\local-packages\\Python310\\site-packages\\sklearn\\ensemble\\_forest.py:578: UserWarning: Some inputs do not have OOB scores. This probably means too few trees were used to compute any reliable OOB estimates.\n",
      "  warn(\n"
     ]
    },
    {
     "name": "stdout",
     "output_type": "stream",
     "text": [
      "6 ExtraTreesClassifier (max_features='auto')\n"
     ]
    },
    {
     "name": "stderr",
     "output_type": "stream",
     "text": [
      "C:\\Users\\carth\\AppData\\Local\\Packages\\PythonSoftwareFoundation.Python.3.10_qbz5n2kfra8p0\\LocalCache\\local-packages\\Python310\\site-packages\\sklearn\\ensemble\\_forest.py:578: UserWarning: Some inputs do not have OOB scores. This probably means too few trees were used to compute any reliable OOB estimates.\n",
      "  warn(\n"
     ]
    },
    {
     "name": "stdout",
     "output_type": "stream",
     "text": [
      "7 ExtraTreesClassifier (max_features='auto')\n"
     ]
    },
    {
     "name": "stderr",
     "output_type": "stream",
     "text": [
      "C:\\Users\\carth\\AppData\\Local\\Packages\\PythonSoftwareFoundation.Python.3.10_qbz5n2kfra8p0\\LocalCache\\local-packages\\Python310\\site-packages\\sklearn\\ensemble\\_forest.py:578: UserWarning: Some inputs do not have OOB scores. This probably means too few trees were used to compute any reliable OOB estimates.\n",
      "  warn(\n"
     ]
    },
    {
     "name": "stdout",
     "output_type": "stream",
     "text": [
      "8 ExtraTreesClassifier (max_features='auto')\n"
     ]
    },
    {
     "name": "stderr",
     "output_type": "stream",
     "text": [
      "C:\\Users\\carth\\AppData\\Local\\Packages\\PythonSoftwareFoundation.Python.3.10_qbz5n2kfra8p0\\LocalCache\\local-packages\\Python310\\site-packages\\sklearn\\ensemble\\_forest.py:578: UserWarning: Some inputs do not have OOB scores. This probably means too few trees were used to compute any reliable OOB estimates.\n",
      "  warn(\n"
     ]
    },
    {
     "name": "stdout",
     "output_type": "stream",
     "text": [
      "9 ExtraTreesClassifier (max_features='auto')\n"
     ]
    },
    {
     "name": "stderr",
     "output_type": "stream",
     "text": [
      "C:\\Users\\carth\\AppData\\Local\\Packages\\PythonSoftwareFoundation.Python.3.10_qbz5n2kfra8p0\\LocalCache\\local-packages\\Python310\\site-packages\\sklearn\\ensemble\\_forest.py:578: UserWarning: Some inputs do not have OOB scores. This probably means too few trees were used to compute any reliable OOB estimates.\n",
      "  warn(\n"
     ]
    },
    {
     "name": "stdout",
     "output_type": "stream",
     "text": [
      "10 ExtraTreesClassifier (max_features='auto')\n"
     ]
    },
    {
     "name": "stderr",
     "output_type": "stream",
     "text": [
      "C:\\Users\\carth\\AppData\\Local\\Packages\\PythonSoftwareFoundation.Python.3.10_qbz5n2kfra8p0\\LocalCache\\local-packages\\Python310\\site-packages\\sklearn\\ensemble\\_forest.py:578: UserWarning: Some inputs do not have OOB scores. This probably means too few trees were used to compute any reliable OOB estimates.\n",
      "  warn(\n"
     ]
    },
    {
     "name": "stdout",
     "output_type": "stream",
     "text": [
      "11 ExtraTreesClassifier (max_features='auto')\n"
     ]
    },
    {
     "name": "stderr",
     "output_type": "stream",
     "text": [
      "C:\\Users\\carth\\AppData\\Local\\Packages\\PythonSoftwareFoundation.Python.3.10_qbz5n2kfra8p0\\LocalCache\\local-packages\\Python310\\site-packages\\sklearn\\ensemble\\_forest.py:578: UserWarning: Some inputs do not have OOB scores. This probably means too few trees were used to compute any reliable OOB estimates.\n",
      "  warn(\n"
     ]
    },
    {
     "name": "stdout",
     "output_type": "stream",
     "text": [
      "12 ExtraTreesClassifier (max_features='auto')\n"
     ]
    },
    {
     "name": "stderr",
     "output_type": "stream",
     "text": [
      "C:\\Users\\carth\\AppData\\Local\\Packages\\PythonSoftwareFoundation.Python.3.10_qbz5n2kfra8p0\\LocalCache\\local-packages\\Python310\\site-packages\\sklearn\\ensemble\\_forest.py:578: UserWarning: Some inputs do not have OOB scores. This probably means too few trees were used to compute any reliable OOB estimates.\n",
      "  warn(\n"
     ]
    },
    {
     "name": "stdout",
     "output_type": "stream",
     "text": [
      "13 ExtraTreesClassifier (max_features='auto')\n"
     ]
    },
    {
     "name": "stderr",
     "output_type": "stream",
     "text": [
      "C:\\Users\\carth\\AppData\\Local\\Packages\\PythonSoftwareFoundation.Python.3.10_qbz5n2kfra8p0\\LocalCache\\local-packages\\Python310\\site-packages\\sklearn\\ensemble\\_forest.py:578: UserWarning: Some inputs do not have OOB scores. This probably means too few trees were used to compute any reliable OOB estimates.\n",
      "  warn(\n"
     ]
    },
    {
     "name": "stdout",
     "output_type": "stream",
     "text": [
      "14 ExtraTreesClassifier (max_features='auto')\n"
     ]
    },
    {
     "name": "stderr",
     "output_type": "stream",
     "text": [
      "C:\\Users\\carth\\AppData\\Local\\Packages\\PythonSoftwareFoundation.Python.3.10_qbz5n2kfra8p0\\LocalCache\\local-packages\\Python310\\site-packages\\sklearn\\ensemble\\_forest.py:578: UserWarning: Some inputs do not have OOB scores. This probably means too few trees were used to compute any reliable OOB estimates.\n",
      "  warn(\n"
     ]
    },
    {
     "name": "stdout",
     "output_type": "stream",
     "text": [
      "15 ExtraTreesClassifier (max_features='auto')\n"
     ]
    },
    {
     "name": "stderr",
     "output_type": "stream",
     "text": [
      "C:\\Users\\carth\\AppData\\Local\\Packages\\PythonSoftwareFoundation.Python.3.10_qbz5n2kfra8p0\\LocalCache\\local-packages\\Python310\\site-packages\\sklearn\\ensemble\\_forest.py:578: UserWarning: Some inputs do not have OOB scores. This probably means too few trees were used to compute any reliable OOB estimates.\n",
      "  warn(\n"
     ]
    },
    {
     "name": "stdout",
     "output_type": "stream",
     "text": [
      "16 ExtraTreesClassifier (max_features='auto')\n"
     ]
    },
    {
     "name": "stderr",
     "output_type": "stream",
     "text": [
      "C:\\Users\\carth\\AppData\\Local\\Packages\\PythonSoftwareFoundation.Python.3.10_qbz5n2kfra8p0\\LocalCache\\local-packages\\Python310\\site-packages\\sklearn\\ensemble\\_forest.py:578: UserWarning: Some inputs do not have OOB scores. This probably means too few trees were used to compute any reliable OOB estimates.\n",
      "  warn(\n"
     ]
    },
    {
     "name": "stdout",
     "output_type": "stream",
     "text": [
      "17 ExtraTreesClassifier (max_features='auto')\n"
     ]
    },
    {
     "name": "stderr",
     "output_type": "stream",
     "text": [
      "C:\\Users\\carth\\AppData\\Local\\Packages\\PythonSoftwareFoundation.Python.3.10_qbz5n2kfra8p0\\LocalCache\\local-packages\\Python310\\site-packages\\sklearn\\ensemble\\_forest.py:578: UserWarning: Some inputs do not have OOB scores. This probably means too few trees were used to compute any reliable OOB estimates.\n",
      "  warn(\n"
     ]
    },
    {
     "name": "stdout",
     "output_type": "stream",
     "text": [
      "18 ExtraTreesClassifier (max_features='auto')\n"
     ]
    },
    {
     "name": "stderr",
     "output_type": "stream",
     "text": [
      "C:\\Users\\carth\\AppData\\Local\\Packages\\PythonSoftwareFoundation.Python.3.10_qbz5n2kfra8p0\\LocalCache\\local-packages\\Python310\\site-packages\\sklearn\\ensemble\\_forest.py:578: UserWarning: Some inputs do not have OOB scores. This probably means too few trees were used to compute any reliable OOB estimates.\n",
      "  warn(\n"
     ]
    },
    {
     "name": "stdout",
     "output_type": "stream",
     "text": [
      "19 ExtraTreesClassifier (max_features='auto')\n"
     ]
    },
    {
     "name": "stderr",
     "output_type": "stream",
     "text": [
      "C:\\Users\\carth\\AppData\\Local\\Packages\\PythonSoftwareFoundation.Python.3.10_qbz5n2kfra8p0\\LocalCache\\local-packages\\Python310\\site-packages\\sklearn\\ensemble\\_forest.py:578: UserWarning: Some inputs do not have OOB scores. This probably means too few trees were used to compute any reliable OOB estimates.\n",
      "  warn(\n"
     ]
    },
    {
     "name": "stdout",
     "output_type": "stream",
     "text": [
      "20 ExtraTreesClassifier (max_features='auto')\n"
     ]
    },
    {
     "name": "stderr",
     "output_type": "stream",
     "text": [
      "C:\\Users\\carth\\AppData\\Local\\Packages\\PythonSoftwareFoundation.Python.3.10_qbz5n2kfra8p0\\LocalCache\\local-packages\\Python310\\site-packages\\sklearn\\ensemble\\_forest.py:578: UserWarning: Some inputs do not have OOB scores. This probably means too few trees were used to compute any reliable OOB estimates.\n",
      "  warn(\n"
     ]
    },
    {
     "name": "stdout",
     "output_type": "stream",
     "text": [
      "21 ExtraTreesClassifier (max_features='auto')\n"
     ]
    },
    {
     "name": "stderr",
     "output_type": "stream",
     "text": [
      "C:\\Users\\carth\\AppData\\Local\\Packages\\PythonSoftwareFoundation.Python.3.10_qbz5n2kfra8p0\\LocalCache\\local-packages\\Python310\\site-packages\\sklearn\\ensemble\\_forest.py:578: UserWarning: Some inputs do not have OOB scores. This probably means too few trees were used to compute any reliable OOB estimates.\n",
      "  warn(\n"
     ]
    },
    {
     "name": "stdout",
     "output_type": "stream",
     "text": [
      "22 ExtraTreesClassifier (max_features='auto')\n"
     ]
    },
    {
     "name": "stderr",
     "output_type": "stream",
     "text": [
      "C:\\Users\\carth\\AppData\\Local\\Packages\\PythonSoftwareFoundation.Python.3.10_qbz5n2kfra8p0\\LocalCache\\local-packages\\Python310\\site-packages\\sklearn\\ensemble\\_forest.py:578: UserWarning: Some inputs do not have OOB scores. This probably means too few trees were used to compute any reliable OOB estimates.\n",
      "  warn(\n"
     ]
    },
    {
     "name": "stdout",
     "output_type": "stream",
     "text": [
      "23 ExtraTreesClassifier (max_features='auto')\n"
     ]
    },
    {
     "name": "stderr",
     "output_type": "stream",
     "text": [
      "C:\\Users\\carth\\AppData\\Local\\Packages\\PythonSoftwareFoundation.Python.3.10_qbz5n2kfra8p0\\LocalCache\\local-packages\\Python310\\site-packages\\sklearn\\ensemble\\_forest.py:578: UserWarning: Some inputs do not have OOB scores. This probably means too few trees were used to compute any reliable OOB estimates.\n",
      "  warn(\n"
     ]
    },
    {
     "name": "stdout",
     "output_type": "stream",
     "text": [
      "24 ExtraTreesClassifier (max_features='auto')\n"
     ]
    },
    {
     "name": "stderr",
     "output_type": "stream",
     "text": [
      "C:\\Users\\carth\\AppData\\Local\\Packages\\PythonSoftwareFoundation.Python.3.10_qbz5n2kfra8p0\\LocalCache\\local-packages\\Python310\\site-packages\\sklearn\\ensemble\\_forest.py:578: UserWarning: Some inputs do not have OOB scores. This probably means too few trees were used to compute any reliable OOB estimates.\n",
      "  warn(\n"
     ]
    },
    {
     "name": "stdout",
     "output_type": "stream",
     "text": [
      "25 ExtraTreesClassifier (max_features='auto')\n"
     ]
    },
    {
     "name": "stderr",
     "output_type": "stream",
     "text": [
      "C:\\Users\\carth\\AppData\\Local\\Packages\\PythonSoftwareFoundation.Python.3.10_qbz5n2kfra8p0\\LocalCache\\local-packages\\Python310\\site-packages\\sklearn\\ensemble\\_forest.py:578: UserWarning: Some inputs do not have OOB scores. This probably means too few trees were used to compute any reliable OOB estimates.\n",
      "  warn(\n"
     ]
    },
    {
     "name": "stdout",
     "output_type": "stream",
     "text": [
      "26 ExtraTreesClassifier (max_features='auto')\n"
     ]
    },
    {
     "name": "stderr",
     "output_type": "stream",
     "text": [
      "C:\\Users\\carth\\AppData\\Local\\Packages\\PythonSoftwareFoundation.Python.3.10_qbz5n2kfra8p0\\LocalCache\\local-packages\\Python310\\site-packages\\sklearn\\ensemble\\_forest.py:578: UserWarning: Some inputs do not have OOB scores. This probably means too few trees were used to compute any reliable OOB estimates.\n",
      "  warn(\n"
     ]
    },
    {
     "name": "stdout",
     "output_type": "stream",
     "text": [
      "27 ExtraTreesClassifier (max_features='auto')\n"
     ]
    },
    {
     "name": "stderr",
     "output_type": "stream",
     "text": [
      "C:\\Users\\carth\\AppData\\Local\\Packages\\PythonSoftwareFoundation.Python.3.10_qbz5n2kfra8p0\\LocalCache\\local-packages\\Python310\\site-packages\\sklearn\\ensemble\\_forest.py:578: UserWarning: Some inputs do not have OOB scores. This probably means too few trees were used to compute any reliable OOB estimates.\n",
      "  warn(\n"
     ]
    },
    {
     "name": "stdout",
     "output_type": "stream",
     "text": [
      "28 ExtraTreesClassifier (max_features='auto')\n"
     ]
    },
    {
     "name": "stderr",
     "output_type": "stream",
     "text": [
      "C:\\Users\\carth\\AppData\\Local\\Packages\\PythonSoftwareFoundation.Python.3.10_qbz5n2kfra8p0\\LocalCache\\local-packages\\Python310\\site-packages\\sklearn\\ensemble\\_forest.py:578: UserWarning: Some inputs do not have OOB scores. This probably means too few trees were used to compute any reliable OOB estimates.\n",
      "  warn(\n"
     ]
    },
    {
     "name": "stdout",
     "output_type": "stream",
     "text": [
      "29 ExtraTreesClassifier (max_features='auto')\n"
     ]
    },
    {
     "name": "stderr",
     "output_type": "stream",
     "text": [
      "C:\\Users\\carth\\AppData\\Local\\Packages\\PythonSoftwareFoundation.Python.3.10_qbz5n2kfra8p0\\LocalCache\\local-packages\\Python310\\site-packages\\sklearn\\ensemble\\_forest.py:578: UserWarning: Some inputs do not have OOB scores. This probably means too few trees were used to compute any reliable OOB estimates.\n",
      "  warn(\n"
     ]
    },
    {
     "name": "stdout",
     "output_type": "stream",
     "text": [
      "30 ExtraTreesClassifier (max_features='auto')\n"
     ]
    },
    {
     "name": "stderr",
     "output_type": "stream",
     "text": [
      "C:\\Users\\carth\\AppData\\Local\\Packages\\PythonSoftwareFoundation.Python.3.10_qbz5n2kfra8p0\\LocalCache\\local-packages\\Python310\\site-packages\\sklearn\\ensemble\\_forest.py:578: UserWarning: Some inputs do not have OOB scores. This probably means too few trees were used to compute any reliable OOB estimates.\n",
      "  warn(\n"
     ]
    },
    {
     "name": "stdout",
     "output_type": "stream",
     "text": [
      "31 ExtraTreesClassifier (max_features='auto')\n"
     ]
    },
    {
     "name": "stderr",
     "output_type": "stream",
     "text": [
      "C:\\Users\\carth\\AppData\\Local\\Packages\\PythonSoftwareFoundation.Python.3.10_qbz5n2kfra8p0\\LocalCache\\local-packages\\Python310\\site-packages\\sklearn\\ensemble\\_forest.py:578: UserWarning: Some inputs do not have OOB scores. This probably means too few trees were used to compute any reliable OOB estimates.\n",
      "  warn(\n"
     ]
    },
    {
     "name": "stdout",
     "output_type": "stream",
     "text": [
      "32 ExtraTreesClassifier (max_features='auto')\n",
      "33 ExtraTreesClassifier (max_features='auto')\n",
      "34 ExtraTreesClassifier (max_features='auto')\n",
      "35 ExtraTreesClassifier (max_features='auto')\n",
      "36 ExtraTreesClassifier (max_features='auto')\n",
      "37 ExtraTreesClassifier (max_features='auto')\n",
      "38 ExtraTreesClassifier (max_features='auto')\n",
      "39 ExtraTreesClassifier (max_features='auto')\n",
      "40 ExtraTreesClassifier (max_features='auto')\n",
      "41 ExtraTreesClassifier (max_features='auto')\n",
      "42 ExtraTreesClassifier (max_features='auto')\n",
      "43 ExtraTreesClassifier (max_features='auto')\n",
      "44 ExtraTreesClassifier (max_features='auto')\n",
      "45 ExtraTreesClassifier (max_features='auto')\n",
      "46 ExtraTreesClassifier (max_features='auto')\n",
      "47 ExtraTreesClassifier (max_features='auto')\n",
      "48 ExtraTreesClassifier (max_features='auto')\n",
      "49 ExtraTreesClassifier (max_features='auto')\n",
      "50 ExtraTreesClassifier (max_features='auto')\n",
      "51 ExtraTreesClassifier (max_features='auto')\n",
      "52 ExtraTreesClassifier (max_features='auto')\n",
      "53 ExtraTreesClassifier (max_features='auto')\n",
      "54 ExtraTreesClassifier (max_features='auto')\n",
      "55 ExtraTreesClassifier (max_features='auto')\n",
      "56 ExtraTreesClassifier (max_features='auto')\n",
      "57 ExtraTreesClassifier (max_features='auto')\n",
      "58 ExtraTreesClassifier (max_features='auto')\n",
      "59 ExtraTreesClassifier (max_features='auto')\n",
      "60 ExtraTreesClassifier (max_features='auto')\n",
      "61 ExtraTreesClassifier (max_features='auto')\n",
      "62 ExtraTreesClassifier (max_features='auto')\n",
      "63 ExtraTreesClassifier (max_features='auto')\n",
      "64 ExtraTreesClassifier (max_features='auto')\n",
      "65 ExtraTreesClassifier (max_features='auto')\n",
      "66 ExtraTreesClassifier (max_features='auto')\n",
      "67 ExtraTreesClassifier (max_features='auto')\n",
      "68 ExtraTreesClassifier (max_features='auto')\n",
      "69 ExtraTreesClassifier (max_features='auto')\n",
      "70 ExtraTreesClassifier (max_features='auto')\n",
      "71 ExtraTreesClassifier (max_features='auto')\n",
      "72 ExtraTreesClassifier (max_features='auto')\n",
      "73 ExtraTreesClassifier (max_features='auto')\n",
      "74 ExtraTreesClassifier (max_features='auto')\n",
      "75 ExtraTreesClassifier (max_features='auto')\n",
      "76 ExtraTreesClassifier (max_features='auto')\n",
      "77 ExtraTreesClassifier (max_features='auto')\n",
      "78 ExtraTreesClassifier (max_features='auto')\n",
      "79 ExtraTreesClassifier (max_features='auto')\n",
      "80 ExtraTreesClassifier (max_features='auto')\n",
      "81 ExtraTreesClassifier (max_features='auto')\n",
      "82 ExtraTreesClassifier (max_features='auto')\n",
      "83 ExtraTreesClassifier (max_features='auto')\n",
      "84 ExtraTreesClassifier (max_features='auto')\n",
      "85 ExtraTreesClassifier (max_features='auto')\n",
      "86 ExtraTreesClassifier (max_features='auto')\n",
      "87 ExtraTreesClassifier (max_features='auto')\n",
      "88 ExtraTreesClassifier (max_features='auto')\n",
      "89 ExtraTreesClassifier (max_features='auto')\n",
      "90 ExtraTreesClassifier (max_features='auto')\n",
      "91 ExtraTreesClassifier (max_features='auto')\n",
      "92 ExtraTreesClassifier (max_features='auto')\n",
      "93 ExtraTreesClassifier (max_features='auto')\n",
      "94 ExtraTreesClassifier (max_features='auto')\n",
      "95 ExtraTreesClassifier (max_features='auto')\n",
      "96 ExtraTreesClassifier (max_features='auto')\n",
      "97 ExtraTreesClassifier (max_features='auto')\n",
      "98 ExtraTreesClassifier (max_features='auto')\n",
      "99 ExtraTreesClassifier (max_features='auto')\n",
      "100 ExtraTreesClassifier (max_features='auto')\n",
      "101 ExtraTreesClassifier (max_features='auto')\n",
      "102 ExtraTreesClassifier (max_features='auto')\n",
      "103 ExtraTreesClassifier (max_features='auto')\n",
      "104 ExtraTreesClassifier (max_features='auto')\n",
      "105 ExtraTreesClassifier (max_features='auto')\n",
      "106 ExtraTreesClassifier (max_features='auto')\n",
      "107 ExtraTreesClassifier (max_features='auto')\n",
      "108 ExtraTreesClassifier (max_features='auto')\n",
      "109 ExtraTreesClassifier (max_features='auto')\n",
      "110 ExtraTreesClassifier (max_features='auto')\n",
      "111 ExtraTreesClassifier (max_features='auto')\n",
      "112 ExtraTreesClassifier (max_features='auto')\n",
      "113 ExtraTreesClassifier (max_features='auto')\n",
      "114 ExtraTreesClassifier (max_features='auto')\n",
      "115 ExtraTreesClassifier (max_features='auto')\n",
      "116 ExtraTreesClassifier (max_features='auto')\n",
      "117 ExtraTreesClassifier (max_features='auto')\n",
      "118 ExtraTreesClassifier (max_features='auto')\n",
      "119 ExtraTreesClassifier (max_features='auto')\n",
      "120 ExtraTreesClassifier (max_features='auto')\n",
      "121 ExtraTreesClassifier (max_features='auto')\n",
      "122 ExtraTreesClassifier (max_features='auto')\n",
      "123 ExtraTreesClassifier (max_features='auto')\n",
      "124 ExtraTreesClassifier (max_features='auto')\n",
      "125 ExtraTreesClassifier (max_features='auto')\n",
      "126 ExtraTreesClassifier (max_features='auto')\n",
      "127 ExtraTreesClassifier (max_features='auto')\n",
      "128 ExtraTreesClassifier (max_features='auto')\n",
      "129 ExtraTreesClassifier (max_features='auto')\n",
      "130 ExtraTreesClassifier (max_features='auto')\n",
      "131 ExtraTreesClassifier (max_features='auto')\n",
      "132 ExtraTreesClassifier (max_features='auto')\n",
      "133 ExtraTreesClassifier (max_features='auto')\n",
      "134 ExtraTreesClassifier (max_features='auto')\n",
      "135 ExtraTreesClassifier (max_features='auto')\n",
      "136 ExtraTreesClassifier (max_features='auto')\n",
      "137 ExtraTreesClassifier (max_features='auto')\n",
      "138 ExtraTreesClassifier (max_features='auto')\n",
      "139 ExtraTreesClassifier (max_features='auto')\n",
      "140 ExtraTreesClassifier (max_features='auto')\n",
      "141 ExtraTreesClassifier (max_features='auto')\n",
      "142 ExtraTreesClassifier (max_features='auto')\n",
      "143 ExtraTreesClassifier (max_features='auto')\n",
      "144 ExtraTreesClassifier (max_features='auto')\n",
      "145 ExtraTreesClassifier (max_features='auto')\n",
      "146 ExtraTreesClassifier (max_features='auto')\n",
      "147 ExtraTreesClassifier (max_features='auto')\n",
      "148 ExtraTreesClassifier (max_features='auto')\n",
      "149 ExtraTreesClassifier (max_features='auto')\n",
      "150 ExtraTreesClassifier (max_features='auto')\n",
      "151 ExtraTreesClassifier (max_features='auto')\n",
      "152 ExtraTreesClassifier (max_features='auto')\n",
      "153 ExtraTreesClassifier (max_features='auto')\n",
      "154 ExtraTreesClassifier (max_features='auto')\n",
      "155 ExtraTreesClassifier (max_features='auto')\n",
      "156 ExtraTreesClassifier (max_features='auto')\n",
      "157 ExtraTreesClassifier (max_features='auto')\n",
      "158 ExtraTreesClassifier (max_features='auto')\n",
      "159 ExtraTreesClassifier (max_features='auto')\n",
      "160 ExtraTreesClassifier (max_features='auto')\n",
      "161 ExtraTreesClassifier (max_features='auto')\n",
      "162 ExtraTreesClassifier (max_features='auto')\n",
      "163 ExtraTreesClassifier (max_features='auto')\n",
      "164 ExtraTreesClassifier (max_features='auto')\n",
      "165 ExtraTreesClassifier (max_features='auto')\n",
      "166 ExtraTreesClassifier (max_features='auto')\n",
      "167 ExtraTreesClassifier (max_features='auto')\n",
      "168 ExtraTreesClassifier (max_features='auto')\n",
      "169 ExtraTreesClassifier (max_features='auto')\n",
      "170 ExtraTreesClassifier (max_features='auto')\n",
      "171 ExtraTreesClassifier (max_features='auto')\n",
      "172 ExtraTreesClassifier (max_features='auto')\n",
      "173 ExtraTreesClassifier (max_features='auto')\n",
      "174 ExtraTreesClassifier (max_features='auto')\n",
      "175 ExtraTreesClassifier (max_features='auto')\n",
      "176 ExtraTreesClassifier (max_features='auto')\n",
      "177 ExtraTreesClassifier (max_features='auto')\n",
      "178 ExtraTreesClassifier (max_features='auto')\n",
      "179 ExtraTreesClassifier (max_features='auto')\n",
      "180 ExtraTreesClassifier (max_features='auto')\n",
      "181 ExtraTreesClassifier (max_features='auto')\n",
      "182 ExtraTreesClassifier (max_features='auto')\n",
      "183 ExtraTreesClassifier (max_features='auto')\n",
      "184 ExtraTreesClassifier (max_features='auto')\n",
      "185 ExtraTreesClassifier (max_features='auto')\n",
      "186 ExtraTreesClassifier (max_features='auto')\n",
      "187 ExtraTreesClassifier (max_features='auto')\n",
      "188 ExtraTreesClassifier (max_features='auto')\n",
      "189 ExtraTreesClassifier (max_features='auto')\n",
      "190 ExtraTreesClassifier (max_features='auto')\n",
      "191 ExtraTreesClassifier (max_features='auto')\n",
      "192 ExtraTreesClassifier (max_features='auto')\n",
      "193 ExtraTreesClassifier (max_features='auto')\n",
      "194 ExtraTreesClassifier (max_features='auto')\n",
      "195 ExtraTreesClassifier (max_features='auto')\n",
      "196 ExtraTreesClassifier (max_features='auto')\n",
      "197 ExtraTreesClassifier (max_features='auto')\n",
      "198 ExtraTreesClassifier (max_features='auto')\n",
      "199 ExtraTreesClassifier (max_features='auto')\n",
      "200 ExtraTreesClassifier (max_features='auto')\n",
      "201 ExtraTreesClassifier (max_features='auto')\n",
      "202 ExtraTreesClassifier (max_features='auto')\n",
      "203 ExtraTreesClassifier (max_features='auto')\n",
      "204 ExtraTreesClassifier (max_features='auto')\n",
      "205 ExtraTreesClassifier (max_features='auto')\n",
      "206 ExtraTreesClassifier (max_features='auto')\n",
      "207 ExtraTreesClassifier (max_features='auto')\n",
      "208 ExtraTreesClassifier (max_features='auto')\n",
      "209 ExtraTreesClassifier (max_features='auto')\n",
      "210 ExtraTreesClassifier (max_features='auto')\n",
      "211 ExtraTreesClassifier (max_features='auto')\n",
      "212 ExtraTreesClassifier (max_features='auto')\n",
      "213 ExtraTreesClassifier (max_features='auto')\n",
      "214 ExtraTreesClassifier (max_features='auto')\n",
      "215 ExtraTreesClassifier (max_features='auto')\n",
      "216 ExtraTreesClassifier (max_features='auto')\n",
      "217 ExtraTreesClassifier (max_features='auto')\n",
      "218 ExtraTreesClassifier (max_features='auto')\n",
      "219 ExtraTreesClassifier (max_features='auto')\n",
      "220 ExtraTreesClassifier (max_features='auto')\n",
      "221 ExtraTreesClassifier (max_features='auto')\n",
      "222 ExtraTreesClassifier (max_features='auto')\n",
      "223 ExtraTreesClassifier (max_features='auto')\n",
      "224 ExtraTreesClassifier (max_features='auto')\n",
      "225 ExtraTreesClassifier (max_features='auto')\n",
      "226 ExtraTreesClassifier (max_features='auto')\n",
      "227 ExtraTreesClassifier (max_features='auto')\n",
      "228 ExtraTreesClassifier (max_features='auto')\n",
      "229 ExtraTreesClassifier (max_features='auto')\n",
      "230 ExtraTreesClassifier (max_features='auto')\n",
      "231 ExtraTreesClassifier (max_features='auto')\n",
      "232 ExtraTreesClassifier (max_features='auto')\n",
      "233 ExtraTreesClassifier (max_features='auto')\n",
      "234 ExtraTreesClassifier (max_features='auto')\n",
      "235 ExtraTreesClassifier (max_features='auto')\n",
      "236 ExtraTreesClassifier (max_features='auto')\n",
      "237 ExtraTreesClassifier (max_features='auto')\n",
      "238 ExtraTreesClassifier (max_features='auto')\n",
      "239 ExtraTreesClassifier (max_features='auto')\n",
      "240 ExtraTreesClassifier (max_features='auto')\n",
      "241 ExtraTreesClassifier (max_features='auto')\n",
      "242 ExtraTreesClassifier (max_features='auto')\n",
      "243 ExtraTreesClassifier (max_features='auto')\n",
      "244 ExtraTreesClassifier (max_features='auto')\n",
      "245 ExtraTreesClassifier (max_features='auto')\n",
      "246 ExtraTreesClassifier (max_features='auto')\n",
      "247 ExtraTreesClassifier (max_features='auto')\n",
      "248 ExtraTreesClassifier (max_features='auto')\n",
      "249 ExtraTreesClassifier (max_features='auto')\n",
      "250 ExtraTreesClassifier (max_features='auto')\n",
      "251 ExtraTreesClassifier (max_features='auto')\n",
      "252 ExtraTreesClassifier (max_features='auto')\n",
      "253 ExtraTreesClassifier (max_features='auto')\n",
      "254 ExtraTreesClassifier (max_features='auto')\n",
      "255 ExtraTreesClassifier (max_features='auto')\n",
      "256 ExtraTreesClassifier (max_features='auto')\n",
      "257 ExtraTreesClassifier (max_features='auto')\n",
      "258 ExtraTreesClassifier (max_features='auto')\n",
      "259 ExtraTreesClassifier (max_features='auto')\n",
      "260 ExtraTreesClassifier (max_features='auto')\n",
      "261 ExtraTreesClassifier (max_features='auto')\n",
      "262 ExtraTreesClassifier (max_features='auto')\n",
      "263 ExtraTreesClassifier (max_features='auto')\n",
      "264 ExtraTreesClassifier (max_features='auto')\n",
      "265 ExtraTreesClassifier (max_features='auto')\n",
      "266 ExtraTreesClassifier (max_features='auto')\n",
      "267 ExtraTreesClassifier (max_features='auto')\n",
      "268 ExtraTreesClassifier (max_features='auto')\n",
      "269 ExtraTreesClassifier (max_features='auto')\n",
      "270 ExtraTreesClassifier (max_features='auto')\n",
      "271 ExtraTreesClassifier (max_features='auto')\n",
      "272 ExtraTreesClassifier (max_features='auto')\n",
      "273 ExtraTreesClassifier (max_features='auto')\n",
      "274 ExtraTreesClassifier (max_features='auto')\n",
      "275 ExtraTreesClassifier (max_features='auto')\n",
      "276 ExtraTreesClassifier (max_features='auto')\n",
      "277 ExtraTreesClassifier (max_features='auto')\n",
      "278 ExtraTreesClassifier (max_features='auto')\n",
      "279 ExtraTreesClassifier (max_features='auto')\n",
      "280 ExtraTreesClassifier (max_features='auto')\n",
      "281 ExtraTreesClassifier (max_features='auto')\n",
      "282 ExtraTreesClassifier (max_features='auto')\n",
      "283 ExtraTreesClassifier (max_features='auto')\n",
      "284 ExtraTreesClassifier (max_features='auto')\n",
      "285 ExtraTreesClassifier (max_features='auto')\n",
      "286 ExtraTreesClassifier (max_features='auto')\n",
      "287 ExtraTreesClassifier (max_features='auto')\n",
      "288 ExtraTreesClassifier (max_features='auto')\n",
      "289 ExtraTreesClassifier (max_features='auto')\n",
      "290 ExtraTreesClassifier (max_features='auto')\n",
      "291 ExtraTreesClassifier (max_features='auto')\n",
      "292 ExtraTreesClassifier (max_features='auto')\n",
      "293 ExtraTreesClassifier (max_features='auto')\n",
      "294 ExtraTreesClassifier (max_features='auto')\n",
      "295 ExtraTreesClassifier (max_features='auto')\n",
      "296 ExtraTreesClassifier (max_features='auto')\n",
      "297 ExtraTreesClassifier (max_features='auto')\n",
      "298 ExtraTreesClassifier (max_features='auto')\n",
      "299 ExtraTreesClassifier (max_features='auto')\n",
      "300 ExtraTreesClassifier (max_features='auto')\n",
      "301 ExtraTreesClassifier (max_features='auto')\n",
      "302 ExtraTreesClassifier (max_features='auto')\n",
      "303 ExtraTreesClassifier (max_features='auto')\n",
      "304 ExtraTreesClassifier (max_features='auto')\n",
      "305 ExtraTreesClassifier (max_features='auto')\n",
      "306 ExtraTreesClassifier (max_features='auto')\n",
      "307 ExtraTreesClassifier (max_features='auto')\n",
      "308 ExtraTreesClassifier (max_features='auto')\n",
      "309 ExtraTreesClassifier (max_features='auto')\n",
      "310 ExtraTreesClassifier (max_features='auto')\n",
      "311 ExtraTreesClassifier (max_features='auto')\n",
      "312 ExtraTreesClassifier (max_features='auto')\n",
      "313 ExtraTreesClassifier (max_features='auto')\n",
      "314 ExtraTreesClassifier (max_features='auto')\n",
      "315 ExtraTreesClassifier (max_features='auto')\n",
      "316 ExtraTreesClassifier (max_features='auto')\n",
      "317 ExtraTreesClassifier (max_features='auto')\n",
      "318 ExtraTreesClassifier (max_features='auto')\n",
      "319 ExtraTreesClassifier (max_features='auto')\n",
      "320 ExtraTreesClassifier (max_features='auto')\n",
      "321 ExtraTreesClassifier (max_features='auto')\n",
      "322 ExtraTreesClassifier (max_features='auto')\n",
      "323 ExtraTreesClassifier (max_features='auto')\n",
      "324 ExtraTreesClassifier (max_features='auto')\n",
      "325 ExtraTreesClassifier (max_features='auto')\n",
      "326 ExtraTreesClassifier (max_features='auto')\n",
      "327 ExtraTreesClassifier (max_features='auto')\n",
      "328 ExtraTreesClassifier (max_features='auto')\n",
      "329 ExtraTreesClassifier (max_features='auto')\n",
      "330 ExtraTreesClassifier (max_features='auto')\n",
      "331 ExtraTreesClassifier (max_features='auto')\n",
      "332 ExtraTreesClassifier (max_features='auto')\n",
      "333 ExtraTreesClassifier (max_features='auto')\n",
      "334 ExtraTreesClassifier (max_features='auto')\n",
      "335 ExtraTreesClassifier (max_features='auto')\n",
      "336 ExtraTreesClassifier (max_features='auto')\n",
      "337 ExtraTreesClassifier (max_features='auto')\n",
      "338 ExtraTreesClassifier (max_features='auto')\n",
      "339 ExtraTreesClassifier (max_features='auto')\n",
      "340 ExtraTreesClassifier (max_features='auto')\n",
      "341 ExtraTreesClassifier (max_features='auto')\n",
      "342 ExtraTreesClassifier (max_features='auto')\n",
      "343 ExtraTreesClassifier (max_features='auto')\n",
      "344 ExtraTreesClassifier (max_features='auto')\n",
      "345 ExtraTreesClassifier (max_features='auto')\n",
      "346 ExtraTreesClassifier (max_features='auto')\n",
      "347 ExtraTreesClassifier (max_features='auto')\n",
      "348 ExtraTreesClassifier (max_features='auto')\n",
      "349 ExtraTreesClassifier (max_features='auto')\n",
      "350 ExtraTreesClassifier (max_features='auto')\n",
      "351 ExtraTreesClassifier (max_features='auto')\n",
      "352 ExtraTreesClassifier (max_features='auto')\n",
      "353 ExtraTreesClassifier (max_features='auto')\n",
      "354 ExtraTreesClassifier (max_features='auto')\n",
      "355 ExtraTreesClassifier (max_features='auto')\n",
      "356 ExtraTreesClassifier (max_features='auto')\n",
      "357 ExtraTreesClassifier (max_features='auto')\n",
      "358 ExtraTreesClassifier (max_features='auto')\n",
      "359 ExtraTreesClassifier (max_features='auto')\n",
      "360 ExtraTreesClassifier (max_features='auto')\n",
      "361 ExtraTreesClassifier (max_features='auto')\n",
      "362 ExtraTreesClassifier (max_features='auto')\n",
      "363 ExtraTreesClassifier (max_features='auto')\n",
      "364 ExtraTreesClassifier (max_features='auto')\n",
      "365 ExtraTreesClassifier (max_features='auto')\n",
      "366 ExtraTreesClassifier (max_features='auto')\n",
      "367 ExtraTreesClassifier (max_features='auto')\n",
      "368 ExtraTreesClassifier (max_features='auto')\n",
      "369 ExtraTreesClassifier (max_features='auto')\n",
      "370 ExtraTreesClassifier (max_features='auto')\n",
      "371 ExtraTreesClassifier (max_features='auto')\n",
      "372 ExtraTreesClassifier (max_features='auto')\n",
      "373 ExtraTreesClassifier (max_features='auto')\n",
      "374 ExtraTreesClassifier (max_features='auto')\n",
      "375 ExtraTreesClassifier (max_features='auto')\n",
      "376 ExtraTreesClassifier (max_features='auto')\n",
      "377 ExtraTreesClassifier (max_features='auto')\n",
      "378 ExtraTreesClassifier (max_features='auto')\n",
      "379 ExtraTreesClassifier (max_features='auto')\n",
      "380 ExtraTreesClassifier (max_features='auto')\n",
      "381 ExtraTreesClassifier (max_features='auto')\n",
      "382 ExtraTreesClassifier (max_features='auto')\n",
      "383 ExtraTreesClassifier (max_features='auto')\n",
      "384 ExtraTreesClassifier (max_features='auto')\n",
      "385 ExtraTreesClassifier (max_features='auto')\n",
      "386 ExtraTreesClassifier (max_features='auto')\n",
      "387 ExtraTreesClassifier (max_features='auto')\n",
      "388 ExtraTreesClassifier (max_features='auto')\n",
      "389 ExtraTreesClassifier (max_features='auto')\n",
      "390 ExtraTreesClassifier (max_features='auto')\n",
      "391 ExtraTreesClassifier (max_features='auto')\n",
      "392 ExtraTreesClassifier (max_features='auto')\n",
      "393 ExtraTreesClassifier (max_features='auto')\n",
      "394 ExtraTreesClassifier (max_features='auto')\n",
      "395 ExtraTreesClassifier (max_features='auto')\n",
      "396 ExtraTreesClassifier (max_features='auto')\n",
      "397 ExtraTreesClassifier (max_features='auto')\n",
      "398 ExtraTreesClassifier (max_features='auto')\n",
      "399 ExtraTreesClassifier (max_features='auto')\n",
      "400 ExtraTreesClassifier (max_features='auto')\n"
     ]
    },
    {
     "name": "stderr",
     "output_type": "stream",
     "text": [
      "C:\\Users\\carth\\AppData\\Local\\Packages\\PythonSoftwareFoundation.Python.3.10_qbz5n2kfra8p0\\LocalCache\\local-packages\\Python310\\site-packages\\sklearn\\ensemble\\_forest.py:578: UserWarning: Some inputs do not have OOB scores. This probably means too few trees were used to compute any reliable OOB estimates.\n",
      "  warn(\n"
     ]
    },
    {
     "name": "stdout",
     "output_type": "stream",
     "text": [
      "1 ExtraTreesClassifier (max_features='sqrt')\n"
     ]
    },
    {
     "name": "stderr",
     "output_type": "stream",
     "text": [
      "C:\\Users\\carth\\AppData\\Local\\Packages\\PythonSoftwareFoundation.Python.3.10_qbz5n2kfra8p0\\LocalCache\\local-packages\\Python310\\site-packages\\sklearn\\ensemble\\_forest.py:578: UserWarning: Some inputs do not have OOB scores. This probably means too few trees were used to compute any reliable OOB estimates.\n",
      "  warn(\n"
     ]
    },
    {
     "name": "stdout",
     "output_type": "stream",
     "text": [
      "2 ExtraTreesClassifier (max_features='sqrt')\n"
     ]
    },
    {
     "name": "stderr",
     "output_type": "stream",
     "text": [
      "C:\\Users\\carth\\AppData\\Local\\Packages\\PythonSoftwareFoundation.Python.3.10_qbz5n2kfra8p0\\LocalCache\\local-packages\\Python310\\site-packages\\sklearn\\ensemble\\_forest.py:578: UserWarning: Some inputs do not have OOB scores. This probably means too few trees were used to compute any reliable OOB estimates.\n",
      "  warn(\n"
     ]
    },
    {
     "name": "stdout",
     "output_type": "stream",
     "text": [
      "3 ExtraTreesClassifier (max_features='sqrt')\n"
     ]
    },
    {
     "name": "stderr",
     "output_type": "stream",
     "text": [
      "C:\\Users\\carth\\AppData\\Local\\Packages\\PythonSoftwareFoundation.Python.3.10_qbz5n2kfra8p0\\LocalCache\\local-packages\\Python310\\site-packages\\sklearn\\ensemble\\_forest.py:578: UserWarning: Some inputs do not have OOB scores. This probably means too few trees were used to compute any reliable OOB estimates.\n",
      "  warn(\n"
     ]
    },
    {
     "name": "stdout",
     "output_type": "stream",
     "text": [
      "4 ExtraTreesClassifier (max_features='sqrt')\n"
     ]
    },
    {
     "name": "stderr",
     "output_type": "stream",
     "text": [
      "C:\\Users\\carth\\AppData\\Local\\Packages\\PythonSoftwareFoundation.Python.3.10_qbz5n2kfra8p0\\LocalCache\\local-packages\\Python310\\site-packages\\sklearn\\ensemble\\_forest.py:578: UserWarning: Some inputs do not have OOB scores. This probably means too few trees were used to compute any reliable OOB estimates.\n",
      "  warn(\n"
     ]
    },
    {
     "name": "stdout",
     "output_type": "stream",
     "text": [
      "5 ExtraTreesClassifier (max_features='sqrt')\n"
     ]
    },
    {
     "name": "stderr",
     "output_type": "stream",
     "text": [
      "C:\\Users\\carth\\AppData\\Local\\Packages\\PythonSoftwareFoundation.Python.3.10_qbz5n2kfra8p0\\LocalCache\\local-packages\\Python310\\site-packages\\sklearn\\ensemble\\_forest.py:578: UserWarning: Some inputs do not have OOB scores. This probably means too few trees were used to compute any reliable OOB estimates.\n",
      "  warn(\n"
     ]
    },
    {
     "name": "stdout",
     "output_type": "stream",
     "text": [
      "6 ExtraTreesClassifier (max_features='sqrt')\n"
     ]
    },
    {
     "name": "stderr",
     "output_type": "stream",
     "text": [
      "C:\\Users\\carth\\AppData\\Local\\Packages\\PythonSoftwareFoundation.Python.3.10_qbz5n2kfra8p0\\LocalCache\\local-packages\\Python310\\site-packages\\sklearn\\ensemble\\_forest.py:578: UserWarning: Some inputs do not have OOB scores. This probably means too few trees were used to compute any reliable OOB estimates.\n",
      "  warn(\n"
     ]
    },
    {
     "name": "stdout",
     "output_type": "stream",
     "text": [
      "7 ExtraTreesClassifier (max_features='sqrt')\n"
     ]
    },
    {
     "name": "stderr",
     "output_type": "stream",
     "text": [
      "C:\\Users\\carth\\AppData\\Local\\Packages\\PythonSoftwareFoundation.Python.3.10_qbz5n2kfra8p0\\LocalCache\\local-packages\\Python310\\site-packages\\sklearn\\ensemble\\_forest.py:578: UserWarning: Some inputs do not have OOB scores. This probably means too few trees were used to compute any reliable OOB estimates.\n",
      "  warn(\n"
     ]
    },
    {
     "name": "stdout",
     "output_type": "stream",
     "text": [
      "8 ExtraTreesClassifier (max_features='sqrt')\n"
     ]
    },
    {
     "name": "stderr",
     "output_type": "stream",
     "text": [
      "C:\\Users\\carth\\AppData\\Local\\Packages\\PythonSoftwareFoundation.Python.3.10_qbz5n2kfra8p0\\LocalCache\\local-packages\\Python310\\site-packages\\sklearn\\ensemble\\_forest.py:578: UserWarning: Some inputs do not have OOB scores. This probably means too few trees were used to compute any reliable OOB estimates.\n",
      "  warn(\n"
     ]
    },
    {
     "name": "stdout",
     "output_type": "stream",
     "text": [
      "9 ExtraTreesClassifier (max_features='sqrt')\n"
     ]
    },
    {
     "name": "stderr",
     "output_type": "stream",
     "text": [
      "C:\\Users\\carth\\AppData\\Local\\Packages\\PythonSoftwareFoundation.Python.3.10_qbz5n2kfra8p0\\LocalCache\\local-packages\\Python310\\site-packages\\sklearn\\ensemble\\_forest.py:578: UserWarning: Some inputs do not have OOB scores. This probably means too few trees were used to compute any reliable OOB estimates.\n",
      "  warn(\n"
     ]
    },
    {
     "name": "stdout",
     "output_type": "stream",
     "text": [
      "10 ExtraTreesClassifier (max_features='sqrt')\n"
     ]
    },
    {
     "name": "stderr",
     "output_type": "stream",
     "text": [
      "C:\\Users\\carth\\AppData\\Local\\Packages\\PythonSoftwareFoundation.Python.3.10_qbz5n2kfra8p0\\LocalCache\\local-packages\\Python310\\site-packages\\sklearn\\ensemble\\_forest.py:578: UserWarning: Some inputs do not have OOB scores. This probably means too few trees were used to compute any reliable OOB estimates.\n",
      "  warn(\n"
     ]
    },
    {
     "name": "stdout",
     "output_type": "stream",
     "text": [
      "11 ExtraTreesClassifier (max_features='sqrt')\n"
     ]
    },
    {
     "name": "stderr",
     "output_type": "stream",
     "text": [
      "C:\\Users\\carth\\AppData\\Local\\Packages\\PythonSoftwareFoundation.Python.3.10_qbz5n2kfra8p0\\LocalCache\\local-packages\\Python310\\site-packages\\sklearn\\ensemble\\_forest.py:578: UserWarning: Some inputs do not have OOB scores. This probably means too few trees were used to compute any reliable OOB estimates.\n",
      "  warn(\n"
     ]
    },
    {
     "name": "stdout",
     "output_type": "stream",
     "text": [
      "12 ExtraTreesClassifier (max_features='sqrt')\n"
     ]
    },
    {
     "name": "stderr",
     "output_type": "stream",
     "text": [
      "C:\\Users\\carth\\AppData\\Local\\Packages\\PythonSoftwareFoundation.Python.3.10_qbz5n2kfra8p0\\LocalCache\\local-packages\\Python310\\site-packages\\sklearn\\ensemble\\_forest.py:578: UserWarning: Some inputs do not have OOB scores. This probably means too few trees were used to compute any reliable OOB estimates.\n",
      "  warn(\n"
     ]
    },
    {
     "name": "stdout",
     "output_type": "stream",
     "text": [
      "13 ExtraTreesClassifier (max_features='sqrt')\n"
     ]
    },
    {
     "name": "stderr",
     "output_type": "stream",
     "text": [
      "C:\\Users\\carth\\AppData\\Local\\Packages\\PythonSoftwareFoundation.Python.3.10_qbz5n2kfra8p0\\LocalCache\\local-packages\\Python310\\site-packages\\sklearn\\ensemble\\_forest.py:578: UserWarning: Some inputs do not have OOB scores. This probably means too few trees were used to compute any reliable OOB estimates.\n",
      "  warn(\n"
     ]
    },
    {
     "name": "stdout",
     "output_type": "stream",
     "text": [
      "14 ExtraTreesClassifier (max_features='sqrt')\n"
     ]
    },
    {
     "name": "stderr",
     "output_type": "stream",
     "text": [
      "C:\\Users\\carth\\AppData\\Local\\Packages\\PythonSoftwareFoundation.Python.3.10_qbz5n2kfra8p0\\LocalCache\\local-packages\\Python310\\site-packages\\sklearn\\ensemble\\_forest.py:578: UserWarning: Some inputs do not have OOB scores. This probably means too few trees were used to compute any reliable OOB estimates.\n",
      "  warn(\n"
     ]
    },
    {
     "name": "stdout",
     "output_type": "stream",
     "text": [
      "15 ExtraTreesClassifier (max_features='sqrt')\n"
     ]
    },
    {
     "name": "stderr",
     "output_type": "stream",
     "text": [
      "C:\\Users\\carth\\AppData\\Local\\Packages\\PythonSoftwareFoundation.Python.3.10_qbz5n2kfra8p0\\LocalCache\\local-packages\\Python310\\site-packages\\sklearn\\ensemble\\_forest.py:578: UserWarning: Some inputs do not have OOB scores. This probably means too few trees were used to compute any reliable OOB estimates.\n",
      "  warn(\n"
     ]
    },
    {
     "name": "stdout",
     "output_type": "stream",
     "text": [
      "16 ExtraTreesClassifier (max_features='sqrt')\n"
     ]
    },
    {
     "name": "stderr",
     "output_type": "stream",
     "text": [
      "C:\\Users\\carth\\AppData\\Local\\Packages\\PythonSoftwareFoundation.Python.3.10_qbz5n2kfra8p0\\LocalCache\\local-packages\\Python310\\site-packages\\sklearn\\ensemble\\_forest.py:578: UserWarning: Some inputs do not have OOB scores. This probably means too few trees were used to compute any reliable OOB estimates.\n",
      "  warn(\n"
     ]
    },
    {
     "name": "stdout",
     "output_type": "stream",
     "text": [
      "17 ExtraTreesClassifier (max_features='sqrt')\n"
     ]
    },
    {
     "name": "stderr",
     "output_type": "stream",
     "text": [
      "C:\\Users\\carth\\AppData\\Local\\Packages\\PythonSoftwareFoundation.Python.3.10_qbz5n2kfra8p0\\LocalCache\\local-packages\\Python310\\site-packages\\sklearn\\ensemble\\_forest.py:578: UserWarning: Some inputs do not have OOB scores. This probably means too few trees were used to compute any reliable OOB estimates.\n",
      "  warn(\n"
     ]
    },
    {
     "name": "stdout",
     "output_type": "stream",
     "text": [
      "18 ExtraTreesClassifier (max_features='sqrt')\n"
     ]
    },
    {
     "name": "stderr",
     "output_type": "stream",
     "text": [
      "C:\\Users\\carth\\AppData\\Local\\Packages\\PythonSoftwareFoundation.Python.3.10_qbz5n2kfra8p0\\LocalCache\\local-packages\\Python310\\site-packages\\sklearn\\ensemble\\_forest.py:578: UserWarning: Some inputs do not have OOB scores. This probably means too few trees were used to compute any reliable OOB estimates.\n",
      "  warn(\n"
     ]
    },
    {
     "name": "stdout",
     "output_type": "stream",
     "text": [
      "19 ExtraTreesClassifier (max_features='sqrt')\n"
     ]
    },
    {
     "name": "stderr",
     "output_type": "stream",
     "text": [
      "C:\\Users\\carth\\AppData\\Local\\Packages\\PythonSoftwareFoundation.Python.3.10_qbz5n2kfra8p0\\LocalCache\\local-packages\\Python310\\site-packages\\sklearn\\ensemble\\_forest.py:578: UserWarning: Some inputs do not have OOB scores. This probably means too few trees were used to compute any reliable OOB estimates.\n",
      "  warn(\n"
     ]
    },
    {
     "name": "stdout",
     "output_type": "stream",
     "text": [
      "20 ExtraTreesClassifier (max_features='sqrt')\n"
     ]
    },
    {
     "name": "stderr",
     "output_type": "stream",
     "text": [
      "C:\\Users\\carth\\AppData\\Local\\Packages\\PythonSoftwareFoundation.Python.3.10_qbz5n2kfra8p0\\LocalCache\\local-packages\\Python310\\site-packages\\sklearn\\ensemble\\_forest.py:578: UserWarning: Some inputs do not have OOB scores. This probably means too few trees were used to compute any reliable OOB estimates.\n",
      "  warn(\n"
     ]
    },
    {
     "name": "stdout",
     "output_type": "stream",
     "text": [
      "21 ExtraTreesClassifier (max_features='sqrt')\n"
     ]
    },
    {
     "name": "stderr",
     "output_type": "stream",
     "text": [
      "C:\\Users\\carth\\AppData\\Local\\Packages\\PythonSoftwareFoundation.Python.3.10_qbz5n2kfra8p0\\LocalCache\\local-packages\\Python310\\site-packages\\sklearn\\ensemble\\_forest.py:578: UserWarning: Some inputs do not have OOB scores. This probably means too few trees were used to compute any reliable OOB estimates.\n",
      "  warn(\n"
     ]
    },
    {
     "name": "stdout",
     "output_type": "stream",
     "text": [
      "22 ExtraTreesClassifier (max_features='sqrt')\n"
     ]
    },
    {
     "name": "stderr",
     "output_type": "stream",
     "text": [
      "C:\\Users\\carth\\AppData\\Local\\Packages\\PythonSoftwareFoundation.Python.3.10_qbz5n2kfra8p0\\LocalCache\\local-packages\\Python310\\site-packages\\sklearn\\ensemble\\_forest.py:578: UserWarning: Some inputs do not have OOB scores. This probably means too few trees were used to compute any reliable OOB estimates.\n",
      "  warn(\n"
     ]
    },
    {
     "name": "stdout",
     "output_type": "stream",
     "text": [
      "23 ExtraTreesClassifier (max_features='sqrt')\n"
     ]
    },
    {
     "name": "stderr",
     "output_type": "stream",
     "text": [
      "C:\\Users\\carth\\AppData\\Local\\Packages\\PythonSoftwareFoundation.Python.3.10_qbz5n2kfra8p0\\LocalCache\\local-packages\\Python310\\site-packages\\sklearn\\ensemble\\_forest.py:578: UserWarning: Some inputs do not have OOB scores. This probably means too few trees were used to compute any reliable OOB estimates.\n",
      "  warn(\n"
     ]
    },
    {
     "name": "stdout",
     "output_type": "stream",
     "text": [
      "24 ExtraTreesClassifier (max_features='sqrt')\n"
     ]
    },
    {
     "name": "stderr",
     "output_type": "stream",
     "text": [
      "C:\\Users\\carth\\AppData\\Local\\Packages\\PythonSoftwareFoundation.Python.3.10_qbz5n2kfra8p0\\LocalCache\\local-packages\\Python310\\site-packages\\sklearn\\ensemble\\_forest.py:578: UserWarning: Some inputs do not have OOB scores. This probably means too few trees were used to compute any reliable OOB estimates.\n",
      "  warn(\n"
     ]
    },
    {
     "name": "stdout",
     "output_type": "stream",
     "text": [
      "25 ExtraTreesClassifier (max_features='sqrt')\n"
     ]
    },
    {
     "name": "stderr",
     "output_type": "stream",
     "text": [
      "C:\\Users\\carth\\AppData\\Local\\Packages\\PythonSoftwareFoundation.Python.3.10_qbz5n2kfra8p0\\LocalCache\\local-packages\\Python310\\site-packages\\sklearn\\ensemble\\_forest.py:578: UserWarning: Some inputs do not have OOB scores. This probably means too few trees were used to compute any reliable OOB estimates.\n",
      "  warn(\n"
     ]
    },
    {
     "name": "stdout",
     "output_type": "stream",
     "text": [
      "26 ExtraTreesClassifier (max_features='sqrt')\n"
     ]
    },
    {
     "name": "stderr",
     "output_type": "stream",
     "text": [
      "C:\\Users\\carth\\AppData\\Local\\Packages\\PythonSoftwareFoundation.Python.3.10_qbz5n2kfra8p0\\LocalCache\\local-packages\\Python310\\site-packages\\sklearn\\ensemble\\_forest.py:578: UserWarning: Some inputs do not have OOB scores. This probably means too few trees were used to compute any reliable OOB estimates.\n",
      "  warn(\n"
     ]
    },
    {
     "name": "stdout",
     "output_type": "stream",
     "text": [
      "27 ExtraTreesClassifier (max_features='sqrt')\n"
     ]
    },
    {
     "name": "stderr",
     "output_type": "stream",
     "text": [
      "C:\\Users\\carth\\AppData\\Local\\Packages\\PythonSoftwareFoundation.Python.3.10_qbz5n2kfra8p0\\LocalCache\\local-packages\\Python310\\site-packages\\sklearn\\ensemble\\_forest.py:578: UserWarning: Some inputs do not have OOB scores. This probably means too few trees were used to compute any reliable OOB estimates.\n",
      "  warn(\n"
     ]
    },
    {
     "name": "stdout",
     "output_type": "stream",
     "text": [
      "28 ExtraTreesClassifier (max_features='sqrt')\n"
     ]
    },
    {
     "name": "stderr",
     "output_type": "stream",
     "text": [
      "C:\\Users\\carth\\AppData\\Local\\Packages\\PythonSoftwareFoundation.Python.3.10_qbz5n2kfra8p0\\LocalCache\\local-packages\\Python310\\site-packages\\sklearn\\ensemble\\_forest.py:578: UserWarning: Some inputs do not have OOB scores. This probably means too few trees were used to compute any reliable OOB estimates.\n",
      "  warn(\n"
     ]
    },
    {
     "name": "stdout",
     "output_type": "stream",
     "text": [
      "29 ExtraTreesClassifier (max_features='sqrt')\n"
     ]
    },
    {
     "name": "stderr",
     "output_type": "stream",
     "text": [
      "C:\\Users\\carth\\AppData\\Local\\Packages\\PythonSoftwareFoundation.Python.3.10_qbz5n2kfra8p0\\LocalCache\\local-packages\\Python310\\site-packages\\sklearn\\ensemble\\_forest.py:578: UserWarning: Some inputs do not have OOB scores. This probably means too few trees were used to compute any reliable OOB estimates.\n",
      "  warn(\n"
     ]
    },
    {
     "name": "stdout",
     "output_type": "stream",
     "text": [
      "30 ExtraTreesClassifier (max_features='sqrt')\n"
     ]
    },
    {
     "name": "stderr",
     "output_type": "stream",
     "text": [
      "C:\\Users\\carth\\AppData\\Local\\Packages\\PythonSoftwareFoundation.Python.3.10_qbz5n2kfra8p0\\LocalCache\\local-packages\\Python310\\site-packages\\sklearn\\ensemble\\_forest.py:578: UserWarning: Some inputs do not have OOB scores. This probably means too few trees were used to compute any reliable OOB estimates.\n",
      "  warn(\n"
     ]
    },
    {
     "name": "stdout",
     "output_type": "stream",
     "text": [
      "31 ExtraTreesClassifier (max_features='sqrt')\n"
     ]
    },
    {
     "name": "stderr",
     "output_type": "stream",
     "text": [
      "C:\\Users\\carth\\AppData\\Local\\Packages\\PythonSoftwareFoundation.Python.3.10_qbz5n2kfra8p0\\LocalCache\\local-packages\\Python310\\site-packages\\sklearn\\ensemble\\_forest.py:578: UserWarning: Some inputs do not have OOB scores. This probably means too few trees were used to compute any reliable OOB estimates.\n",
      "  warn(\n"
     ]
    },
    {
     "name": "stdout",
     "output_type": "stream",
     "text": [
      "32 ExtraTreesClassifier (max_features='sqrt')\n",
      "33 ExtraTreesClassifier (max_features='sqrt')\n",
      "34 ExtraTreesClassifier (max_features='sqrt')\n",
      "35 ExtraTreesClassifier (max_features='sqrt')\n",
      "36 ExtraTreesClassifier (max_features='sqrt')\n",
      "37 ExtraTreesClassifier (max_features='sqrt')\n",
      "38 ExtraTreesClassifier (max_features='sqrt')\n",
      "39 ExtraTreesClassifier (max_features='sqrt')\n",
      "40 ExtraTreesClassifier (max_features='sqrt')\n",
      "41 ExtraTreesClassifier (max_features='sqrt')\n",
      "42 ExtraTreesClassifier (max_features='sqrt')\n",
      "43 ExtraTreesClassifier (max_features='sqrt')\n",
      "44 ExtraTreesClassifier (max_features='sqrt')\n",
      "45 ExtraTreesClassifier (max_features='sqrt')\n",
      "46 ExtraTreesClassifier (max_features='sqrt')\n",
      "47 ExtraTreesClassifier (max_features='sqrt')\n",
      "48 ExtraTreesClassifier (max_features='sqrt')\n",
      "49 ExtraTreesClassifier (max_features='sqrt')\n",
      "50 ExtraTreesClassifier (max_features='sqrt')\n",
      "51 ExtraTreesClassifier (max_features='sqrt')\n",
      "52 ExtraTreesClassifier (max_features='sqrt')\n",
      "53 ExtraTreesClassifier (max_features='sqrt')\n",
      "54 ExtraTreesClassifier (max_features='sqrt')\n",
      "55 ExtraTreesClassifier (max_features='sqrt')\n",
      "56 ExtraTreesClassifier (max_features='sqrt')\n",
      "57 ExtraTreesClassifier (max_features='sqrt')\n",
      "58 ExtraTreesClassifier (max_features='sqrt')\n",
      "59 ExtraTreesClassifier (max_features='sqrt')\n",
      "60 ExtraTreesClassifier (max_features='sqrt')\n",
      "61 ExtraTreesClassifier (max_features='sqrt')\n",
      "62 ExtraTreesClassifier (max_features='sqrt')\n",
      "63 ExtraTreesClassifier (max_features='sqrt')\n",
      "64 ExtraTreesClassifier (max_features='sqrt')\n",
      "65 ExtraTreesClassifier (max_features='sqrt')\n",
      "66 ExtraTreesClassifier (max_features='sqrt')\n",
      "67 ExtraTreesClassifier (max_features='sqrt')\n",
      "68 ExtraTreesClassifier (max_features='sqrt')\n",
      "69 ExtraTreesClassifier (max_features='sqrt')\n",
      "70 ExtraTreesClassifier (max_features='sqrt')\n",
      "71 ExtraTreesClassifier (max_features='sqrt')\n",
      "72 ExtraTreesClassifier (max_features='sqrt')\n",
      "73 ExtraTreesClassifier (max_features='sqrt')\n",
      "74 ExtraTreesClassifier (max_features='sqrt')\n",
      "75 ExtraTreesClassifier (max_features='sqrt')\n",
      "76 ExtraTreesClassifier (max_features='sqrt')\n",
      "77 ExtraTreesClassifier (max_features='sqrt')\n",
      "78 ExtraTreesClassifier (max_features='sqrt')\n",
      "79 ExtraTreesClassifier (max_features='sqrt')\n",
      "80 ExtraTreesClassifier (max_features='sqrt')\n",
      "81 ExtraTreesClassifier (max_features='sqrt')\n",
      "82 ExtraTreesClassifier (max_features='sqrt')\n",
      "83 ExtraTreesClassifier (max_features='sqrt')\n",
      "84 ExtraTreesClassifier (max_features='sqrt')\n",
      "85 ExtraTreesClassifier (max_features='sqrt')\n",
      "86 ExtraTreesClassifier (max_features='sqrt')\n",
      "87 ExtraTreesClassifier (max_features='sqrt')\n",
      "88 ExtraTreesClassifier (max_features='sqrt')\n",
      "89 ExtraTreesClassifier (max_features='sqrt')\n",
      "90 ExtraTreesClassifier (max_features='sqrt')\n",
      "91 ExtraTreesClassifier (max_features='sqrt')\n",
      "92 ExtraTreesClassifier (max_features='sqrt')\n",
      "93 ExtraTreesClassifier (max_features='sqrt')\n",
      "94 ExtraTreesClassifier (max_features='sqrt')\n",
      "95 ExtraTreesClassifier (max_features='sqrt')\n",
      "96 ExtraTreesClassifier (max_features='sqrt')\n",
      "97 ExtraTreesClassifier (max_features='sqrt')\n",
      "98 ExtraTreesClassifier (max_features='sqrt')\n",
      "99 ExtraTreesClassifier (max_features='sqrt')\n",
      "100 ExtraTreesClassifier (max_features='sqrt')\n",
      "101 ExtraTreesClassifier (max_features='sqrt')\n",
      "102 ExtraTreesClassifier (max_features='sqrt')\n",
      "103 ExtraTreesClassifier (max_features='sqrt')\n",
      "104 ExtraTreesClassifier (max_features='sqrt')\n",
      "105 ExtraTreesClassifier (max_features='sqrt')\n",
      "106 ExtraTreesClassifier (max_features='sqrt')\n",
      "107 ExtraTreesClassifier (max_features='sqrt')\n",
      "108 ExtraTreesClassifier (max_features='sqrt')\n",
      "109 ExtraTreesClassifier (max_features='sqrt')\n",
      "110 ExtraTreesClassifier (max_features='sqrt')\n",
      "111 ExtraTreesClassifier (max_features='sqrt')\n",
      "112 ExtraTreesClassifier (max_features='sqrt')\n",
      "113 ExtraTreesClassifier (max_features='sqrt')\n",
      "114 ExtraTreesClassifier (max_features='sqrt')\n",
      "115 ExtraTreesClassifier (max_features='sqrt')\n",
      "116 ExtraTreesClassifier (max_features='sqrt')\n",
      "117 ExtraTreesClassifier (max_features='sqrt')\n",
      "118 ExtraTreesClassifier (max_features='sqrt')\n",
      "119 ExtraTreesClassifier (max_features='sqrt')\n",
      "120 ExtraTreesClassifier (max_features='sqrt')\n",
      "121 ExtraTreesClassifier (max_features='sqrt')\n",
      "122 ExtraTreesClassifier (max_features='sqrt')\n",
      "123 ExtraTreesClassifier (max_features='sqrt')\n",
      "124 ExtraTreesClassifier (max_features='sqrt')\n",
      "125 ExtraTreesClassifier (max_features='sqrt')\n",
      "126 ExtraTreesClassifier (max_features='sqrt')\n",
      "127 ExtraTreesClassifier (max_features='sqrt')\n",
      "128 ExtraTreesClassifier (max_features='sqrt')\n",
      "129 ExtraTreesClassifier (max_features='sqrt')\n",
      "130 ExtraTreesClassifier (max_features='sqrt')\n",
      "131 ExtraTreesClassifier (max_features='sqrt')\n",
      "132 ExtraTreesClassifier (max_features='sqrt')\n",
      "133 ExtraTreesClassifier (max_features='sqrt')\n",
      "134 ExtraTreesClassifier (max_features='sqrt')\n",
      "135 ExtraTreesClassifier (max_features='sqrt')\n",
      "136 ExtraTreesClassifier (max_features='sqrt')\n",
      "137 ExtraTreesClassifier (max_features='sqrt')\n",
      "138 ExtraTreesClassifier (max_features='sqrt')\n",
      "139 ExtraTreesClassifier (max_features='sqrt')\n",
      "140 ExtraTreesClassifier (max_features='sqrt')\n",
      "141 ExtraTreesClassifier (max_features='sqrt')\n",
      "142 ExtraTreesClassifier (max_features='sqrt')\n",
      "143 ExtraTreesClassifier (max_features='sqrt')\n",
      "144 ExtraTreesClassifier (max_features='sqrt')\n",
      "145 ExtraTreesClassifier (max_features='sqrt')\n",
      "146 ExtraTreesClassifier (max_features='sqrt')\n",
      "147 ExtraTreesClassifier (max_features='sqrt')\n",
      "148 ExtraTreesClassifier (max_features='sqrt')\n",
      "149 ExtraTreesClassifier (max_features='sqrt')\n",
      "150 ExtraTreesClassifier (max_features='sqrt')\n",
      "151 ExtraTreesClassifier (max_features='sqrt')\n",
      "152 ExtraTreesClassifier (max_features='sqrt')\n",
      "153 ExtraTreesClassifier (max_features='sqrt')\n",
      "154 ExtraTreesClassifier (max_features='sqrt')\n",
      "155 ExtraTreesClassifier (max_features='sqrt')\n",
      "156 ExtraTreesClassifier (max_features='sqrt')\n",
      "157 ExtraTreesClassifier (max_features='sqrt')\n",
      "158 ExtraTreesClassifier (max_features='sqrt')\n",
      "159 ExtraTreesClassifier (max_features='sqrt')\n",
      "160 ExtraTreesClassifier (max_features='sqrt')\n",
      "161 ExtraTreesClassifier (max_features='sqrt')\n",
      "162 ExtraTreesClassifier (max_features='sqrt')\n",
      "163 ExtraTreesClassifier (max_features='sqrt')\n",
      "164 ExtraTreesClassifier (max_features='sqrt')\n",
      "165 ExtraTreesClassifier (max_features='sqrt')\n",
      "166 ExtraTreesClassifier (max_features='sqrt')\n",
      "167 ExtraTreesClassifier (max_features='sqrt')\n",
      "168 ExtraTreesClassifier (max_features='sqrt')\n",
      "169 ExtraTreesClassifier (max_features='sqrt')\n",
      "170 ExtraTreesClassifier (max_features='sqrt')\n",
      "171 ExtraTreesClassifier (max_features='sqrt')\n",
      "172 ExtraTreesClassifier (max_features='sqrt')\n",
      "173 ExtraTreesClassifier (max_features='sqrt')\n",
      "174 ExtraTreesClassifier (max_features='sqrt')\n",
      "175 ExtraTreesClassifier (max_features='sqrt')\n",
      "176 ExtraTreesClassifier (max_features='sqrt')\n",
      "177 ExtraTreesClassifier (max_features='sqrt')\n",
      "178 ExtraTreesClassifier (max_features='sqrt')\n",
      "179 ExtraTreesClassifier (max_features='sqrt')\n",
      "180 ExtraTreesClassifier (max_features='sqrt')\n",
      "181 ExtraTreesClassifier (max_features='sqrt')\n",
      "182 ExtraTreesClassifier (max_features='sqrt')\n",
      "183 ExtraTreesClassifier (max_features='sqrt')\n",
      "184 ExtraTreesClassifier (max_features='sqrt')\n",
      "185 ExtraTreesClassifier (max_features='sqrt')\n",
      "186 ExtraTreesClassifier (max_features='sqrt')\n",
      "187 ExtraTreesClassifier (max_features='sqrt')\n",
      "188 ExtraTreesClassifier (max_features='sqrt')\n",
      "189 ExtraTreesClassifier (max_features='sqrt')\n",
      "190 ExtraTreesClassifier (max_features='sqrt')\n",
      "191 ExtraTreesClassifier (max_features='sqrt')\n",
      "192 ExtraTreesClassifier (max_features='sqrt')\n",
      "193 ExtraTreesClassifier (max_features='sqrt')\n",
      "194 ExtraTreesClassifier (max_features='sqrt')\n",
      "195 ExtraTreesClassifier (max_features='sqrt')\n",
      "196 ExtraTreesClassifier (max_features='sqrt')\n",
      "197 ExtraTreesClassifier (max_features='sqrt')\n",
      "198 ExtraTreesClassifier (max_features='sqrt')\n",
      "199 ExtraTreesClassifier (max_features='sqrt')\n",
      "200 ExtraTreesClassifier (max_features='sqrt')\n",
      "201 ExtraTreesClassifier (max_features='sqrt')\n",
      "202 ExtraTreesClassifier (max_features='sqrt')\n",
      "203 ExtraTreesClassifier (max_features='sqrt')\n",
      "204 ExtraTreesClassifier (max_features='sqrt')\n",
      "205 ExtraTreesClassifier (max_features='sqrt')\n",
      "206 ExtraTreesClassifier (max_features='sqrt')\n",
      "207 ExtraTreesClassifier (max_features='sqrt')\n",
      "208 ExtraTreesClassifier (max_features='sqrt')\n",
      "209 ExtraTreesClassifier (max_features='sqrt')\n",
      "210 ExtraTreesClassifier (max_features='sqrt')\n",
      "211 ExtraTreesClassifier (max_features='sqrt')\n",
      "212 ExtraTreesClassifier (max_features='sqrt')\n",
      "213 ExtraTreesClassifier (max_features='sqrt')\n",
      "214 ExtraTreesClassifier (max_features='sqrt')\n",
      "215 ExtraTreesClassifier (max_features='sqrt')\n",
      "216 ExtraTreesClassifier (max_features='sqrt')\n",
      "217 ExtraTreesClassifier (max_features='sqrt')\n",
      "218 ExtraTreesClassifier (max_features='sqrt')\n",
      "219 ExtraTreesClassifier (max_features='sqrt')\n",
      "220 ExtraTreesClassifier (max_features='sqrt')\n",
      "221 ExtraTreesClassifier (max_features='sqrt')\n",
      "222 ExtraTreesClassifier (max_features='sqrt')\n",
      "223 ExtraTreesClassifier (max_features='sqrt')\n",
      "224 ExtraTreesClassifier (max_features='sqrt')\n",
      "225 ExtraTreesClassifier (max_features='sqrt')\n",
      "226 ExtraTreesClassifier (max_features='sqrt')\n",
      "227 ExtraTreesClassifier (max_features='sqrt')\n",
      "228 ExtraTreesClassifier (max_features='sqrt')\n",
      "229 ExtraTreesClassifier (max_features='sqrt')\n",
      "230 ExtraTreesClassifier (max_features='sqrt')\n",
      "231 ExtraTreesClassifier (max_features='sqrt')\n",
      "232 ExtraTreesClassifier (max_features='sqrt')\n",
      "233 ExtraTreesClassifier (max_features='sqrt')\n",
      "234 ExtraTreesClassifier (max_features='sqrt')\n",
      "235 ExtraTreesClassifier (max_features='sqrt')\n",
      "236 ExtraTreesClassifier (max_features='sqrt')\n",
      "237 ExtraTreesClassifier (max_features='sqrt')\n",
      "238 ExtraTreesClassifier (max_features='sqrt')\n",
      "239 ExtraTreesClassifier (max_features='sqrt')\n",
      "240 ExtraTreesClassifier (max_features='sqrt')\n",
      "241 ExtraTreesClassifier (max_features='sqrt')\n",
      "242 ExtraTreesClassifier (max_features='sqrt')\n",
      "243 ExtraTreesClassifier (max_features='sqrt')\n",
      "244 ExtraTreesClassifier (max_features='sqrt')\n",
      "245 ExtraTreesClassifier (max_features='sqrt')\n",
      "246 ExtraTreesClassifier (max_features='sqrt')\n",
      "247 ExtraTreesClassifier (max_features='sqrt')\n",
      "248 ExtraTreesClassifier (max_features='sqrt')\n",
      "249 ExtraTreesClassifier (max_features='sqrt')\n",
      "250 ExtraTreesClassifier (max_features='sqrt')\n",
      "251 ExtraTreesClassifier (max_features='sqrt')\n",
      "252 ExtraTreesClassifier (max_features='sqrt')\n",
      "253 ExtraTreesClassifier (max_features='sqrt')\n",
      "254 ExtraTreesClassifier (max_features='sqrt')\n",
      "255 ExtraTreesClassifier (max_features='sqrt')\n",
      "256 ExtraTreesClassifier (max_features='sqrt')\n",
      "257 ExtraTreesClassifier (max_features='sqrt')\n",
      "258 ExtraTreesClassifier (max_features='sqrt')\n",
      "259 ExtraTreesClassifier (max_features='sqrt')\n",
      "260 ExtraTreesClassifier (max_features='sqrt')\n",
      "261 ExtraTreesClassifier (max_features='sqrt')\n",
      "262 ExtraTreesClassifier (max_features='sqrt')\n",
      "263 ExtraTreesClassifier (max_features='sqrt')\n",
      "264 ExtraTreesClassifier (max_features='sqrt')\n",
      "265 ExtraTreesClassifier (max_features='sqrt')\n",
      "266 ExtraTreesClassifier (max_features='sqrt')\n",
      "267 ExtraTreesClassifier (max_features='sqrt')\n",
      "268 ExtraTreesClassifier (max_features='sqrt')\n",
      "269 ExtraTreesClassifier (max_features='sqrt')\n",
      "270 ExtraTreesClassifier (max_features='sqrt')\n",
      "271 ExtraTreesClassifier (max_features='sqrt')\n",
      "272 ExtraTreesClassifier (max_features='sqrt')\n",
      "273 ExtraTreesClassifier (max_features='sqrt')\n",
      "274 ExtraTreesClassifier (max_features='sqrt')\n",
      "275 ExtraTreesClassifier (max_features='sqrt')\n",
      "276 ExtraTreesClassifier (max_features='sqrt')\n",
      "277 ExtraTreesClassifier (max_features='sqrt')\n",
      "278 ExtraTreesClassifier (max_features='sqrt')\n",
      "279 ExtraTreesClassifier (max_features='sqrt')\n",
      "280 ExtraTreesClassifier (max_features='sqrt')\n",
      "281 ExtraTreesClassifier (max_features='sqrt')\n",
      "282 ExtraTreesClassifier (max_features='sqrt')\n",
      "283 ExtraTreesClassifier (max_features='sqrt')\n",
      "284 ExtraTreesClassifier (max_features='sqrt')\n",
      "285 ExtraTreesClassifier (max_features='sqrt')\n",
      "286 ExtraTreesClassifier (max_features='sqrt')\n",
      "287 ExtraTreesClassifier (max_features='sqrt')\n",
      "288 ExtraTreesClassifier (max_features='sqrt')\n",
      "289 ExtraTreesClassifier (max_features='sqrt')\n",
      "290 ExtraTreesClassifier (max_features='sqrt')\n",
      "291 ExtraTreesClassifier (max_features='sqrt')\n",
      "292 ExtraTreesClassifier (max_features='sqrt')\n",
      "293 ExtraTreesClassifier (max_features='sqrt')\n",
      "294 ExtraTreesClassifier (max_features='sqrt')\n",
      "295 ExtraTreesClassifier (max_features='sqrt')\n",
      "296 ExtraTreesClassifier (max_features='sqrt')\n",
      "297 ExtraTreesClassifier (max_features='sqrt')\n",
      "298 ExtraTreesClassifier (max_features='sqrt')\n",
      "299 ExtraTreesClassifier (max_features='sqrt')\n",
      "300 ExtraTreesClassifier (max_features='sqrt')\n",
      "301 ExtraTreesClassifier (max_features='sqrt')\n",
      "302 ExtraTreesClassifier (max_features='sqrt')\n",
      "303 ExtraTreesClassifier (max_features='sqrt')\n",
      "304 ExtraTreesClassifier (max_features='sqrt')\n",
      "305 ExtraTreesClassifier (max_features='sqrt')\n",
      "306 ExtraTreesClassifier (max_features='sqrt')\n",
      "307 ExtraTreesClassifier (max_features='sqrt')\n",
      "308 ExtraTreesClassifier (max_features='sqrt')\n",
      "309 ExtraTreesClassifier (max_features='sqrt')\n",
      "310 ExtraTreesClassifier (max_features='sqrt')\n",
      "311 ExtraTreesClassifier (max_features='sqrt')\n",
      "312 ExtraTreesClassifier (max_features='sqrt')\n",
      "313 ExtraTreesClassifier (max_features='sqrt')\n",
      "314 ExtraTreesClassifier (max_features='sqrt')\n",
      "315 ExtraTreesClassifier (max_features='sqrt')\n",
      "316 ExtraTreesClassifier (max_features='sqrt')\n",
      "317 ExtraTreesClassifier (max_features='sqrt')\n",
      "318 ExtraTreesClassifier (max_features='sqrt')\n",
      "319 ExtraTreesClassifier (max_features='sqrt')\n",
      "320 ExtraTreesClassifier (max_features='sqrt')\n",
      "321 ExtraTreesClassifier (max_features='sqrt')\n",
      "322 ExtraTreesClassifier (max_features='sqrt')\n",
      "323 ExtraTreesClassifier (max_features='sqrt')\n",
      "324 ExtraTreesClassifier (max_features='sqrt')\n",
      "325 ExtraTreesClassifier (max_features='sqrt')\n",
      "326 ExtraTreesClassifier (max_features='sqrt')\n",
      "327 ExtraTreesClassifier (max_features='sqrt')\n",
      "328 ExtraTreesClassifier (max_features='sqrt')\n",
      "329 ExtraTreesClassifier (max_features='sqrt')\n",
      "330 ExtraTreesClassifier (max_features='sqrt')\n",
      "331 ExtraTreesClassifier (max_features='sqrt')\n",
      "332 ExtraTreesClassifier (max_features='sqrt')\n",
      "333 ExtraTreesClassifier (max_features='sqrt')\n",
      "334 ExtraTreesClassifier (max_features='sqrt')\n",
      "335 ExtraTreesClassifier (max_features='sqrt')\n",
      "336 ExtraTreesClassifier (max_features='sqrt')\n",
      "337 ExtraTreesClassifier (max_features='sqrt')\n",
      "338 ExtraTreesClassifier (max_features='sqrt')\n",
      "339 ExtraTreesClassifier (max_features='sqrt')\n",
      "340 ExtraTreesClassifier (max_features='sqrt')\n",
      "341 ExtraTreesClassifier (max_features='sqrt')\n",
      "342 ExtraTreesClassifier (max_features='sqrt')\n",
      "343 ExtraTreesClassifier (max_features='sqrt')\n",
      "344 ExtraTreesClassifier (max_features='sqrt')\n",
      "345 ExtraTreesClassifier (max_features='sqrt')\n",
      "346 ExtraTreesClassifier (max_features='sqrt')\n",
      "347 ExtraTreesClassifier (max_features='sqrt')\n",
      "348 ExtraTreesClassifier (max_features='sqrt')\n",
      "349 ExtraTreesClassifier (max_features='sqrt')\n",
      "350 ExtraTreesClassifier (max_features='sqrt')\n",
      "351 ExtraTreesClassifier (max_features='sqrt')\n",
      "352 ExtraTreesClassifier (max_features='sqrt')\n",
      "353 ExtraTreesClassifier (max_features='sqrt')\n",
      "354 ExtraTreesClassifier (max_features='sqrt')\n",
      "355 ExtraTreesClassifier (max_features='sqrt')\n",
      "356 ExtraTreesClassifier (max_features='sqrt')\n",
      "357 ExtraTreesClassifier (max_features='sqrt')\n",
      "358 ExtraTreesClassifier (max_features='sqrt')\n",
      "359 ExtraTreesClassifier (max_features='sqrt')\n",
      "360 ExtraTreesClassifier (max_features='sqrt')\n",
      "361 ExtraTreesClassifier (max_features='sqrt')\n",
      "362 ExtraTreesClassifier (max_features='sqrt')\n",
      "363 ExtraTreesClassifier (max_features='sqrt')\n",
      "364 ExtraTreesClassifier (max_features='sqrt')\n",
      "365 ExtraTreesClassifier (max_features='sqrt')\n",
      "366 ExtraTreesClassifier (max_features='sqrt')\n",
      "367 ExtraTreesClassifier (max_features='sqrt')\n",
      "368 ExtraTreesClassifier (max_features='sqrt')\n",
      "369 ExtraTreesClassifier (max_features='sqrt')\n",
      "370 ExtraTreesClassifier (max_features='sqrt')\n",
      "371 ExtraTreesClassifier (max_features='sqrt')\n",
      "372 ExtraTreesClassifier (max_features='sqrt')\n",
      "373 ExtraTreesClassifier (max_features='sqrt')\n",
      "374 ExtraTreesClassifier (max_features='sqrt')\n",
      "375 ExtraTreesClassifier (max_features='sqrt')\n",
      "376 ExtraTreesClassifier (max_features='sqrt')\n",
      "377 ExtraTreesClassifier (max_features='sqrt')\n",
      "378 ExtraTreesClassifier (max_features='sqrt')\n",
      "379 ExtraTreesClassifier (max_features='sqrt')\n",
      "380 ExtraTreesClassifier (max_features='sqrt')\n",
      "381 ExtraTreesClassifier (max_features='sqrt')\n",
      "382 ExtraTreesClassifier (max_features='sqrt')\n",
      "383 ExtraTreesClassifier (max_features='sqrt')\n",
      "384 ExtraTreesClassifier (max_features='sqrt')\n",
      "385 ExtraTreesClassifier (max_features='sqrt')\n",
      "386 ExtraTreesClassifier (max_features='sqrt')\n",
      "387 ExtraTreesClassifier (max_features='sqrt')\n",
      "388 ExtraTreesClassifier (max_features='sqrt')\n",
      "389 ExtraTreesClassifier (max_features='sqrt')\n",
      "390 ExtraTreesClassifier (max_features='sqrt')\n",
      "391 ExtraTreesClassifier (max_features='sqrt')\n",
      "392 ExtraTreesClassifier (max_features='sqrt')\n",
      "393 ExtraTreesClassifier (max_features='sqrt')\n",
      "394 ExtraTreesClassifier (max_features='sqrt')\n",
      "395 ExtraTreesClassifier (max_features='sqrt')\n",
      "396 ExtraTreesClassifier (max_features='sqrt')\n",
      "397 ExtraTreesClassifier (max_features='sqrt')\n",
      "398 ExtraTreesClassifier (max_features='sqrt')\n",
      "399 ExtraTreesClassifier (max_features='sqrt')\n",
      "400 ExtraTreesClassifier (max_features='sqrt')\n"
     ]
    },
    {
     "data": {
      "image/png": "[encoded data removed]",
      "text/plain": [
       "<Figure size 800x600 with 1 Axes>"
      ]
     },
     "metadata": {},
     "output_type": "display_data"
    }
   ],
   "source": [
    "\n",
    "import pylab\n",
    "\n",
    "from collections import OrderedDict\n",
    "from sklearn.datasets import make_classification\n",
    "from sklearn.ensemble import RandomForestClassifier, ExtraTreesClassifier\n",
    "\n",
    "RANDOM_STATE = 7\n",
    "\n",
    "# NOTE: Setting the `warm_start` construction parameter to `True` disables\n",
    "# support for paralellised ensembles but is necessary for tracking the OOB\n",
    "# error trajectory during training.\n",
    "clfs = [\n",
    "    (\"RandomForestClassifier (max_features='auto')\",\n",
    "        RandomForestClassifier(warm_start=True, oob_score=True, max_features=None,\n",
    "                               random_state=RANDOM_STATE)),\n",
    "    (\"RandomForestClassifier (max_features='sqrt')\",\n",
    "        RandomForestClassifier(warm_start=True, max_features=\"sqrt\", \n",
    "                               oob_score=True, random_state=RANDOM_STATE)),\n",
    "    (\"ExtraTreesClassifier (max_features='auto')\",\n",
    "        ExtraTreesClassifier(warm_start=True, max_features=None,\n",
    "                             oob_score=True, bootstrap=True,\n",
    "                             random_state=RANDOM_STATE)),\n",
    "    (\"ExtraTreesClassifier (max_features='sqrt')\",\n",
    "        ExtraTreesClassifier(warm_start=True, max_features=\"sqrt\",\n",
    "                             oob_score=True, bootstrap=True,\n",
    "                             random_state=RANDOM_STATE))\n",
    "]\n",
    "\n",
    "# Map a classifier name to a list of (<n_estimators>, <error rate>) pairs.\n",
    "error_rate = OrderedDict((label, []) for label, _ in clfs)\n",
    "\n",
    "# Max no. of estimators to use in each ensemble.\n",
    "n_estimators = 400\n",
    "\n",
    "for label, clf in clfs:\n",
    "    for i in range(1, n_estimators + 1):\n",
    "        clf.set_params(n_estimators=i)\n",
    "        clf.fit(X_train, y_train)\n",
    "        print(i, label)\n",
    "\n",
    "        # Record the <error rate> for each <n_estimators> setting. \n",
    "        error_rate[label].append((i, 1 - clf.oob_score_))\n",
    "\n",
    "# Generate the \"OOB error rate\" vs. \"no. of estimators\" plot\n",
    "for label, clf_err in error_rate.items():\n",
    "    xs, ys = zip(*clf_err)\n",
    "    pylab.plot(xs, ys, label=label)\n",
    "\n",
    "pylab.xlabel(\"n_estimators\")\n",
    "pylab.ylabel(\"OOB error rate\")\n",
    "pylab.legend(loc=\"upper right\")\n",
    "pylab.gcf().set_size_inches(8, 6)\n",
    "pylab.show()"
   ]
  },
  {
   "cell_type": "code",
   "execution_count": 18,
   "metadata": {},
   "outputs": [
    {
     "name": "stdout",
     "output_type": "stream",
     "text": [
      "Accuracy for 1 max_depth is:0.6840410768803774\n",
      "Accuracy for 2 max_depth is:0.6628180220186881\n",
      "Accuracy for 3 max_depth is:0.6460727171801277\n",
      "Accuracy for 4 max_depth is:0.637709316310482\n",
      "Accuracy for 5 max_depth is:0.6534184475899714\n",
      "Accuracy for 6 max_depth is:0.6702377648256083\n",
      "Accuracy for 7 max_depth is:0.6965306688870386\n",
      "Accuracy for 8 max_depth is:0.7262466463132574\n",
      "Accuracy for 9 max_depth is:0.7529836247571469\n",
      "Accuracy for 10 max_depth is:0.7790729947266167\n",
      "Accuracy for 11 max_depth is:0.8098436488111759\n",
      "Accuracy for 12 max_depth is:0.8400962161161994\n",
      "Accuracy for 13 max_depth is:0.8641317420667962\n",
      "Accuracy for 14 max_depth is:0.888759367194005\n",
      "Accuracy for 15 max_depth is:0.9100379313535018\n",
      "Accuracy for 16 max_depth is:0.924877416967342\n",
      "Accuracy for 17 max_depth is:0.9336293829216393\n",
      "Accuracy for 18 max_depth is:0.9385142011286891\n",
      "Accuracy for 19 max_depth is:0.9401239707651031\n",
      "Accuracy for 20 max_depth is:0.9392728281987233\n",
      "Accuracy for 21 max_depth is:0.9379035988528078\n",
      "Accuracy for 22 max_depth is:0.9364048478120085\n",
      "Accuracy for 23 max_depth is:0.9352206494587844\n",
      "Accuracy for 24 max_depth is:0.9343325006938662\n",
      "Accuracy for 25 max_depth is:0.9337774077157924\n",
      "Accuracy for 26 max_depth is:0.9333518364326024\n",
      "Accuracy for 27 max_depth is:0.9327782403552595\n",
      "Accuracy for 28 max_depth is:0.9325006938662226\n",
      "Accuracy for 29 max_depth is:0.9319641039874179\n",
      "Accuracy for 30 max_depth is:0.9320751225830327\n",
      "Accuracy for 31 max_depth is:0.9315755389027662\n",
      "Accuracy for 32 max_depth is:0.9315200296049588\n",
      "Accuracy for 33 max_depth is:0.9315755389027662\n",
      "Accuracy for 34 max_depth is:0.9311684707188455\n",
      "Accuracy for 35 max_depth is:0.9316680543991118\n",
      "Accuracy for 36 max_depth is:0.9315570358034971\n",
      "Accuracy for 37 max_depth is:0.9315200296049588\n",
      "Accuracy for 38 max_depth is:0.9313535017115366\n",
      "Accuracy for 39 max_depth is:0.9312979924137293\n",
      "Accuracy for 40 max_depth is:0.9313720048108058\n",
      "Accuracy for 41 max_depth is:0.9313535017115366\n",
      "Accuracy for 42 max_depth is:0.9315755389027662\n",
      "Accuracy for 43 max_depth is:0.9315385327042279\n",
      "Accuracy for 44 max_depth is:0.9315570358034971\n",
      "Accuracy for 45 max_depth is:0.9315755389027662\n",
      "Accuracy for 46 max_depth is:0.9316125451013044\n",
      "Accuracy for 47 max_depth is:0.9315755389027662\n",
      "Accuracy for 48 max_depth is:0.9315385327042279\n",
      "Accuracy for 49 max_depth is:0.9315940420020353\n",
      "Accuracy for 50 max_depth is:0.9315755389027662\n",
      "Best accuracy is: 0.9401239707651031 and depth is 19\n"
     ]
    }
   ],
   "source": [
    "best_accuracy = 0\n",
    "Depth = []\n",
    "Acc = []\n",
    "for m in range(1,51):\n",
    "    Depth.append(m)\n",
    "\n",
    "    model = RandomForestClassifier(n_estimators=100, max_depth=m, n_jobs=-1, random_state=7)\n",
    "    model.fit(X_train, y_train)\n",
    "    y_pred = model.predict(X_val)\n",
    "    accuracy = accuracy_score(y_val, y_pred)\n",
    "    Acc.append(accuracy)\n",
    "\n",
    "    if accuracy> best_accuracy:\n",
    "        best_accuracy = accuracy\n",
    "        best_depth = m\n",
    "    print(f\"Accuracy for {m} max_depth is:{accuracy}\")\n",
    "list_of_tuples = list(zip(Depth, Acc))\n",
    "df = pd.DataFrame(list_of_tuples, columns=['Depth', 'Accuracy'])\n",
    "\n",
    "print(f\"Best accuracy is: {best_accuracy} and depth is {best_depth}\")\n",
    "    "
   ]
  },
  {
   "cell_type": "code",
   "execution_count": 19,
   "metadata": {},
   "outputs": [
    {
     "data": {
      "text/plain": [
       "<Axes: xlabel='Depth'>"
      ]
     },
     "execution_count": 19,
     "metadata": {},
     "output_type": "execute_result"
    },
    {
     "data": {
      "image/png": "[encoded data removed]",
      "text/plain": [
       "<Figure size 640x480 with 1 Axes>"
      ]
     },
     "metadata": {},
     "output_type": "display_data"
    }
   ],
   "source": [
    "df\n",
    "df.plot(x='Depth', y='Accuracy', kind=\"line\")"
   ]
  },
  {
   "cell_type": "markdown",
   "metadata": {},
   "source": [
    "Use the tuned hyperparameters for a new RF"
   ]
  },
  {
   "cell_type": "markdown",
   "metadata": {},
   "source": [
    "1st - Manually tuned using a validation set"
   ]
  },
  {
   "cell_type": "code",
   "execution_count": 20,
   "metadata": {},
   "outputs": [
    {
     "data": {
      "text/html": [
       "<style>#sk-container-id-2 {color: black;}#sk-container-id-2 pre{padding: 0;}#sk-container-id-2 div.sk-toggleable {background-color: white;}#sk-container-id-2 label.sk-toggleable__label {cursor: pointer;display: block;width: 100%;margin-bottom: 0;padding: 0.3em;box-sizing: border-box;text-align: center;}#sk-container-id-2 label.sk-toggleable__label-arrow:before {content: \"▸\";float: left;margin-right: 0.25em;color: #696969;}#sk-container-id-2 label.sk-toggleable__label-arrow:hover:before {color: black;}#sk-container-id-2 div.sk-estimator:hover label.sk-toggleable__label-arrow:before {color: black;}#sk-container-id-2 div.sk-toggleable__content {max-height: 0;max-width: 0;overflow: hidden;text-align: left;background-color: #f0f8ff;}#sk-container-id-2 div.sk-toggleable__content pre {margin: 0.2em;color: black;border-radius: 0.25em;background-color: #f0f8ff;}#sk-container-id-2 input.sk-toggleable__control:checked~div.sk-toggleable__content {max-height: 200px;max-width: 100%;overflow: auto;}#sk-container-id-2 input.sk-toggleable__control:checked~label.sk-toggleable__label-arrow:before {content: \"▾\";}#sk-container-id-2 div.sk-estimator input.sk-toggleable__control:checked~label.sk-toggleable__label {background-color: #d4ebff;}#sk-container-id-2 div.sk-label input.sk-toggleable__control:checked~label.sk-toggleable__label {background-color: #d4ebff;}#sk-container-id-2 input.sk-hidden--visually {border: 0;clip: rect(1px 1px 1px 1px);clip: rect(1px, 1px, 1px, 1px);height: 1px;margin: -1px;overflow: hidden;padding: 0;position: absolute;width: 1px;}#sk-container-id-2 div.sk-estimator {font-family: monospace;background-color: #f0f8ff;border: 1px dotted black;border-radius: 0.25em;box-sizing: border-box;margin-bottom: 0.5em;}#sk-container-id-2 div.sk-estimator:hover {background-color: #d4ebff;}#sk-container-id-2 div.sk-parallel-item::after {content: \"\";width: 100%;border-bottom: 1px solid gray;flex-grow: 1;}#sk-container-id-2 div.sk-label:hover label.sk-toggleable__label {background-color: #d4ebff;}#sk-container-id-2 div.sk-serial::before {content: \"\";position: absolute;border-left: 1px solid gray;box-sizing: border-box;top: 0;bottom: 0;left: 50%;z-index: 0;}#sk-container-id-2 div.sk-serial {display: flex;flex-direction: column;align-items: center;background-color: white;padding-right: 0.2em;padding-left: 0.2em;position: relative;}#sk-container-id-2 div.sk-item {position: relative;z-index: 1;}#sk-container-id-2 div.sk-parallel {display: flex;align-items: stretch;justify-content: center;background-color: white;position: relative;}#sk-container-id-2 div.sk-item::before, #sk-container-id-2 div.sk-parallel-item::before {content: \"\";position: absolute;border-left: 1px solid gray;box-sizing: border-box;top: 0;bottom: 0;left: 50%;z-index: -1;}#sk-container-id-2 div.sk-parallel-item {display: flex;flex-direction: column;z-index: 1;position: relative;background-color: white;}#sk-container-id-2 div.sk-parallel-item:first-child::after {align-self: flex-end;width: 50%;}#sk-container-id-2 div.sk-parallel-item:last-child::after {align-self: flex-start;width: 50%;}#sk-container-id-2 div.sk-parallel-item:only-child::after {width: 0;}#sk-container-id-2 div.sk-dashed-wrapped {border: 1px dashed gray;margin: 0 0.4em 0.5em 0.4em;box-sizing: border-box;padding-bottom: 0.4em;background-color: white;}#sk-container-id-2 div.sk-label label {font-family: monospace;font-weight: bold;display: inline-block;line-height: 1.2em;}#sk-container-id-2 div.sk-label-container {text-align: center;}#sk-container-id-2 div.sk-container {/* jupyter's `normalize.less` sets `[hidden] { display: none; }` but bootstrap.min.css set `[hidden] { display: none !important; }` so we also need the `!important` here to be able to override the default hidden behavior on the sphinx rendered scikit-learn.org. See: https://github.com/scikit-learn/scikit-learn/issues/21755 */display: inline-block !important;position: relative;}#sk-container-id-2 div.sk-text-repr-fallback {display: none;}</style><div id=\"sk-container-id-2\" class=\"sk-top-container\"><div class=\"sk-text-repr-fallback\"><pre>RandomForestClassifier(max_depth=19, n_jobs=-1, random_state=7)</pre><b>In a Jupyter environment, please rerun this cell to show the HTML representation or trust the notebook. <br />On GitHub, the HTML representation is unable to render, please try loading this page with nbviewer.org.</b></div><div class=\"sk-container\" hidden><div class=\"sk-item\"><div class=\"sk-estimator sk-toggleable\"><input class=\"sk-toggleable__control sk-hidden--visually\" id=\"sk-estimator-id-2\" type=\"checkbox\" checked><label for=\"sk-estimator-id-2\" class=\"sk-toggleable__label sk-toggleable__label-arrow\">RandomForestClassifier</label><div class=\"sk-toggleable__content\"><pre>RandomForestClassifier(max_depth=19, n_jobs=-1, random_state=7)</pre></div></div></div></div></div>"
      ],
      "text/plain": [
       "RandomForestClassifier(max_depth=19, n_jobs=-1, random_state=7)"
      ]
     },
     "execution_count": 20,
     "metadata": {},
     "output_type": "execute_result"
    }
   ],
   "source": [
    "rnd_clf_tweaked_man = RandomForestClassifier(n_estimators=100, max_depth=19, n_jobs=-1, random_state=7)\n",
    "rnd_clf_tweaked_man.fit(X_train, y_train)"
   ]
  },
  {
   "cell_type": "code",
   "execution_count": 21,
   "metadata": {},
   "outputs": [
    {
     "name": "stdout",
     "output_type": "stream",
     "text": [
      "Training score: 0.9746529139948826\n",
      "Testing score: 0.9364961882910221\n"
     ]
    }
   ],
   "source": [
    "rnd_clf_tweaked_man_train_score = rnd_clf_tweaked_man.score(X_train, y_train)\n",
    "rnd_clf_tweaked_man_test_score = rnd_clf_tweaked_man.score(X_test, y_test)\n",
    "print(\"Training score:\", rnd_clf_tweaked_man_train_score)\n",
    "print(\"Testing score:\", rnd_clf_tweaked_man_test_score )"
   ]
  },
  {
   "cell_type": "code",
   "execution_count": 22,
   "metadata": {},
   "outputs": [
    {
     "data": {
      "image/png": "[encoded data removed]",
      "text/plain": [
       "<Figure size 640x480 with 2 Axes>"
      ]
     },
     "metadata": {},
     "output_type": "display_data"
    }
   ],
   "source": [
    "y_tweaked_man_pred_rf = rnd_clf_tweaked_man.predict(X_test)\n",
    "\n",
    "cm = confusion_matrix(y_test, y_tweaked_man_pred_rf, labels=rnd_clf_tweaked_man.classes_)\n",
    "cmd = ConfusionMatrixDisplay(confusion_matrix = cm, display_labels=['1', '2', '3'])\n",
    "cmd.plot()\n",
    "plt.ylabel('Actual Values')\n",
    "plt.xlabel('Predicted Values')\n",
    "plt.show()"
   ]
  },
  {
   "cell_type": "code",
   "execution_count": 23,
   "metadata": {},
   "outputs": [
    {
     "data": {
      "image/png": "[encoded data removed]",
      "text/plain": [
       "<Figure size 640x480 with 1 Axes>"
      ]
     },
     "metadata": {},
     "output_type": "display_data"
    }
   ],
   "source": [
    "# Create a series containing feature importances from the model and feature names from the training data\n",
    "feature_importances = pd.Series(rnd_clf_tweaked_man.feature_importances_, index=X_train.columns).sort_values(ascending=False)\n",
    "\n",
    "# Plot a simple bar chart\n",
    "feature_importances.plot.bar();"
   ]
  },
  {
   "cell_type": "code",
   "execution_count": 24,
   "metadata": {},
   "outputs": [
    {
     "ename": "NameError",
     "evalue": "name 'sdfsdf' is not defined",
     "output_type": "error",
     "traceback": [
      "\u001b[1;31m---------------------------------------------------------------------------\u001b[0m",
      "\u001b[1;31mNameError\u001b[0m                                 Traceback (most recent call last)",
      "\u001b[1;32mc:\\Sophie Folder\\Birkbeck\\Project\\Git\\DLS_Project\\RF_model.ipynb Cell 30\u001b[0m line \u001b[0;36m1\n\u001b[1;32m----> <a href='vscode-notebook-cell:/c%3A/Sophie%20Folder/Birkbeck/Project/Git/DLS_Project/RF_model.ipynb#X43sZmlsZQ%3D%3D?line=0'>1</a>\u001b[0m sdfsdf\n",
      "\u001b[1;31mNameError\u001b[0m: name 'sdfsdf' is not defined"
     ]
    }
   ],
   "source": [
    "sdfsdf"
   ]
  },
  {
   "cell_type": "markdown",
   "metadata": {},
   "source": [
    "2nd - Tweak with CV version"
   ]
  },
  {
   "cell_type": "code",
   "execution_count": null,
   "metadata": {},
   "outputs": [],
   "source": [
    "rnd_clf_tweaked_CV = RandomForestClassifier(n_estimators=100, max_depth=19, n_jobs=-1, random_state=7)\n",
    "rnd_clf_tweaked_CV.fit(X_train, y_train)"
   ]
  },
  {
   "cell_type": "code",
   "execution_count": null,
   "metadata": {},
   "outputs": [],
   "source": [
    "rnd_clf_tweaked_CV_train_score = rnd_clf_tweaked_CV.score(X_train, y_train)\n",
    "rnd_clf_tweaked_CV_test_score = rnd_clf_tweaked_CV.score(X_test, y_test)\n",
    "print(\"Training score:\", rnd_clf_tweaked_CV_train_score)\n",
    "print(\"Testing score:\", rnd_clf_tweaked_CV_test_score )"
   ]
  },
  {
   "cell_type": "code",
   "execution_count": null,
   "metadata": {},
   "outputs": [],
   "source": [
    "y_tweaked_CV_pred_rf = rnd_clf_tweaked_CV.predict(X_test)\n",
    "\n",
    "cm = confusion_matrix(y_test, y_tweaked_CV_pred_rf, labels=rnd_clf_tweaked_CV.classes_)\n",
    "cmd = ConfusionMatrixDisplay(confusion_matrix = cm, display_labels=['1', '2', '3'])\n",
    "cmd.plot()\n",
    "plt.ylabel('Actual Values')\n",
    "plt.xlabel('Predicted Values')\n",
    "plt.show()"
   ]
  },
  {
   "cell_type": "code",
   "execution_count": null,
   "metadata": {},
   "outputs": [],
   "source": [
    "# Create a series containing feature importances from the model and feature names from the training data\n",
    "feature_importances = pd.Series(rnd_clf_tweaked_CV.feature_importances_, index=X_train.columns).sort_values(ascending=False)\n",
    "\n",
    "# Plot a simple bar chart\n",
    "feature_importances.plot.bar();"
   ]
  },
  {
   "cell_type": "markdown",
   "metadata": {},
   "source": [
    "https://www.datacamp.com/tutorial/random-forests-classifier-python"
   ]
  }
 ],
 "metadata": {
  "kernelspec": {
   "display_name": "Python 3",
   "language": "python",
   "name": "python3"
  },
  "language_info": {
   "codemirror_mode": {
    "name": "ipython",
    "version": 3
   },
   "file_extension": ".py",
   "mimetype": "text/x-python",
   "name": "python",
   "nbconvert_exporter": "python",
   "pygments_lexer": "ipython3",
   "version": "3.10.11"
  }
 },
 "nbformat": 4,
 "nbformat_minor": 2
}
