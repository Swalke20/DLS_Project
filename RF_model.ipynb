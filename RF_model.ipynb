{
 "cells": [
  {
   "cell_type": "code",
   "execution_count": 54,
   "metadata": {},
   "outputs": [
    {
     "name": "stdout",
     "output_type": "stream",
     "text": [
      "Note: you may need to restart the kernel to use updated packages.\n"
     ]
    }
   ],
   "source": [
    "pip freeze > model_requirements.txt"
   ]
  },
  {
   "cell_type": "code",
   "execution_count": 55,
   "metadata": {},
   "outputs": [],
   "source": [
    "import pandas as pd\n",
    "from sklearn.ensemble import RandomForestClassifier\n",
    "from sklearn.metrics import accuracy_score, confusion_matrix, classification_report, ConfusionMatrixDisplay\n",
    "import matplotlib.pyplot as plt\n",
    "import seaborn as sns"
   ]
  },
  {
   "cell_type": "code",
   "execution_count": 56,
   "metadata": {},
   "outputs": [],
   "source": [
    "#data_train_df = pd.read_csv(\"data_train_csv\")\n",
    "\n",
    "#data_train_df = pd.read_csv(\"data_train_smote_auto_csv\")\n",
    "\n",
    "data_train_df = pd.read_csv(\"data_train_smotemin_csv\")\n",
    "\n",
    "data_test_df = pd.read_csv(\"data_test_nosmote_csv\")"
   ]
  },
  {
   "cell_type": "code",
   "execution_count": 57,
   "metadata": {},
   "outputs": [
    {
     "data": {
      "text/html": [
       "<div>\n",
       "<style scoped>\n",
       "    .dataframe tbody tr th:only-of-type {\n",
       "        vertical-align: middle;\n",
       "    }\n",
       "\n",
       "    .dataframe tbody tr th {\n",
       "        vertical-align: top;\n",
       "    }\n",
       "\n",
       "    .dataframe thead th {\n",
       "        text-align: right;\n",
       "    }\n",
       "</style>\n",
       "<table border=\"1\" class=\"dataframe\">\n",
       "  <thead>\n",
       "    <tr style=\"text-align: right;\">\n",
       "      <th></th>\n",
       "      <th>Unnamed: 0</th>\n",
       "      <th>Wickets taken</th>\n",
       "      <th>Remaining Team Value</th>\n",
       "      <th>Remaining Average Team Value</th>\n",
       "      <th>Start Team Value</th>\n",
       "      <th>Ground RPO</th>\n",
       "      <th>Ground RPW</th>\n",
       "      <th>Remaining overs and balls</th>\n",
       "      <th>Remainder</th>\n",
       "      <th>Winner_num</th>\n",
       "    </tr>\n",
       "  </thead>\n",
       "  <tbody>\n",
       "    <tr>\n",
       "      <th>0</th>\n",
       "      <td>0</td>\n",
       "      <td>3</td>\n",
       "      <td>16</td>\n",
       "      <td>2.000000</td>\n",
       "      <td>24</td>\n",
       "      <td>4.79</td>\n",
       "      <td>29.31</td>\n",
       "      <td>179</td>\n",
       "      <td>29.500000</td>\n",
       "      <td>1</td>\n",
       "    </tr>\n",
       "    <tr>\n",
       "      <th>1</th>\n",
       "      <td>1</td>\n",
       "      <td>3</td>\n",
       "      <td>16</td>\n",
       "      <td>2.000000</td>\n",
       "      <td>24</td>\n",
       "      <td>4.79</td>\n",
       "      <td>29.31</td>\n",
       "      <td>178</td>\n",
       "      <td>29.400000</td>\n",
       "      <td>1</td>\n",
       "    </tr>\n",
       "    <tr>\n",
       "      <th>2</th>\n",
       "      <td>2</td>\n",
       "      <td>3</td>\n",
       "      <td>16</td>\n",
       "      <td>2.000000</td>\n",
       "      <td>24</td>\n",
       "      <td>4.79</td>\n",
       "      <td>29.31</td>\n",
       "      <td>176</td>\n",
       "      <td>29.200000</td>\n",
       "      <td>1</td>\n",
       "    </tr>\n",
       "    <tr>\n",
       "      <th>3</th>\n",
       "      <td>3</td>\n",
       "      <td>3</td>\n",
       "      <td>16</td>\n",
       "      <td>2.000000</td>\n",
       "      <td>24</td>\n",
       "      <td>4.79</td>\n",
       "      <td>29.31</td>\n",
       "      <td>175</td>\n",
       "      <td>29.100000</td>\n",
       "      <td>1</td>\n",
       "    </tr>\n",
       "    <tr>\n",
       "      <th>4</th>\n",
       "      <td>4</td>\n",
       "      <td>3</td>\n",
       "      <td>16</td>\n",
       "      <td>2.000000</td>\n",
       "      <td>24</td>\n",
       "      <td>4.79</td>\n",
       "      <td>29.31</td>\n",
       "      <td>173</td>\n",
       "      <td>28.500000</td>\n",
       "      <td>1</td>\n",
       "    </tr>\n",
       "    <tr>\n",
       "      <th>...</th>\n",
       "      <td>...</td>\n",
       "      <td>...</td>\n",
       "      <td>...</td>\n",
       "      <td>...</td>\n",
       "      <td>...</td>\n",
       "      <td>...</td>\n",
       "      <td>...</td>\n",
       "      <td>...</td>\n",
       "      <td>...</td>\n",
       "      <td>...</td>\n",
       "    </tr>\n",
       "    <tr>\n",
       "      <th>323253</th>\n",
       "      <td>323253</td>\n",
       "      <td>2</td>\n",
       "      <td>19</td>\n",
       "      <td>2.111111</td>\n",
       "      <td>24</td>\n",
       "      <td>5.07</td>\n",
       "      <td>31.45</td>\n",
       "      <td>152</td>\n",
       "      <td>25.295248</td>\n",
       "      <td>2</td>\n",
       "    </tr>\n",
       "    <tr>\n",
       "      <th>323254</th>\n",
       "      <td>323254</td>\n",
       "      <td>3</td>\n",
       "      <td>17</td>\n",
       "      <td>2.125000</td>\n",
       "      <td>25</td>\n",
       "      <td>5.01</td>\n",
       "      <td>32.44</td>\n",
       "      <td>100</td>\n",
       "      <td>16.437651</td>\n",
       "      <td>2</td>\n",
       "    </tr>\n",
       "    <tr>\n",
       "      <th>323255</th>\n",
       "      <td>323255</td>\n",
       "      <td>6</td>\n",
       "      <td>9</td>\n",
       "      <td>1.800000</td>\n",
       "      <td>24</td>\n",
       "      <td>5.01</td>\n",
       "      <td>31.44</td>\n",
       "      <td>21</td>\n",
       "      <td>3.338931</td>\n",
       "      <td>2</td>\n",
       "    </tr>\n",
       "    <tr>\n",
       "      <th>323256</th>\n",
       "      <td>323256</td>\n",
       "      <td>5</td>\n",
       "      <td>10</td>\n",
       "      <td>1.666667</td>\n",
       "      <td>22</td>\n",
       "      <td>4.19</td>\n",
       "      <td>22.99</td>\n",
       "      <td>70</td>\n",
       "      <td>11.401138</td>\n",
       "      <td>2</td>\n",
       "    </tr>\n",
       "    <tr>\n",
       "      <th>323257</th>\n",
       "      <td>323257</td>\n",
       "      <td>8</td>\n",
       "      <td>4</td>\n",
       "      <td>1.333333</td>\n",
       "      <td>22</td>\n",
       "      <td>5.07</td>\n",
       "      <td>31.45</td>\n",
       "      <td>8</td>\n",
       "      <td>1.246514</td>\n",
       "      <td>2</td>\n",
       "    </tr>\n",
       "  </tbody>\n",
       "</table>\n",
       "<p>323258 rows × 10 columns</p>\n",
       "</div>"
      ],
      "text/plain": [
       "        Unnamed: 0  Wickets taken  Remaining Team Value   \n",
       "0                0              3                    16  \\\n",
       "1                1              3                    16   \n",
       "2                2              3                    16   \n",
       "3                3              3                    16   \n",
       "4                4              3                    16   \n",
       "...            ...            ...                   ...   \n",
       "323253      323253              2                    19   \n",
       "323254      323254              3                    17   \n",
       "323255      323255              6                     9   \n",
       "323256      323256              5                    10   \n",
       "323257      323257              8                     4   \n",
       "\n",
       "        Remaining Average Team Value  Start Team Value  Ground RPO   \n",
       "0                           2.000000                24        4.79  \\\n",
       "1                           2.000000                24        4.79   \n",
       "2                           2.000000                24        4.79   \n",
       "3                           2.000000                24        4.79   \n",
       "4                           2.000000                24        4.79   \n",
       "...                              ...               ...         ...   \n",
       "323253                      2.111111                24        5.07   \n",
       "323254                      2.125000                25        5.01   \n",
       "323255                      1.800000                24        5.01   \n",
       "323256                      1.666667                22        4.19   \n",
       "323257                      1.333333                22        5.07   \n",
       "\n",
       "        Ground RPW  Remaining overs and balls  Remainder  Winner_num  \n",
       "0            29.31                        179  29.500000           1  \n",
       "1            29.31                        178  29.400000           1  \n",
       "2            29.31                        176  29.200000           1  \n",
       "3            29.31                        175  29.100000           1  \n",
       "4            29.31                        173  28.500000           1  \n",
       "...            ...                        ...        ...         ...  \n",
       "323253       31.45                        152  25.295248           2  \n",
       "323254       32.44                        100  16.437651           2  \n",
       "323255       31.44                         21   3.338931           2  \n",
       "323256       22.99                         70  11.401138           2  \n",
       "323257       31.45                          8   1.246514           2  \n",
       "\n",
       "[323258 rows x 10 columns]"
      ]
     },
     "execution_count": 57,
     "metadata": {},
     "output_type": "execute_result"
    }
   ],
   "source": [
    "data_train_df"
   ]
  },
  {
   "cell_type": "code",
   "execution_count": 58,
   "metadata": {},
   "outputs": [],
   "source": [
    "data_train_df = data_train_df.drop(['Unnamed: 0'], axis=1)\n",
    "data_test_df = data_test_df.drop(['Unnamed: 0'], axis=1)"
   ]
  },
  {
   "cell_type": "code",
   "execution_count": 59,
   "metadata": {},
   "outputs": [],
   "source": [
    "y_train = data_train_df['Winner_num']\n",
    "X_train = data_train_df.drop('Winner_num',axis=1)\n",
    "X_test = data_test_df.drop('Winner_num',axis=1) \n",
    "y_test = data_test_df['Winner_num']"
   ]
  },
  {
   "cell_type": "code",
   "execution_count": 60,
   "metadata": {},
   "outputs": [
    {
     "data": {
      "text/html": [
       "<div>\n",
       "<style scoped>\n",
       "    .dataframe tbody tr th:only-of-type {\n",
       "        vertical-align: middle;\n",
       "    }\n",
       "\n",
       "    .dataframe tbody tr th {\n",
       "        vertical-align: top;\n",
       "    }\n",
       "\n",
       "    .dataframe thead th {\n",
       "        text-align: right;\n",
       "    }\n",
       "</style>\n",
       "<table border=\"1\" class=\"dataframe\">\n",
       "  <thead>\n",
       "    <tr style=\"text-align: right;\">\n",
       "      <th></th>\n",
       "      <th>Wickets taken</th>\n",
       "      <th>Remaining Team Value</th>\n",
       "      <th>Remaining Average Team Value</th>\n",
       "      <th>Start Team Value</th>\n",
       "      <th>Ground RPO</th>\n",
       "      <th>Ground RPW</th>\n",
       "      <th>Remaining overs and balls</th>\n",
       "      <th>Remainder</th>\n",
       "      <th>Winner_num</th>\n",
       "    </tr>\n",
       "  </thead>\n",
       "  <tbody>\n",
       "    <tr>\n",
       "      <th>0</th>\n",
       "      <td>3</td>\n",
       "      <td>16</td>\n",
       "      <td>2.000000</td>\n",
       "      <td>24</td>\n",
       "      <td>4.79</td>\n",
       "      <td>29.31</td>\n",
       "      <td>179</td>\n",
       "      <td>29.500000</td>\n",
       "      <td>1</td>\n",
       "    </tr>\n",
       "    <tr>\n",
       "      <th>1</th>\n",
       "      <td>3</td>\n",
       "      <td>16</td>\n",
       "      <td>2.000000</td>\n",
       "      <td>24</td>\n",
       "      <td>4.79</td>\n",
       "      <td>29.31</td>\n",
       "      <td>178</td>\n",
       "      <td>29.400000</td>\n",
       "      <td>1</td>\n",
       "    </tr>\n",
       "    <tr>\n",
       "      <th>2</th>\n",
       "      <td>3</td>\n",
       "      <td>16</td>\n",
       "      <td>2.000000</td>\n",
       "      <td>24</td>\n",
       "      <td>4.79</td>\n",
       "      <td>29.31</td>\n",
       "      <td>176</td>\n",
       "      <td>29.200000</td>\n",
       "      <td>1</td>\n",
       "    </tr>\n",
       "    <tr>\n",
       "      <th>3</th>\n",
       "      <td>3</td>\n",
       "      <td>16</td>\n",
       "      <td>2.000000</td>\n",
       "      <td>24</td>\n",
       "      <td>4.79</td>\n",
       "      <td>29.31</td>\n",
       "      <td>175</td>\n",
       "      <td>29.100000</td>\n",
       "      <td>1</td>\n",
       "    </tr>\n",
       "    <tr>\n",
       "      <th>4</th>\n",
       "      <td>3</td>\n",
       "      <td>16</td>\n",
       "      <td>2.000000</td>\n",
       "      <td>24</td>\n",
       "      <td>4.79</td>\n",
       "      <td>29.31</td>\n",
       "      <td>173</td>\n",
       "      <td>28.500000</td>\n",
       "      <td>1</td>\n",
       "    </tr>\n",
       "    <tr>\n",
       "      <th>...</th>\n",
       "      <td>...</td>\n",
       "      <td>...</td>\n",
       "      <td>...</td>\n",
       "      <td>...</td>\n",
       "      <td>...</td>\n",
       "      <td>...</td>\n",
       "      <td>...</td>\n",
       "      <td>...</td>\n",
       "      <td>...</td>\n",
       "    </tr>\n",
       "    <tr>\n",
       "      <th>323253</th>\n",
       "      <td>2</td>\n",
       "      <td>19</td>\n",
       "      <td>2.111111</td>\n",
       "      <td>24</td>\n",
       "      <td>5.07</td>\n",
       "      <td>31.45</td>\n",
       "      <td>152</td>\n",
       "      <td>25.295248</td>\n",
       "      <td>2</td>\n",
       "    </tr>\n",
       "    <tr>\n",
       "      <th>323254</th>\n",
       "      <td>3</td>\n",
       "      <td>17</td>\n",
       "      <td>2.125000</td>\n",
       "      <td>25</td>\n",
       "      <td>5.01</td>\n",
       "      <td>32.44</td>\n",
       "      <td>100</td>\n",
       "      <td>16.437651</td>\n",
       "      <td>2</td>\n",
       "    </tr>\n",
       "    <tr>\n",
       "      <th>323255</th>\n",
       "      <td>6</td>\n",
       "      <td>9</td>\n",
       "      <td>1.800000</td>\n",
       "      <td>24</td>\n",
       "      <td>5.01</td>\n",
       "      <td>31.44</td>\n",
       "      <td>21</td>\n",
       "      <td>3.338931</td>\n",
       "      <td>2</td>\n",
       "    </tr>\n",
       "    <tr>\n",
       "      <th>323256</th>\n",
       "      <td>5</td>\n",
       "      <td>10</td>\n",
       "      <td>1.666667</td>\n",
       "      <td>22</td>\n",
       "      <td>4.19</td>\n",
       "      <td>22.99</td>\n",
       "      <td>70</td>\n",
       "      <td>11.401138</td>\n",
       "      <td>2</td>\n",
       "    </tr>\n",
       "    <tr>\n",
       "      <th>323257</th>\n",
       "      <td>8</td>\n",
       "      <td>4</td>\n",
       "      <td>1.333333</td>\n",
       "      <td>22</td>\n",
       "      <td>5.07</td>\n",
       "      <td>31.45</td>\n",
       "      <td>8</td>\n",
       "      <td>1.246514</td>\n",
       "      <td>2</td>\n",
       "    </tr>\n",
       "  </tbody>\n",
       "</table>\n",
       "<p>323258 rows × 9 columns</p>\n",
       "</div>"
      ],
      "text/plain": [
       "        Wickets taken  Remaining Team Value  Remaining Average Team Value   \n",
       "0                   3                    16                      2.000000  \\\n",
       "1                   3                    16                      2.000000   \n",
       "2                   3                    16                      2.000000   \n",
       "3                   3                    16                      2.000000   \n",
       "4                   3                    16                      2.000000   \n",
       "...               ...                   ...                           ...   \n",
       "323253              2                    19                      2.111111   \n",
       "323254              3                    17                      2.125000   \n",
       "323255              6                     9                      1.800000   \n",
       "323256              5                    10                      1.666667   \n",
       "323257              8                     4                      1.333333   \n",
       "\n",
       "        Start Team Value  Ground RPO  Ground RPW  Remaining overs and balls   \n",
       "0                     24        4.79       29.31                        179  \\\n",
       "1                     24        4.79       29.31                        178   \n",
       "2                     24        4.79       29.31                        176   \n",
       "3                     24        4.79       29.31                        175   \n",
       "4                     24        4.79       29.31                        173   \n",
       "...                  ...         ...         ...                        ...   \n",
       "323253                24        5.07       31.45                        152   \n",
       "323254                25        5.01       32.44                        100   \n",
       "323255                24        5.01       31.44                         21   \n",
       "323256                22        4.19       22.99                         70   \n",
       "323257                22        5.07       31.45                          8   \n",
       "\n",
       "        Remainder  Winner_num  \n",
       "0       29.500000           1  \n",
       "1       29.400000           1  \n",
       "2       29.200000           1  \n",
       "3       29.100000           1  \n",
       "4       28.500000           1  \n",
       "...           ...         ...  \n",
       "323253  25.295248           2  \n",
       "323254  16.437651           2  \n",
       "323255   3.338931           2  \n",
       "323256  11.401138           2  \n",
       "323257   1.246514           2  \n",
       "\n",
       "[323258 rows x 9 columns]"
      ]
     },
     "execution_count": 60,
     "metadata": {},
     "output_type": "execute_result"
    }
   ],
   "source": [
    "data_train_df"
   ]
  },
  {
   "cell_type": "markdown",
   "metadata": {},
   "source": [
    "Random Forest model"
   ]
  },
  {
   "cell_type": "code",
   "execution_count": 61,
   "metadata": {},
   "outputs": [
    {
     "data": {
      "text/html": [
       "<div>\n",
       "<style scoped>\n",
       "    .dataframe tbody tr th:only-of-type {\n",
       "        vertical-align: middle;\n",
       "    }\n",
       "\n",
       "    .dataframe tbody tr th {\n",
       "        vertical-align: top;\n",
       "    }\n",
       "\n",
       "    .dataframe thead th {\n",
       "        text-align: right;\n",
       "    }\n",
       "</style>\n",
       "<table border=\"1\" class=\"dataframe\">\n",
       "  <thead>\n",
       "    <tr style=\"text-align: right;\">\n",
       "      <th></th>\n",
       "      <th>Wickets taken</th>\n",
       "      <th>Remaining Team Value</th>\n",
       "      <th>Remaining Average Team Value</th>\n",
       "      <th>Start Team Value</th>\n",
       "      <th>Ground RPO</th>\n",
       "      <th>Ground RPW</th>\n",
       "      <th>Remaining overs and balls</th>\n",
       "      <th>Remainder</th>\n",
       "    </tr>\n",
       "  </thead>\n",
       "  <tbody>\n",
       "    <tr>\n",
       "      <th>0</th>\n",
       "      <td>3</td>\n",
       "      <td>16</td>\n",
       "      <td>2.000000</td>\n",
       "      <td>24</td>\n",
       "      <td>4.79</td>\n",
       "      <td>29.31</td>\n",
       "      <td>179</td>\n",
       "      <td>29.500000</td>\n",
       "    </tr>\n",
       "    <tr>\n",
       "      <th>1</th>\n",
       "      <td>3</td>\n",
       "      <td>16</td>\n",
       "      <td>2.000000</td>\n",
       "      <td>24</td>\n",
       "      <td>4.79</td>\n",
       "      <td>29.31</td>\n",
       "      <td>178</td>\n",
       "      <td>29.400000</td>\n",
       "    </tr>\n",
       "    <tr>\n",
       "      <th>2</th>\n",
       "      <td>3</td>\n",
       "      <td>16</td>\n",
       "      <td>2.000000</td>\n",
       "      <td>24</td>\n",
       "      <td>4.79</td>\n",
       "      <td>29.31</td>\n",
       "      <td>176</td>\n",
       "      <td>29.200000</td>\n",
       "    </tr>\n",
       "    <tr>\n",
       "      <th>3</th>\n",
       "      <td>3</td>\n",
       "      <td>16</td>\n",
       "      <td>2.000000</td>\n",
       "      <td>24</td>\n",
       "      <td>4.79</td>\n",
       "      <td>29.31</td>\n",
       "      <td>175</td>\n",
       "      <td>29.100000</td>\n",
       "    </tr>\n",
       "    <tr>\n",
       "      <th>4</th>\n",
       "      <td>3</td>\n",
       "      <td>16</td>\n",
       "      <td>2.000000</td>\n",
       "      <td>24</td>\n",
       "      <td>4.79</td>\n",
       "      <td>29.31</td>\n",
       "      <td>173</td>\n",
       "      <td>28.500000</td>\n",
       "    </tr>\n",
       "    <tr>\n",
       "      <th>...</th>\n",
       "      <td>...</td>\n",
       "      <td>...</td>\n",
       "      <td>...</td>\n",
       "      <td>...</td>\n",
       "      <td>...</td>\n",
       "      <td>...</td>\n",
       "      <td>...</td>\n",
       "      <td>...</td>\n",
       "    </tr>\n",
       "    <tr>\n",
       "      <th>323253</th>\n",
       "      <td>2</td>\n",
       "      <td>19</td>\n",
       "      <td>2.111111</td>\n",
       "      <td>24</td>\n",
       "      <td>5.07</td>\n",
       "      <td>31.45</td>\n",
       "      <td>152</td>\n",
       "      <td>25.295248</td>\n",
       "    </tr>\n",
       "    <tr>\n",
       "      <th>323254</th>\n",
       "      <td>3</td>\n",
       "      <td>17</td>\n",
       "      <td>2.125000</td>\n",
       "      <td>25</td>\n",
       "      <td>5.01</td>\n",
       "      <td>32.44</td>\n",
       "      <td>100</td>\n",
       "      <td>16.437651</td>\n",
       "    </tr>\n",
       "    <tr>\n",
       "      <th>323255</th>\n",
       "      <td>6</td>\n",
       "      <td>9</td>\n",
       "      <td>1.800000</td>\n",
       "      <td>24</td>\n",
       "      <td>5.01</td>\n",
       "      <td>31.44</td>\n",
       "      <td>21</td>\n",
       "      <td>3.338931</td>\n",
       "    </tr>\n",
       "    <tr>\n",
       "      <th>323256</th>\n",
       "      <td>5</td>\n",
       "      <td>10</td>\n",
       "      <td>1.666667</td>\n",
       "      <td>22</td>\n",
       "      <td>4.19</td>\n",
       "      <td>22.99</td>\n",
       "      <td>70</td>\n",
       "      <td>11.401138</td>\n",
       "    </tr>\n",
       "    <tr>\n",
       "      <th>323257</th>\n",
       "      <td>8</td>\n",
       "      <td>4</td>\n",
       "      <td>1.333333</td>\n",
       "      <td>22</td>\n",
       "      <td>5.07</td>\n",
       "      <td>31.45</td>\n",
       "      <td>8</td>\n",
       "      <td>1.246514</td>\n",
       "    </tr>\n",
       "  </tbody>\n",
       "</table>\n",
       "<p>323258 rows × 8 columns</p>\n",
       "</div>"
      ],
      "text/plain": [
       "        Wickets taken  Remaining Team Value  Remaining Average Team Value   \n",
       "0                   3                    16                      2.000000  \\\n",
       "1                   3                    16                      2.000000   \n",
       "2                   3                    16                      2.000000   \n",
       "3                   3                    16                      2.000000   \n",
       "4                   3                    16                      2.000000   \n",
       "...               ...                   ...                           ...   \n",
       "323253              2                    19                      2.111111   \n",
       "323254              3                    17                      2.125000   \n",
       "323255              6                     9                      1.800000   \n",
       "323256              5                    10                      1.666667   \n",
       "323257              8                     4                      1.333333   \n",
       "\n",
       "        Start Team Value  Ground RPO  Ground RPW  Remaining overs and balls   \n",
       "0                     24        4.79       29.31                        179  \\\n",
       "1                     24        4.79       29.31                        178   \n",
       "2                     24        4.79       29.31                        176   \n",
       "3                     24        4.79       29.31                        175   \n",
       "4                     24        4.79       29.31                        173   \n",
       "...                  ...         ...         ...                        ...   \n",
       "323253                24        5.07       31.45                        152   \n",
       "323254                25        5.01       32.44                        100   \n",
       "323255                24        5.01       31.44                         21   \n",
       "323256                22        4.19       22.99                         70   \n",
       "323257                22        5.07       31.45                          8   \n",
       "\n",
       "        Remainder  \n",
       "0       29.500000  \n",
       "1       29.400000  \n",
       "2       29.200000  \n",
       "3       29.100000  \n",
       "4       28.500000  \n",
       "...           ...  \n",
       "323253  25.295248  \n",
       "323254  16.437651  \n",
       "323255   3.338931  \n",
       "323256  11.401138  \n",
       "323257   1.246514  \n",
       "\n",
       "[323258 rows x 8 columns]"
      ]
     },
     "execution_count": 61,
     "metadata": {},
     "output_type": "execute_result"
    }
   ],
   "source": [
    "X_train"
   ]
  },
  {
   "cell_type": "code",
   "execution_count": 62,
   "metadata": {},
   "outputs": [
    {
     "data": {
      "text/html": [
       "<div>\n",
       "<style scoped>\n",
       "    .dataframe tbody tr th:only-of-type {\n",
       "        vertical-align: middle;\n",
       "    }\n",
       "\n",
       "    .dataframe tbody tr th {\n",
       "        vertical-align: top;\n",
       "    }\n",
       "\n",
       "    .dataframe thead th {\n",
       "        text-align: right;\n",
       "    }\n",
       "</style>\n",
       "<table border=\"1\" class=\"dataframe\">\n",
       "  <thead>\n",
       "    <tr style=\"text-align: right;\">\n",
       "      <th></th>\n",
       "      <th>Wickets taken</th>\n",
       "      <th>Remaining Team Value</th>\n",
       "      <th>Remaining Average Team Value</th>\n",
       "      <th>Start Team Value</th>\n",
       "      <th>Ground RPO</th>\n",
       "      <th>Ground RPW</th>\n",
       "      <th>Remaining overs and balls</th>\n",
       "      <th>Remainder</th>\n",
       "    </tr>\n",
       "  </thead>\n",
       "  <tbody>\n",
       "    <tr>\n",
       "      <th>0</th>\n",
       "      <td>3</td>\n",
       "      <td>16</td>\n",
       "      <td>2.000000</td>\n",
       "      <td>24</td>\n",
       "      <td>4.79</td>\n",
       "      <td>29.31</td>\n",
       "      <td>177</td>\n",
       "      <td>29.3</td>\n",
       "    </tr>\n",
       "    <tr>\n",
       "      <th>1</th>\n",
       "      <td>3</td>\n",
       "      <td>16</td>\n",
       "      <td>2.000000</td>\n",
       "      <td>24</td>\n",
       "      <td>4.79</td>\n",
       "      <td>29.31</td>\n",
       "      <td>174</td>\n",
       "      <td>29.0</td>\n",
       "    </tr>\n",
       "    <tr>\n",
       "      <th>2</th>\n",
       "      <td>3</td>\n",
       "      <td>16</td>\n",
       "      <td>2.000000</td>\n",
       "      <td>24</td>\n",
       "      <td>4.79</td>\n",
       "      <td>29.31</td>\n",
       "      <td>167</td>\n",
       "      <td>27.5</td>\n",
       "    </tr>\n",
       "    <tr>\n",
       "      <th>3</th>\n",
       "      <td>3</td>\n",
       "      <td>16</td>\n",
       "      <td>2.000000</td>\n",
       "      <td>24</td>\n",
       "      <td>4.79</td>\n",
       "      <td>29.31</td>\n",
       "      <td>163</td>\n",
       "      <td>27.1</td>\n",
       "    </tr>\n",
       "    <tr>\n",
       "      <th>4</th>\n",
       "      <td>3</td>\n",
       "      <td>16</td>\n",
       "      <td>2.000000</td>\n",
       "      <td>24</td>\n",
       "      <td>4.79</td>\n",
       "      <td>29.31</td>\n",
       "      <td>156</td>\n",
       "      <td>26.0</td>\n",
       "    </tr>\n",
       "    <tr>\n",
       "      <th>...</th>\n",
       "      <td>...</td>\n",
       "      <td>...</td>\n",
       "      <td>...</td>\n",
       "      <td>...</td>\n",
       "      <td>...</td>\n",
       "      <td>...</td>\n",
       "      <td>...</td>\n",
       "      <td>...</td>\n",
       "    </tr>\n",
       "    <tr>\n",
       "      <th>54040</th>\n",
       "      <td>2</td>\n",
       "      <td>16</td>\n",
       "      <td>1.777778</td>\n",
       "      <td>21</td>\n",
       "      <td>5.40</td>\n",
       "      <td>31.64</td>\n",
       "      <td>38</td>\n",
       "      <td>6.2</td>\n",
       "    </tr>\n",
       "    <tr>\n",
       "      <th>54041</th>\n",
       "      <td>2</td>\n",
       "      <td>16</td>\n",
       "      <td>1.777778</td>\n",
       "      <td>21</td>\n",
       "      <td>5.40</td>\n",
       "      <td>31.64</td>\n",
       "      <td>36</td>\n",
       "      <td>6.0</td>\n",
       "    </tr>\n",
       "    <tr>\n",
       "      <th>54042</th>\n",
       "      <td>3</td>\n",
       "      <td>13</td>\n",
       "      <td>1.625000</td>\n",
       "      <td>21</td>\n",
       "      <td>5.40</td>\n",
       "      <td>31.64</td>\n",
       "      <td>29</td>\n",
       "      <td>4.5</td>\n",
       "    </tr>\n",
       "    <tr>\n",
       "      <th>54043</th>\n",
       "      <td>3</td>\n",
       "      <td>13</td>\n",
       "      <td>1.625000</td>\n",
       "      <td>21</td>\n",
       "      <td>5.40</td>\n",
       "      <td>31.64</td>\n",
       "      <td>19</td>\n",
       "      <td>3.1</td>\n",
       "    </tr>\n",
       "    <tr>\n",
       "      <th>54044</th>\n",
       "      <td>3</td>\n",
       "      <td>13</td>\n",
       "      <td>1.625000</td>\n",
       "      <td>21</td>\n",
       "      <td>5.40</td>\n",
       "      <td>31.64</td>\n",
       "      <td>14</td>\n",
       "      <td>2.2</td>\n",
       "    </tr>\n",
       "  </tbody>\n",
       "</table>\n",
       "<p>54045 rows × 8 columns</p>\n",
       "</div>"
      ],
      "text/plain": [
       "       Wickets taken  Remaining Team Value  Remaining Average Team Value   \n",
       "0                  3                    16                      2.000000  \\\n",
       "1                  3                    16                      2.000000   \n",
       "2                  3                    16                      2.000000   \n",
       "3                  3                    16                      2.000000   \n",
       "4                  3                    16                      2.000000   \n",
       "...              ...                   ...                           ...   \n",
       "54040              2                    16                      1.777778   \n",
       "54041              2                    16                      1.777778   \n",
       "54042              3                    13                      1.625000   \n",
       "54043              3                    13                      1.625000   \n",
       "54044              3                    13                      1.625000   \n",
       "\n",
       "       Start Team Value  Ground RPO  Ground RPW  Remaining overs and balls   \n",
       "0                    24        4.79       29.31                        177  \\\n",
       "1                    24        4.79       29.31                        174   \n",
       "2                    24        4.79       29.31                        167   \n",
       "3                    24        4.79       29.31                        163   \n",
       "4                    24        4.79       29.31                        156   \n",
       "...                 ...         ...         ...                        ...   \n",
       "54040                21        5.40       31.64                         38   \n",
       "54041                21        5.40       31.64                         36   \n",
       "54042                21        5.40       31.64                         29   \n",
       "54043                21        5.40       31.64                         19   \n",
       "54044                21        5.40       31.64                         14   \n",
       "\n",
       "       Remainder  \n",
       "0           29.3  \n",
       "1           29.0  \n",
       "2           27.5  \n",
       "3           27.1  \n",
       "4           26.0  \n",
       "...          ...  \n",
       "54040        6.2  \n",
       "54041        6.0  \n",
       "54042        4.5  \n",
       "54043        3.1  \n",
       "54044        2.2  \n",
       "\n",
       "[54045 rows x 8 columns]"
      ]
     },
     "execution_count": 62,
     "metadata": {},
     "output_type": "execute_result"
    }
   ],
   "source": [
    "X_test"
   ]
  },
  {
   "cell_type": "markdown",
   "metadata": {},
   "source": [
    "Train the baseline RF classifier"
   ]
  },
  {
   "cell_type": "code",
   "execution_count": 63,
   "metadata": {},
   "outputs": [
    {
     "data": {
      "text/html": [
       "<style>#sk-container-id-10 {color: black;}#sk-container-id-10 pre{padding: 0;}#sk-container-id-10 div.sk-toggleable {background-color: white;}#sk-container-id-10 label.sk-toggleable__label {cursor: pointer;display: block;width: 100%;margin-bottom: 0;padding: 0.3em;box-sizing: border-box;text-align: center;}#sk-container-id-10 label.sk-toggleable__label-arrow:before {content: \"▸\";float: left;margin-right: 0.25em;color: #696969;}#sk-container-id-10 label.sk-toggleable__label-arrow:hover:before {color: black;}#sk-container-id-10 div.sk-estimator:hover label.sk-toggleable__label-arrow:before {color: black;}#sk-container-id-10 div.sk-toggleable__content {max-height: 0;max-width: 0;overflow: hidden;text-align: left;background-color: #f0f8ff;}#sk-container-id-10 div.sk-toggleable__content pre {margin: 0.2em;color: black;border-radius: 0.25em;background-color: #f0f8ff;}#sk-container-id-10 input.sk-toggleable__control:checked~div.sk-toggleable__content {max-height: 200px;max-width: 100%;overflow: auto;}#sk-container-id-10 input.sk-toggleable__control:checked~label.sk-toggleable__label-arrow:before {content: \"▾\";}#sk-container-id-10 div.sk-estimator input.sk-toggleable__control:checked~label.sk-toggleable__label {background-color: #d4ebff;}#sk-container-id-10 div.sk-label input.sk-toggleable__control:checked~label.sk-toggleable__label {background-color: #d4ebff;}#sk-container-id-10 input.sk-hidden--visually {border: 0;clip: rect(1px 1px 1px 1px);clip: rect(1px, 1px, 1px, 1px);height: 1px;margin: -1px;overflow: hidden;padding: 0;position: absolute;width: 1px;}#sk-container-id-10 div.sk-estimator {font-family: monospace;background-color: #f0f8ff;border: 1px dotted black;border-radius: 0.25em;box-sizing: border-box;margin-bottom: 0.5em;}#sk-container-id-10 div.sk-estimator:hover {background-color: #d4ebff;}#sk-container-id-10 div.sk-parallel-item::after {content: \"\";width: 100%;border-bottom: 1px solid gray;flex-grow: 1;}#sk-container-id-10 div.sk-label:hover label.sk-toggleable__label {background-color: #d4ebff;}#sk-container-id-10 div.sk-serial::before {content: \"\";position: absolute;border-left: 1px solid gray;box-sizing: border-box;top: 0;bottom: 0;left: 50%;z-index: 0;}#sk-container-id-10 div.sk-serial {display: flex;flex-direction: column;align-items: center;background-color: white;padding-right: 0.2em;padding-left: 0.2em;position: relative;}#sk-container-id-10 div.sk-item {position: relative;z-index: 1;}#sk-container-id-10 div.sk-parallel {display: flex;align-items: stretch;justify-content: center;background-color: white;position: relative;}#sk-container-id-10 div.sk-item::before, #sk-container-id-10 div.sk-parallel-item::before {content: \"\";position: absolute;border-left: 1px solid gray;box-sizing: border-box;top: 0;bottom: 0;left: 50%;z-index: -1;}#sk-container-id-10 div.sk-parallel-item {display: flex;flex-direction: column;z-index: 1;position: relative;background-color: white;}#sk-container-id-10 div.sk-parallel-item:first-child::after {align-self: flex-end;width: 50%;}#sk-container-id-10 div.sk-parallel-item:last-child::after {align-self: flex-start;width: 50%;}#sk-container-id-10 div.sk-parallel-item:only-child::after {width: 0;}#sk-container-id-10 div.sk-dashed-wrapped {border: 1px dashed gray;margin: 0 0.4em 0.5em 0.4em;box-sizing: border-box;padding-bottom: 0.4em;background-color: white;}#sk-container-id-10 div.sk-label label {font-family: monospace;font-weight: bold;display: inline-block;line-height: 1.2em;}#sk-container-id-10 div.sk-label-container {text-align: center;}#sk-container-id-10 div.sk-container {/* jupyter's `normalize.less` sets `[hidden] { display: none; }` but bootstrap.min.css set `[hidden] { display: none !important; }` so we also need the `!important` here to be able to override the default hidden behavior on the sphinx rendered scikit-learn.org. See: https://github.com/scikit-learn/scikit-learn/issues/21755 */display: inline-block !important;position: relative;}#sk-container-id-10 div.sk-text-repr-fallback {display: none;}</style><div id=\"sk-container-id-10\" class=\"sk-top-container\"><div class=\"sk-text-repr-fallback\"><pre>RandomForestClassifier(random_state=7)</pre><b>In a Jupyter environment, please rerun this cell to show the HTML representation or trust the notebook. <br />On GitHub, the HTML representation is unable to render, please try loading this page with nbviewer.org.</b></div><div class=\"sk-container\" hidden><div class=\"sk-item\"><div class=\"sk-estimator sk-toggleable\"><input class=\"sk-toggleable__control sk-hidden--visually\" id=\"sk-estimator-id-12\" type=\"checkbox\" checked><label for=\"sk-estimator-id-12\" class=\"sk-toggleable__label sk-toggleable__label-arrow\">RandomForestClassifier</label><div class=\"sk-toggleable__content\"><pre>RandomForestClassifier(random_state=7)</pre></div></div></div></div></div>"
      ],
      "text/plain": [
       "RandomForestClassifier(random_state=7)"
      ]
     },
     "execution_count": 63,
     "metadata": {},
     "output_type": "execute_result"
    }
   ],
   "source": [
    "rnd_clf = RandomForestClassifier(random_state=7)\n",
    "rnd_clf.fit(X_train, y_train)"
   ]
  },
  {
   "cell_type": "code",
   "execution_count": 64,
   "metadata": {},
   "outputs": [
    {
     "name": "stdout",
     "output_type": "stream",
     "text": [
      "Training score: 0.9780144652259186\n",
      "Testing score: 0.9309279304283468\n"
     ]
    }
   ],
   "source": [
    "rnd_clf_train_score = rnd_clf.score(X_train, y_train)\n",
    "rnd_clf_test_score = rnd_clf.score(X_test, y_test)\n",
    "print(\"Training score:\", rnd_clf_train_score)\n",
    "print(\"Testing score:\", rnd_clf_test_score)"
   ]
  },
  {
   "cell_type": "code",
   "execution_count": 65,
   "metadata": {},
   "outputs": [],
   "source": [
    "y_pred_rf = rnd_clf.predict(X_test)\n",
    "cm = confusion_matrix(y_test, y_pred_rf, labels=rnd_clf.classes_)\n",
    "cm_norm = confusion_matrix(y_test, y_pred_rf, labels=rnd_clf.classes_, normalize='true')\n",
    "cmd = ConfusionMatrixDisplay(confusion_matrix = cm, display_labels=['1', '2', '3'])"
   ]
  },
  {
   "cell_type": "code",
   "execution_count": 66,
   "metadata": {},
   "outputs": [
    {
     "data": {
      "image/png": "[encoded data removed]",
      "text/plain": [
       "<Figure size 640x480 with 2 Axes>"
      ]
     },
     "metadata": {},
     "output_type": "display_data"
    }
   ],
   "source": [
    "cmd.plot()\n",
    "plt.ylabel('Actual Values')\n",
    "plt.xlabel('Predicted Values')\n",
    "plt.show()"
   ]
  },
  {
   "cell_type": "code",
   "execution_count": 67,
   "metadata": {},
   "outputs": [
    {
     "data": {
      "image/png": "[encoded data removed]",
      "text/plain": [
       "<Figure size 640x480 with 2 Axes>"
      ]
     },
     "metadata": {},
     "output_type": "display_data"
    }
   ],
   "source": [
    "cmd_norm = ConfusionMatrixDisplay(confusion_matrix = cm_norm, display_labels=['1', '2', '3'])\n",
    "cmd_norm.plot()\n",
    "plt.ylabel('Actual Values')\n",
    "plt.xlabel('Predicted Values')\n",
    "plt.show()"
   ]
  },
  {
   "cell_type": "code",
   "execution_count": 68,
   "metadata": {},
   "outputs": [
    {
     "name": "stdout",
     "output_type": "stream",
     "text": [
      "              precision    recall  f1-score   support\n",
      "\n",
      "           1       0.94      0.93      0.94     27463\n",
      "           2       0.80      0.82      0.81       702\n",
      "           3       0.93      0.93      0.93     25880\n",
      "\n",
      "    accuracy                           0.93     54045\n",
      "   macro avg       0.89      0.90      0.89     54045\n",
      "weighted avg       0.93      0.93      0.93     54045\n",
      "\n"
     ]
    }
   ],
   "source": [
    "print(classification_report(y_test, y_pred_rf))"
   ]
  },
  {
   "cell_type": "markdown",
   "metadata": {},
   "source": [
    "Tune the RF model"
   ]
  },
  {
   "cell_type": "markdown",
   "metadata": {},
   "source": [
    "Difference between the original model and below - is it max_depth?"
   ]
  },
  {
   "cell_type": "code",
   "execution_count": 69,
   "metadata": {},
   "outputs": [
    {
     "data": {
      "text/html": [
       "<style>#sk-container-id-11 {color: black;}#sk-container-id-11 pre{padding: 0;}#sk-container-id-11 div.sk-toggleable {background-color: white;}#sk-container-id-11 label.sk-toggleable__label {cursor: pointer;display: block;width: 100%;margin-bottom: 0;padding: 0.3em;box-sizing: border-box;text-align: center;}#sk-container-id-11 label.sk-toggleable__label-arrow:before {content: \"▸\";float: left;margin-right: 0.25em;color: #696969;}#sk-container-id-11 label.sk-toggleable__label-arrow:hover:before {color: black;}#sk-container-id-11 div.sk-estimator:hover label.sk-toggleable__label-arrow:before {color: black;}#sk-container-id-11 div.sk-toggleable__content {max-height: 0;max-width: 0;overflow: hidden;text-align: left;background-color: #f0f8ff;}#sk-container-id-11 div.sk-toggleable__content pre {margin: 0.2em;color: black;border-radius: 0.25em;background-color: #f0f8ff;}#sk-container-id-11 input.sk-toggleable__control:checked~div.sk-toggleable__content {max-height: 200px;max-width: 100%;overflow: auto;}#sk-container-id-11 input.sk-toggleable__control:checked~label.sk-toggleable__label-arrow:before {content: \"▾\";}#sk-container-id-11 div.sk-estimator input.sk-toggleable__control:checked~label.sk-toggleable__label {background-color: #d4ebff;}#sk-container-id-11 div.sk-label input.sk-toggleable__control:checked~label.sk-toggleable__label {background-color: #d4ebff;}#sk-container-id-11 input.sk-hidden--visually {border: 0;clip: rect(1px 1px 1px 1px);clip: rect(1px, 1px, 1px, 1px);height: 1px;margin: -1px;overflow: hidden;padding: 0;position: absolute;width: 1px;}#sk-container-id-11 div.sk-estimator {font-family: monospace;background-color: #f0f8ff;border: 1px dotted black;border-radius: 0.25em;box-sizing: border-box;margin-bottom: 0.5em;}#sk-container-id-11 div.sk-estimator:hover {background-color: #d4ebff;}#sk-container-id-11 div.sk-parallel-item::after {content: \"\";width: 100%;border-bottom: 1px solid gray;flex-grow: 1;}#sk-container-id-11 div.sk-label:hover label.sk-toggleable__label {background-color: #d4ebff;}#sk-container-id-11 div.sk-serial::before {content: \"\";position: absolute;border-left: 1px solid gray;box-sizing: border-box;top: 0;bottom: 0;left: 50%;z-index: 0;}#sk-container-id-11 div.sk-serial {display: flex;flex-direction: column;align-items: center;background-color: white;padding-right: 0.2em;padding-left: 0.2em;position: relative;}#sk-container-id-11 div.sk-item {position: relative;z-index: 1;}#sk-container-id-11 div.sk-parallel {display: flex;align-items: stretch;justify-content: center;background-color: white;position: relative;}#sk-container-id-11 div.sk-item::before, #sk-container-id-11 div.sk-parallel-item::before {content: \"\";position: absolute;border-left: 1px solid gray;box-sizing: border-box;top: 0;bottom: 0;left: 50%;z-index: -1;}#sk-container-id-11 div.sk-parallel-item {display: flex;flex-direction: column;z-index: 1;position: relative;background-color: white;}#sk-container-id-11 div.sk-parallel-item:first-child::after {align-self: flex-end;width: 50%;}#sk-container-id-11 div.sk-parallel-item:last-child::after {align-self: flex-start;width: 50%;}#sk-container-id-11 div.sk-parallel-item:only-child::after {width: 0;}#sk-container-id-11 div.sk-dashed-wrapped {border: 1px dashed gray;margin: 0 0.4em 0.5em 0.4em;box-sizing: border-box;padding-bottom: 0.4em;background-color: white;}#sk-container-id-11 div.sk-label label {font-family: monospace;font-weight: bold;display: inline-block;line-height: 1.2em;}#sk-container-id-11 div.sk-label-container {text-align: center;}#sk-container-id-11 div.sk-container {/* jupyter's `normalize.less` sets `[hidden] { display: none; }` but bootstrap.min.css set `[hidden] { display: none !important; }` so we also need the `!important` here to be able to override the default hidden behavior on the sphinx rendered scikit-learn.org. See: https://github.com/scikit-learn/scikit-learn/issues/21755 */display: inline-block !important;position: relative;}#sk-container-id-11 div.sk-text-repr-fallback {display: none;}</style><div id=\"sk-container-id-11\" class=\"sk-top-container\"><div class=\"sk-text-repr-fallback\"><pre>RandomizedSearchCV(cv=5, estimator=RandomForestClassifier(random_state=7),\n",
       "                   n_iter=8,\n",
       "                   param_distributions={&#x27;max_depth&#x27;: &lt;scipy.stats._distn_infrastructure.rv_discrete_frozen object at 0x0000019D80D53A60&gt;,\n",
       "                                        &#x27;max_features&#x27;: &lt;scipy.stats._distn_infrastructure.rv_discrete_frozen object at 0x0000019DC7A7B370&gt;,\n",
       "                                        &#x27;min_samples_leaf&#x27;: &lt;scipy.stats._distn_infrastructure.rv_discrete_frozen object at 0x0000019DC7A5B430&gt;,\n",
       "                                        &#x27;min_samples_split&#x27;: &lt;scipy.stats._distn_infrastructure.rv_discrete_frozen object at 0x0000019DC7A7B1C0&gt;,\n",
       "                                        &#x27;n_estimators&#x27;: &lt;scipy.stats._distn_infrastructure.rv_discrete_frozen object at 0x0000019DC7A7BAC0&gt;},\n",
       "                   random_state=7)</pre><b>In a Jupyter environment, please rerun this cell to show the HTML representation or trust the notebook. <br />On GitHub, the HTML representation is unable to render, please try loading this page with nbviewer.org.</b></div><div class=\"sk-container\" hidden><div class=\"sk-item sk-dashed-wrapped\"><div class=\"sk-label-container\"><div class=\"sk-label sk-toggleable\"><input class=\"sk-toggleable__control sk-hidden--visually\" id=\"sk-estimator-id-13\" type=\"checkbox\" ><label for=\"sk-estimator-id-13\" class=\"sk-toggleable__label sk-toggleable__label-arrow\">RandomizedSearchCV</label><div class=\"sk-toggleable__content\"><pre>RandomizedSearchCV(cv=5, estimator=RandomForestClassifier(random_state=7),\n",
       "                   n_iter=8,\n",
       "                   param_distributions={&#x27;max_depth&#x27;: &lt;scipy.stats._distn_infrastructure.rv_discrete_frozen object at 0x0000019D80D53A60&gt;,\n",
       "                                        &#x27;max_features&#x27;: &lt;scipy.stats._distn_infrastructure.rv_discrete_frozen object at 0x0000019DC7A7B370&gt;,\n",
       "                                        &#x27;min_samples_leaf&#x27;: &lt;scipy.stats._distn_infrastructure.rv_discrete_frozen object at 0x0000019DC7A5B430&gt;,\n",
       "                                        &#x27;min_samples_split&#x27;: &lt;scipy.stats._distn_infrastructure.rv_discrete_frozen object at 0x0000019DC7A7B1C0&gt;,\n",
       "                                        &#x27;n_estimators&#x27;: &lt;scipy.stats._distn_infrastructure.rv_discrete_frozen object at 0x0000019DC7A7BAC0&gt;},\n",
       "                   random_state=7)</pre></div></div></div><div class=\"sk-parallel\"><div class=\"sk-parallel-item\"><div class=\"sk-item\"><div class=\"sk-label-container\"><div class=\"sk-label sk-toggleable\"><input class=\"sk-toggleable__control sk-hidden--visually\" id=\"sk-estimator-id-14\" type=\"checkbox\" ><label for=\"sk-estimator-id-14\" class=\"sk-toggleable__label sk-toggleable__label-arrow\">estimator: RandomForestClassifier</label><div class=\"sk-toggleable__content\"><pre>RandomForestClassifier(random_state=7)</pre></div></div></div><div class=\"sk-serial\"><div class=\"sk-item\"><div class=\"sk-estimator sk-toggleable\"><input class=\"sk-toggleable__control sk-hidden--visually\" id=\"sk-estimator-id-15\" type=\"checkbox\" ><label for=\"sk-estimator-id-15\" class=\"sk-toggleable__label sk-toggleable__label-arrow\">RandomForestClassifier</label><div class=\"sk-toggleable__content\"><pre>RandomForestClassifier(random_state=7)</pre></div></div></div></div></div></div></div></div></div></div>"
      ],
      "text/plain": [
       "RandomizedSearchCV(cv=5, estimator=RandomForestClassifier(random_state=7),\n",
       "                   n_iter=8,\n",
       "                   param_distributions={'max_depth': <scipy.stats._distn_infrastructure.rv_discrete_frozen object at 0x0000019D80D53A60>,\n",
       "                                        'max_features': <scipy.stats._distn_infrastructure.rv_discrete_frozen object at 0x0000019DC7A7B370>,\n",
       "                                        'min_samples_leaf': <scipy.stats._distn_infrastructure.rv_discrete_frozen object at 0x0000019DC7A5B430>,\n",
       "                                        'min_samples_split': <scipy.stats._distn_infrastructure.rv_discrete_frozen object at 0x0000019DC7A7B1C0>,\n",
       "                                        'n_estimators': <scipy.stats._distn_infrastructure.rv_discrete_frozen object at 0x0000019DC7A7BAC0>},\n",
       "                   random_state=7)"
      ]
     },
     "execution_count": 69,
     "metadata": {},
     "output_type": "execute_result"
    }
   ],
   "source": [
    "from scipy.stats import randint\n",
    "from sklearn.model_selection import RandomizedSearchCV, train_test_split\n",
    "\n",
    "param_dist = {'max_depth': randint(1,20),\n",
    "              #guessing at min sample split\n",
    "              'min_samples_split': randint(2,10),\n",
    "              #'max_leaf_nodes': randint(),\n",
    "              #guess for min samples leaf\n",
    "              'min_samples_leaf': randint(1,500),\n",
    "              'n_estimators': randint(50,500),\n",
    "              #'max_sample': randint(),\n",
    "              'max_features': randint(1,8)\n",
    "              }\n",
    "\n",
    "# Create a random forest classifier\n",
    "rf = RandomForestClassifier(random_state=7)\n",
    "\n",
    "# Use random search to find the best hyperparameters\n",
    "rand_search = RandomizedSearchCV(rf, \n",
    "                                 param_distributions = param_dist, \n",
    "                                 n_iter=8, \n",
    "                                 cv=5, random_state=7)\n",
    "\n",
    "# Fit the random search object to the data\n",
    "rand_search.fit(X_train, y_train)"
   ]
  },
  {
   "cell_type": "code",
   "execution_count": 70,
   "metadata": {},
   "outputs": [
    {
     "name": "stdout",
     "output_type": "stream",
     "text": [
      "Best hyperparameters: {'max_depth': 17, 'max_features': 4, 'min_samples_leaf': 190, 'min_samples_split': 2, 'n_estimators': 340}\n"
     ]
    }
   ],
   "source": [
    "# Create a variable for the best model\n",
    "best_rf = rand_search.best_estimator_\n",
    "\n",
    "# Print the best hyperparameters\n",
    "print('Best hyperparameters:',  rand_search.best_params_)"
   ]
  },
  {
   "cell_type": "code",
   "execution_count": 71,
   "metadata": {},
   "outputs": [
    {
     "ename": "NameError",
     "evalue": "name 'sdfhjk' is not defined",
     "output_type": "error",
     "traceback": [
      "\u001b[1;31m---------------------------------------------------------------------------\u001b[0m",
      "\u001b[1;31mNameError\u001b[0m                                 Traceback (most recent call last)",
      "\u001b[1;32mc:\\Sophie Folder\\Birkbeck\\Project\\Git\\DLS_Project\\RF_model.ipynb Cell 22\u001b[0m line \u001b[0;36m1\n\u001b[1;32m----> <a href='vscode-notebook-cell:/c%3A/Sophie%20Folder/Birkbeck/Project/Git/DLS_Project/RF_model.ipynb#X26sZmlsZQ%3D%3D?line=0'>1</a>\u001b[0m sdfhjk\n",
      "\u001b[1;31mNameError\u001b[0m: name 'sdfhjk' is not defined"
     ]
    }
   ],
   "source": [
    "sdfhjk"
   ]
  },
  {
   "cell_type": "markdown",
   "metadata": {},
   "source": [
    "Use the tuned hyperparameters for a new RF"
   ]
  },
  {
   "cell_type": "code",
   "execution_count": 72,
   "metadata": {},
   "outputs": [
    {
     "data": {
      "text/html": [
       "<style>#sk-container-id-12 {color: black;}#sk-container-id-12 pre{padding: 0;}#sk-container-id-12 div.sk-toggleable {background-color: white;}#sk-container-id-12 label.sk-toggleable__label {cursor: pointer;display: block;width: 100%;margin-bottom: 0;padding: 0.3em;box-sizing: border-box;text-align: center;}#sk-container-id-12 label.sk-toggleable__label-arrow:before {content: \"▸\";float: left;margin-right: 0.25em;color: #696969;}#sk-container-id-12 label.sk-toggleable__label-arrow:hover:before {color: black;}#sk-container-id-12 div.sk-estimator:hover label.sk-toggleable__label-arrow:before {color: black;}#sk-container-id-12 div.sk-toggleable__content {max-height: 0;max-width: 0;overflow: hidden;text-align: left;background-color: #f0f8ff;}#sk-container-id-12 div.sk-toggleable__content pre {margin: 0.2em;color: black;border-radius: 0.25em;background-color: #f0f8ff;}#sk-container-id-12 input.sk-toggleable__control:checked~div.sk-toggleable__content {max-height: 200px;max-width: 100%;overflow: auto;}#sk-container-id-12 input.sk-toggleable__control:checked~label.sk-toggleable__label-arrow:before {content: \"▾\";}#sk-container-id-12 div.sk-estimator input.sk-toggleable__control:checked~label.sk-toggleable__label {background-color: #d4ebff;}#sk-container-id-12 div.sk-label input.sk-toggleable__control:checked~label.sk-toggleable__label {background-color: #d4ebff;}#sk-container-id-12 input.sk-hidden--visually {border: 0;clip: rect(1px 1px 1px 1px);clip: rect(1px, 1px, 1px, 1px);height: 1px;margin: -1px;overflow: hidden;padding: 0;position: absolute;width: 1px;}#sk-container-id-12 div.sk-estimator {font-family: monospace;background-color: #f0f8ff;border: 1px dotted black;border-radius: 0.25em;box-sizing: border-box;margin-bottom: 0.5em;}#sk-container-id-12 div.sk-estimator:hover {background-color: #d4ebff;}#sk-container-id-12 div.sk-parallel-item::after {content: \"\";width: 100%;border-bottom: 1px solid gray;flex-grow: 1;}#sk-container-id-12 div.sk-label:hover label.sk-toggleable__label {background-color: #d4ebff;}#sk-container-id-12 div.sk-serial::before {content: \"\";position: absolute;border-left: 1px solid gray;box-sizing: border-box;top: 0;bottom: 0;left: 50%;z-index: 0;}#sk-container-id-12 div.sk-serial {display: flex;flex-direction: column;align-items: center;background-color: white;padding-right: 0.2em;padding-left: 0.2em;position: relative;}#sk-container-id-12 div.sk-item {position: relative;z-index: 1;}#sk-container-id-12 div.sk-parallel {display: flex;align-items: stretch;justify-content: center;background-color: white;position: relative;}#sk-container-id-12 div.sk-item::before, #sk-container-id-12 div.sk-parallel-item::before {content: \"\";position: absolute;border-left: 1px solid gray;box-sizing: border-box;top: 0;bottom: 0;left: 50%;z-index: -1;}#sk-container-id-12 div.sk-parallel-item {display: flex;flex-direction: column;z-index: 1;position: relative;background-color: white;}#sk-container-id-12 div.sk-parallel-item:first-child::after {align-self: flex-end;width: 50%;}#sk-container-id-12 div.sk-parallel-item:last-child::after {align-self: flex-start;width: 50%;}#sk-container-id-12 div.sk-parallel-item:only-child::after {width: 0;}#sk-container-id-12 div.sk-dashed-wrapped {border: 1px dashed gray;margin: 0 0.4em 0.5em 0.4em;box-sizing: border-box;padding-bottom: 0.4em;background-color: white;}#sk-container-id-12 div.sk-label label {font-family: monospace;font-weight: bold;display: inline-block;line-height: 1.2em;}#sk-container-id-12 div.sk-label-container {text-align: center;}#sk-container-id-12 div.sk-container {/* jupyter's `normalize.less` sets `[hidden] { display: none; }` but bootstrap.min.css set `[hidden] { display: none !important; }` so we also need the `!important` here to be able to override the default hidden behavior on the sphinx rendered scikit-learn.org. See: https://github.com/scikit-learn/scikit-learn/issues/21755 */display: inline-block !important;position: relative;}#sk-container-id-12 div.sk-text-repr-fallback {display: none;}</style><div id=\"sk-container-id-12\" class=\"sk-top-container\"><div class=\"sk-text-repr-fallback\"><pre>RandomForestClassifier(max_depth=17, max_features=4, min_samples_leaf=190,\n",
       "                       n_estimators=340, n_jobs=-1, random_state=7)</pre><b>In a Jupyter environment, please rerun this cell to show the HTML representation or trust the notebook. <br />On GitHub, the HTML representation is unable to render, please try loading this page with nbviewer.org.</b></div><div class=\"sk-container\" hidden><div class=\"sk-item\"><div class=\"sk-estimator sk-toggleable\"><input class=\"sk-toggleable__control sk-hidden--visually\" id=\"sk-estimator-id-16\" type=\"checkbox\" checked><label for=\"sk-estimator-id-16\" class=\"sk-toggleable__label sk-toggleable__label-arrow\">RandomForestClassifier</label><div class=\"sk-toggleable__content\"><pre>RandomForestClassifier(max_depth=17, max_features=4, min_samples_leaf=190,\n",
       "                       n_estimators=340, n_jobs=-1, random_state=7)</pre></div></div></div></div></div>"
      ],
      "text/plain": [
       "RandomForestClassifier(max_depth=17, max_features=4, min_samples_leaf=190,\n",
       "                       n_estimators=340, n_jobs=-1, random_state=7)"
      ]
     },
     "execution_count": 72,
     "metadata": {},
     "output_type": "execute_result"
    }
   ],
   "source": [
    "rnd_clf_tweaked = RandomForestClassifier(n_estimators=340, max_depth=17, min_samples_split=2, min_samples_leaf=190, max_features=4, \n",
    "                                 n_jobs=-1, random_state=7)\n",
    "rnd_clf_tweaked.fit(X_train, y_train)"
   ]
  },
  {
   "cell_type": "code",
   "execution_count": 73,
   "metadata": {},
   "outputs": [
    {
     "name": "stdout",
     "output_type": "stream",
     "text": [
      "Training score: 0.8637063893236981\n",
      "Testing score: 0.8003330557868443\n"
     ]
    }
   ],
   "source": [
    "rnd_clf_tweaked_train_score = rnd_clf_tweaked.score(X_train, y_train)\n",
    "rnd_clf_tweaked_test_score = rnd_clf_tweaked.score(X_test, y_test)\n",
    "print(\"Training score:\", rnd_clf_tweaked_train_score)\n",
    "print(\"Testing score:\", rnd_clf_tweaked_test_score )"
   ]
  },
  {
   "cell_type": "code",
   "execution_count": 74,
   "metadata": {},
   "outputs": [
    {
     "data": {
      "image/png": "[encoded data removed]",
      "text/plain": [
       "<Figure size 640x480 with 2 Axes>"
      ]
     },
     "metadata": {},
     "output_type": "display_data"
    }
   ],
   "source": [
    "y_tweaked_pred_rf = rnd_clf_tweaked.predict(X_test)\n",
    "\n",
    "cm = confusion_matrix(y_test, y_tweaked_pred_rf, labels=rnd_clf_tweaked.classes_)\n",
    "cmd = ConfusionMatrixDisplay(confusion_matrix = cm, display_labels=['1', '2', '3'])\n",
    "cmd.plot()\n",
    "plt.ylabel('Actual Values')\n",
    "plt.xlabel('Predicted Values')\n",
    "plt.show()"
   ]
  },
  {
   "cell_type": "code",
   "execution_count": 75,
   "metadata": {},
   "outputs": [
    {
     "data": {
      "image/png": "[encoded data removed]",
      "text/plain": [
       "<Figure size 640x480 with 2 Axes>"
      ]
     },
     "metadata": {},
     "output_type": "display_data"
    },
    {
     "name": "stdout",
     "output_type": "stream",
     "text": [
      "              precision    recall  f1-score   support\n",
      "\n",
      "           1       0.94      0.93      0.94     27463\n",
      "           2       0.80      0.82      0.81       702\n",
      "           3       0.93      0.93      0.93     25880\n",
      "\n",
      "    accuracy                           0.93     54045\n",
      "   macro avg       0.89      0.90      0.89     54045\n",
      "weighted avg       0.93      0.93      0.93     54045\n",
      "\n"
     ]
    }
   ],
   "source": [
    "cm_norm = confusion_matrix(y_test, y_tweaked_pred_rf, labels=rnd_clf_tweaked.classes_, normalize='true')\n",
    "cmd_norm = ConfusionMatrixDisplay(confusion_matrix = cm_norm, display_labels=['1', '2', '3'])\n",
    "cmd_norm.plot()\n",
    "plt.ylabel('Actual Values')\n",
    "plt.xlabel('Predicted Values')\n",
    "plt.show()\n",
    "\n",
    "print(classification_report(y_test, y_pred_rf))"
   ]
  },
  {
   "cell_type": "code",
   "execution_count": 76,
   "metadata": {},
   "outputs": [
    {
     "data": {
      "image/png": "[encoded data removed]",
      "text/plain": [
       "<Figure size 640x480 with 1 Axes>"
      ]
     },
     "metadata": {},
     "output_type": "display_data"
    }
   ],
   "source": [
    "# Create a series containing feature importances from the model and feature names from the training data\n",
    "feature_importances = pd.Series(best_rf.feature_importances_, index=X_train.columns).sort_values(ascending=False)\n",
    "\n",
    "# Plot a simple bar chart\n",
    "feature_importances.plot.bar();"
   ]
  },
  {
   "cell_type": "markdown",
   "metadata": {},
   "source": [
    "https://www.datacamp.com/tutorial/random-forests-classifier-python"
   ]
  },
  {
   "cell_type": "markdown",
   "metadata": {},
   "source": [
    "LDA"
   ]
  },
  {
   "cell_type": "code",
   "execution_count": 77,
   "metadata": {},
   "outputs": [
    {
     "name": "stdout",
     "output_type": "stream",
     "text": [
      "[0.64748659 0.35251341]\n"
     ]
    }
   ],
   "source": [
    "from sklearn.discriminant_analysis import LinearDiscriminantAnalysis\n",
    "\n",
    "lda = LinearDiscriminantAnalysis(n_components=2)\n",
    "\n",
    "X_train_lda = lda.fit_transform(X_train, y_train)\n",
    "X_test_lda = lda.transform(X_test)\n",
    "\n",
    "explained_variance = lda.explained_variance_ratio_\n",
    "\n",
    "print(explained_variance)"
   ]
  },
  {
   "cell_type": "code",
   "execution_count": 78,
   "metadata": {},
   "outputs": [
    {
     "name": "stdout",
     "output_type": "stream",
     "text": [
      "Percentage of variance explained = 100.0\n"
     ]
    }
   ],
   "source": [
    "n_component_1 = 0.64748659\n",
    "n_component_2 = 0.35251341\n",
    "percentage_of_variance_explained = n_component_1 + n_component_2\n",
    "print(\"Percentage of variance explained = \" + str(percentage_of_variance_explained*100))"
   ]
  },
  {
   "cell_type": "code",
   "execution_count": 79,
   "metadata": {},
   "outputs": [
    {
     "name": "stdout",
     "output_type": "stream",
     "text": [
      "Confusion matrix : \n",
      "[[15634  5918  5911]\n",
      " [  172   303   227]\n",
      " [ 4512  5624 15744]]\n",
      "Accuracy score : \n",
      "0.5861966879452308\n"
     ]
    }
   ],
   "source": [
    "classifier_lda = RandomForestClassifier(n_estimators=465, max_depth=17, min_samples_split=7, min_samples_leaf=123, max_features=2, \n",
    "                                 n_jobs=-1, random_state=7)\n",
    "\n",
    "classifier_lda.fit(X_train_lda, y_train)\n",
    "y_pred_lda = classifier_lda.predict(X_test_lda)\n",
    "\n",
    "print('Confusion matrix : \\n' + str(confusion_matrix(y_test, y_pred_lda)))\n",
    "print('Accuracy score : \\n' + str(accuracy_score(y_test, y_pred_lda)))"
   ]
  },
  {
   "cell_type": "markdown",
   "metadata": {},
   "source": [
    "https://www.datacamp.com/tutorial/random-forests-classifier-python"
   ]
  }
 ],
 "metadata": {
  "kernelspec": {
   "display_name": "Python 3",
   "language": "python",
   "name": "python3"
  },
  "language_info": {
   "codemirror_mode": {
    "name": "ipython",
    "version": 3
   },
   "file_extension": ".py",
   "mimetype": "text/x-python",
   "name": "python",
   "nbconvert_exporter": "python",
   "pygments_lexer": "ipython3",
   "version": "3.10.11"
  }
 },
 "nbformat": 4,
 "nbformat_minor": 2
}
