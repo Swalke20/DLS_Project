{
 "cells": [
  {
   "cell_type": "code",
   "execution_count": 1,
   "metadata": {},
   "outputs": [
    {
     "name": "stdout",
     "output_type": "stream",
     "text": [
      "Note: you may need to restart the kernel to use updated packages.\n"
     ]
    }
   ],
   "source": [
    "pip freeze > model_requirements.txt"
   ]
  },
  {
   "cell_type": "code",
   "execution_count": 2,
   "metadata": {},
   "outputs": [],
   "source": [
    "import pandas as pd\n",
    "from sklearn.ensemble import RandomForestClassifier\n",
    "from sklearn.metrics import accuracy_score, confusion_matrix, classification_report, ConfusionMatrixDisplay\n",
    "import matplotlib.pyplot as plt\n",
    "import seaborn as sns"
   ]
  },
  {
   "cell_type": "code",
   "execution_count": 3,
   "metadata": {},
   "outputs": [],
   "source": [
    "#data_train_df = pd.read_csv(\"data_train_csv\")\n",
    "\n",
    "#data_train_df = pd.read_csv(\"data_train_smote_auto_csv\")\n",
    "\n",
    "data_train_df = pd.read_csv(\"data_train_smotemin_csv\")\n",
    "\n",
    "data_test_df = pd.read_csv(\"data_test_nosmote_csv\")\n",
    "\n",
    "data_val_df = pd.read_csv(\"data_val_csv\")"
   ]
  },
  {
   "cell_type": "code",
   "execution_count": 4,
   "metadata": {},
   "outputs": [
    {
     "data": {
      "text/html": [
       "<div>\n",
       "<style scoped>\n",
       "    .dataframe tbody tr th:only-of-type {\n",
       "        vertical-align: middle;\n",
       "    }\n",
       "\n",
       "    .dataframe tbody tr th {\n",
       "        vertical-align: top;\n",
       "    }\n",
       "\n",
       "    .dataframe thead th {\n",
       "        text-align: right;\n",
       "    }\n",
       "</style>\n",
       "<table border=\"1\" class=\"dataframe\">\n",
       "  <thead>\n",
       "    <tr style=\"text-align: right;\">\n",
       "      <th></th>\n",
       "      <th>Unnamed: 0</th>\n",
       "      <th>Wickets taken</th>\n",
       "      <th>Remaining Team Value</th>\n",
       "      <th>Remaining Average Team Value</th>\n",
       "      <th>Start Team Value</th>\n",
       "      <th>Ground RPO</th>\n",
       "      <th>Ground RPW</th>\n",
       "      <th>Remaining overs and balls</th>\n",
       "      <th>Remainder</th>\n",
       "      <th>Winner_num</th>\n",
       "    </tr>\n",
       "  </thead>\n",
       "  <tbody>\n",
       "    <tr>\n",
       "      <th>0</th>\n",
       "      <td>0</td>\n",
       "      <td>3</td>\n",
       "      <td>16</td>\n",
       "      <td>2.000000</td>\n",
       "      <td>24</td>\n",
       "      <td>4.79</td>\n",
       "      <td>29.31</td>\n",
       "      <td>179</td>\n",
       "      <td>29.500000</td>\n",
       "      <td>1</td>\n",
       "    </tr>\n",
       "    <tr>\n",
       "      <th>1</th>\n",
       "      <td>1</td>\n",
       "      <td>3</td>\n",
       "      <td>16</td>\n",
       "      <td>2.000000</td>\n",
       "      <td>24</td>\n",
       "      <td>4.79</td>\n",
       "      <td>29.31</td>\n",
       "      <td>178</td>\n",
       "      <td>29.400000</td>\n",
       "      <td>1</td>\n",
       "    </tr>\n",
       "    <tr>\n",
       "      <th>2</th>\n",
       "      <td>2</td>\n",
       "      <td>3</td>\n",
       "      <td>16</td>\n",
       "      <td>2.000000</td>\n",
       "      <td>24</td>\n",
       "      <td>4.79</td>\n",
       "      <td>29.31</td>\n",
       "      <td>176</td>\n",
       "      <td>29.200000</td>\n",
       "      <td>1</td>\n",
       "    </tr>\n",
       "    <tr>\n",
       "      <th>3</th>\n",
       "      <td>3</td>\n",
       "      <td>3</td>\n",
       "      <td>16</td>\n",
       "      <td>2.000000</td>\n",
       "      <td>24</td>\n",
       "      <td>4.79</td>\n",
       "      <td>29.31</td>\n",
       "      <td>175</td>\n",
       "      <td>29.100000</td>\n",
       "      <td>1</td>\n",
       "    </tr>\n",
       "    <tr>\n",
       "      <th>4</th>\n",
       "      <td>4</td>\n",
       "      <td>3</td>\n",
       "      <td>16</td>\n",
       "      <td>2.000000</td>\n",
       "      <td>24</td>\n",
       "      <td>4.79</td>\n",
       "      <td>29.31</td>\n",
       "      <td>173</td>\n",
       "      <td>28.500000</td>\n",
       "      <td>1</td>\n",
       "    </tr>\n",
       "    <tr>\n",
       "      <th>...</th>\n",
       "      <td>...</td>\n",
       "      <td>...</td>\n",
       "      <td>...</td>\n",
       "      <td>...</td>\n",
       "      <td>...</td>\n",
       "      <td>...</td>\n",
       "      <td>...</td>\n",
       "      <td>...</td>\n",
       "      <td>...</td>\n",
       "      <td>...</td>\n",
       "    </tr>\n",
       "    <tr>\n",
       "      <th>323253</th>\n",
       "      <td>323253</td>\n",
       "      <td>2</td>\n",
       "      <td>19</td>\n",
       "      <td>2.111111</td>\n",
       "      <td>24</td>\n",
       "      <td>5.07</td>\n",
       "      <td>31.45</td>\n",
       "      <td>152</td>\n",
       "      <td>25.295248</td>\n",
       "      <td>2</td>\n",
       "    </tr>\n",
       "    <tr>\n",
       "      <th>323254</th>\n",
       "      <td>323254</td>\n",
       "      <td>3</td>\n",
       "      <td>17</td>\n",
       "      <td>2.125000</td>\n",
       "      <td>25</td>\n",
       "      <td>5.01</td>\n",
       "      <td>32.44</td>\n",
       "      <td>100</td>\n",
       "      <td>16.437651</td>\n",
       "      <td>2</td>\n",
       "    </tr>\n",
       "    <tr>\n",
       "      <th>323255</th>\n",
       "      <td>323255</td>\n",
       "      <td>6</td>\n",
       "      <td>9</td>\n",
       "      <td>1.800000</td>\n",
       "      <td>24</td>\n",
       "      <td>5.01</td>\n",
       "      <td>31.44</td>\n",
       "      <td>21</td>\n",
       "      <td>3.338931</td>\n",
       "      <td>2</td>\n",
       "    </tr>\n",
       "    <tr>\n",
       "      <th>323256</th>\n",
       "      <td>323256</td>\n",
       "      <td>5</td>\n",
       "      <td>10</td>\n",
       "      <td>1.666667</td>\n",
       "      <td>22</td>\n",
       "      <td>4.19</td>\n",
       "      <td>22.99</td>\n",
       "      <td>70</td>\n",
       "      <td>11.401138</td>\n",
       "      <td>2</td>\n",
       "    </tr>\n",
       "    <tr>\n",
       "      <th>323257</th>\n",
       "      <td>323257</td>\n",
       "      <td>8</td>\n",
       "      <td>4</td>\n",
       "      <td>1.333333</td>\n",
       "      <td>22</td>\n",
       "      <td>5.07</td>\n",
       "      <td>31.45</td>\n",
       "      <td>8</td>\n",
       "      <td>1.246514</td>\n",
       "      <td>2</td>\n",
       "    </tr>\n",
       "  </tbody>\n",
       "</table>\n",
       "<p>323258 rows × 10 columns</p>\n",
       "</div>"
      ],
      "text/plain": [
       "        Unnamed: 0  Wickets taken  Remaining Team Value   \n",
       "0                0              3                    16  \\\n",
       "1                1              3                    16   \n",
       "2                2              3                    16   \n",
       "3                3              3                    16   \n",
       "4                4              3                    16   \n",
       "...            ...            ...                   ...   \n",
       "323253      323253              2                    19   \n",
       "323254      323254              3                    17   \n",
       "323255      323255              6                     9   \n",
       "323256      323256              5                    10   \n",
       "323257      323257              8                     4   \n",
       "\n",
       "        Remaining Average Team Value  Start Team Value  Ground RPO   \n",
       "0                           2.000000                24        4.79  \\\n",
       "1                           2.000000                24        4.79   \n",
       "2                           2.000000                24        4.79   \n",
       "3                           2.000000                24        4.79   \n",
       "4                           2.000000                24        4.79   \n",
       "...                              ...               ...         ...   \n",
       "323253                      2.111111                24        5.07   \n",
       "323254                      2.125000                25        5.01   \n",
       "323255                      1.800000                24        5.01   \n",
       "323256                      1.666667                22        4.19   \n",
       "323257                      1.333333                22        5.07   \n",
       "\n",
       "        Ground RPW  Remaining overs and balls  Remainder  Winner_num  \n",
       "0            29.31                        179  29.500000           1  \n",
       "1            29.31                        178  29.400000           1  \n",
       "2            29.31                        176  29.200000           1  \n",
       "3            29.31                        175  29.100000           1  \n",
       "4            29.31                        173  28.500000           1  \n",
       "...            ...                        ...        ...         ...  \n",
       "323253       31.45                        152  25.295248           2  \n",
       "323254       32.44                        100  16.437651           2  \n",
       "323255       31.44                         21   3.338931           2  \n",
       "323256       22.99                         70  11.401138           2  \n",
       "323257       31.45                          8   1.246514           2  \n",
       "\n",
       "[323258 rows x 10 columns]"
      ]
     },
     "execution_count": 4,
     "metadata": {},
     "output_type": "execute_result"
    }
   ],
   "source": [
    "data_train_df"
   ]
  },
  {
   "cell_type": "code",
   "execution_count": 5,
   "metadata": {},
   "outputs": [],
   "source": [
    "data_train_df = data_train_df.drop(['Unnamed: 0'], axis=1)\n",
    "data_test_df = data_test_df.drop(['Unnamed: 0'], axis=1)\n",
    "data_val_df = data_val_df.drop(['Unnamed: 0'], axis=1)"
   ]
  },
  {
   "cell_type": "code",
   "execution_count": 6,
   "metadata": {},
   "outputs": [],
   "source": [
    "y_train = data_train_df['Winner_num']\n",
    "X_train = data_train_df.drop('Winner_num',axis=1)\n",
    "X_test = data_test_df.drop('Winner_num',axis=1) \n",
    "y_test = data_test_df['Winner_num']\n",
    "X_val = data_test_df.drop('Winner_num',axis=1) \n",
    "y_val = data_test_df['Winner_num']"
   ]
  },
  {
   "cell_type": "code",
   "execution_count": 7,
   "metadata": {},
   "outputs": [
    {
     "data": {
      "text/html": [
       "<div>\n",
       "<style scoped>\n",
       "    .dataframe tbody tr th:only-of-type {\n",
       "        vertical-align: middle;\n",
       "    }\n",
       "\n",
       "    .dataframe tbody tr th {\n",
       "        vertical-align: top;\n",
       "    }\n",
       "\n",
       "    .dataframe thead th {\n",
       "        text-align: right;\n",
       "    }\n",
       "</style>\n",
       "<table border=\"1\" class=\"dataframe\">\n",
       "  <thead>\n",
       "    <tr style=\"text-align: right;\">\n",
       "      <th></th>\n",
       "      <th>Wickets taken</th>\n",
       "      <th>Remaining Team Value</th>\n",
       "      <th>Remaining Average Team Value</th>\n",
       "      <th>Start Team Value</th>\n",
       "      <th>Ground RPO</th>\n",
       "      <th>Ground RPW</th>\n",
       "      <th>Remaining overs and balls</th>\n",
       "      <th>Remainder</th>\n",
       "      <th>Winner_num</th>\n",
       "    </tr>\n",
       "  </thead>\n",
       "  <tbody>\n",
       "    <tr>\n",
       "      <th>0</th>\n",
       "      <td>3</td>\n",
       "      <td>16</td>\n",
       "      <td>2.000000</td>\n",
       "      <td>24</td>\n",
       "      <td>4.79</td>\n",
       "      <td>29.31</td>\n",
       "      <td>179</td>\n",
       "      <td>29.500000</td>\n",
       "      <td>1</td>\n",
       "    </tr>\n",
       "    <tr>\n",
       "      <th>1</th>\n",
       "      <td>3</td>\n",
       "      <td>16</td>\n",
       "      <td>2.000000</td>\n",
       "      <td>24</td>\n",
       "      <td>4.79</td>\n",
       "      <td>29.31</td>\n",
       "      <td>178</td>\n",
       "      <td>29.400000</td>\n",
       "      <td>1</td>\n",
       "    </tr>\n",
       "    <tr>\n",
       "      <th>2</th>\n",
       "      <td>3</td>\n",
       "      <td>16</td>\n",
       "      <td>2.000000</td>\n",
       "      <td>24</td>\n",
       "      <td>4.79</td>\n",
       "      <td>29.31</td>\n",
       "      <td>176</td>\n",
       "      <td>29.200000</td>\n",
       "      <td>1</td>\n",
       "    </tr>\n",
       "    <tr>\n",
       "      <th>3</th>\n",
       "      <td>3</td>\n",
       "      <td>16</td>\n",
       "      <td>2.000000</td>\n",
       "      <td>24</td>\n",
       "      <td>4.79</td>\n",
       "      <td>29.31</td>\n",
       "      <td>175</td>\n",
       "      <td>29.100000</td>\n",
       "      <td>1</td>\n",
       "    </tr>\n",
       "    <tr>\n",
       "      <th>4</th>\n",
       "      <td>3</td>\n",
       "      <td>16</td>\n",
       "      <td>2.000000</td>\n",
       "      <td>24</td>\n",
       "      <td>4.79</td>\n",
       "      <td>29.31</td>\n",
       "      <td>173</td>\n",
       "      <td>28.500000</td>\n",
       "      <td>1</td>\n",
       "    </tr>\n",
       "    <tr>\n",
       "      <th>...</th>\n",
       "      <td>...</td>\n",
       "      <td>...</td>\n",
       "      <td>...</td>\n",
       "      <td>...</td>\n",
       "      <td>...</td>\n",
       "      <td>...</td>\n",
       "      <td>...</td>\n",
       "      <td>...</td>\n",
       "      <td>...</td>\n",
       "    </tr>\n",
       "    <tr>\n",
       "      <th>323253</th>\n",
       "      <td>2</td>\n",
       "      <td>19</td>\n",
       "      <td>2.111111</td>\n",
       "      <td>24</td>\n",
       "      <td>5.07</td>\n",
       "      <td>31.45</td>\n",
       "      <td>152</td>\n",
       "      <td>25.295248</td>\n",
       "      <td>2</td>\n",
       "    </tr>\n",
       "    <tr>\n",
       "      <th>323254</th>\n",
       "      <td>3</td>\n",
       "      <td>17</td>\n",
       "      <td>2.125000</td>\n",
       "      <td>25</td>\n",
       "      <td>5.01</td>\n",
       "      <td>32.44</td>\n",
       "      <td>100</td>\n",
       "      <td>16.437651</td>\n",
       "      <td>2</td>\n",
       "    </tr>\n",
       "    <tr>\n",
       "      <th>323255</th>\n",
       "      <td>6</td>\n",
       "      <td>9</td>\n",
       "      <td>1.800000</td>\n",
       "      <td>24</td>\n",
       "      <td>5.01</td>\n",
       "      <td>31.44</td>\n",
       "      <td>21</td>\n",
       "      <td>3.338931</td>\n",
       "      <td>2</td>\n",
       "    </tr>\n",
       "    <tr>\n",
       "      <th>323256</th>\n",
       "      <td>5</td>\n",
       "      <td>10</td>\n",
       "      <td>1.666667</td>\n",
       "      <td>22</td>\n",
       "      <td>4.19</td>\n",
       "      <td>22.99</td>\n",
       "      <td>70</td>\n",
       "      <td>11.401138</td>\n",
       "      <td>2</td>\n",
       "    </tr>\n",
       "    <tr>\n",
       "      <th>323257</th>\n",
       "      <td>8</td>\n",
       "      <td>4</td>\n",
       "      <td>1.333333</td>\n",
       "      <td>22</td>\n",
       "      <td>5.07</td>\n",
       "      <td>31.45</td>\n",
       "      <td>8</td>\n",
       "      <td>1.246514</td>\n",
       "      <td>2</td>\n",
       "    </tr>\n",
       "  </tbody>\n",
       "</table>\n",
       "<p>323258 rows × 9 columns</p>\n",
       "</div>"
      ],
      "text/plain": [
       "        Wickets taken  Remaining Team Value  Remaining Average Team Value   \n",
       "0                   3                    16                      2.000000  \\\n",
       "1                   3                    16                      2.000000   \n",
       "2                   3                    16                      2.000000   \n",
       "3                   3                    16                      2.000000   \n",
       "4                   3                    16                      2.000000   \n",
       "...               ...                   ...                           ...   \n",
       "323253              2                    19                      2.111111   \n",
       "323254              3                    17                      2.125000   \n",
       "323255              6                     9                      1.800000   \n",
       "323256              5                    10                      1.666667   \n",
       "323257              8                     4                      1.333333   \n",
       "\n",
       "        Start Team Value  Ground RPO  Ground RPW  Remaining overs and balls   \n",
       "0                     24        4.79       29.31                        179  \\\n",
       "1                     24        4.79       29.31                        178   \n",
       "2                     24        4.79       29.31                        176   \n",
       "3                     24        4.79       29.31                        175   \n",
       "4                     24        4.79       29.31                        173   \n",
       "...                  ...         ...         ...                        ...   \n",
       "323253                24        5.07       31.45                        152   \n",
       "323254                25        5.01       32.44                        100   \n",
       "323255                24        5.01       31.44                         21   \n",
       "323256                22        4.19       22.99                         70   \n",
       "323257                22        5.07       31.45                          8   \n",
       "\n",
       "        Remainder  Winner_num  \n",
       "0       29.500000           1  \n",
       "1       29.400000           1  \n",
       "2       29.200000           1  \n",
       "3       29.100000           1  \n",
       "4       28.500000           1  \n",
       "...           ...         ...  \n",
       "323253  25.295248           2  \n",
       "323254  16.437651           2  \n",
       "323255   3.338931           2  \n",
       "323256  11.401138           2  \n",
       "323257   1.246514           2  \n",
       "\n",
       "[323258 rows x 9 columns]"
      ]
     },
     "execution_count": 7,
     "metadata": {},
     "output_type": "execute_result"
    }
   ],
   "source": [
    "data_train_df"
   ]
  },
  {
   "cell_type": "markdown",
   "metadata": {},
   "source": [
    "Random Forest model"
   ]
  },
  {
   "cell_type": "code",
   "execution_count": 8,
   "metadata": {},
   "outputs": [
    {
     "data": {
      "text/html": [
       "<div>\n",
       "<style scoped>\n",
       "    .dataframe tbody tr th:only-of-type {\n",
       "        vertical-align: middle;\n",
       "    }\n",
       "\n",
       "    .dataframe tbody tr th {\n",
       "        vertical-align: top;\n",
       "    }\n",
       "\n",
       "    .dataframe thead th {\n",
       "        text-align: right;\n",
       "    }\n",
       "</style>\n",
       "<table border=\"1\" class=\"dataframe\">\n",
       "  <thead>\n",
       "    <tr style=\"text-align: right;\">\n",
       "      <th></th>\n",
       "      <th>Wickets taken</th>\n",
       "      <th>Remaining Team Value</th>\n",
       "      <th>Remaining Average Team Value</th>\n",
       "      <th>Start Team Value</th>\n",
       "      <th>Ground RPO</th>\n",
       "      <th>Ground RPW</th>\n",
       "      <th>Remaining overs and balls</th>\n",
       "      <th>Remainder</th>\n",
       "    </tr>\n",
       "  </thead>\n",
       "  <tbody>\n",
       "    <tr>\n",
       "      <th>0</th>\n",
       "      <td>3</td>\n",
       "      <td>16</td>\n",
       "      <td>2.000000</td>\n",
       "      <td>24</td>\n",
       "      <td>4.79</td>\n",
       "      <td>29.31</td>\n",
       "      <td>179</td>\n",
       "      <td>29.500000</td>\n",
       "    </tr>\n",
       "    <tr>\n",
       "      <th>1</th>\n",
       "      <td>3</td>\n",
       "      <td>16</td>\n",
       "      <td>2.000000</td>\n",
       "      <td>24</td>\n",
       "      <td>4.79</td>\n",
       "      <td>29.31</td>\n",
       "      <td>178</td>\n",
       "      <td>29.400000</td>\n",
       "    </tr>\n",
       "    <tr>\n",
       "      <th>2</th>\n",
       "      <td>3</td>\n",
       "      <td>16</td>\n",
       "      <td>2.000000</td>\n",
       "      <td>24</td>\n",
       "      <td>4.79</td>\n",
       "      <td>29.31</td>\n",
       "      <td>176</td>\n",
       "      <td>29.200000</td>\n",
       "    </tr>\n",
       "    <tr>\n",
       "      <th>3</th>\n",
       "      <td>3</td>\n",
       "      <td>16</td>\n",
       "      <td>2.000000</td>\n",
       "      <td>24</td>\n",
       "      <td>4.79</td>\n",
       "      <td>29.31</td>\n",
       "      <td>175</td>\n",
       "      <td>29.100000</td>\n",
       "    </tr>\n",
       "    <tr>\n",
       "      <th>4</th>\n",
       "      <td>3</td>\n",
       "      <td>16</td>\n",
       "      <td>2.000000</td>\n",
       "      <td>24</td>\n",
       "      <td>4.79</td>\n",
       "      <td>29.31</td>\n",
       "      <td>173</td>\n",
       "      <td>28.500000</td>\n",
       "    </tr>\n",
       "    <tr>\n",
       "      <th>...</th>\n",
       "      <td>...</td>\n",
       "      <td>...</td>\n",
       "      <td>...</td>\n",
       "      <td>...</td>\n",
       "      <td>...</td>\n",
       "      <td>...</td>\n",
       "      <td>...</td>\n",
       "      <td>...</td>\n",
       "    </tr>\n",
       "    <tr>\n",
       "      <th>323253</th>\n",
       "      <td>2</td>\n",
       "      <td>19</td>\n",
       "      <td>2.111111</td>\n",
       "      <td>24</td>\n",
       "      <td>5.07</td>\n",
       "      <td>31.45</td>\n",
       "      <td>152</td>\n",
       "      <td>25.295248</td>\n",
       "    </tr>\n",
       "    <tr>\n",
       "      <th>323254</th>\n",
       "      <td>3</td>\n",
       "      <td>17</td>\n",
       "      <td>2.125000</td>\n",
       "      <td>25</td>\n",
       "      <td>5.01</td>\n",
       "      <td>32.44</td>\n",
       "      <td>100</td>\n",
       "      <td>16.437651</td>\n",
       "    </tr>\n",
       "    <tr>\n",
       "      <th>323255</th>\n",
       "      <td>6</td>\n",
       "      <td>9</td>\n",
       "      <td>1.800000</td>\n",
       "      <td>24</td>\n",
       "      <td>5.01</td>\n",
       "      <td>31.44</td>\n",
       "      <td>21</td>\n",
       "      <td>3.338931</td>\n",
       "    </tr>\n",
       "    <tr>\n",
       "      <th>323256</th>\n",
       "      <td>5</td>\n",
       "      <td>10</td>\n",
       "      <td>1.666667</td>\n",
       "      <td>22</td>\n",
       "      <td>4.19</td>\n",
       "      <td>22.99</td>\n",
       "      <td>70</td>\n",
       "      <td>11.401138</td>\n",
       "    </tr>\n",
       "    <tr>\n",
       "      <th>323257</th>\n",
       "      <td>8</td>\n",
       "      <td>4</td>\n",
       "      <td>1.333333</td>\n",
       "      <td>22</td>\n",
       "      <td>5.07</td>\n",
       "      <td>31.45</td>\n",
       "      <td>8</td>\n",
       "      <td>1.246514</td>\n",
       "    </tr>\n",
       "  </tbody>\n",
       "</table>\n",
       "<p>323258 rows × 8 columns</p>\n",
       "</div>"
      ],
      "text/plain": [
       "        Wickets taken  Remaining Team Value  Remaining Average Team Value   \n",
       "0                   3                    16                      2.000000  \\\n",
       "1                   3                    16                      2.000000   \n",
       "2                   3                    16                      2.000000   \n",
       "3                   3                    16                      2.000000   \n",
       "4                   3                    16                      2.000000   \n",
       "...               ...                   ...                           ...   \n",
       "323253              2                    19                      2.111111   \n",
       "323254              3                    17                      2.125000   \n",
       "323255              6                     9                      1.800000   \n",
       "323256              5                    10                      1.666667   \n",
       "323257              8                     4                      1.333333   \n",
       "\n",
       "        Start Team Value  Ground RPO  Ground RPW  Remaining overs and balls   \n",
       "0                     24        4.79       29.31                        179  \\\n",
       "1                     24        4.79       29.31                        178   \n",
       "2                     24        4.79       29.31                        176   \n",
       "3                     24        4.79       29.31                        175   \n",
       "4                     24        4.79       29.31                        173   \n",
       "...                  ...         ...         ...                        ...   \n",
       "323253                24        5.07       31.45                        152   \n",
       "323254                25        5.01       32.44                        100   \n",
       "323255                24        5.01       31.44                         21   \n",
       "323256                22        4.19       22.99                         70   \n",
       "323257                22        5.07       31.45                          8   \n",
       "\n",
       "        Remainder  \n",
       "0       29.500000  \n",
       "1       29.400000  \n",
       "2       29.200000  \n",
       "3       29.100000  \n",
       "4       28.500000  \n",
       "...           ...  \n",
       "323253  25.295248  \n",
       "323254  16.437651  \n",
       "323255   3.338931  \n",
       "323256  11.401138  \n",
       "323257   1.246514  \n",
       "\n",
       "[323258 rows x 8 columns]"
      ]
     },
     "execution_count": 8,
     "metadata": {},
     "output_type": "execute_result"
    }
   ],
   "source": [
    "X_train"
   ]
  },
  {
   "cell_type": "code",
   "execution_count": 9,
   "metadata": {},
   "outputs": [
    {
     "data": {
      "text/html": [
       "<div>\n",
       "<style scoped>\n",
       "    .dataframe tbody tr th:only-of-type {\n",
       "        vertical-align: middle;\n",
       "    }\n",
       "\n",
       "    .dataframe tbody tr th {\n",
       "        vertical-align: top;\n",
       "    }\n",
       "\n",
       "    .dataframe thead th {\n",
       "        text-align: right;\n",
       "    }\n",
       "</style>\n",
       "<table border=\"1\" class=\"dataframe\">\n",
       "  <thead>\n",
       "    <tr style=\"text-align: right;\">\n",
       "      <th></th>\n",
       "      <th>Wickets taken</th>\n",
       "      <th>Remaining Team Value</th>\n",
       "      <th>Remaining Average Team Value</th>\n",
       "      <th>Start Team Value</th>\n",
       "      <th>Ground RPO</th>\n",
       "      <th>Ground RPW</th>\n",
       "      <th>Remaining overs and balls</th>\n",
       "      <th>Remainder</th>\n",
       "    </tr>\n",
       "  </thead>\n",
       "  <tbody>\n",
       "    <tr>\n",
       "      <th>0</th>\n",
       "      <td>3</td>\n",
       "      <td>16</td>\n",
       "      <td>2.000000</td>\n",
       "      <td>24</td>\n",
       "      <td>4.79</td>\n",
       "      <td>29.31</td>\n",
       "      <td>177</td>\n",
       "      <td>29.3</td>\n",
       "    </tr>\n",
       "    <tr>\n",
       "      <th>1</th>\n",
       "      <td>3</td>\n",
       "      <td>16</td>\n",
       "      <td>2.000000</td>\n",
       "      <td>24</td>\n",
       "      <td>4.79</td>\n",
       "      <td>29.31</td>\n",
       "      <td>174</td>\n",
       "      <td>29.0</td>\n",
       "    </tr>\n",
       "    <tr>\n",
       "      <th>2</th>\n",
       "      <td>3</td>\n",
       "      <td>16</td>\n",
       "      <td>2.000000</td>\n",
       "      <td>24</td>\n",
       "      <td>4.79</td>\n",
       "      <td>29.31</td>\n",
       "      <td>167</td>\n",
       "      <td>27.5</td>\n",
       "    </tr>\n",
       "    <tr>\n",
       "      <th>3</th>\n",
       "      <td>3</td>\n",
       "      <td>16</td>\n",
       "      <td>2.000000</td>\n",
       "      <td>24</td>\n",
       "      <td>4.79</td>\n",
       "      <td>29.31</td>\n",
       "      <td>163</td>\n",
       "      <td>27.1</td>\n",
       "    </tr>\n",
       "    <tr>\n",
       "      <th>4</th>\n",
       "      <td>3</td>\n",
       "      <td>16</td>\n",
       "      <td>2.000000</td>\n",
       "      <td>24</td>\n",
       "      <td>4.79</td>\n",
       "      <td>29.31</td>\n",
       "      <td>156</td>\n",
       "      <td>26.0</td>\n",
       "    </tr>\n",
       "    <tr>\n",
       "      <th>...</th>\n",
       "      <td>...</td>\n",
       "      <td>...</td>\n",
       "      <td>...</td>\n",
       "      <td>...</td>\n",
       "      <td>...</td>\n",
       "      <td>...</td>\n",
       "      <td>...</td>\n",
       "      <td>...</td>\n",
       "    </tr>\n",
       "    <tr>\n",
       "      <th>54040</th>\n",
       "      <td>2</td>\n",
       "      <td>16</td>\n",
       "      <td>1.777778</td>\n",
       "      <td>21</td>\n",
       "      <td>5.40</td>\n",
       "      <td>31.64</td>\n",
       "      <td>38</td>\n",
       "      <td>6.2</td>\n",
       "    </tr>\n",
       "    <tr>\n",
       "      <th>54041</th>\n",
       "      <td>2</td>\n",
       "      <td>16</td>\n",
       "      <td>1.777778</td>\n",
       "      <td>21</td>\n",
       "      <td>5.40</td>\n",
       "      <td>31.64</td>\n",
       "      <td>36</td>\n",
       "      <td>6.0</td>\n",
       "    </tr>\n",
       "    <tr>\n",
       "      <th>54042</th>\n",
       "      <td>3</td>\n",
       "      <td>13</td>\n",
       "      <td>1.625000</td>\n",
       "      <td>21</td>\n",
       "      <td>5.40</td>\n",
       "      <td>31.64</td>\n",
       "      <td>29</td>\n",
       "      <td>4.5</td>\n",
       "    </tr>\n",
       "    <tr>\n",
       "      <th>54043</th>\n",
       "      <td>3</td>\n",
       "      <td>13</td>\n",
       "      <td>1.625000</td>\n",
       "      <td>21</td>\n",
       "      <td>5.40</td>\n",
       "      <td>31.64</td>\n",
       "      <td>19</td>\n",
       "      <td>3.1</td>\n",
       "    </tr>\n",
       "    <tr>\n",
       "      <th>54044</th>\n",
       "      <td>3</td>\n",
       "      <td>13</td>\n",
       "      <td>1.625000</td>\n",
       "      <td>21</td>\n",
       "      <td>5.40</td>\n",
       "      <td>31.64</td>\n",
       "      <td>14</td>\n",
       "      <td>2.2</td>\n",
       "    </tr>\n",
       "  </tbody>\n",
       "</table>\n",
       "<p>54045 rows × 8 columns</p>\n",
       "</div>"
      ],
      "text/plain": [
       "       Wickets taken  Remaining Team Value  Remaining Average Team Value   \n",
       "0                  3                    16                      2.000000  \\\n",
       "1                  3                    16                      2.000000   \n",
       "2                  3                    16                      2.000000   \n",
       "3                  3                    16                      2.000000   \n",
       "4                  3                    16                      2.000000   \n",
       "...              ...                   ...                           ...   \n",
       "54040              2                    16                      1.777778   \n",
       "54041              2                    16                      1.777778   \n",
       "54042              3                    13                      1.625000   \n",
       "54043              3                    13                      1.625000   \n",
       "54044              3                    13                      1.625000   \n",
       "\n",
       "       Start Team Value  Ground RPO  Ground RPW  Remaining overs and balls   \n",
       "0                    24        4.79       29.31                        177  \\\n",
       "1                    24        4.79       29.31                        174   \n",
       "2                    24        4.79       29.31                        167   \n",
       "3                    24        4.79       29.31                        163   \n",
       "4                    24        4.79       29.31                        156   \n",
       "...                 ...         ...         ...                        ...   \n",
       "54040                21        5.40       31.64                         38   \n",
       "54041                21        5.40       31.64                         36   \n",
       "54042                21        5.40       31.64                         29   \n",
       "54043                21        5.40       31.64                         19   \n",
       "54044                21        5.40       31.64                         14   \n",
       "\n",
       "       Remainder  \n",
       "0           29.3  \n",
       "1           29.0  \n",
       "2           27.5  \n",
       "3           27.1  \n",
       "4           26.0  \n",
       "...          ...  \n",
       "54040        6.2  \n",
       "54041        6.0  \n",
       "54042        4.5  \n",
       "54043        3.1  \n",
       "54044        2.2  \n",
       "\n",
       "[54045 rows x 8 columns]"
      ]
     },
     "execution_count": 9,
     "metadata": {},
     "output_type": "execute_result"
    }
   ],
   "source": [
    "X_test"
   ]
  },
  {
   "cell_type": "markdown",
   "metadata": {},
   "source": [
    "Train the baseline RF classifier"
   ]
  },
  {
   "cell_type": "code",
   "execution_count": 10,
   "metadata": {},
   "outputs": [
    {
     "data": {
      "text/html": [
       "<style>#sk-container-id-1 {color: black;}#sk-container-id-1 pre{padding: 0;}#sk-container-id-1 div.sk-toggleable {background-color: white;}#sk-container-id-1 label.sk-toggleable__label {cursor: pointer;display: block;width: 100%;margin-bottom: 0;padding: 0.3em;box-sizing: border-box;text-align: center;}#sk-container-id-1 label.sk-toggleable__label-arrow:before {content: \"▸\";float: left;margin-right: 0.25em;color: #696969;}#sk-container-id-1 label.sk-toggleable__label-arrow:hover:before {color: black;}#sk-container-id-1 div.sk-estimator:hover label.sk-toggleable__label-arrow:before {color: black;}#sk-container-id-1 div.sk-toggleable__content {max-height: 0;max-width: 0;overflow: hidden;text-align: left;background-color: #f0f8ff;}#sk-container-id-1 div.sk-toggleable__content pre {margin: 0.2em;color: black;border-radius: 0.25em;background-color: #f0f8ff;}#sk-container-id-1 input.sk-toggleable__control:checked~div.sk-toggleable__content {max-height: 200px;max-width: 100%;overflow: auto;}#sk-container-id-1 input.sk-toggleable__control:checked~label.sk-toggleable__label-arrow:before {content: \"▾\";}#sk-container-id-1 div.sk-estimator input.sk-toggleable__control:checked~label.sk-toggleable__label {background-color: #d4ebff;}#sk-container-id-1 div.sk-label input.sk-toggleable__control:checked~label.sk-toggleable__label {background-color: #d4ebff;}#sk-container-id-1 input.sk-hidden--visually {border: 0;clip: rect(1px 1px 1px 1px);clip: rect(1px, 1px, 1px, 1px);height: 1px;margin: -1px;overflow: hidden;padding: 0;position: absolute;width: 1px;}#sk-container-id-1 div.sk-estimator {font-family: monospace;background-color: #f0f8ff;border: 1px dotted black;border-radius: 0.25em;box-sizing: border-box;margin-bottom: 0.5em;}#sk-container-id-1 div.sk-estimator:hover {background-color: #d4ebff;}#sk-container-id-1 div.sk-parallel-item::after {content: \"\";width: 100%;border-bottom: 1px solid gray;flex-grow: 1;}#sk-container-id-1 div.sk-label:hover label.sk-toggleable__label {background-color: #d4ebff;}#sk-container-id-1 div.sk-serial::before {content: \"\";position: absolute;border-left: 1px solid gray;box-sizing: border-box;top: 0;bottom: 0;left: 50%;z-index: 0;}#sk-container-id-1 div.sk-serial {display: flex;flex-direction: column;align-items: center;background-color: white;padding-right: 0.2em;padding-left: 0.2em;position: relative;}#sk-container-id-1 div.sk-item {position: relative;z-index: 1;}#sk-container-id-1 div.sk-parallel {display: flex;align-items: stretch;justify-content: center;background-color: white;position: relative;}#sk-container-id-1 div.sk-item::before, #sk-container-id-1 div.sk-parallel-item::before {content: \"\";position: absolute;border-left: 1px solid gray;box-sizing: border-box;top: 0;bottom: 0;left: 50%;z-index: -1;}#sk-container-id-1 div.sk-parallel-item {display: flex;flex-direction: column;z-index: 1;position: relative;background-color: white;}#sk-container-id-1 div.sk-parallel-item:first-child::after {align-self: flex-end;width: 50%;}#sk-container-id-1 div.sk-parallel-item:last-child::after {align-self: flex-start;width: 50%;}#sk-container-id-1 div.sk-parallel-item:only-child::after {width: 0;}#sk-container-id-1 div.sk-dashed-wrapped {border: 1px dashed gray;margin: 0 0.4em 0.5em 0.4em;box-sizing: border-box;padding-bottom: 0.4em;background-color: white;}#sk-container-id-1 div.sk-label label {font-family: monospace;font-weight: bold;display: inline-block;line-height: 1.2em;}#sk-container-id-1 div.sk-label-container {text-align: center;}#sk-container-id-1 div.sk-container {/* jupyter's `normalize.less` sets `[hidden] { display: none; }` but bootstrap.min.css set `[hidden] { display: none !important; }` so we also need the `!important` here to be able to override the default hidden behavior on the sphinx rendered scikit-learn.org. See: https://github.com/scikit-learn/scikit-learn/issues/21755 */display: inline-block !important;position: relative;}#sk-container-id-1 div.sk-text-repr-fallback {display: none;}</style><div id=\"sk-container-id-1\" class=\"sk-top-container\"><div class=\"sk-text-repr-fallback\"><pre>RandomForestClassifier(random_state=7)</pre><b>In a Jupyter environment, please rerun this cell to show the HTML representation or trust the notebook. <br />On GitHub, the HTML representation is unable to render, please try loading this page with nbviewer.org.</b></div><div class=\"sk-container\" hidden><div class=\"sk-item\"><div class=\"sk-estimator sk-toggleable\"><input class=\"sk-toggleable__control sk-hidden--visually\" id=\"sk-estimator-id-1\" type=\"checkbox\" checked><label for=\"sk-estimator-id-1\" class=\"sk-toggleable__label sk-toggleable__label-arrow\">RandomForestClassifier</label><div class=\"sk-toggleable__content\"><pre>RandomForestClassifier(random_state=7)</pre></div></div></div></div></div>"
      ],
      "text/plain": [
       "RandomForestClassifier(random_state=7)"
      ]
     },
     "execution_count": 10,
     "metadata": {},
     "output_type": "execute_result"
    }
   ],
   "source": [
    "rnd_clf = RandomForestClassifier(random_state=7)\n",
    "rnd_clf.fit(X_train, y_train)"
   ]
  },
  {
   "cell_type": "code",
   "execution_count": 11,
   "metadata": {},
   "outputs": [
    {
     "name": "stdout",
     "output_type": "stream",
     "text": [
      "Training score: 0.9780144652259186\n",
      "Testing score: 0.9309279304283468\n"
     ]
    }
   ],
   "source": [
    "rnd_clf_train_score = rnd_clf.score(X_train, y_train)\n",
    "rnd_clf_test_score = rnd_clf.score(X_test, y_test)\n",
    "print(\"Training score:\", rnd_clf_train_score)\n",
    "print(\"Testing score:\", rnd_clf_test_score)"
   ]
  },
  {
   "cell_type": "code",
   "execution_count": 12,
   "metadata": {},
   "outputs": [],
   "source": [
    "y_pred_rf = rnd_clf.predict(X_test)\n",
    "cm = confusion_matrix(y_test, y_pred_rf, labels=rnd_clf.classes_)\n",
    "cm_norm = confusion_matrix(y_test, y_pred_rf, labels=rnd_clf.classes_, normalize='true')\n",
    "cmd = ConfusionMatrixDisplay(confusion_matrix = cm, display_labels=['1', '2', '3'])"
   ]
  },
  {
   "cell_type": "code",
   "execution_count": 13,
   "metadata": {},
   "outputs": [
    {
     "data": {
      "image/png": "[encoded data removed]",
      "text/plain": [
       "<Figure size 640x480 with 2 Axes>"
      ]
     },
     "metadata": {},
     "output_type": "display_data"
    }
   ],
   "source": [
    "cmd.plot()\n",
    "plt.ylabel('Actual Values')\n",
    "plt.xlabel('Predicted Values')\n",
    "plt.show()"
   ]
  },
  {
   "cell_type": "code",
   "execution_count": 14,
   "metadata": {},
   "outputs": [
    {
     "data": {
      "image/png": "[encoded data removed]",
      "text/plain": [
       "<Figure size 640x480 with 2 Axes>"
      ]
     },
     "metadata": {},
     "output_type": "display_data"
    }
   ],
   "source": [
    "cmd_norm = ConfusionMatrixDisplay(confusion_matrix = cm_norm, display_labels=['1', '2', '3'])\n",
    "cmd_norm.plot()\n",
    "plt.ylabel('Actual Values')\n",
    "plt.xlabel('Predicted Values')\n",
    "plt.show()"
   ]
  },
  {
   "cell_type": "code",
   "execution_count": 15,
   "metadata": {},
   "outputs": [
    {
     "name": "stdout",
     "output_type": "stream",
     "text": [
      "              precision    recall  f1-score   support\n",
      "\n",
      "           1       0.94      0.93      0.94     27463\n",
      "           2       0.80      0.82      0.81       702\n",
      "           3       0.93      0.93      0.93     25880\n",
      "\n",
      "    accuracy                           0.93     54045\n",
      "   macro avg       0.89      0.90      0.89     54045\n",
      "weighted avg       0.93      0.93      0.93     54045\n",
      "\n"
     ]
    }
   ],
   "source": [
    "print(classification_report(y_test, y_pred_rf))"
   ]
  },
  {
   "cell_type": "markdown",
   "metadata": {},
   "source": [
    "Tune the RF model"
   ]
  },
  {
   "cell_type": "code",
   "execution_count": 41,
   "metadata": {},
   "outputs": [
    {
     "name": "stdout",
     "output_type": "stream",
     "text": [
      "Accuracy for 1 max_depth is:0.6838560458876862\n",
      "Accuracy for 2 max_depth is:0.6650013877324452\n",
      "Accuracy for 3 max_depth is:0.6482375797946156\n",
      "Accuracy for 4 max_depth is:0.63350911277639\n",
      "Accuracy for 5 max_depth is:0.6547876769358868\n",
      "Accuracy for 6 max_depth is:0.6719585530576372\n",
      "Accuracy for 7 max_depth is:0.7016745304838561\n",
      "Accuracy for 8 max_depth is:0.7243963363863447\n",
      "Accuracy for 9 max_depth is:0.7551114811730965\n",
      "Accuracy for 10 max_depth is:0.7836987695438986\n",
      "Accuracy for 11 max_depth is:0.8137478027569618\n",
      "Accuracy for 12 max_depth is:0.8407993338884263\n",
      "Accuracy for 13 max_depth is:0.8682764363030807\n",
      "Accuracy for 14 max_depth is:0.8940327504857064\n",
      "Accuracy for 15 max_depth is:0.9143121472846701\n",
      "Accuracy for 16 max_depth is:0.9296327134795078\n",
      "Accuracy for 17 max_depth is:0.9393283374965307\n",
      "Accuracy for 18 max_depth is:0.9427699139605884\n",
      "Accuracy for 19 max_depth is:0.9429364418540106\n",
      "Accuracy for 20 max_depth is:0.9416042187066334\n",
      "Accuracy for 21 max_depth is:0.9385882135257656\n",
      "Accuracy for 22 max_depth is:0.9368119159959293\n",
      "Accuracy for 23 max_depth is:0.9357202331390508\n",
      "Accuracy for 24 max_depth is:0.9350911277639005\n",
      "Accuracy for 25 max_depth is:0.9351096308631696\n",
      "Accuracy for 26 max_depth is:0.934591544083634\n",
      "Accuracy for 27 max_depth is:0.9343695068924045\n",
      "Accuracy for 28 max_depth is:0.9341104635026367\n",
      "Accuracy for 29 max_depth is:0.9337774077157924\n",
      "Accuracy for 30 max_depth is:0.9334258488296789\n",
      "Accuracy for 31 max_depth is:0.9333518364326024\n",
      "Accuracy for 32 max_depth is:0.9331853085391804\n",
      "Accuracy for 33 max_depth is:0.933129799241373\n",
      "Accuracy for 34 max_depth is:0.9330002775464891\n",
      "Accuracy for 35 max_depth is:0.9330742899435656\n",
      "Accuracy for 36 max_depth is:0.9330372837450273\n",
      "Accuracy for 37 max_depth is:0.9330002775464891\n",
      "Accuracy for 38 max_depth is:0.9329817744472199\n",
      "Accuracy for 39 max_depth is:0.9330187806457582\n",
      "Accuracy for 40 max_depth is:0.9330557868442965\n",
      "Accuracy for 41 max_depth is:0.9330742899435656\n",
      "Accuracy for 42 max_depth is:0.9330742899435656\n",
      "Accuracy for 43 max_depth is:0.933148302340642\n",
      "Accuracy for 44 max_depth is:0.9330187806457582\n",
      "Accuracy for 45 max_depth is:0.9330372837450273\n",
      "Accuracy for 46 max_depth is:0.9330002775464891\n",
      "Accuracy for 47 max_depth is:0.9330557868442965\n",
      "Accuracy for 48 max_depth is:0.9330372837450273\n",
      "Accuracy for 49 max_depth is:0.9330372837450273\n",
      "Accuracy for 50 max_depth is:0.9330187806457582\n"
     ]
    }
   ],
   "source": [
    "for m in range(1,51):\n",
    "    model = RandomForestClassifier(n_estimators=1000, max_depth=m, n_jobs=-1, random_state=7)\n",
    "    model.fit(X_train, y_train)\n",
    "    y_pred = model.predict(X_val)\n",
    "    accuracy = accuracy_score(y_val, y_pred)\n",
    "    print(f\"Accuracy for {m} max_depth is:{accuracy}\")"
   ]
  },
  {
   "cell_type": "markdown",
   "metadata": {},
   "source": [
    "https://github.com/ngoix/scikit-learn/commit/2661da0d3578eda406dcf1867443d9f744165c5f"
   ]
  },
  {
   "cell_type": "code",
   "execution_count": 51,
   "metadata": {},
   "outputs": [
    {
     "name": "stderr",
     "output_type": "stream",
     "text": [
      "C:\\Users\\carth\\AppData\\Local\\Packages\\PythonSoftwareFoundation.Python.3.10_qbz5n2kfra8p0\\LocalCache\\local-packages\\Python310\\site-packages\\sklearn\\ensemble\\_forest.py:578: UserWarning: Some inputs do not have OOB scores. This probably means too few trees were used to compute any reliable OOB estimates.\n",
      "  warn(\n"
     ]
    },
    {
     "name": "stdout",
     "output_type": "stream",
     "text": [
      "1 RandomForestClassifier (max_features='auto')\n"
     ]
    },
    {
     "name": "stderr",
     "output_type": "stream",
     "text": [
      "C:\\Users\\carth\\AppData\\Local\\Packages\\PythonSoftwareFoundation.Python.3.10_qbz5n2kfra8p0\\LocalCache\\local-packages\\Python310\\site-packages\\sklearn\\ensemble\\_forest.py:578: UserWarning: Some inputs do not have OOB scores. This probably means too few trees were used to compute any reliable OOB estimates.\n",
      "  warn(\n"
     ]
    },
    {
     "name": "stdout",
     "output_type": "stream",
     "text": [
      "2 RandomForestClassifier (max_features='auto')\n"
     ]
    },
    {
     "name": "stderr",
     "output_type": "stream",
     "text": [
      "C:\\Users\\carth\\AppData\\Local\\Packages\\PythonSoftwareFoundation.Python.3.10_qbz5n2kfra8p0\\LocalCache\\local-packages\\Python310\\site-packages\\sklearn\\ensemble\\_forest.py:578: UserWarning: Some inputs do not have OOB scores. This probably means too few trees were used to compute any reliable OOB estimates.\n",
      "  warn(\n"
     ]
    },
    {
     "name": "stdout",
     "output_type": "stream",
     "text": [
      "3 RandomForestClassifier (max_features='auto')\n"
     ]
    },
    {
     "name": "stderr",
     "output_type": "stream",
     "text": [
      "C:\\Users\\carth\\AppData\\Local\\Packages\\PythonSoftwareFoundation.Python.3.10_qbz5n2kfra8p0\\LocalCache\\local-packages\\Python310\\site-packages\\sklearn\\ensemble\\_forest.py:578: UserWarning: Some inputs do not have OOB scores. This probably means too few trees were used to compute any reliable OOB estimates.\n",
      "  warn(\n"
     ]
    },
    {
     "name": "stdout",
     "output_type": "stream",
     "text": [
      "4 RandomForestClassifier (max_features='auto')\n"
     ]
    },
    {
     "name": "stderr",
     "output_type": "stream",
     "text": [
      "C:\\Users\\carth\\AppData\\Local\\Packages\\PythonSoftwareFoundation.Python.3.10_qbz5n2kfra8p0\\LocalCache\\local-packages\\Python310\\site-packages\\sklearn\\ensemble\\_forest.py:578: UserWarning: Some inputs do not have OOB scores. This probably means too few trees were used to compute any reliable OOB estimates.\n",
      "  warn(\n"
     ]
    },
    {
     "name": "stdout",
     "output_type": "stream",
     "text": [
      "5 RandomForestClassifier (max_features='auto')\n"
     ]
    },
    {
     "name": "stderr",
     "output_type": "stream",
     "text": [
      "C:\\Users\\carth\\AppData\\Local\\Packages\\PythonSoftwareFoundation.Python.3.10_qbz5n2kfra8p0\\LocalCache\\local-packages\\Python310\\site-packages\\sklearn\\ensemble\\_forest.py:578: UserWarning: Some inputs do not have OOB scores. This probably means too few trees were used to compute any reliable OOB estimates.\n",
      "  warn(\n"
     ]
    },
    {
     "name": "stdout",
     "output_type": "stream",
     "text": [
      "6 RandomForestClassifier (max_features='auto')\n"
     ]
    },
    {
     "name": "stderr",
     "output_type": "stream",
     "text": [
      "C:\\Users\\carth\\AppData\\Local\\Packages\\PythonSoftwareFoundation.Python.3.10_qbz5n2kfra8p0\\LocalCache\\local-packages\\Python310\\site-packages\\sklearn\\ensemble\\_forest.py:578: UserWarning: Some inputs do not have OOB scores. This probably means too few trees were used to compute any reliable OOB estimates.\n",
      "  warn(\n"
     ]
    },
    {
     "name": "stdout",
     "output_type": "stream",
     "text": [
      "7 RandomForestClassifier (max_features='auto')\n"
     ]
    },
    {
     "name": "stderr",
     "output_type": "stream",
     "text": [
      "C:\\Users\\carth\\AppData\\Local\\Packages\\PythonSoftwareFoundation.Python.3.10_qbz5n2kfra8p0\\LocalCache\\local-packages\\Python310\\site-packages\\sklearn\\ensemble\\_forest.py:578: UserWarning: Some inputs do not have OOB scores. This probably means too few trees were used to compute any reliable OOB estimates.\n",
      "  warn(\n"
     ]
    },
    {
     "name": "stdout",
     "output_type": "stream",
     "text": [
      "8 RandomForestClassifier (max_features='auto')\n"
     ]
    },
    {
     "name": "stderr",
     "output_type": "stream",
     "text": [
      "C:\\Users\\carth\\AppData\\Local\\Packages\\PythonSoftwareFoundation.Python.3.10_qbz5n2kfra8p0\\LocalCache\\local-packages\\Python310\\site-packages\\sklearn\\ensemble\\_forest.py:578: UserWarning: Some inputs do not have OOB scores. This probably means too few trees were used to compute any reliable OOB estimates.\n",
      "  warn(\n"
     ]
    },
    {
     "name": "stdout",
     "output_type": "stream",
     "text": [
      "9 RandomForestClassifier (max_features='auto')\n"
     ]
    },
    {
     "name": "stderr",
     "output_type": "stream",
     "text": [
      "C:\\Users\\carth\\AppData\\Local\\Packages\\PythonSoftwareFoundation.Python.3.10_qbz5n2kfra8p0\\LocalCache\\local-packages\\Python310\\site-packages\\sklearn\\ensemble\\_forest.py:578: UserWarning: Some inputs do not have OOB scores. This probably means too few trees were used to compute any reliable OOB estimates.\n",
      "  warn(\n"
     ]
    },
    {
     "name": "stdout",
     "output_type": "stream",
     "text": [
      "10 RandomForestClassifier (max_features='auto')\n"
     ]
    },
    {
     "name": "stderr",
     "output_type": "stream",
     "text": [
      "C:\\Users\\carth\\AppData\\Local\\Packages\\PythonSoftwareFoundation.Python.3.10_qbz5n2kfra8p0\\LocalCache\\local-packages\\Python310\\site-packages\\sklearn\\ensemble\\_forest.py:578: UserWarning: Some inputs do not have OOB scores. This probably means too few trees were used to compute any reliable OOB estimates.\n",
      "  warn(\n"
     ]
    },
    {
     "name": "stdout",
     "output_type": "stream",
     "text": [
      "11 RandomForestClassifier (max_features='auto')\n"
     ]
    },
    {
     "name": "stderr",
     "output_type": "stream",
     "text": [
      "C:\\Users\\carth\\AppData\\Local\\Packages\\PythonSoftwareFoundation.Python.3.10_qbz5n2kfra8p0\\LocalCache\\local-packages\\Python310\\site-packages\\sklearn\\ensemble\\_forest.py:578: UserWarning: Some inputs do not have OOB scores. This probably means too few trees were used to compute any reliable OOB estimates.\n",
      "  warn(\n"
     ]
    },
    {
     "name": "stdout",
     "output_type": "stream",
     "text": [
      "12 RandomForestClassifier (max_features='auto')\n"
     ]
    },
    {
     "name": "stderr",
     "output_type": "stream",
     "text": [
      "C:\\Users\\carth\\AppData\\Local\\Packages\\PythonSoftwareFoundation.Python.3.10_qbz5n2kfra8p0\\LocalCache\\local-packages\\Python310\\site-packages\\sklearn\\ensemble\\_forest.py:578: UserWarning: Some inputs do not have OOB scores. This probably means too few trees were used to compute any reliable OOB estimates.\n",
      "  warn(\n"
     ]
    },
    {
     "name": "stdout",
     "output_type": "stream",
     "text": [
      "13 RandomForestClassifier (max_features='auto')\n"
     ]
    },
    {
     "name": "stderr",
     "output_type": "stream",
     "text": [
      "C:\\Users\\carth\\AppData\\Local\\Packages\\PythonSoftwareFoundation.Python.3.10_qbz5n2kfra8p0\\LocalCache\\local-packages\\Python310\\site-packages\\sklearn\\ensemble\\_forest.py:578: UserWarning: Some inputs do not have OOB scores. This probably means too few trees were used to compute any reliable OOB estimates.\n",
      "  warn(\n"
     ]
    },
    {
     "name": "stdout",
     "output_type": "stream",
     "text": [
      "14 RandomForestClassifier (max_features='auto')\n"
     ]
    },
    {
     "name": "stderr",
     "output_type": "stream",
     "text": [
      "C:\\Users\\carth\\AppData\\Local\\Packages\\PythonSoftwareFoundation.Python.3.10_qbz5n2kfra8p0\\LocalCache\\local-packages\\Python310\\site-packages\\sklearn\\ensemble\\_forest.py:578: UserWarning: Some inputs do not have OOB scores. This probably means too few trees were used to compute any reliable OOB estimates.\n",
      "  warn(\n"
     ]
    },
    {
     "name": "stdout",
     "output_type": "stream",
     "text": [
      "15 RandomForestClassifier (max_features='auto')\n"
     ]
    },
    {
     "name": "stderr",
     "output_type": "stream",
     "text": [
      "C:\\Users\\carth\\AppData\\Local\\Packages\\PythonSoftwareFoundation.Python.3.10_qbz5n2kfra8p0\\LocalCache\\local-packages\\Python310\\site-packages\\sklearn\\ensemble\\_forest.py:578: UserWarning: Some inputs do not have OOB scores. This probably means too few trees were used to compute any reliable OOB estimates.\n",
      "  warn(\n"
     ]
    },
    {
     "name": "stdout",
     "output_type": "stream",
     "text": [
      "16 RandomForestClassifier (max_features='auto')\n"
     ]
    },
    {
     "name": "stderr",
     "output_type": "stream",
     "text": [
      "C:\\Users\\carth\\AppData\\Local\\Packages\\PythonSoftwareFoundation.Python.3.10_qbz5n2kfra8p0\\LocalCache\\local-packages\\Python310\\site-packages\\sklearn\\ensemble\\_forest.py:578: UserWarning: Some inputs do not have OOB scores. This probably means too few trees were used to compute any reliable OOB estimates.\n",
      "  warn(\n"
     ]
    },
    {
     "name": "stdout",
     "output_type": "stream",
     "text": [
      "17 RandomForestClassifier (max_features='auto')\n"
     ]
    },
    {
     "name": "stderr",
     "output_type": "stream",
     "text": [
      "C:\\Users\\carth\\AppData\\Local\\Packages\\PythonSoftwareFoundation.Python.3.10_qbz5n2kfra8p0\\LocalCache\\local-packages\\Python310\\site-packages\\sklearn\\ensemble\\_forest.py:578: UserWarning: Some inputs do not have OOB scores. This probably means too few trees were used to compute any reliable OOB estimates.\n",
      "  warn(\n"
     ]
    },
    {
     "name": "stdout",
     "output_type": "stream",
     "text": [
      "18 RandomForestClassifier (max_features='auto')\n"
     ]
    },
    {
     "name": "stderr",
     "output_type": "stream",
     "text": [
      "C:\\Users\\carth\\AppData\\Local\\Packages\\PythonSoftwareFoundation.Python.3.10_qbz5n2kfra8p0\\LocalCache\\local-packages\\Python310\\site-packages\\sklearn\\ensemble\\_forest.py:578: UserWarning: Some inputs do not have OOB scores. This probably means too few trees were used to compute any reliable OOB estimates.\n",
      "  warn(\n"
     ]
    },
    {
     "name": "stdout",
     "output_type": "stream",
     "text": [
      "19 RandomForestClassifier (max_features='auto')\n"
     ]
    },
    {
     "name": "stderr",
     "output_type": "stream",
     "text": [
      "C:\\Users\\carth\\AppData\\Local\\Packages\\PythonSoftwareFoundation.Python.3.10_qbz5n2kfra8p0\\LocalCache\\local-packages\\Python310\\site-packages\\sklearn\\ensemble\\_forest.py:578: UserWarning: Some inputs do not have OOB scores. This probably means too few trees were used to compute any reliable OOB estimates.\n",
      "  warn(\n"
     ]
    },
    {
     "name": "stdout",
     "output_type": "stream",
     "text": [
      "20 RandomForestClassifier (max_features='auto')\n"
     ]
    },
    {
     "name": "stderr",
     "output_type": "stream",
     "text": [
      "C:\\Users\\carth\\AppData\\Local\\Packages\\PythonSoftwareFoundation.Python.3.10_qbz5n2kfra8p0\\LocalCache\\local-packages\\Python310\\site-packages\\sklearn\\ensemble\\_forest.py:578: UserWarning: Some inputs do not have OOB scores. This probably means too few trees were used to compute any reliable OOB estimates.\n",
      "  warn(\n"
     ]
    },
    {
     "name": "stdout",
     "output_type": "stream",
     "text": [
      "21 RandomForestClassifier (max_features='auto')\n"
     ]
    },
    {
     "name": "stderr",
     "output_type": "stream",
     "text": [
      "C:\\Users\\carth\\AppData\\Local\\Packages\\PythonSoftwareFoundation.Python.3.10_qbz5n2kfra8p0\\LocalCache\\local-packages\\Python310\\site-packages\\sklearn\\ensemble\\_forest.py:578: UserWarning: Some inputs do not have OOB scores. This probably means too few trees were used to compute any reliable OOB estimates.\n",
      "  warn(\n"
     ]
    },
    {
     "name": "stdout",
     "output_type": "stream",
     "text": [
      "22 RandomForestClassifier (max_features='auto')\n"
     ]
    },
    {
     "name": "stderr",
     "output_type": "stream",
     "text": [
      "C:\\Users\\carth\\AppData\\Local\\Packages\\PythonSoftwareFoundation.Python.3.10_qbz5n2kfra8p0\\LocalCache\\local-packages\\Python310\\site-packages\\sklearn\\ensemble\\_forest.py:578: UserWarning: Some inputs do not have OOB scores. This probably means too few trees were used to compute any reliable OOB estimates.\n",
      "  warn(\n"
     ]
    },
    {
     "name": "stdout",
     "output_type": "stream",
     "text": [
      "23 RandomForestClassifier (max_features='auto')\n"
     ]
    },
    {
     "name": "stderr",
     "output_type": "stream",
     "text": [
      "C:\\Users\\carth\\AppData\\Local\\Packages\\PythonSoftwareFoundation.Python.3.10_qbz5n2kfra8p0\\LocalCache\\local-packages\\Python310\\site-packages\\sklearn\\ensemble\\_forest.py:578: UserWarning: Some inputs do not have OOB scores. This probably means too few trees were used to compute any reliable OOB estimates.\n",
      "  warn(\n"
     ]
    },
    {
     "name": "stdout",
     "output_type": "stream",
     "text": [
      "24 RandomForestClassifier (max_features='auto')\n"
     ]
    },
    {
     "name": "stderr",
     "output_type": "stream",
     "text": [
      "C:\\Users\\carth\\AppData\\Local\\Packages\\PythonSoftwareFoundation.Python.3.10_qbz5n2kfra8p0\\LocalCache\\local-packages\\Python310\\site-packages\\sklearn\\ensemble\\_forest.py:578: UserWarning: Some inputs do not have OOB scores. This probably means too few trees were used to compute any reliable OOB estimates.\n",
      "  warn(\n"
     ]
    },
    {
     "name": "stdout",
     "output_type": "stream",
     "text": [
      "25 RandomForestClassifier (max_features='auto')\n"
     ]
    },
    {
     "name": "stderr",
     "output_type": "stream",
     "text": [
      "C:\\Users\\carth\\AppData\\Local\\Packages\\PythonSoftwareFoundation.Python.3.10_qbz5n2kfra8p0\\LocalCache\\local-packages\\Python310\\site-packages\\sklearn\\ensemble\\_forest.py:578: UserWarning: Some inputs do not have OOB scores. This probably means too few trees were used to compute any reliable OOB estimates.\n",
      "  warn(\n"
     ]
    },
    {
     "name": "stdout",
     "output_type": "stream",
     "text": [
      "26 RandomForestClassifier (max_features='auto')\n"
     ]
    },
    {
     "name": "stderr",
     "output_type": "stream",
     "text": [
      "C:\\Users\\carth\\AppData\\Local\\Packages\\PythonSoftwareFoundation.Python.3.10_qbz5n2kfra8p0\\LocalCache\\local-packages\\Python310\\site-packages\\sklearn\\ensemble\\_forest.py:578: UserWarning: Some inputs do not have OOB scores. This probably means too few trees were used to compute any reliable OOB estimates.\n",
      "  warn(\n"
     ]
    },
    {
     "name": "stdout",
     "output_type": "stream",
     "text": [
      "27 RandomForestClassifier (max_features='auto')\n"
     ]
    },
    {
     "name": "stderr",
     "output_type": "stream",
     "text": [
      "C:\\Users\\carth\\AppData\\Local\\Packages\\PythonSoftwareFoundation.Python.3.10_qbz5n2kfra8p0\\LocalCache\\local-packages\\Python310\\site-packages\\sklearn\\ensemble\\_forest.py:578: UserWarning: Some inputs do not have OOB scores. This probably means too few trees were used to compute any reliable OOB estimates.\n",
      "  warn(\n"
     ]
    },
    {
     "name": "stdout",
     "output_type": "stream",
     "text": [
      "28 RandomForestClassifier (max_features='auto')\n"
     ]
    },
    {
     "name": "stderr",
     "output_type": "stream",
     "text": [
      "C:\\Users\\carth\\AppData\\Local\\Packages\\PythonSoftwareFoundation.Python.3.10_qbz5n2kfra8p0\\LocalCache\\local-packages\\Python310\\site-packages\\sklearn\\ensemble\\_forest.py:578: UserWarning: Some inputs do not have OOB scores. This probably means too few trees were used to compute any reliable OOB estimates.\n",
      "  warn(\n"
     ]
    },
    {
     "name": "stdout",
     "output_type": "stream",
     "text": [
      "29 RandomForestClassifier (max_features='auto')\n"
     ]
    },
    {
     "name": "stderr",
     "output_type": "stream",
     "text": [
      "C:\\Users\\carth\\AppData\\Local\\Packages\\PythonSoftwareFoundation.Python.3.10_qbz5n2kfra8p0\\LocalCache\\local-packages\\Python310\\site-packages\\sklearn\\ensemble\\_forest.py:578: UserWarning: Some inputs do not have OOB scores. This probably means too few trees were used to compute any reliable OOB estimates.\n",
      "  warn(\n"
     ]
    },
    {
     "name": "stdout",
     "output_type": "stream",
     "text": [
      "30 RandomForestClassifier (max_features='auto')\n"
     ]
    },
    {
     "name": "stderr",
     "output_type": "stream",
     "text": [
      "C:\\Users\\carth\\AppData\\Local\\Packages\\PythonSoftwareFoundation.Python.3.10_qbz5n2kfra8p0\\LocalCache\\local-packages\\Python310\\site-packages\\sklearn\\ensemble\\_forest.py:578: UserWarning: Some inputs do not have OOB scores. This probably means too few trees were used to compute any reliable OOB estimates.\n",
      "  warn(\n"
     ]
    },
    {
     "name": "stdout",
     "output_type": "stream",
     "text": [
      "31 RandomForestClassifier (max_features='auto')\n"
     ]
    },
    {
     "name": "stderr",
     "output_type": "stream",
     "text": [
      "C:\\Users\\carth\\AppData\\Local\\Packages\\PythonSoftwareFoundation.Python.3.10_qbz5n2kfra8p0\\LocalCache\\local-packages\\Python310\\site-packages\\sklearn\\ensemble\\_forest.py:578: UserWarning: Some inputs do not have OOB scores. This probably means too few trees were used to compute any reliable OOB estimates.\n",
      "  warn(\n"
     ]
    },
    {
     "name": "stdout",
     "output_type": "stream",
     "text": [
      "32 RandomForestClassifier (max_features='auto')\n",
      "33 RandomForestClassifier (max_features='auto')\n",
      "34 RandomForestClassifier (max_features='auto')\n",
      "35 RandomForestClassifier (max_features='auto')\n",
      "36 RandomForestClassifier (max_features='auto')\n",
      "37 RandomForestClassifier (max_features='auto')\n",
      "38 RandomForestClassifier (max_features='auto')\n",
      "39 RandomForestClassifier (max_features='auto')\n",
      "40 RandomForestClassifier (max_features='auto')\n",
      "41 RandomForestClassifier (max_features='auto')\n",
      "42 RandomForestClassifier (max_features='auto')\n",
      "43 RandomForestClassifier (max_features='auto')\n",
      "44 RandomForestClassifier (max_features='auto')\n",
      "45 RandomForestClassifier (max_features='auto')\n",
      "46 RandomForestClassifier (max_features='auto')\n",
      "47 RandomForestClassifier (max_features='auto')\n",
      "48 RandomForestClassifier (max_features='auto')\n",
      "49 RandomForestClassifier (max_features='auto')\n",
      "50 RandomForestClassifier (max_features='auto')\n",
      "51 RandomForestClassifier (max_features='auto')\n",
      "52 RandomForestClassifier (max_features='auto')\n",
      "53 RandomForestClassifier (max_features='auto')\n",
      "54 RandomForestClassifier (max_features='auto')\n",
      "55 RandomForestClassifier (max_features='auto')\n",
      "56 RandomForestClassifier (max_features='auto')\n",
      "57 RandomForestClassifier (max_features='auto')\n",
      "58 RandomForestClassifier (max_features='auto')\n",
      "59 RandomForestClassifier (max_features='auto')\n",
      "60 RandomForestClassifier (max_features='auto')\n",
      "61 RandomForestClassifier (max_features='auto')\n",
      "62 RandomForestClassifier (max_features='auto')\n",
      "63 RandomForestClassifier (max_features='auto')\n",
      "64 RandomForestClassifier (max_features='auto')\n",
      "65 RandomForestClassifier (max_features='auto')\n",
      "66 RandomForestClassifier (max_features='auto')\n",
      "67 RandomForestClassifier (max_features='auto')\n",
      "68 RandomForestClassifier (max_features='auto')\n",
      "69 RandomForestClassifier (max_features='auto')\n",
      "70 RandomForestClassifier (max_features='auto')\n",
      "71 RandomForestClassifier (max_features='auto')\n",
      "72 RandomForestClassifier (max_features='auto')\n",
      "73 RandomForestClassifier (max_features='auto')\n",
      "74 RandomForestClassifier (max_features='auto')\n",
      "75 RandomForestClassifier (max_features='auto')\n",
      "76 RandomForestClassifier (max_features='auto')\n",
      "77 RandomForestClassifier (max_features='auto')\n",
      "78 RandomForestClassifier (max_features='auto')\n",
      "79 RandomForestClassifier (max_features='auto')\n",
      "80 RandomForestClassifier (max_features='auto')\n",
      "81 RandomForestClassifier (max_features='auto')\n",
      "82 RandomForestClassifier (max_features='auto')\n",
      "83 RandomForestClassifier (max_features='auto')\n",
      "84 RandomForestClassifier (max_features='auto')\n",
      "85 RandomForestClassifier (max_features='auto')\n",
      "86 RandomForestClassifier (max_features='auto')\n",
      "87 RandomForestClassifier (max_features='auto')\n",
      "88 RandomForestClassifier (max_features='auto')\n",
      "89 RandomForestClassifier (max_features='auto')\n",
      "90 RandomForestClassifier (max_features='auto')\n",
      "91 RandomForestClassifier (max_features='auto')\n",
      "92 RandomForestClassifier (max_features='auto')\n",
      "93 RandomForestClassifier (max_features='auto')\n",
      "94 RandomForestClassifier (max_features='auto')\n",
      "95 RandomForestClassifier (max_features='auto')\n",
      "96 RandomForestClassifier (max_features='auto')\n",
      "97 RandomForestClassifier (max_features='auto')\n",
      "98 RandomForestClassifier (max_features='auto')\n",
      "99 RandomForestClassifier (max_features='auto')\n",
      "100 RandomForestClassifier (max_features='auto')\n",
      "101 RandomForestClassifier (max_features='auto')\n",
      "102 RandomForestClassifier (max_features='auto')\n",
      "103 RandomForestClassifier (max_features='auto')\n",
      "104 RandomForestClassifier (max_features='auto')\n",
      "105 RandomForestClassifier (max_features='auto')\n",
      "106 RandomForestClassifier (max_features='auto')\n",
      "107 RandomForestClassifier (max_features='auto')\n",
      "108 RandomForestClassifier (max_features='auto')\n",
      "109 RandomForestClassifier (max_features='auto')\n",
      "110 RandomForestClassifier (max_features='auto')\n",
      "111 RandomForestClassifier (max_features='auto')\n",
      "112 RandomForestClassifier (max_features='auto')\n",
      "113 RandomForestClassifier (max_features='auto')\n",
      "114 RandomForestClassifier (max_features='auto')\n",
      "115 RandomForestClassifier (max_features='auto')\n",
      "116 RandomForestClassifier (max_features='auto')\n",
      "117 RandomForestClassifier (max_features='auto')\n",
      "118 RandomForestClassifier (max_features='auto')\n",
      "119 RandomForestClassifier (max_features='auto')\n",
      "120 RandomForestClassifier (max_features='auto')\n",
      "121 RandomForestClassifier (max_features='auto')\n",
      "122 RandomForestClassifier (max_features='auto')\n",
      "123 RandomForestClassifier (max_features='auto')\n",
      "124 RandomForestClassifier (max_features='auto')\n",
      "125 RandomForestClassifier (max_features='auto')\n",
      "126 RandomForestClassifier (max_features='auto')\n",
      "127 RandomForestClassifier (max_features='auto')\n",
      "128 RandomForestClassifier (max_features='auto')\n",
      "129 RandomForestClassifier (max_features='auto')\n",
      "130 RandomForestClassifier (max_features='auto')\n",
      "131 RandomForestClassifier (max_features='auto')\n",
      "132 RandomForestClassifier (max_features='auto')\n",
      "133 RandomForestClassifier (max_features='auto')\n",
      "134 RandomForestClassifier (max_features='auto')\n",
      "135 RandomForestClassifier (max_features='auto')\n",
      "136 RandomForestClassifier (max_features='auto')\n",
      "137 RandomForestClassifier (max_features='auto')\n",
      "138 RandomForestClassifier (max_features='auto')\n",
      "139 RandomForestClassifier (max_features='auto')\n",
      "140 RandomForestClassifier (max_features='auto')\n",
      "141 RandomForestClassifier (max_features='auto')\n",
      "142 RandomForestClassifier (max_features='auto')\n",
      "143 RandomForestClassifier (max_features='auto')\n",
      "144 RandomForestClassifier (max_features='auto')\n",
      "145 RandomForestClassifier (max_features='auto')\n",
      "146 RandomForestClassifier (max_features='auto')\n",
      "147 RandomForestClassifier (max_features='auto')\n",
      "148 RandomForestClassifier (max_features='auto')\n",
      "149 RandomForestClassifier (max_features='auto')\n",
      "150 RandomForestClassifier (max_features='auto')\n",
      "151 RandomForestClassifier (max_features='auto')\n",
      "152 RandomForestClassifier (max_features='auto')\n",
      "153 RandomForestClassifier (max_features='auto')\n",
      "154 RandomForestClassifier (max_features='auto')\n",
      "155 RandomForestClassifier (max_features='auto')\n",
      "156 RandomForestClassifier (max_features='auto')\n",
      "157 RandomForestClassifier (max_features='auto')\n",
      "158 RandomForestClassifier (max_features='auto')\n",
      "159 RandomForestClassifier (max_features='auto')\n",
      "160 RandomForestClassifier (max_features='auto')\n",
      "161 RandomForestClassifier (max_features='auto')\n",
      "162 RandomForestClassifier (max_features='auto')\n",
      "163 RandomForestClassifier (max_features='auto')\n",
      "164 RandomForestClassifier (max_features='auto')\n",
      "165 RandomForestClassifier (max_features='auto')\n",
      "166 RandomForestClassifier (max_features='auto')\n",
      "167 RandomForestClassifier (max_features='auto')\n",
      "168 RandomForestClassifier (max_features='auto')\n",
      "169 RandomForestClassifier (max_features='auto')\n",
      "170 RandomForestClassifier (max_features='auto')\n",
      "171 RandomForestClassifier (max_features='auto')\n",
      "172 RandomForestClassifier (max_features='auto')\n",
      "173 RandomForestClassifier (max_features='auto')\n",
      "174 RandomForestClassifier (max_features='auto')\n",
      "175 RandomForestClassifier (max_features='auto')\n",
      "176 RandomForestClassifier (max_features='auto')\n",
      "177 RandomForestClassifier (max_features='auto')\n",
      "178 RandomForestClassifier (max_features='auto')\n",
      "179 RandomForestClassifier (max_features='auto')\n",
      "180 RandomForestClassifier (max_features='auto')\n",
      "181 RandomForestClassifier (max_features='auto')\n",
      "182 RandomForestClassifier (max_features='auto')\n",
      "183 RandomForestClassifier (max_features='auto')\n",
      "184 RandomForestClassifier (max_features='auto')\n",
      "185 RandomForestClassifier (max_features='auto')\n",
      "186 RandomForestClassifier (max_features='auto')\n",
      "187 RandomForestClassifier (max_features='auto')\n",
      "188 RandomForestClassifier (max_features='auto')\n",
      "189 RandomForestClassifier (max_features='auto')\n",
      "190 RandomForestClassifier (max_features='auto')\n",
      "191 RandomForestClassifier (max_features='auto')\n",
      "192 RandomForestClassifier (max_features='auto')\n",
      "193 RandomForestClassifier (max_features='auto')\n",
      "194 RandomForestClassifier (max_features='auto')\n",
      "195 RandomForestClassifier (max_features='auto')\n",
      "196 RandomForestClassifier (max_features='auto')\n",
      "197 RandomForestClassifier (max_features='auto')\n",
      "198 RandomForestClassifier (max_features='auto')\n",
      "199 RandomForestClassifier (max_features='auto')\n",
      "200 RandomForestClassifier (max_features='auto')\n",
      "201 RandomForestClassifier (max_features='auto')\n",
      "202 RandomForestClassifier (max_features='auto')\n",
      "203 RandomForestClassifier (max_features='auto')\n",
      "204 RandomForestClassifier (max_features='auto')\n",
      "205 RandomForestClassifier (max_features='auto')\n",
      "206 RandomForestClassifier (max_features='auto')\n",
      "207 RandomForestClassifier (max_features='auto')\n",
      "208 RandomForestClassifier (max_features='auto')\n",
      "209 RandomForestClassifier (max_features='auto')\n",
      "210 RandomForestClassifier (max_features='auto')\n",
      "211 RandomForestClassifier (max_features='auto')\n",
      "212 RandomForestClassifier (max_features='auto')\n",
      "213 RandomForestClassifier (max_features='auto')\n",
      "214 RandomForestClassifier (max_features='auto')\n",
      "215 RandomForestClassifier (max_features='auto')\n",
      "216 RandomForestClassifier (max_features='auto')\n",
      "217 RandomForestClassifier (max_features='auto')\n",
      "218 RandomForestClassifier (max_features='auto')\n",
      "219 RandomForestClassifier (max_features='auto')\n",
      "220 RandomForestClassifier (max_features='auto')\n",
      "221 RandomForestClassifier (max_features='auto')\n",
      "222 RandomForestClassifier (max_features='auto')\n",
      "223 RandomForestClassifier (max_features='auto')\n",
      "224 RandomForestClassifier (max_features='auto')\n",
      "225 RandomForestClassifier (max_features='auto')\n",
      "226 RandomForestClassifier (max_features='auto')\n",
      "227 RandomForestClassifier (max_features='auto')\n",
      "228 RandomForestClassifier (max_features='auto')\n",
      "229 RandomForestClassifier (max_features='auto')\n",
      "230 RandomForestClassifier (max_features='auto')\n",
      "231 RandomForestClassifier (max_features='auto')\n",
      "232 RandomForestClassifier (max_features='auto')\n",
      "233 RandomForestClassifier (max_features='auto')\n",
      "234 RandomForestClassifier (max_features='auto')\n",
      "235 RandomForestClassifier (max_features='auto')\n",
      "236 RandomForestClassifier (max_features='auto')\n",
      "237 RandomForestClassifier (max_features='auto')\n",
      "238 RandomForestClassifier (max_features='auto')\n",
      "239 RandomForestClassifier (max_features='auto')\n",
      "240 RandomForestClassifier (max_features='auto')\n",
      "241 RandomForestClassifier (max_features='auto')\n",
      "242 RandomForestClassifier (max_features='auto')\n",
      "243 RandomForestClassifier (max_features='auto')\n",
      "244 RandomForestClassifier (max_features='auto')\n",
      "245 RandomForestClassifier (max_features='auto')\n",
      "246 RandomForestClassifier (max_features='auto')\n",
      "247 RandomForestClassifier (max_features='auto')\n",
      "248 RandomForestClassifier (max_features='auto')\n",
      "249 RandomForestClassifier (max_features='auto')\n",
      "250 RandomForestClassifier (max_features='auto')\n",
      "251 RandomForestClassifier (max_features='auto')\n",
      "252 RandomForestClassifier (max_features='auto')\n",
      "253 RandomForestClassifier (max_features='auto')\n",
      "254 RandomForestClassifier (max_features='auto')\n",
      "255 RandomForestClassifier (max_features='auto')\n",
      "256 RandomForestClassifier (max_features='auto')\n",
      "257 RandomForestClassifier (max_features='auto')\n",
      "258 RandomForestClassifier (max_features='auto')\n",
      "259 RandomForestClassifier (max_features='auto')\n",
      "260 RandomForestClassifier (max_features='auto')\n",
      "261 RandomForestClassifier (max_features='auto')\n",
      "262 RandomForestClassifier (max_features='auto')\n",
      "263 RandomForestClassifier (max_features='auto')\n",
      "264 RandomForestClassifier (max_features='auto')\n",
      "265 RandomForestClassifier (max_features='auto')\n",
      "266 RandomForestClassifier (max_features='auto')\n",
      "267 RandomForestClassifier (max_features='auto')\n",
      "268 RandomForestClassifier (max_features='auto')\n",
      "269 RandomForestClassifier (max_features='auto')\n",
      "270 RandomForestClassifier (max_features='auto')\n",
      "271 RandomForestClassifier (max_features='auto')\n",
      "272 RandomForestClassifier (max_features='auto')\n",
      "273 RandomForestClassifier (max_features='auto')\n",
      "274 RandomForestClassifier (max_features='auto')\n",
      "275 RandomForestClassifier (max_features='auto')\n",
      "276 RandomForestClassifier (max_features='auto')\n",
      "277 RandomForestClassifier (max_features='auto')\n",
      "278 RandomForestClassifier (max_features='auto')\n",
      "279 RandomForestClassifier (max_features='auto')\n",
      "280 RandomForestClassifier (max_features='auto')\n",
      "281 RandomForestClassifier (max_features='auto')\n",
      "282 RandomForestClassifier (max_features='auto')\n",
      "283 RandomForestClassifier (max_features='auto')\n",
      "284 RandomForestClassifier (max_features='auto')\n",
      "285 RandomForestClassifier (max_features='auto')\n",
      "286 RandomForestClassifier (max_features='auto')\n",
      "287 RandomForestClassifier (max_features='auto')\n",
      "288 RandomForestClassifier (max_features='auto')\n",
      "289 RandomForestClassifier (max_features='auto')\n",
      "290 RandomForestClassifier (max_features='auto')\n",
      "291 RandomForestClassifier (max_features='auto')\n",
      "292 RandomForestClassifier (max_features='auto')\n",
      "293 RandomForestClassifier (max_features='auto')\n",
      "294 RandomForestClassifier (max_features='auto')\n",
      "295 RandomForestClassifier (max_features='auto')\n",
      "296 RandomForestClassifier (max_features='auto')\n",
      "297 RandomForestClassifier (max_features='auto')\n",
      "298 RandomForestClassifier (max_features='auto')\n",
      "299 RandomForestClassifier (max_features='auto')\n",
      "300 RandomForestClassifier (max_features='auto')\n",
      "301 RandomForestClassifier (max_features='auto')\n",
      "302 RandomForestClassifier (max_features='auto')\n",
      "303 RandomForestClassifier (max_features='auto')\n",
      "304 RandomForestClassifier (max_features='auto')\n",
      "305 RandomForestClassifier (max_features='auto')\n",
      "306 RandomForestClassifier (max_features='auto')\n",
      "307 RandomForestClassifier (max_features='auto')\n",
      "308 RandomForestClassifier (max_features='auto')\n",
      "309 RandomForestClassifier (max_features='auto')\n",
      "310 RandomForestClassifier (max_features='auto')\n",
      "311 RandomForestClassifier (max_features='auto')\n",
      "312 RandomForestClassifier (max_features='auto')\n",
      "313 RandomForestClassifier (max_features='auto')\n",
      "314 RandomForestClassifier (max_features='auto')\n",
      "315 RandomForestClassifier (max_features='auto')\n",
      "316 RandomForestClassifier (max_features='auto')\n",
      "317 RandomForestClassifier (max_features='auto')\n",
      "318 RandomForestClassifier (max_features='auto')\n",
      "319 RandomForestClassifier (max_features='auto')\n",
      "320 RandomForestClassifier (max_features='auto')\n",
      "321 RandomForestClassifier (max_features='auto')\n",
      "322 RandomForestClassifier (max_features='auto')\n",
      "323 RandomForestClassifier (max_features='auto')\n",
      "324 RandomForestClassifier (max_features='auto')\n",
      "325 RandomForestClassifier (max_features='auto')\n",
      "326 RandomForestClassifier (max_features='auto')\n",
      "327 RandomForestClassifier (max_features='auto')\n",
      "328 RandomForestClassifier (max_features='auto')\n",
      "329 RandomForestClassifier (max_features='auto')\n",
      "330 RandomForestClassifier (max_features='auto')\n",
      "331 RandomForestClassifier (max_features='auto')\n",
      "332 RandomForestClassifier (max_features='auto')\n",
      "333 RandomForestClassifier (max_features='auto')\n",
      "334 RandomForestClassifier (max_features='auto')\n",
      "335 RandomForestClassifier (max_features='auto')\n",
      "336 RandomForestClassifier (max_features='auto')\n",
      "337 RandomForestClassifier (max_features='auto')\n",
      "338 RandomForestClassifier (max_features='auto')\n",
      "339 RandomForestClassifier (max_features='auto')\n",
      "340 RandomForestClassifier (max_features='auto')\n",
      "341 RandomForestClassifier (max_features='auto')\n",
      "342 RandomForestClassifier (max_features='auto')\n",
      "343 RandomForestClassifier (max_features='auto')\n",
      "344 RandomForestClassifier (max_features='auto')\n",
      "345 RandomForestClassifier (max_features='auto')\n",
      "346 RandomForestClassifier (max_features='auto')\n",
      "347 RandomForestClassifier (max_features='auto')\n",
      "348 RandomForestClassifier (max_features='auto')\n",
      "349 RandomForestClassifier (max_features='auto')\n",
      "350 RandomForestClassifier (max_features='auto')\n",
      "351 RandomForestClassifier (max_features='auto')\n",
      "352 RandomForestClassifier (max_features='auto')\n",
      "353 RandomForestClassifier (max_features='auto')\n",
      "354 RandomForestClassifier (max_features='auto')\n",
      "355 RandomForestClassifier (max_features='auto')\n",
      "356 RandomForestClassifier (max_features='auto')\n",
      "357 RandomForestClassifier (max_features='auto')\n",
      "358 RandomForestClassifier (max_features='auto')\n",
      "359 RandomForestClassifier (max_features='auto')\n",
      "360 RandomForestClassifier (max_features='auto')\n",
      "361 RandomForestClassifier (max_features='auto')\n",
      "362 RandomForestClassifier (max_features='auto')\n",
      "363 RandomForestClassifier (max_features='auto')\n",
      "364 RandomForestClassifier (max_features='auto')\n",
      "365 RandomForestClassifier (max_features='auto')\n",
      "366 RandomForestClassifier (max_features='auto')\n",
      "367 RandomForestClassifier (max_features='auto')\n",
      "368 RandomForestClassifier (max_features='auto')\n",
      "369 RandomForestClassifier (max_features='auto')\n",
      "370 RandomForestClassifier (max_features='auto')\n",
      "371 RandomForestClassifier (max_features='auto')\n",
      "372 RandomForestClassifier (max_features='auto')\n",
      "373 RandomForestClassifier (max_features='auto')\n",
      "374 RandomForestClassifier (max_features='auto')\n",
      "375 RandomForestClassifier (max_features='auto')\n",
      "376 RandomForestClassifier (max_features='auto')\n",
      "377 RandomForestClassifier (max_features='auto')\n",
      "378 RandomForestClassifier (max_features='auto')\n",
      "379 RandomForestClassifier (max_features='auto')\n",
      "380 RandomForestClassifier (max_features='auto')\n",
      "381 RandomForestClassifier (max_features='auto')\n",
      "382 RandomForestClassifier (max_features='auto')\n",
      "383 RandomForestClassifier (max_features='auto')\n",
      "384 RandomForestClassifier (max_features='auto')\n",
      "385 RandomForestClassifier (max_features='auto')\n",
      "386 RandomForestClassifier (max_features='auto')\n",
      "387 RandomForestClassifier (max_features='auto')\n",
      "388 RandomForestClassifier (max_features='auto')\n",
      "389 RandomForestClassifier (max_features='auto')\n",
      "390 RandomForestClassifier (max_features='auto')\n",
      "391 RandomForestClassifier (max_features='auto')\n",
      "392 RandomForestClassifier (max_features='auto')\n",
      "393 RandomForestClassifier (max_features='auto')\n",
      "394 RandomForestClassifier (max_features='auto')\n",
      "395 RandomForestClassifier (max_features='auto')\n",
      "396 RandomForestClassifier (max_features='auto')\n",
      "397 RandomForestClassifier (max_features='auto')\n",
      "398 RandomForestClassifier (max_features='auto')\n",
      "399 RandomForestClassifier (max_features='auto')\n",
      "400 RandomForestClassifier (max_features='auto')\n"
     ]
    },
    {
     "name": "stderr",
     "output_type": "stream",
     "text": [
      "C:\\Users\\carth\\AppData\\Local\\Packages\\PythonSoftwareFoundation.Python.3.10_qbz5n2kfra8p0\\LocalCache\\local-packages\\Python310\\site-packages\\sklearn\\ensemble\\_forest.py:578: UserWarning: Some inputs do not have OOB scores. This probably means too few trees were used to compute any reliable OOB estimates.\n",
      "  warn(\n"
     ]
    },
    {
     "name": "stdout",
     "output_type": "stream",
     "text": [
      "1 RandomForestClassifier (max_features=2)\n"
     ]
    },
    {
     "name": "stderr",
     "output_type": "stream",
     "text": [
      "C:\\Users\\carth\\AppData\\Local\\Packages\\PythonSoftwareFoundation.Python.3.10_qbz5n2kfra8p0\\LocalCache\\local-packages\\Python310\\site-packages\\sklearn\\ensemble\\_forest.py:578: UserWarning: Some inputs do not have OOB scores. This probably means too few trees were used to compute any reliable OOB estimates.\n",
      "  warn(\n"
     ]
    },
    {
     "name": "stdout",
     "output_type": "stream",
     "text": [
      "2 RandomForestClassifier (max_features=2)\n"
     ]
    },
    {
     "name": "stderr",
     "output_type": "stream",
     "text": [
      "C:\\Users\\carth\\AppData\\Local\\Packages\\PythonSoftwareFoundation.Python.3.10_qbz5n2kfra8p0\\LocalCache\\local-packages\\Python310\\site-packages\\sklearn\\ensemble\\_forest.py:578: UserWarning: Some inputs do not have OOB scores. This probably means too few trees were used to compute any reliable OOB estimates.\n",
      "  warn(\n"
     ]
    },
    {
     "name": "stdout",
     "output_type": "stream",
     "text": [
      "3 RandomForestClassifier (max_features=2)\n"
     ]
    },
    {
     "name": "stderr",
     "output_type": "stream",
     "text": [
      "C:\\Users\\carth\\AppData\\Local\\Packages\\PythonSoftwareFoundation.Python.3.10_qbz5n2kfra8p0\\LocalCache\\local-packages\\Python310\\site-packages\\sklearn\\ensemble\\_forest.py:578: UserWarning: Some inputs do not have OOB scores. This probably means too few trees were used to compute any reliable OOB estimates.\n",
      "  warn(\n"
     ]
    },
    {
     "name": "stdout",
     "output_type": "stream",
     "text": [
      "4 RandomForestClassifier (max_features=2)\n"
     ]
    },
    {
     "name": "stderr",
     "output_type": "stream",
     "text": [
      "C:\\Users\\carth\\AppData\\Local\\Packages\\PythonSoftwareFoundation.Python.3.10_qbz5n2kfra8p0\\LocalCache\\local-packages\\Python310\\site-packages\\sklearn\\ensemble\\_forest.py:578: UserWarning: Some inputs do not have OOB scores. This probably means too few trees were used to compute any reliable OOB estimates.\n",
      "  warn(\n"
     ]
    },
    {
     "name": "stdout",
     "output_type": "stream",
     "text": [
      "5 RandomForestClassifier (max_features=2)\n"
     ]
    },
    {
     "name": "stderr",
     "output_type": "stream",
     "text": [
      "C:\\Users\\carth\\AppData\\Local\\Packages\\PythonSoftwareFoundation.Python.3.10_qbz5n2kfra8p0\\LocalCache\\local-packages\\Python310\\site-packages\\sklearn\\ensemble\\_forest.py:578: UserWarning: Some inputs do not have OOB scores. This probably means too few trees were used to compute any reliable OOB estimates.\n",
      "  warn(\n"
     ]
    },
    {
     "name": "stdout",
     "output_type": "stream",
     "text": [
      "6 RandomForestClassifier (max_features=2)\n"
     ]
    },
    {
     "name": "stderr",
     "output_type": "stream",
     "text": [
      "C:\\Users\\carth\\AppData\\Local\\Packages\\PythonSoftwareFoundation.Python.3.10_qbz5n2kfra8p0\\LocalCache\\local-packages\\Python310\\site-packages\\sklearn\\ensemble\\_forest.py:578: UserWarning: Some inputs do not have OOB scores. This probably means too few trees were used to compute any reliable OOB estimates.\n",
      "  warn(\n"
     ]
    },
    {
     "name": "stdout",
     "output_type": "stream",
     "text": [
      "7 RandomForestClassifier (max_features=2)\n"
     ]
    },
    {
     "name": "stderr",
     "output_type": "stream",
     "text": [
      "C:\\Users\\carth\\AppData\\Local\\Packages\\PythonSoftwareFoundation.Python.3.10_qbz5n2kfra8p0\\LocalCache\\local-packages\\Python310\\site-packages\\sklearn\\ensemble\\_forest.py:578: UserWarning: Some inputs do not have OOB scores. This probably means too few trees were used to compute any reliable OOB estimates.\n",
      "  warn(\n"
     ]
    },
    {
     "name": "stdout",
     "output_type": "stream",
     "text": [
      "8 RandomForestClassifier (max_features=2)\n"
     ]
    },
    {
     "name": "stderr",
     "output_type": "stream",
     "text": [
      "C:\\Users\\carth\\AppData\\Local\\Packages\\PythonSoftwareFoundation.Python.3.10_qbz5n2kfra8p0\\LocalCache\\local-packages\\Python310\\site-packages\\sklearn\\ensemble\\_forest.py:578: UserWarning: Some inputs do not have OOB scores. This probably means too few trees were used to compute any reliable OOB estimates.\n",
      "  warn(\n"
     ]
    },
    {
     "name": "stdout",
     "output_type": "stream",
     "text": [
      "9 RandomForestClassifier (max_features=2)\n"
     ]
    },
    {
     "name": "stderr",
     "output_type": "stream",
     "text": [
      "C:\\Users\\carth\\AppData\\Local\\Packages\\PythonSoftwareFoundation.Python.3.10_qbz5n2kfra8p0\\LocalCache\\local-packages\\Python310\\site-packages\\sklearn\\ensemble\\_forest.py:578: UserWarning: Some inputs do not have OOB scores. This probably means too few trees were used to compute any reliable OOB estimates.\n",
      "  warn(\n"
     ]
    },
    {
     "name": "stdout",
     "output_type": "stream",
     "text": [
      "10 RandomForestClassifier (max_features=2)\n"
     ]
    },
    {
     "name": "stderr",
     "output_type": "stream",
     "text": [
      "C:\\Users\\carth\\AppData\\Local\\Packages\\PythonSoftwareFoundation.Python.3.10_qbz5n2kfra8p0\\LocalCache\\local-packages\\Python310\\site-packages\\sklearn\\ensemble\\_forest.py:578: UserWarning: Some inputs do not have OOB scores. This probably means too few trees were used to compute any reliable OOB estimates.\n",
      "  warn(\n"
     ]
    },
    {
     "name": "stdout",
     "output_type": "stream",
     "text": [
      "11 RandomForestClassifier (max_features=2)\n"
     ]
    },
    {
     "name": "stderr",
     "output_type": "stream",
     "text": [
      "C:\\Users\\carth\\AppData\\Local\\Packages\\PythonSoftwareFoundation.Python.3.10_qbz5n2kfra8p0\\LocalCache\\local-packages\\Python310\\site-packages\\sklearn\\ensemble\\_forest.py:578: UserWarning: Some inputs do not have OOB scores. This probably means too few trees were used to compute any reliable OOB estimates.\n",
      "  warn(\n"
     ]
    },
    {
     "name": "stdout",
     "output_type": "stream",
     "text": [
      "12 RandomForestClassifier (max_features=2)\n"
     ]
    },
    {
     "name": "stderr",
     "output_type": "stream",
     "text": [
      "C:\\Users\\carth\\AppData\\Local\\Packages\\PythonSoftwareFoundation.Python.3.10_qbz5n2kfra8p0\\LocalCache\\local-packages\\Python310\\site-packages\\sklearn\\ensemble\\_forest.py:578: UserWarning: Some inputs do not have OOB scores. This probably means too few trees were used to compute any reliable OOB estimates.\n",
      "  warn(\n"
     ]
    },
    {
     "name": "stdout",
     "output_type": "stream",
     "text": [
      "13 RandomForestClassifier (max_features=2)\n"
     ]
    },
    {
     "name": "stderr",
     "output_type": "stream",
     "text": [
      "C:\\Users\\carth\\AppData\\Local\\Packages\\PythonSoftwareFoundation.Python.3.10_qbz5n2kfra8p0\\LocalCache\\local-packages\\Python310\\site-packages\\sklearn\\ensemble\\_forest.py:578: UserWarning: Some inputs do not have OOB scores. This probably means too few trees were used to compute any reliable OOB estimates.\n",
      "  warn(\n"
     ]
    },
    {
     "name": "stdout",
     "output_type": "stream",
     "text": [
      "14 RandomForestClassifier (max_features=2)\n"
     ]
    },
    {
     "name": "stderr",
     "output_type": "stream",
     "text": [
      "C:\\Users\\carth\\AppData\\Local\\Packages\\PythonSoftwareFoundation.Python.3.10_qbz5n2kfra8p0\\LocalCache\\local-packages\\Python310\\site-packages\\sklearn\\ensemble\\_forest.py:578: UserWarning: Some inputs do not have OOB scores. This probably means too few trees were used to compute any reliable OOB estimates.\n",
      "  warn(\n"
     ]
    },
    {
     "name": "stdout",
     "output_type": "stream",
     "text": [
      "15 RandomForestClassifier (max_features=2)\n"
     ]
    },
    {
     "name": "stderr",
     "output_type": "stream",
     "text": [
      "C:\\Users\\carth\\AppData\\Local\\Packages\\PythonSoftwareFoundation.Python.3.10_qbz5n2kfra8p0\\LocalCache\\local-packages\\Python310\\site-packages\\sklearn\\ensemble\\_forest.py:578: UserWarning: Some inputs do not have OOB scores. This probably means too few trees were used to compute any reliable OOB estimates.\n",
      "  warn(\n"
     ]
    },
    {
     "name": "stdout",
     "output_type": "stream",
     "text": [
      "16 RandomForestClassifier (max_features=2)\n"
     ]
    },
    {
     "name": "stderr",
     "output_type": "stream",
     "text": [
      "C:\\Users\\carth\\AppData\\Local\\Packages\\PythonSoftwareFoundation.Python.3.10_qbz5n2kfra8p0\\LocalCache\\local-packages\\Python310\\site-packages\\sklearn\\ensemble\\_forest.py:578: UserWarning: Some inputs do not have OOB scores. This probably means too few trees were used to compute any reliable OOB estimates.\n",
      "  warn(\n"
     ]
    },
    {
     "name": "stdout",
     "output_type": "stream",
     "text": [
      "17 RandomForestClassifier (max_features=2)\n"
     ]
    },
    {
     "name": "stderr",
     "output_type": "stream",
     "text": [
      "C:\\Users\\carth\\AppData\\Local\\Packages\\PythonSoftwareFoundation.Python.3.10_qbz5n2kfra8p0\\LocalCache\\local-packages\\Python310\\site-packages\\sklearn\\ensemble\\_forest.py:578: UserWarning: Some inputs do not have OOB scores. This probably means too few trees were used to compute any reliable OOB estimates.\n",
      "  warn(\n"
     ]
    },
    {
     "name": "stdout",
     "output_type": "stream",
     "text": [
      "18 RandomForestClassifier (max_features=2)\n"
     ]
    },
    {
     "name": "stderr",
     "output_type": "stream",
     "text": [
      "C:\\Users\\carth\\AppData\\Local\\Packages\\PythonSoftwareFoundation.Python.3.10_qbz5n2kfra8p0\\LocalCache\\local-packages\\Python310\\site-packages\\sklearn\\ensemble\\_forest.py:578: UserWarning: Some inputs do not have OOB scores. This probably means too few trees were used to compute any reliable OOB estimates.\n",
      "  warn(\n"
     ]
    },
    {
     "name": "stdout",
     "output_type": "stream",
     "text": [
      "19 RandomForestClassifier (max_features=2)\n"
     ]
    },
    {
     "name": "stderr",
     "output_type": "stream",
     "text": [
      "C:\\Users\\carth\\AppData\\Local\\Packages\\PythonSoftwareFoundation.Python.3.10_qbz5n2kfra8p0\\LocalCache\\local-packages\\Python310\\site-packages\\sklearn\\ensemble\\_forest.py:578: UserWarning: Some inputs do not have OOB scores. This probably means too few trees were used to compute any reliable OOB estimates.\n",
      "  warn(\n"
     ]
    },
    {
     "name": "stdout",
     "output_type": "stream",
     "text": [
      "20 RandomForestClassifier (max_features=2)\n"
     ]
    },
    {
     "name": "stderr",
     "output_type": "stream",
     "text": [
      "C:\\Users\\carth\\AppData\\Local\\Packages\\PythonSoftwareFoundation.Python.3.10_qbz5n2kfra8p0\\LocalCache\\local-packages\\Python310\\site-packages\\sklearn\\ensemble\\_forest.py:578: UserWarning: Some inputs do not have OOB scores. This probably means too few trees were used to compute any reliable OOB estimates.\n",
      "  warn(\n"
     ]
    },
    {
     "name": "stdout",
     "output_type": "stream",
     "text": [
      "21 RandomForestClassifier (max_features=2)\n"
     ]
    },
    {
     "name": "stderr",
     "output_type": "stream",
     "text": [
      "C:\\Users\\carth\\AppData\\Local\\Packages\\PythonSoftwareFoundation.Python.3.10_qbz5n2kfra8p0\\LocalCache\\local-packages\\Python310\\site-packages\\sklearn\\ensemble\\_forest.py:578: UserWarning: Some inputs do not have OOB scores. This probably means too few trees were used to compute any reliable OOB estimates.\n",
      "  warn(\n"
     ]
    },
    {
     "name": "stdout",
     "output_type": "stream",
     "text": [
      "22 RandomForestClassifier (max_features=2)\n"
     ]
    },
    {
     "name": "stderr",
     "output_type": "stream",
     "text": [
      "C:\\Users\\carth\\AppData\\Local\\Packages\\PythonSoftwareFoundation.Python.3.10_qbz5n2kfra8p0\\LocalCache\\local-packages\\Python310\\site-packages\\sklearn\\ensemble\\_forest.py:578: UserWarning: Some inputs do not have OOB scores. This probably means too few trees were used to compute any reliable OOB estimates.\n",
      "  warn(\n"
     ]
    },
    {
     "name": "stdout",
     "output_type": "stream",
     "text": [
      "23 RandomForestClassifier (max_features=2)\n"
     ]
    },
    {
     "name": "stderr",
     "output_type": "stream",
     "text": [
      "C:\\Users\\carth\\AppData\\Local\\Packages\\PythonSoftwareFoundation.Python.3.10_qbz5n2kfra8p0\\LocalCache\\local-packages\\Python310\\site-packages\\sklearn\\ensemble\\_forest.py:578: UserWarning: Some inputs do not have OOB scores. This probably means too few trees were used to compute any reliable OOB estimates.\n",
      "  warn(\n"
     ]
    },
    {
     "name": "stdout",
     "output_type": "stream",
     "text": [
      "24 RandomForestClassifier (max_features=2)\n"
     ]
    },
    {
     "name": "stderr",
     "output_type": "stream",
     "text": [
      "C:\\Users\\carth\\AppData\\Local\\Packages\\PythonSoftwareFoundation.Python.3.10_qbz5n2kfra8p0\\LocalCache\\local-packages\\Python310\\site-packages\\sklearn\\ensemble\\_forest.py:578: UserWarning: Some inputs do not have OOB scores. This probably means too few trees were used to compute any reliable OOB estimates.\n",
      "  warn(\n"
     ]
    },
    {
     "name": "stdout",
     "output_type": "stream",
     "text": [
      "25 RandomForestClassifier (max_features=2)\n"
     ]
    },
    {
     "name": "stderr",
     "output_type": "stream",
     "text": [
      "C:\\Users\\carth\\AppData\\Local\\Packages\\PythonSoftwareFoundation.Python.3.10_qbz5n2kfra8p0\\LocalCache\\local-packages\\Python310\\site-packages\\sklearn\\ensemble\\_forest.py:578: UserWarning: Some inputs do not have OOB scores. This probably means too few trees were used to compute any reliable OOB estimates.\n",
      "  warn(\n"
     ]
    },
    {
     "name": "stdout",
     "output_type": "stream",
     "text": [
      "26 RandomForestClassifier (max_features=2)\n"
     ]
    },
    {
     "name": "stderr",
     "output_type": "stream",
     "text": [
      "C:\\Users\\carth\\AppData\\Local\\Packages\\PythonSoftwareFoundation.Python.3.10_qbz5n2kfra8p0\\LocalCache\\local-packages\\Python310\\site-packages\\sklearn\\ensemble\\_forest.py:578: UserWarning: Some inputs do not have OOB scores. This probably means too few trees were used to compute any reliable OOB estimates.\n",
      "  warn(\n"
     ]
    },
    {
     "name": "stdout",
     "output_type": "stream",
     "text": [
      "27 RandomForestClassifier (max_features=2)\n"
     ]
    },
    {
     "name": "stderr",
     "output_type": "stream",
     "text": [
      "C:\\Users\\carth\\AppData\\Local\\Packages\\PythonSoftwareFoundation.Python.3.10_qbz5n2kfra8p0\\LocalCache\\local-packages\\Python310\\site-packages\\sklearn\\ensemble\\_forest.py:578: UserWarning: Some inputs do not have OOB scores. This probably means too few trees were used to compute any reliable OOB estimates.\n",
      "  warn(\n"
     ]
    },
    {
     "name": "stdout",
     "output_type": "stream",
     "text": [
      "28 RandomForestClassifier (max_features=2)\n"
     ]
    },
    {
     "name": "stderr",
     "output_type": "stream",
     "text": [
      "C:\\Users\\carth\\AppData\\Local\\Packages\\PythonSoftwareFoundation.Python.3.10_qbz5n2kfra8p0\\LocalCache\\local-packages\\Python310\\site-packages\\sklearn\\ensemble\\_forest.py:578: UserWarning: Some inputs do not have OOB scores. This probably means too few trees were used to compute any reliable OOB estimates.\n",
      "  warn(\n"
     ]
    },
    {
     "name": "stdout",
     "output_type": "stream",
     "text": [
      "29 RandomForestClassifier (max_features=2)\n"
     ]
    },
    {
     "name": "stderr",
     "output_type": "stream",
     "text": [
      "C:\\Users\\carth\\AppData\\Local\\Packages\\PythonSoftwareFoundation.Python.3.10_qbz5n2kfra8p0\\LocalCache\\local-packages\\Python310\\site-packages\\sklearn\\ensemble\\_forest.py:578: UserWarning: Some inputs do not have OOB scores. This probably means too few trees were used to compute any reliable OOB estimates.\n",
      "  warn(\n"
     ]
    },
    {
     "name": "stdout",
     "output_type": "stream",
     "text": [
      "30 RandomForestClassifier (max_features=2)\n"
     ]
    },
    {
     "name": "stderr",
     "output_type": "stream",
     "text": [
      "C:\\Users\\carth\\AppData\\Local\\Packages\\PythonSoftwareFoundation.Python.3.10_qbz5n2kfra8p0\\LocalCache\\local-packages\\Python310\\site-packages\\sklearn\\ensemble\\_forest.py:578: UserWarning: Some inputs do not have OOB scores. This probably means too few trees were used to compute any reliable OOB estimates.\n",
      "  warn(\n"
     ]
    },
    {
     "name": "stdout",
     "output_type": "stream",
     "text": [
      "31 RandomForestClassifier (max_features=2)\n"
     ]
    },
    {
     "name": "stderr",
     "output_type": "stream",
     "text": [
      "C:\\Users\\carth\\AppData\\Local\\Packages\\PythonSoftwareFoundation.Python.3.10_qbz5n2kfra8p0\\LocalCache\\local-packages\\Python310\\site-packages\\sklearn\\ensemble\\_forest.py:578: UserWarning: Some inputs do not have OOB scores. This probably means too few trees were used to compute any reliable OOB estimates.\n",
      "  warn(\n"
     ]
    },
    {
     "name": "stdout",
     "output_type": "stream",
     "text": [
      "32 RandomForestClassifier (max_features=2)\n",
      "33 RandomForestClassifier (max_features=2)\n",
      "34 RandomForestClassifier (max_features=2)\n",
      "35 RandomForestClassifier (max_features=2)\n",
      "36 RandomForestClassifier (max_features=2)\n",
      "37 RandomForestClassifier (max_features=2)\n",
      "38 RandomForestClassifier (max_features=2)\n",
      "39 RandomForestClassifier (max_features=2)\n",
      "40 RandomForestClassifier (max_features=2)\n",
      "41 RandomForestClassifier (max_features=2)\n",
      "42 RandomForestClassifier (max_features=2)\n",
      "43 RandomForestClassifier (max_features=2)\n",
      "44 RandomForestClassifier (max_features=2)\n",
      "45 RandomForestClassifier (max_features=2)\n",
      "46 RandomForestClassifier (max_features=2)\n",
      "47 RandomForestClassifier (max_features=2)\n",
      "48 RandomForestClassifier (max_features=2)\n",
      "49 RandomForestClassifier (max_features=2)\n",
      "50 RandomForestClassifier (max_features=2)\n",
      "51 RandomForestClassifier (max_features=2)\n",
      "52 RandomForestClassifier (max_features=2)\n",
      "53 RandomForestClassifier (max_features=2)\n",
      "54 RandomForestClassifier (max_features=2)\n",
      "55 RandomForestClassifier (max_features=2)\n",
      "56 RandomForestClassifier (max_features=2)\n",
      "57 RandomForestClassifier (max_features=2)\n",
      "58 RandomForestClassifier (max_features=2)\n",
      "59 RandomForestClassifier (max_features=2)\n",
      "60 RandomForestClassifier (max_features=2)\n",
      "61 RandomForestClassifier (max_features=2)\n",
      "62 RandomForestClassifier (max_features=2)\n",
      "63 RandomForestClassifier (max_features=2)\n",
      "64 RandomForestClassifier (max_features=2)\n",
      "65 RandomForestClassifier (max_features=2)\n",
      "66 RandomForestClassifier (max_features=2)\n",
      "67 RandomForestClassifier (max_features=2)\n",
      "68 RandomForestClassifier (max_features=2)\n",
      "69 RandomForestClassifier (max_features=2)\n",
      "70 RandomForestClassifier (max_features=2)\n",
      "71 RandomForestClassifier (max_features=2)\n",
      "72 RandomForestClassifier (max_features=2)\n",
      "73 RandomForestClassifier (max_features=2)\n",
      "74 RandomForestClassifier (max_features=2)\n",
      "75 RandomForestClassifier (max_features=2)\n",
      "76 RandomForestClassifier (max_features=2)\n",
      "77 RandomForestClassifier (max_features=2)\n",
      "78 RandomForestClassifier (max_features=2)\n",
      "79 RandomForestClassifier (max_features=2)\n",
      "80 RandomForestClassifier (max_features=2)\n",
      "81 RandomForestClassifier (max_features=2)\n",
      "82 RandomForestClassifier (max_features=2)\n",
      "83 RandomForestClassifier (max_features=2)\n",
      "84 RandomForestClassifier (max_features=2)\n",
      "85 RandomForestClassifier (max_features=2)\n",
      "86 RandomForestClassifier (max_features=2)\n",
      "87 RandomForestClassifier (max_features=2)\n",
      "88 RandomForestClassifier (max_features=2)\n",
      "89 RandomForestClassifier (max_features=2)\n",
      "90 RandomForestClassifier (max_features=2)\n",
      "91 RandomForestClassifier (max_features=2)\n",
      "92 RandomForestClassifier (max_features=2)\n",
      "93 RandomForestClassifier (max_features=2)\n",
      "94 RandomForestClassifier (max_features=2)\n",
      "95 RandomForestClassifier (max_features=2)\n",
      "96 RandomForestClassifier (max_features=2)\n",
      "97 RandomForestClassifier (max_features=2)\n",
      "98 RandomForestClassifier (max_features=2)\n",
      "99 RandomForestClassifier (max_features=2)\n",
      "100 RandomForestClassifier (max_features=2)\n",
      "101 RandomForestClassifier (max_features=2)\n",
      "102 RandomForestClassifier (max_features=2)\n",
      "103 RandomForestClassifier (max_features=2)\n",
      "104 RandomForestClassifier (max_features=2)\n",
      "105 RandomForestClassifier (max_features=2)\n",
      "106 RandomForestClassifier (max_features=2)\n",
      "107 RandomForestClassifier (max_features=2)\n",
      "108 RandomForestClassifier (max_features=2)\n",
      "109 RandomForestClassifier (max_features=2)\n",
      "110 RandomForestClassifier (max_features=2)\n",
      "111 RandomForestClassifier (max_features=2)\n",
      "112 RandomForestClassifier (max_features=2)\n",
      "113 RandomForestClassifier (max_features=2)\n",
      "114 RandomForestClassifier (max_features=2)\n",
      "115 RandomForestClassifier (max_features=2)\n",
      "116 RandomForestClassifier (max_features=2)\n",
      "117 RandomForestClassifier (max_features=2)\n",
      "118 RandomForestClassifier (max_features=2)\n",
      "119 RandomForestClassifier (max_features=2)\n",
      "120 RandomForestClassifier (max_features=2)\n",
      "121 RandomForestClassifier (max_features=2)\n",
      "122 RandomForestClassifier (max_features=2)\n",
      "123 RandomForestClassifier (max_features=2)\n",
      "124 RandomForestClassifier (max_features=2)\n",
      "125 RandomForestClassifier (max_features=2)\n",
      "126 RandomForestClassifier (max_features=2)\n",
      "127 RandomForestClassifier (max_features=2)\n",
      "128 RandomForestClassifier (max_features=2)\n",
      "129 RandomForestClassifier (max_features=2)\n",
      "130 RandomForestClassifier (max_features=2)\n",
      "131 RandomForestClassifier (max_features=2)\n",
      "132 RandomForestClassifier (max_features=2)\n",
      "133 RandomForestClassifier (max_features=2)\n",
      "134 RandomForestClassifier (max_features=2)\n",
      "135 RandomForestClassifier (max_features=2)\n",
      "136 RandomForestClassifier (max_features=2)\n",
      "137 RandomForestClassifier (max_features=2)\n",
      "138 RandomForestClassifier (max_features=2)\n",
      "139 RandomForestClassifier (max_features=2)\n",
      "140 RandomForestClassifier (max_features=2)\n",
      "141 RandomForestClassifier (max_features=2)\n",
      "142 RandomForestClassifier (max_features=2)\n",
      "143 RandomForestClassifier (max_features=2)\n",
      "144 RandomForestClassifier (max_features=2)\n",
      "145 RandomForestClassifier (max_features=2)\n",
      "146 RandomForestClassifier (max_features=2)\n",
      "147 RandomForestClassifier (max_features=2)\n",
      "148 RandomForestClassifier (max_features=2)\n",
      "149 RandomForestClassifier (max_features=2)\n",
      "150 RandomForestClassifier (max_features=2)\n",
      "151 RandomForestClassifier (max_features=2)\n",
      "152 RandomForestClassifier (max_features=2)\n",
      "153 RandomForestClassifier (max_features=2)\n",
      "154 RandomForestClassifier (max_features=2)\n",
      "155 RandomForestClassifier (max_features=2)\n",
      "156 RandomForestClassifier (max_features=2)\n",
      "157 RandomForestClassifier (max_features=2)\n",
      "158 RandomForestClassifier (max_features=2)\n",
      "159 RandomForestClassifier (max_features=2)\n",
      "160 RandomForestClassifier (max_features=2)\n",
      "161 RandomForestClassifier (max_features=2)\n",
      "162 RandomForestClassifier (max_features=2)\n",
      "163 RandomForestClassifier (max_features=2)\n",
      "164 RandomForestClassifier (max_features=2)\n",
      "165 RandomForestClassifier (max_features=2)\n",
      "166 RandomForestClassifier (max_features=2)\n",
      "167 RandomForestClassifier (max_features=2)\n",
      "168 RandomForestClassifier (max_features=2)\n",
      "169 RandomForestClassifier (max_features=2)\n",
      "170 RandomForestClassifier (max_features=2)\n",
      "171 RandomForestClassifier (max_features=2)\n",
      "172 RandomForestClassifier (max_features=2)\n",
      "173 RandomForestClassifier (max_features=2)\n",
      "174 RandomForestClassifier (max_features=2)\n",
      "175 RandomForestClassifier (max_features=2)\n",
      "176 RandomForestClassifier (max_features=2)\n",
      "177 RandomForestClassifier (max_features=2)\n",
      "178 RandomForestClassifier (max_features=2)\n",
      "179 RandomForestClassifier (max_features=2)\n",
      "180 RandomForestClassifier (max_features=2)\n",
      "181 RandomForestClassifier (max_features=2)\n",
      "182 RandomForestClassifier (max_features=2)\n",
      "183 RandomForestClassifier (max_features=2)\n",
      "184 RandomForestClassifier (max_features=2)\n",
      "185 RandomForestClassifier (max_features=2)\n",
      "186 RandomForestClassifier (max_features=2)\n",
      "187 RandomForestClassifier (max_features=2)\n",
      "188 RandomForestClassifier (max_features=2)\n",
      "189 RandomForestClassifier (max_features=2)\n",
      "190 RandomForestClassifier (max_features=2)\n",
      "191 RandomForestClassifier (max_features=2)\n",
      "192 RandomForestClassifier (max_features=2)\n",
      "193 RandomForestClassifier (max_features=2)\n",
      "194 RandomForestClassifier (max_features=2)\n",
      "195 RandomForestClassifier (max_features=2)\n",
      "196 RandomForestClassifier (max_features=2)\n",
      "197 RandomForestClassifier (max_features=2)\n",
      "198 RandomForestClassifier (max_features=2)\n",
      "199 RandomForestClassifier (max_features=2)\n",
      "200 RandomForestClassifier (max_features=2)\n",
      "201 RandomForestClassifier (max_features=2)\n",
      "202 RandomForestClassifier (max_features=2)\n",
      "203 RandomForestClassifier (max_features=2)\n",
      "204 RandomForestClassifier (max_features=2)\n",
      "205 RandomForestClassifier (max_features=2)\n",
      "206 RandomForestClassifier (max_features=2)\n",
      "207 RandomForestClassifier (max_features=2)\n",
      "208 RandomForestClassifier (max_features=2)\n",
      "209 RandomForestClassifier (max_features=2)\n",
      "210 RandomForestClassifier (max_features=2)\n",
      "211 RandomForestClassifier (max_features=2)\n",
      "212 RandomForestClassifier (max_features=2)\n",
      "213 RandomForestClassifier (max_features=2)\n",
      "214 RandomForestClassifier (max_features=2)\n",
      "215 RandomForestClassifier (max_features=2)\n",
      "216 RandomForestClassifier (max_features=2)\n",
      "217 RandomForestClassifier (max_features=2)\n",
      "218 RandomForestClassifier (max_features=2)\n",
      "219 RandomForestClassifier (max_features=2)\n",
      "220 RandomForestClassifier (max_features=2)\n",
      "221 RandomForestClassifier (max_features=2)\n",
      "222 RandomForestClassifier (max_features=2)\n",
      "223 RandomForestClassifier (max_features=2)\n",
      "224 RandomForestClassifier (max_features=2)\n",
      "225 RandomForestClassifier (max_features=2)\n",
      "226 RandomForestClassifier (max_features=2)\n",
      "227 RandomForestClassifier (max_features=2)\n",
      "228 RandomForestClassifier (max_features=2)\n",
      "229 RandomForestClassifier (max_features=2)\n",
      "230 RandomForestClassifier (max_features=2)\n",
      "231 RandomForestClassifier (max_features=2)\n",
      "232 RandomForestClassifier (max_features=2)\n",
      "233 RandomForestClassifier (max_features=2)\n",
      "234 RandomForestClassifier (max_features=2)\n",
      "235 RandomForestClassifier (max_features=2)\n",
      "236 RandomForestClassifier (max_features=2)\n",
      "237 RandomForestClassifier (max_features=2)\n",
      "238 RandomForestClassifier (max_features=2)\n",
      "239 RandomForestClassifier (max_features=2)\n",
      "240 RandomForestClassifier (max_features=2)\n",
      "241 RandomForestClassifier (max_features=2)\n",
      "242 RandomForestClassifier (max_features=2)\n",
      "243 RandomForestClassifier (max_features=2)\n",
      "244 RandomForestClassifier (max_features=2)\n",
      "245 RandomForestClassifier (max_features=2)\n",
      "246 RandomForestClassifier (max_features=2)\n",
      "247 RandomForestClassifier (max_features=2)\n",
      "248 RandomForestClassifier (max_features=2)\n",
      "249 RandomForestClassifier (max_features=2)\n",
      "250 RandomForestClassifier (max_features=2)\n",
      "251 RandomForestClassifier (max_features=2)\n",
      "252 RandomForestClassifier (max_features=2)\n",
      "253 RandomForestClassifier (max_features=2)\n",
      "254 RandomForestClassifier (max_features=2)\n",
      "255 RandomForestClassifier (max_features=2)\n",
      "256 RandomForestClassifier (max_features=2)\n",
      "257 RandomForestClassifier (max_features=2)\n",
      "258 RandomForestClassifier (max_features=2)\n",
      "259 RandomForestClassifier (max_features=2)\n",
      "260 RandomForestClassifier (max_features=2)\n",
      "261 RandomForestClassifier (max_features=2)\n",
      "262 RandomForestClassifier (max_features=2)\n",
      "263 RandomForestClassifier (max_features=2)\n",
      "264 RandomForestClassifier (max_features=2)\n",
      "265 RandomForestClassifier (max_features=2)\n",
      "266 RandomForestClassifier (max_features=2)\n",
      "267 RandomForestClassifier (max_features=2)\n",
      "268 RandomForestClassifier (max_features=2)\n",
      "269 RandomForestClassifier (max_features=2)\n",
      "270 RandomForestClassifier (max_features=2)\n",
      "271 RandomForestClassifier (max_features=2)\n",
      "272 RandomForestClassifier (max_features=2)\n",
      "273 RandomForestClassifier (max_features=2)\n",
      "274 RandomForestClassifier (max_features=2)\n",
      "275 RandomForestClassifier (max_features=2)\n",
      "276 RandomForestClassifier (max_features=2)\n",
      "277 RandomForestClassifier (max_features=2)\n",
      "278 RandomForestClassifier (max_features=2)\n",
      "279 RandomForestClassifier (max_features=2)\n",
      "280 RandomForestClassifier (max_features=2)\n",
      "281 RandomForestClassifier (max_features=2)\n",
      "282 RandomForestClassifier (max_features=2)\n",
      "283 RandomForestClassifier (max_features=2)\n",
      "284 RandomForestClassifier (max_features=2)\n",
      "285 RandomForestClassifier (max_features=2)\n",
      "286 RandomForestClassifier (max_features=2)\n",
      "287 RandomForestClassifier (max_features=2)\n",
      "288 RandomForestClassifier (max_features=2)\n",
      "289 RandomForestClassifier (max_features=2)\n",
      "290 RandomForestClassifier (max_features=2)\n",
      "291 RandomForestClassifier (max_features=2)\n",
      "292 RandomForestClassifier (max_features=2)\n",
      "293 RandomForestClassifier (max_features=2)\n",
      "294 RandomForestClassifier (max_features=2)\n",
      "295 RandomForestClassifier (max_features=2)\n",
      "296 RandomForestClassifier (max_features=2)\n",
      "297 RandomForestClassifier (max_features=2)\n",
      "298 RandomForestClassifier (max_features=2)\n",
      "299 RandomForestClassifier (max_features=2)\n",
      "300 RandomForestClassifier (max_features=2)\n",
      "301 RandomForestClassifier (max_features=2)\n",
      "302 RandomForestClassifier (max_features=2)\n",
      "303 RandomForestClassifier (max_features=2)\n",
      "304 RandomForestClassifier (max_features=2)\n",
      "305 RandomForestClassifier (max_features=2)\n",
      "306 RandomForestClassifier (max_features=2)\n",
      "307 RandomForestClassifier (max_features=2)\n",
      "308 RandomForestClassifier (max_features=2)\n",
      "309 RandomForestClassifier (max_features=2)\n",
      "310 RandomForestClassifier (max_features=2)\n",
      "311 RandomForestClassifier (max_features=2)\n",
      "312 RandomForestClassifier (max_features=2)\n",
      "313 RandomForestClassifier (max_features=2)\n",
      "314 RandomForestClassifier (max_features=2)\n",
      "315 RandomForestClassifier (max_features=2)\n",
      "316 RandomForestClassifier (max_features=2)\n",
      "317 RandomForestClassifier (max_features=2)\n",
      "318 RandomForestClassifier (max_features=2)\n",
      "319 RandomForestClassifier (max_features=2)\n",
      "320 RandomForestClassifier (max_features=2)\n",
      "321 RandomForestClassifier (max_features=2)\n",
      "322 RandomForestClassifier (max_features=2)\n",
      "323 RandomForestClassifier (max_features=2)\n",
      "324 RandomForestClassifier (max_features=2)\n",
      "325 RandomForestClassifier (max_features=2)\n",
      "326 RandomForestClassifier (max_features=2)\n",
      "327 RandomForestClassifier (max_features=2)\n",
      "328 RandomForestClassifier (max_features=2)\n",
      "329 RandomForestClassifier (max_features=2)\n",
      "330 RandomForestClassifier (max_features=2)\n",
      "331 RandomForestClassifier (max_features=2)\n",
      "332 RandomForestClassifier (max_features=2)\n",
      "333 RandomForestClassifier (max_features=2)\n",
      "334 RandomForestClassifier (max_features=2)\n",
      "335 RandomForestClassifier (max_features=2)\n",
      "336 RandomForestClassifier (max_features=2)\n",
      "337 RandomForestClassifier (max_features=2)\n",
      "338 RandomForestClassifier (max_features=2)\n",
      "339 RandomForestClassifier (max_features=2)\n",
      "340 RandomForestClassifier (max_features=2)\n",
      "341 RandomForestClassifier (max_features=2)\n",
      "342 RandomForestClassifier (max_features=2)\n",
      "343 RandomForestClassifier (max_features=2)\n",
      "344 RandomForestClassifier (max_features=2)\n",
      "345 RandomForestClassifier (max_features=2)\n",
      "346 RandomForestClassifier (max_features=2)\n",
      "347 RandomForestClassifier (max_features=2)\n",
      "348 RandomForestClassifier (max_features=2)\n",
      "349 RandomForestClassifier (max_features=2)\n",
      "350 RandomForestClassifier (max_features=2)\n",
      "351 RandomForestClassifier (max_features=2)\n",
      "352 RandomForestClassifier (max_features=2)\n",
      "353 RandomForestClassifier (max_features=2)\n",
      "354 RandomForestClassifier (max_features=2)\n",
      "355 RandomForestClassifier (max_features=2)\n",
      "356 RandomForestClassifier (max_features=2)\n",
      "357 RandomForestClassifier (max_features=2)\n",
      "358 RandomForestClassifier (max_features=2)\n",
      "359 RandomForestClassifier (max_features=2)\n",
      "360 RandomForestClassifier (max_features=2)\n",
      "361 RandomForestClassifier (max_features=2)\n",
      "362 RandomForestClassifier (max_features=2)\n",
      "363 RandomForestClassifier (max_features=2)\n",
      "364 RandomForestClassifier (max_features=2)\n",
      "365 RandomForestClassifier (max_features=2)\n",
      "366 RandomForestClassifier (max_features=2)\n",
      "367 RandomForestClassifier (max_features=2)\n",
      "368 RandomForestClassifier (max_features=2)\n",
      "369 RandomForestClassifier (max_features=2)\n",
      "370 RandomForestClassifier (max_features=2)\n",
      "371 RandomForestClassifier (max_features=2)\n",
      "372 RandomForestClassifier (max_features=2)\n",
      "373 RandomForestClassifier (max_features=2)\n",
      "374 RandomForestClassifier (max_features=2)\n",
      "375 RandomForestClassifier (max_features=2)\n",
      "376 RandomForestClassifier (max_features=2)\n",
      "377 RandomForestClassifier (max_features=2)\n",
      "378 RandomForestClassifier (max_features=2)\n",
      "379 RandomForestClassifier (max_features=2)\n",
      "380 RandomForestClassifier (max_features=2)\n",
      "381 RandomForestClassifier (max_features=2)\n",
      "382 RandomForestClassifier (max_features=2)\n",
      "383 RandomForestClassifier (max_features=2)\n",
      "384 RandomForestClassifier (max_features=2)\n",
      "385 RandomForestClassifier (max_features=2)\n",
      "386 RandomForestClassifier (max_features=2)\n",
      "387 RandomForestClassifier (max_features=2)\n",
      "388 RandomForestClassifier (max_features=2)\n",
      "389 RandomForestClassifier (max_features=2)\n",
      "390 RandomForestClassifier (max_features=2)\n",
      "391 RandomForestClassifier (max_features=2)\n",
      "392 RandomForestClassifier (max_features=2)\n",
      "393 RandomForestClassifier (max_features=2)\n",
      "394 RandomForestClassifier (max_features=2)\n",
      "395 RandomForestClassifier (max_features=2)\n",
      "396 RandomForestClassifier (max_features=2)\n",
      "397 RandomForestClassifier (max_features=2)\n",
      "398 RandomForestClassifier (max_features=2)\n",
      "399 RandomForestClassifier (max_features=2)\n",
      "400 RandomForestClassifier (max_features=2)\n"
     ]
    },
    {
     "name": "stderr",
     "output_type": "stream",
     "text": [
      "C:\\Users\\carth\\AppData\\Local\\Packages\\PythonSoftwareFoundation.Python.3.10_qbz5n2kfra8p0\\LocalCache\\local-packages\\Python310\\site-packages\\sklearn\\ensemble\\_forest.py:578: UserWarning: Some inputs do not have OOB scores. This probably means too few trees were used to compute any reliable OOB estimates.\n",
      "  warn(\n"
     ]
    },
    {
     "name": "stdout",
     "output_type": "stream",
     "text": [
      "1 ExtraTreesClassifier (max_features='auto')\n"
     ]
    },
    {
     "name": "stderr",
     "output_type": "stream",
     "text": [
      "C:\\Users\\carth\\AppData\\Local\\Packages\\PythonSoftwareFoundation.Python.3.10_qbz5n2kfra8p0\\LocalCache\\local-packages\\Python310\\site-packages\\sklearn\\ensemble\\_forest.py:578: UserWarning: Some inputs do not have OOB scores. This probably means too few trees were used to compute any reliable OOB estimates.\n",
      "  warn(\n"
     ]
    },
    {
     "name": "stdout",
     "output_type": "stream",
     "text": [
      "2 ExtraTreesClassifier (max_features='auto')\n"
     ]
    },
    {
     "name": "stderr",
     "output_type": "stream",
     "text": [
      "C:\\Users\\carth\\AppData\\Local\\Packages\\PythonSoftwareFoundation.Python.3.10_qbz5n2kfra8p0\\LocalCache\\local-packages\\Python310\\site-packages\\sklearn\\ensemble\\_forest.py:578: UserWarning: Some inputs do not have OOB scores. This probably means too few trees were used to compute any reliable OOB estimates.\n",
      "  warn(\n"
     ]
    },
    {
     "name": "stdout",
     "output_type": "stream",
     "text": [
      "3 ExtraTreesClassifier (max_features='auto')\n"
     ]
    },
    {
     "name": "stderr",
     "output_type": "stream",
     "text": [
      "C:\\Users\\carth\\AppData\\Local\\Packages\\PythonSoftwareFoundation.Python.3.10_qbz5n2kfra8p0\\LocalCache\\local-packages\\Python310\\site-packages\\sklearn\\ensemble\\_forest.py:578: UserWarning: Some inputs do not have OOB scores. This probably means too few trees were used to compute any reliable OOB estimates.\n",
      "  warn(\n"
     ]
    },
    {
     "name": "stdout",
     "output_type": "stream",
     "text": [
      "4 ExtraTreesClassifier (max_features='auto')\n"
     ]
    },
    {
     "name": "stderr",
     "output_type": "stream",
     "text": [
      "C:\\Users\\carth\\AppData\\Local\\Packages\\PythonSoftwareFoundation.Python.3.10_qbz5n2kfra8p0\\LocalCache\\local-packages\\Python310\\site-packages\\sklearn\\ensemble\\_forest.py:578: UserWarning: Some inputs do not have OOB scores. This probably means too few trees were used to compute any reliable OOB estimates.\n",
      "  warn(\n"
     ]
    },
    {
     "name": "stdout",
     "output_type": "stream",
     "text": [
      "5 ExtraTreesClassifier (max_features='auto')\n"
     ]
    },
    {
     "name": "stderr",
     "output_type": "stream",
     "text": [
      "C:\\Users\\carth\\AppData\\Local\\Packages\\PythonSoftwareFoundation.Python.3.10_qbz5n2kfra8p0\\LocalCache\\local-packages\\Python310\\site-packages\\sklearn\\ensemble\\_forest.py:578: UserWarning: Some inputs do not have OOB scores. This probably means too few trees were used to compute any reliable OOB estimates.\n",
      "  warn(\n"
     ]
    },
    {
     "name": "stdout",
     "output_type": "stream",
     "text": [
      "6 ExtraTreesClassifier (max_features='auto')\n"
     ]
    },
    {
     "name": "stderr",
     "output_type": "stream",
     "text": [
      "C:\\Users\\carth\\AppData\\Local\\Packages\\PythonSoftwareFoundation.Python.3.10_qbz5n2kfra8p0\\LocalCache\\local-packages\\Python310\\site-packages\\sklearn\\ensemble\\_forest.py:578: UserWarning: Some inputs do not have OOB scores. This probably means too few trees were used to compute any reliable OOB estimates.\n",
      "  warn(\n"
     ]
    },
    {
     "name": "stdout",
     "output_type": "stream",
     "text": [
      "7 ExtraTreesClassifier (max_features='auto')\n"
     ]
    },
    {
     "name": "stderr",
     "output_type": "stream",
     "text": [
      "C:\\Users\\carth\\AppData\\Local\\Packages\\PythonSoftwareFoundation.Python.3.10_qbz5n2kfra8p0\\LocalCache\\local-packages\\Python310\\site-packages\\sklearn\\ensemble\\_forest.py:578: UserWarning: Some inputs do not have OOB scores. This probably means too few trees were used to compute any reliable OOB estimates.\n",
      "  warn(\n"
     ]
    },
    {
     "name": "stdout",
     "output_type": "stream",
     "text": [
      "8 ExtraTreesClassifier (max_features='auto')\n"
     ]
    },
    {
     "name": "stderr",
     "output_type": "stream",
     "text": [
      "C:\\Users\\carth\\AppData\\Local\\Packages\\PythonSoftwareFoundation.Python.3.10_qbz5n2kfra8p0\\LocalCache\\local-packages\\Python310\\site-packages\\sklearn\\ensemble\\_forest.py:578: UserWarning: Some inputs do not have OOB scores. This probably means too few trees were used to compute any reliable OOB estimates.\n",
      "  warn(\n"
     ]
    },
    {
     "name": "stdout",
     "output_type": "stream",
     "text": [
      "9 ExtraTreesClassifier (max_features='auto')\n"
     ]
    },
    {
     "name": "stderr",
     "output_type": "stream",
     "text": [
      "C:\\Users\\carth\\AppData\\Local\\Packages\\PythonSoftwareFoundation.Python.3.10_qbz5n2kfra8p0\\LocalCache\\local-packages\\Python310\\site-packages\\sklearn\\ensemble\\_forest.py:578: UserWarning: Some inputs do not have OOB scores. This probably means too few trees were used to compute any reliable OOB estimates.\n",
      "  warn(\n"
     ]
    },
    {
     "name": "stdout",
     "output_type": "stream",
     "text": [
      "10 ExtraTreesClassifier (max_features='auto')\n"
     ]
    },
    {
     "name": "stderr",
     "output_type": "stream",
     "text": [
      "C:\\Users\\carth\\AppData\\Local\\Packages\\PythonSoftwareFoundation.Python.3.10_qbz5n2kfra8p0\\LocalCache\\local-packages\\Python310\\site-packages\\sklearn\\ensemble\\_forest.py:578: UserWarning: Some inputs do not have OOB scores. This probably means too few trees were used to compute any reliable OOB estimates.\n",
      "  warn(\n"
     ]
    },
    {
     "name": "stdout",
     "output_type": "stream",
     "text": [
      "11 ExtraTreesClassifier (max_features='auto')\n"
     ]
    },
    {
     "name": "stderr",
     "output_type": "stream",
     "text": [
      "C:\\Users\\carth\\AppData\\Local\\Packages\\PythonSoftwareFoundation.Python.3.10_qbz5n2kfra8p0\\LocalCache\\local-packages\\Python310\\site-packages\\sklearn\\ensemble\\_forest.py:578: UserWarning: Some inputs do not have OOB scores. This probably means too few trees were used to compute any reliable OOB estimates.\n",
      "  warn(\n"
     ]
    },
    {
     "name": "stdout",
     "output_type": "stream",
     "text": [
      "12 ExtraTreesClassifier (max_features='auto')\n"
     ]
    },
    {
     "name": "stderr",
     "output_type": "stream",
     "text": [
      "C:\\Users\\carth\\AppData\\Local\\Packages\\PythonSoftwareFoundation.Python.3.10_qbz5n2kfra8p0\\LocalCache\\local-packages\\Python310\\site-packages\\sklearn\\ensemble\\_forest.py:578: UserWarning: Some inputs do not have OOB scores. This probably means too few trees were used to compute any reliable OOB estimates.\n",
      "  warn(\n"
     ]
    },
    {
     "name": "stdout",
     "output_type": "stream",
     "text": [
      "13 ExtraTreesClassifier (max_features='auto')\n"
     ]
    },
    {
     "name": "stderr",
     "output_type": "stream",
     "text": [
      "C:\\Users\\carth\\AppData\\Local\\Packages\\PythonSoftwareFoundation.Python.3.10_qbz5n2kfra8p0\\LocalCache\\local-packages\\Python310\\site-packages\\sklearn\\ensemble\\_forest.py:578: UserWarning: Some inputs do not have OOB scores. This probably means too few trees were used to compute any reliable OOB estimates.\n",
      "  warn(\n"
     ]
    },
    {
     "name": "stdout",
     "output_type": "stream",
     "text": [
      "14 ExtraTreesClassifier (max_features='auto')\n"
     ]
    },
    {
     "name": "stderr",
     "output_type": "stream",
     "text": [
      "C:\\Users\\carth\\AppData\\Local\\Packages\\PythonSoftwareFoundation.Python.3.10_qbz5n2kfra8p0\\LocalCache\\local-packages\\Python310\\site-packages\\sklearn\\ensemble\\_forest.py:578: UserWarning: Some inputs do not have OOB scores. This probably means too few trees were used to compute any reliable OOB estimates.\n",
      "  warn(\n"
     ]
    },
    {
     "name": "stdout",
     "output_type": "stream",
     "text": [
      "15 ExtraTreesClassifier (max_features='auto')\n"
     ]
    },
    {
     "name": "stderr",
     "output_type": "stream",
     "text": [
      "C:\\Users\\carth\\AppData\\Local\\Packages\\PythonSoftwareFoundation.Python.3.10_qbz5n2kfra8p0\\LocalCache\\local-packages\\Python310\\site-packages\\sklearn\\ensemble\\_forest.py:578: UserWarning: Some inputs do not have OOB scores. This probably means too few trees were used to compute any reliable OOB estimates.\n",
      "  warn(\n"
     ]
    },
    {
     "name": "stdout",
     "output_type": "stream",
     "text": [
      "16 ExtraTreesClassifier (max_features='auto')\n"
     ]
    },
    {
     "name": "stderr",
     "output_type": "stream",
     "text": [
      "C:\\Users\\carth\\AppData\\Local\\Packages\\PythonSoftwareFoundation.Python.3.10_qbz5n2kfra8p0\\LocalCache\\local-packages\\Python310\\site-packages\\sklearn\\ensemble\\_forest.py:578: UserWarning: Some inputs do not have OOB scores. This probably means too few trees were used to compute any reliable OOB estimates.\n",
      "  warn(\n"
     ]
    },
    {
     "name": "stdout",
     "output_type": "stream",
     "text": [
      "17 ExtraTreesClassifier (max_features='auto')\n"
     ]
    },
    {
     "name": "stderr",
     "output_type": "stream",
     "text": [
      "C:\\Users\\carth\\AppData\\Local\\Packages\\PythonSoftwareFoundation.Python.3.10_qbz5n2kfra8p0\\LocalCache\\local-packages\\Python310\\site-packages\\sklearn\\ensemble\\_forest.py:578: UserWarning: Some inputs do not have OOB scores. This probably means too few trees were used to compute any reliable OOB estimates.\n",
      "  warn(\n"
     ]
    },
    {
     "name": "stdout",
     "output_type": "stream",
     "text": [
      "18 ExtraTreesClassifier (max_features='auto')\n"
     ]
    },
    {
     "name": "stderr",
     "output_type": "stream",
     "text": [
      "C:\\Users\\carth\\AppData\\Local\\Packages\\PythonSoftwareFoundation.Python.3.10_qbz5n2kfra8p0\\LocalCache\\local-packages\\Python310\\site-packages\\sklearn\\ensemble\\_forest.py:578: UserWarning: Some inputs do not have OOB scores. This probably means too few trees were used to compute any reliable OOB estimates.\n",
      "  warn(\n"
     ]
    },
    {
     "name": "stdout",
     "output_type": "stream",
     "text": [
      "19 ExtraTreesClassifier (max_features='auto')\n"
     ]
    },
    {
     "name": "stderr",
     "output_type": "stream",
     "text": [
      "C:\\Users\\carth\\AppData\\Local\\Packages\\PythonSoftwareFoundation.Python.3.10_qbz5n2kfra8p0\\LocalCache\\local-packages\\Python310\\site-packages\\sklearn\\ensemble\\_forest.py:578: UserWarning: Some inputs do not have OOB scores. This probably means too few trees were used to compute any reliable OOB estimates.\n",
      "  warn(\n"
     ]
    },
    {
     "name": "stdout",
     "output_type": "stream",
     "text": [
      "20 ExtraTreesClassifier (max_features='auto')\n"
     ]
    },
    {
     "name": "stderr",
     "output_type": "stream",
     "text": [
      "C:\\Users\\carth\\AppData\\Local\\Packages\\PythonSoftwareFoundation.Python.3.10_qbz5n2kfra8p0\\LocalCache\\local-packages\\Python310\\site-packages\\sklearn\\ensemble\\_forest.py:578: UserWarning: Some inputs do not have OOB scores. This probably means too few trees were used to compute any reliable OOB estimates.\n",
      "  warn(\n"
     ]
    },
    {
     "name": "stdout",
     "output_type": "stream",
     "text": [
      "21 ExtraTreesClassifier (max_features='auto')\n"
     ]
    },
    {
     "name": "stderr",
     "output_type": "stream",
     "text": [
      "C:\\Users\\carth\\AppData\\Local\\Packages\\PythonSoftwareFoundation.Python.3.10_qbz5n2kfra8p0\\LocalCache\\local-packages\\Python310\\site-packages\\sklearn\\ensemble\\_forest.py:578: UserWarning: Some inputs do not have OOB scores. This probably means too few trees were used to compute any reliable OOB estimates.\n",
      "  warn(\n"
     ]
    },
    {
     "name": "stdout",
     "output_type": "stream",
     "text": [
      "22 ExtraTreesClassifier (max_features='auto')\n"
     ]
    },
    {
     "name": "stderr",
     "output_type": "stream",
     "text": [
      "C:\\Users\\carth\\AppData\\Local\\Packages\\PythonSoftwareFoundation.Python.3.10_qbz5n2kfra8p0\\LocalCache\\local-packages\\Python310\\site-packages\\sklearn\\ensemble\\_forest.py:578: UserWarning: Some inputs do not have OOB scores. This probably means too few trees were used to compute any reliable OOB estimates.\n",
      "  warn(\n"
     ]
    },
    {
     "name": "stdout",
     "output_type": "stream",
     "text": [
      "23 ExtraTreesClassifier (max_features='auto')\n"
     ]
    },
    {
     "name": "stderr",
     "output_type": "stream",
     "text": [
      "C:\\Users\\carth\\AppData\\Local\\Packages\\PythonSoftwareFoundation.Python.3.10_qbz5n2kfra8p0\\LocalCache\\local-packages\\Python310\\site-packages\\sklearn\\ensemble\\_forest.py:578: UserWarning: Some inputs do not have OOB scores. This probably means too few trees were used to compute any reliable OOB estimates.\n",
      "  warn(\n"
     ]
    },
    {
     "name": "stdout",
     "output_type": "stream",
     "text": [
      "24 ExtraTreesClassifier (max_features='auto')\n"
     ]
    },
    {
     "name": "stderr",
     "output_type": "stream",
     "text": [
      "C:\\Users\\carth\\AppData\\Local\\Packages\\PythonSoftwareFoundation.Python.3.10_qbz5n2kfra8p0\\LocalCache\\local-packages\\Python310\\site-packages\\sklearn\\ensemble\\_forest.py:578: UserWarning: Some inputs do not have OOB scores. This probably means too few trees were used to compute any reliable OOB estimates.\n",
      "  warn(\n"
     ]
    },
    {
     "name": "stdout",
     "output_type": "stream",
     "text": [
      "25 ExtraTreesClassifier (max_features='auto')\n"
     ]
    },
    {
     "name": "stderr",
     "output_type": "stream",
     "text": [
      "C:\\Users\\carth\\AppData\\Local\\Packages\\PythonSoftwareFoundation.Python.3.10_qbz5n2kfra8p0\\LocalCache\\local-packages\\Python310\\site-packages\\sklearn\\ensemble\\_forest.py:578: UserWarning: Some inputs do not have OOB scores. This probably means too few trees were used to compute any reliable OOB estimates.\n",
      "  warn(\n"
     ]
    },
    {
     "name": "stdout",
     "output_type": "stream",
     "text": [
      "26 ExtraTreesClassifier (max_features='auto')\n"
     ]
    },
    {
     "name": "stderr",
     "output_type": "stream",
     "text": [
      "C:\\Users\\carth\\AppData\\Local\\Packages\\PythonSoftwareFoundation.Python.3.10_qbz5n2kfra8p0\\LocalCache\\local-packages\\Python310\\site-packages\\sklearn\\ensemble\\_forest.py:578: UserWarning: Some inputs do not have OOB scores. This probably means too few trees were used to compute any reliable OOB estimates.\n",
      "  warn(\n"
     ]
    },
    {
     "name": "stdout",
     "output_type": "stream",
     "text": [
      "27 ExtraTreesClassifier (max_features='auto')\n"
     ]
    },
    {
     "name": "stderr",
     "output_type": "stream",
     "text": [
      "C:\\Users\\carth\\AppData\\Local\\Packages\\PythonSoftwareFoundation.Python.3.10_qbz5n2kfra8p0\\LocalCache\\local-packages\\Python310\\site-packages\\sklearn\\ensemble\\_forest.py:578: UserWarning: Some inputs do not have OOB scores. This probably means too few trees were used to compute any reliable OOB estimates.\n",
      "  warn(\n"
     ]
    },
    {
     "name": "stdout",
     "output_type": "stream",
     "text": [
      "28 ExtraTreesClassifier (max_features='auto')\n"
     ]
    },
    {
     "name": "stderr",
     "output_type": "stream",
     "text": [
      "C:\\Users\\carth\\AppData\\Local\\Packages\\PythonSoftwareFoundation.Python.3.10_qbz5n2kfra8p0\\LocalCache\\local-packages\\Python310\\site-packages\\sklearn\\ensemble\\_forest.py:578: UserWarning: Some inputs do not have OOB scores. This probably means too few trees were used to compute any reliable OOB estimates.\n",
      "  warn(\n"
     ]
    },
    {
     "name": "stdout",
     "output_type": "stream",
     "text": [
      "29 ExtraTreesClassifier (max_features='auto')\n"
     ]
    },
    {
     "name": "stderr",
     "output_type": "stream",
     "text": [
      "C:\\Users\\carth\\AppData\\Local\\Packages\\PythonSoftwareFoundation.Python.3.10_qbz5n2kfra8p0\\LocalCache\\local-packages\\Python310\\site-packages\\sklearn\\ensemble\\_forest.py:578: UserWarning: Some inputs do not have OOB scores. This probably means too few trees were used to compute any reliable OOB estimates.\n",
      "  warn(\n"
     ]
    },
    {
     "name": "stdout",
     "output_type": "stream",
     "text": [
      "30 ExtraTreesClassifier (max_features='auto')\n"
     ]
    },
    {
     "name": "stderr",
     "output_type": "stream",
     "text": [
      "C:\\Users\\carth\\AppData\\Local\\Packages\\PythonSoftwareFoundation.Python.3.10_qbz5n2kfra8p0\\LocalCache\\local-packages\\Python310\\site-packages\\sklearn\\ensemble\\_forest.py:578: UserWarning: Some inputs do not have OOB scores. This probably means too few trees were used to compute any reliable OOB estimates.\n",
      "  warn(\n"
     ]
    },
    {
     "name": "stdout",
     "output_type": "stream",
     "text": [
      "31 ExtraTreesClassifier (max_features='auto')\n"
     ]
    },
    {
     "name": "stderr",
     "output_type": "stream",
     "text": [
      "C:\\Users\\carth\\AppData\\Local\\Packages\\PythonSoftwareFoundation.Python.3.10_qbz5n2kfra8p0\\LocalCache\\local-packages\\Python310\\site-packages\\sklearn\\ensemble\\_forest.py:578: UserWarning: Some inputs do not have OOB scores. This probably means too few trees were used to compute any reliable OOB estimates.\n",
      "  warn(\n"
     ]
    },
    {
     "name": "stdout",
     "output_type": "stream",
     "text": [
      "32 ExtraTreesClassifier (max_features='auto')\n",
      "33 ExtraTreesClassifier (max_features='auto')\n",
      "34 ExtraTreesClassifier (max_features='auto')\n",
      "35 ExtraTreesClassifier (max_features='auto')\n",
      "36 ExtraTreesClassifier (max_features='auto')\n",
      "37 ExtraTreesClassifier (max_features='auto')\n",
      "38 ExtraTreesClassifier (max_features='auto')\n",
      "39 ExtraTreesClassifier (max_features='auto')\n",
      "40 ExtraTreesClassifier (max_features='auto')\n",
      "41 ExtraTreesClassifier (max_features='auto')\n",
      "42 ExtraTreesClassifier (max_features='auto')\n",
      "43 ExtraTreesClassifier (max_features='auto')\n",
      "44 ExtraTreesClassifier (max_features='auto')\n",
      "45 ExtraTreesClassifier (max_features='auto')\n",
      "46 ExtraTreesClassifier (max_features='auto')\n",
      "47 ExtraTreesClassifier (max_features='auto')\n",
      "48 ExtraTreesClassifier (max_features='auto')\n",
      "49 ExtraTreesClassifier (max_features='auto')\n",
      "50 ExtraTreesClassifier (max_features='auto')\n",
      "51 ExtraTreesClassifier (max_features='auto')\n",
      "52 ExtraTreesClassifier (max_features='auto')\n",
      "53 ExtraTreesClassifier (max_features='auto')\n",
      "54 ExtraTreesClassifier (max_features='auto')\n",
      "55 ExtraTreesClassifier (max_features='auto')\n",
      "56 ExtraTreesClassifier (max_features='auto')\n",
      "57 ExtraTreesClassifier (max_features='auto')\n",
      "58 ExtraTreesClassifier (max_features='auto')\n",
      "59 ExtraTreesClassifier (max_features='auto')\n",
      "60 ExtraTreesClassifier (max_features='auto')\n",
      "61 ExtraTreesClassifier (max_features='auto')\n",
      "62 ExtraTreesClassifier (max_features='auto')\n",
      "63 ExtraTreesClassifier (max_features='auto')\n",
      "64 ExtraTreesClassifier (max_features='auto')\n",
      "65 ExtraTreesClassifier (max_features='auto')\n",
      "66 ExtraTreesClassifier (max_features='auto')\n",
      "67 ExtraTreesClassifier (max_features='auto')\n",
      "68 ExtraTreesClassifier (max_features='auto')\n",
      "69 ExtraTreesClassifier (max_features='auto')\n",
      "70 ExtraTreesClassifier (max_features='auto')\n",
      "71 ExtraTreesClassifier (max_features='auto')\n",
      "72 ExtraTreesClassifier (max_features='auto')\n",
      "73 ExtraTreesClassifier (max_features='auto')\n",
      "74 ExtraTreesClassifier (max_features='auto')\n",
      "75 ExtraTreesClassifier (max_features='auto')\n",
      "76 ExtraTreesClassifier (max_features='auto')\n",
      "77 ExtraTreesClassifier (max_features='auto')\n",
      "78 ExtraTreesClassifier (max_features='auto')\n",
      "79 ExtraTreesClassifier (max_features='auto')\n",
      "80 ExtraTreesClassifier (max_features='auto')\n",
      "81 ExtraTreesClassifier (max_features='auto')\n",
      "82 ExtraTreesClassifier (max_features='auto')\n",
      "83 ExtraTreesClassifier (max_features='auto')\n",
      "84 ExtraTreesClassifier (max_features='auto')\n",
      "85 ExtraTreesClassifier (max_features='auto')\n",
      "86 ExtraTreesClassifier (max_features='auto')\n",
      "87 ExtraTreesClassifier (max_features='auto')\n",
      "88 ExtraTreesClassifier (max_features='auto')\n",
      "89 ExtraTreesClassifier (max_features='auto')\n",
      "90 ExtraTreesClassifier (max_features='auto')\n",
      "91 ExtraTreesClassifier (max_features='auto')\n",
      "92 ExtraTreesClassifier (max_features='auto')\n",
      "93 ExtraTreesClassifier (max_features='auto')\n",
      "94 ExtraTreesClassifier (max_features='auto')\n",
      "95 ExtraTreesClassifier (max_features='auto')\n",
      "96 ExtraTreesClassifier (max_features='auto')\n",
      "97 ExtraTreesClassifier (max_features='auto')\n",
      "98 ExtraTreesClassifier (max_features='auto')\n",
      "99 ExtraTreesClassifier (max_features='auto')\n",
      "100 ExtraTreesClassifier (max_features='auto')\n",
      "101 ExtraTreesClassifier (max_features='auto')\n",
      "102 ExtraTreesClassifier (max_features='auto')\n",
      "103 ExtraTreesClassifier (max_features='auto')\n",
      "104 ExtraTreesClassifier (max_features='auto')\n",
      "105 ExtraTreesClassifier (max_features='auto')\n",
      "106 ExtraTreesClassifier (max_features='auto')\n",
      "107 ExtraTreesClassifier (max_features='auto')\n",
      "108 ExtraTreesClassifier (max_features='auto')\n",
      "109 ExtraTreesClassifier (max_features='auto')\n",
      "110 ExtraTreesClassifier (max_features='auto')\n",
      "111 ExtraTreesClassifier (max_features='auto')\n",
      "112 ExtraTreesClassifier (max_features='auto')\n",
      "113 ExtraTreesClassifier (max_features='auto')\n",
      "114 ExtraTreesClassifier (max_features='auto')\n",
      "115 ExtraTreesClassifier (max_features='auto')\n",
      "116 ExtraTreesClassifier (max_features='auto')\n",
      "117 ExtraTreesClassifier (max_features='auto')\n",
      "118 ExtraTreesClassifier (max_features='auto')\n",
      "119 ExtraTreesClassifier (max_features='auto')\n",
      "120 ExtraTreesClassifier (max_features='auto')\n",
      "121 ExtraTreesClassifier (max_features='auto')\n",
      "122 ExtraTreesClassifier (max_features='auto')\n",
      "123 ExtraTreesClassifier (max_features='auto')\n",
      "124 ExtraTreesClassifier (max_features='auto')\n",
      "125 ExtraTreesClassifier (max_features='auto')\n",
      "126 ExtraTreesClassifier (max_features='auto')\n",
      "127 ExtraTreesClassifier (max_features='auto')\n",
      "128 ExtraTreesClassifier (max_features='auto')\n",
      "129 ExtraTreesClassifier (max_features='auto')\n",
      "130 ExtraTreesClassifier (max_features='auto')\n",
      "131 ExtraTreesClassifier (max_features='auto')\n",
      "132 ExtraTreesClassifier (max_features='auto')\n",
      "133 ExtraTreesClassifier (max_features='auto')\n",
      "134 ExtraTreesClassifier (max_features='auto')\n",
      "135 ExtraTreesClassifier (max_features='auto')\n",
      "136 ExtraTreesClassifier (max_features='auto')\n",
      "137 ExtraTreesClassifier (max_features='auto')\n",
      "138 ExtraTreesClassifier (max_features='auto')\n",
      "139 ExtraTreesClassifier (max_features='auto')\n",
      "140 ExtraTreesClassifier (max_features='auto')\n",
      "141 ExtraTreesClassifier (max_features='auto')\n",
      "142 ExtraTreesClassifier (max_features='auto')\n",
      "143 ExtraTreesClassifier (max_features='auto')\n",
      "144 ExtraTreesClassifier (max_features='auto')\n",
      "145 ExtraTreesClassifier (max_features='auto')\n",
      "146 ExtraTreesClassifier (max_features='auto')\n",
      "147 ExtraTreesClassifier (max_features='auto')\n",
      "148 ExtraTreesClassifier (max_features='auto')\n",
      "149 ExtraTreesClassifier (max_features='auto')\n",
      "150 ExtraTreesClassifier (max_features='auto')\n",
      "151 ExtraTreesClassifier (max_features='auto')\n",
      "152 ExtraTreesClassifier (max_features='auto')\n",
      "153 ExtraTreesClassifier (max_features='auto')\n",
      "154 ExtraTreesClassifier (max_features='auto')\n",
      "155 ExtraTreesClassifier (max_features='auto')\n",
      "156 ExtraTreesClassifier (max_features='auto')\n",
      "157 ExtraTreesClassifier (max_features='auto')\n",
      "158 ExtraTreesClassifier (max_features='auto')\n",
      "159 ExtraTreesClassifier (max_features='auto')\n",
      "160 ExtraTreesClassifier (max_features='auto')\n",
      "161 ExtraTreesClassifier (max_features='auto')\n",
      "162 ExtraTreesClassifier (max_features='auto')\n",
      "163 ExtraTreesClassifier (max_features='auto')\n",
      "164 ExtraTreesClassifier (max_features='auto')\n",
      "165 ExtraTreesClassifier (max_features='auto')\n",
      "166 ExtraTreesClassifier (max_features='auto')\n",
      "167 ExtraTreesClassifier (max_features='auto')\n",
      "168 ExtraTreesClassifier (max_features='auto')\n",
      "169 ExtraTreesClassifier (max_features='auto')\n",
      "170 ExtraTreesClassifier (max_features='auto')\n",
      "171 ExtraTreesClassifier (max_features='auto')\n",
      "172 ExtraTreesClassifier (max_features='auto')\n",
      "173 ExtraTreesClassifier (max_features='auto')\n",
      "174 ExtraTreesClassifier (max_features='auto')\n",
      "175 ExtraTreesClassifier (max_features='auto')\n",
      "176 ExtraTreesClassifier (max_features='auto')\n",
      "177 ExtraTreesClassifier (max_features='auto')\n",
      "178 ExtraTreesClassifier (max_features='auto')\n",
      "179 ExtraTreesClassifier (max_features='auto')\n",
      "180 ExtraTreesClassifier (max_features='auto')\n",
      "181 ExtraTreesClassifier (max_features='auto')\n",
      "182 ExtraTreesClassifier (max_features='auto')\n",
      "183 ExtraTreesClassifier (max_features='auto')\n",
      "184 ExtraTreesClassifier (max_features='auto')\n",
      "185 ExtraTreesClassifier (max_features='auto')\n",
      "186 ExtraTreesClassifier (max_features='auto')\n",
      "187 ExtraTreesClassifier (max_features='auto')\n",
      "188 ExtraTreesClassifier (max_features='auto')\n",
      "189 ExtraTreesClassifier (max_features='auto')\n",
      "190 ExtraTreesClassifier (max_features='auto')\n",
      "191 ExtraTreesClassifier (max_features='auto')\n",
      "192 ExtraTreesClassifier (max_features='auto')\n",
      "193 ExtraTreesClassifier (max_features='auto')\n",
      "194 ExtraTreesClassifier (max_features='auto')\n",
      "195 ExtraTreesClassifier (max_features='auto')\n",
      "196 ExtraTreesClassifier (max_features='auto')\n",
      "197 ExtraTreesClassifier (max_features='auto')\n",
      "198 ExtraTreesClassifier (max_features='auto')\n",
      "199 ExtraTreesClassifier (max_features='auto')\n",
      "200 ExtraTreesClassifier (max_features='auto')\n",
      "201 ExtraTreesClassifier (max_features='auto')\n",
      "202 ExtraTreesClassifier (max_features='auto')\n",
      "203 ExtraTreesClassifier (max_features='auto')\n",
      "204 ExtraTreesClassifier (max_features='auto')\n",
      "205 ExtraTreesClassifier (max_features='auto')\n",
      "206 ExtraTreesClassifier (max_features='auto')\n",
      "207 ExtraTreesClassifier (max_features='auto')\n",
      "208 ExtraTreesClassifier (max_features='auto')\n",
      "209 ExtraTreesClassifier (max_features='auto')\n",
      "210 ExtraTreesClassifier (max_features='auto')\n",
      "211 ExtraTreesClassifier (max_features='auto')\n",
      "212 ExtraTreesClassifier (max_features='auto')\n",
      "213 ExtraTreesClassifier (max_features='auto')\n",
      "214 ExtraTreesClassifier (max_features='auto')\n",
      "215 ExtraTreesClassifier (max_features='auto')\n",
      "216 ExtraTreesClassifier (max_features='auto')\n",
      "217 ExtraTreesClassifier (max_features='auto')\n",
      "218 ExtraTreesClassifier (max_features='auto')\n",
      "219 ExtraTreesClassifier (max_features='auto')\n",
      "220 ExtraTreesClassifier (max_features='auto')\n",
      "221 ExtraTreesClassifier (max_features='auto')\n",
      "222 ExtraTreesClassifier (max_features='auto')\n",
      "223 ExtraTreesClassifier (max_features='auto')\n",
      "224 ExtraTreesClassifier (max_features='auto')\n",
      "225 ExtraTreesClassifier (max_features='auto')\n",
      "226 ExtraTreesClassifier (max_features='auto')\n",
      "227 ExtraTreesClassifier (max_features='auto')\n",
      "228 ExtraTreesClassifier (max_features='auto')\n",
      "229 ExtraTreesClassifier (max_features='auto')\n",
      "230 ExtraTreesClassifier (max_features='auto')\n",
      "231 ExtraTreesClassifier (max_features='auto')\n",
      "232 ExtraTreesClassifier (max_features='auto')\n",
      "233 ExtraTreesClassifier (max_features='auto')\n",
      "234 ExtraTreesClassifier (max_features='auto')\n",
      "235 ExtraTreesClassifier (max_features='auto')\n",
      "236 ExtraTreesClassifier (max_features='auto')\n",
      "237 ExtraTreesClassifier (max_features='auto')\n",
      "238 ExtraTreesClassifier (max_features='auto')\n",
      "239 ExtraTreesClassifier (max_features='auto')\n",
      "240 ExtraTreesClassifier (max_features='auto')\n",
      "241 ExtraTreesClassifier (max_features='auto')\n",
      "242 ExtraTreesClassifier (max_features='auto')\n",
      "243 ExtraTreesClassifier (max_features='auto')\n",
      "244 ExtraTreesClassifier (max_features='auto')\n",
      "245 ExtraTreesClassifier (max_features='auto')\n",
      "246 ExtraTreesClassifier (max_features='auto')\n",
      "247 ExtraTreesClassifier (max_features='auto')\n",
      "248 ExtraTreesClassifier (max_features='auto')\n",
      "249 ExtraTreesClassifier (max_features='auto')\n",
      "250 ExtraTreesClassifier (max_features='auto')\n",
      "251 ExtraTreesClassifier (max_features='auto')\n",
      "252 ExtraTreesClassifier (max_features='auto')\n",
      "253 ExtraTreesClassifier (max_features='auto')\n",
      "254 ExtraTreesClassifier (max_features='auto')\n",
      "255 ExtraTreesClassifier (max_features='auto')\n",
      "256 ExtraTreesClassifier (max_features='auto')\n",
      "257 ExtraTreesClassifier (max_features='auto')\n",
      "258 ExtraTreesClassifier (max_features='auto')\n",
      "259 ExtraTreesClassifier (max_features='auto')\n",
      "260 ExtraTreesClassifier (max_features='auto')\n",
      "261 ExtraTreesClassifier (max_features='auto')\n",
      "262 ExtraTreesClassifier (max_features='auto')\n",
      "263 ExtraTreesClassifier (max_features='auto')\n",
      "264 ExtraTreesClassifier (max_features='auto')\n",
      "265 ExtraTreesClassifier (max_features='auto')\n",
      "266 ExtraTreesClassifier (max_features='auto')\n",
      "267 ExtraTreesClassifier (max_features='auto')\n",
      "268 ExtraTreesClassifier (max_features='auto')\n",
      "269 ExtraTreesClassifier (max_features='auto')\n",
      "270 ExtraTreesClassifier (max_features='auto')\n",
      "271 ExtraTreesClassifier (max_features='auto')\n",
      "272 ExtraTreesClassifier (max_features='auto')\n",
      "273 ExtraTreesClassifier (max_features='auto')\n",
      "274 ExtraTreesClassifier (max_features='auto')\n",
      "275 ExtraTreesClassifier (max_features='auto')\n",
      "276 ExtraTreesClassifier (max_features='auto')\n",
      "277 ExtraTreesClassifier (max_features='auto')\n",
      "278 ExtraTreesClassifier (max_features='auto')\n",
      "279 ExtraTreesClassifier (max_features='auto')\n",
      "280 ExtraTreesClassifier (max_features='auto')\n",
      "281 ExtraTreesClassifier (max_features='auto')\n",
      "282 ExtraTreesClassifier (max_features='auto')\n",
      "283 ExtraTreesClassifier (max_features='auto')\n",
      "284 ExtraTreesClassifier (max_features='auto')\n",
      "285 ExtraTreesClassifier (max_features='auto')\n",
      "286 ExtraTreesClassifier (max_features='auto')\n",
      "287 ExtraTreesClassifier (max_features='auto')\n",
      "288 ExtraTreesClassifier (max_features='auto')\n",
      "289 ExtraTreesClassifier (max_features='auto')\n",
      "290 ExtraTreesClassifier (max_features='auto')\n",
      "291 ExtraTreesClassifier (max_features='auto')\n",
      "292 ExtraTreesClassifier (max_features='auto')\n",
      "293 ExtraTreesClassifier (max_features='auto')\n",
      "294 ExtraTreesClassifier (max_features='auto')\n",
      "295 ExtraTreesClassifier (max_features='auto')\n",
      "296 ExtraTreesClassifier (max_features='auto')\n",
      "297 ExtraTreesClassifier (max_features='auto')\n",
      "298 ExtraTreesClassifier (max_features='auto')\n",
      "299 ExtraTreesClassifier (max_features='auto')\n",
      "300 ExtraTreesClassifier (max_features='auto')\n",
      "301 ExtraTreesClassifier (max_features='auto')\n",
      "302 ExtraTreesClassifier (max_features='auto')\n",
      "303 ExtraTreesClassifier (max_features='auto')\n",
      "304 ExtraTreesClassifier (max_features='auto')\n",
      "305 ExtraTreesClassifier (max_features='auto')\n",
      "306 ExtraTreesClassifier (max_features='auto')\n",
      "307 ExtraTreesClassifier (max_features='auto')\n",
      "308 ExtraTreesClassifier (max_features='auto')\n",
      "309 ExtraTreesClassifier (max_features='auto')\n",
      "310 ExtraTreesClassifier (max_features='auto')\n",
      "311 ExtraTreesClassifier (max_features='auto')\n",
      "312 ExtraTreesClassifier (max_features='auto')\n",
      "313 ExtraTreesClassifier (max_features='auto')\n",
      "314 ExtraTreesClassifier (max_features='auto')\n",
      "315 ExtraTreesClassifier (max_features='auto')\n",
      "316 ExtraTreesClassifier (max_features='auto')\n",
      "317 ExtraTreesClassifier (max_features='auto')\n",
      "318 ExtraTreesClassifier (max_features='auto')\n",
      "319 ExtraTreesClassifier (max_features='auto')\n",
      "320 ExtraTreesClassifier (max_features='auto')\n",
      "321 ExtraTreesClassifier (max_features='auto')\n",
      "322 ExtraTreesClassifier (max_features='auto')\n",
      "323 ExtraTreesClassifier (max_features='auto')\n",
      "324 ExtraTreesClassifier (max_features='auto')\n",
      "325 ExtraTreesClassifier (max_features='auto')\n",
      "326 ExtraTreesClassifier (max_features='auto')\n",
      "327 ExtraTreesClassifier (max_features='auto')\n",
      "328 ExtraTreesClassifier (max_features='auto')\n",
      "329 ExtraTreesClassifier (max_features='auto')\n",
      "330 ExtraTreesClassifier (max_features='auto')\n",
      "331 ExtraTreesClassifier (max_features='auto')\n",
      "332 ExtraTreesClassifier (max_features='auto')\n",
      "333 ExtraTreesClassifier (max_features='auto')\n",
      "334 ExtraTreesClassifier (max_features='auto')\n",
      "335 ExtraTreesClassifier (max_features='auto')\n",
      "336 ExtraTreesClassifier (max_features='auto')\n",
      "337 ExtraTreesClassifier (max_features='auto')\n",
      "338 ExtraTreesClassifier (max_features='auto')\n",
      "339 ExtraTreesClassifier (max_features='auto')\n",
      "340 ExtraTreesClassifier (max_features='auto')\n",
      "341 ExtraTreesClassifier (max_features='auto')\n",
      "342 ExtraTreesClassifier (max_features='auto')\n",
      "343 ExtraTreesClassifier (max_features='auto')\n",
      "344 ExtraTreesClassifier (max_features='auto')\n",
      "345 ExtraTreesClassifier (max_features='auto')\n",
      "346 ExtraTreesClassifier (max_features='auto')\n",
      "347 ExtraTreesClassifier (max_features='auto')\n",
      "348 ExtraTreesClassifier (max_features='auto')\n",
      "349 ExtraTreesClassifier (max_features='auto')\n",
      "350 ExtraTreesClassifier (max_features='auto')\n",
      "351 ExtraTreesClassifier (max_features='auto')\n",
      "352 ExtraTreesClassifier (max_features='auto')\n",
      "353 ExtraTreesClassifier (max_features='auto')\n",
      "354 ExtraTreesClassifier (max_features='auto')\n",
      "355 ExtraTreesClassifier (max_features='auto')\n",
      "356 ExtraTreesClassifier (max_features='auto')\n",
      "357 ExtraTreesClassifier (max_features='auto')\n",
      "358 ExtraTreesClassifier (max_features='auto')\n",
      "359 ExtraTreesClassifier (max_features='auto')\n",
      "360 ExtraTreesClassifier (max_features='auto')\n",
      "361 ExtraTreesClassifier (max_features='auto')\n",
      "362 ExtraTreesClassifier (max_features='auto')\n",
      "363 ExtraTreesClassifier (max_features='auto')\n",
      "364 ExtraTreesClassifier (max_features='auto')\n",
      "365 ExtraTreesClassifier (max_features='auto')\n",
      "366 ExtraTreesClassifier (max_features='auto')\n",
      "367 ExtraTreesClassifier (max_features='auto')\n",
      "368 ExtraTreesClassifier (max_features='auto')\n",
      "369 ExtraTreesClassifier (max_features='auto')\n",
      "370 ExtraTreesClassifier (max_features='auto')\n",
      "371 ExtraTreesClassifier (max_features='auto')\n",
      "372 ExtraTreesClassifier (max_features='auto')\n",
      "373 ExtraTreesClassifier (max_features='auto')\n",
      "374 ExtraTreesClassifier (max_features='auto')\n",
      "375 ExtraTreesClassifier (max_features='auto')\n",
      "376 ExtraTreesClassifier (max_features='auto')\n",
      "377 ExtraTreesClassifier (max_features='auto')\n",
      "378 ExtraTreesClassifier (max_features='auto')\n",
      "379 ExtraTreesClassifier (max_features='auto')\n",
      "380 ExtraTreesClassifier (max_features='auto')\n",
      "381 ExtraTreesClassifier (max_features='auto')\n",
      "382 ExtraTreesClassifier (max_features='auto')\n",
      "383 ExtraTreesClassifier (max_features='auto')\n",
      "384 ExtraTreesClassifier (max_features='auto')\n",
      "385 ExtraTreesClassifier (max_features='auto')\n",
      "386 ExtraTreesClassifier (max_features='auto')\n",
      "387 ExtraTreesClassifier (max_features='auto')\n",
      "388 ExtraTreesClassifier (max_features='auto')\n",
      "389 ExtraTreesClassifier (max_features='auto')\n",
      "390 ExtraTreesClassifier (max_features='auto')\n",
      "391 ExtraTreesClassifier (max_features='auto')\n",
      "392 ExtraTreesClassifier (max_features='auto')\n",
      "393 ExtraTreesClassifier (max_features='auto')\n",
      "394 ExtraTreesClassifier (max_features='auto')\n",
      "395 ExtraTreesClassifier (max_features='auto')\n",
      "396 ExtraTreesClassifier (max_features='auto')\n",
      "397 ExtraTreesClassifier (max_features='auto')\n",
      "398 ExtraTreesClassifier (max_features='auto')\n",
      "399 ExtraTreesClassifier (max_features='auto')\n",
      "400 ExtraTreesClassifier (max_features='auto')\n"
     ]
    },
    {
     "name": "stderr",
     "output_type": "stream",
     "text": [
      "C:\\Users\\carth\\AppData\\Local\\Packages\\PythonSoftwareFoundation.Python.3.10_qbz5n2kfra8p0\\LocalCache\\local-packages\\Python310\\site-packages\\sklearn\\ensemble\\_forest.py:578: UserWarning: Some inputs do not have OOB scores. This probably means too few trees were used to compute any reliable OOB estimates.\n",
      "  warn(\n"
     ]
    },
    {
     "name": "stdout",
     "output_type": "stream",
     "text": [
      "1 ExtraTreesClassifier (max_features=2)\n"
     ]
    },
    {
     "name": "stderr",
     "output_type": "stream",
     "text": [
      "C:\\Users\\carth\\AppData\\Local\\Packages\\PythonSoftwareFoundation.Python.3.10_qbz5n2kfra8p0\\LocalCache\\local-packages\\Python310\\site-packages\\sklearn\\ensemble\\_forest.py:578: UserWarning: Some inputs do not have OOB scores. This probably means too few trees were used to compute any reliable OOB estimates.\n",
      "  warn(\n"
     ]
    },
    {
     "name": "stdout",
     "output_type": "stream",
     "text": [
      "2 ExtraTreesClassifier (max_features=2)\n"
     ]
    },
    {
     "name": "stderr",
     "output_type": "stream",
     "text": [
      "C:\\Users\\carth\\AppData\\Local\\Packages\\PythonSoftwareFoundation.Python.3.10_qbz5n2kfra8p0\\LocalCache\\local-packages\\Python310\\site-packages\\sklearn\\ensemble\\_forest.py:578: UserWarning: Some inputs do not have OOB scores. This probably means too few trees were used to compute any reliable OOB estimates.\n",
      "  warn(\n"
     ]
    },
    {
     "name": "stdout",
     "output_type": "stream",
     "text": [
      "3 ExtraTreesClassifier (max_features=2)\n"
     ]
    },
    {
     "name": "stderr",
     "output_type": "stream",
     "text": [
      "C:\\Users\\carth\\AppData\\Local\\Packages\\PythonSoftwareFoundation.Python.3.10_qbz5n2kfra8p0\\LocalCache\\local-packages\\Python310\\site-packages\\sklearn\\ensemble\\_forest.py:578: UserWarning: Some inputs do not have OOB scores. This probably means too few trees were used to compute any reliable OOB estimates.\n",
      "  warn(\n"
     ]
    },
    {
     "name": "stdout",
     "output_type": "stream",
     "text": [
      "4 ExtraTreesClassifier (max_features=2)\n"
     ]
    },
    {
     "name": "stderr",
     "output_type": "stream",
     "text": [
      "C:\\Users\\carth\\AppData\\Local\\Packages\\PythonSoftwareFoundation.Python.3.10_qbz5n2kfra8p0\\LocalCache\\local-packages\\Python310\\site-packages\\sklearn\\ensemble\\_forest.py:578: UserWarning: Some inputs do not have OOB scores. This probably means too few trees were used to compute any reliable OOB estimates.\n",
      "  warn(\n"
     ]
    },
    {
     "name": "stdout",
     "output_type": "stream",
     "text": [
      "5 ExtraTreesClassifier (max_features=2)\n"
     ]
    },
    {
     "name": "stderr",
     "output_type": "stream",
     "text": [
      "C:\\Users\\carth\\AppData\\Local\\Packages\\PythonSoftwareFoundation.Python.3.10_qbz5n2kfra8p0\\LocalCache\\local-packages\\Python310\\site-packages\\sklearn\\ensemble\\_forest.py:578: UserWarning: Some inputs do not have OOB scores. This probably means too few trees were used to compute any reliable OOB estimates.\n",
      "  warn(\n"
     ]
    },
    {
     "name": "stdout",
     "output_type": "stream",
     "text": [
      "6 ExtraTreesClassifier (max_features=2)\n"
     ]
    },
    {
     "name": "stderr",
     "output_type": "stream",
     "text": [
      "C:\\Users\\carth\\AppData\\Local\\Packages\\PythonSoftwareFoundation.Python.3.10_qbz5n2kfra8p0\\LocalCache\\local-packages\\Python310\\site-packages\\sklearn\\ensemble\\_forest.py:578: UserWarning: Some inputs do not have OOB scores. This probably means too few trees were used to compute any reliable OOB estimates.\n",
      "  warn(\n"
     ]
    },
    {
     "name": "stdout",
     "output_type": "stream",
     "text": [
      "7 ExtraTreesClassifier (max_features=2)\n"
     ]
    },
    {
     "name": "stderr",
     "output_type": "stream",
     "text": [
      "C:\\Users\\carth\\AppData\\Local\\Packages\\PythonSoftwareFoundation.Python.3.10_qbz5n2kfra8p0\\LocalCache\\local-packages\\Python310\\site-packages\\sklearn\\ensemble\\_forest.py:578: UserWarning: Some inputs do not have OOB scores. This probably means too few trees were used to compute any reliable OOB estimates.\n",
      "  warn(\n"
     ]
    },
    {
     "name": "stdout",
     "output_type": "stream",
     "text": [
      "8 ExtraTreesClassifier (max_features=2)\n"
     ]
    },
    {
     "name": "stderr",
     "output_type": "stream",
     "text": [
      "C:\\Users\\carth\\AppData\\Local\\Packages\\PythonSoftwareFoundation.Python.3.10_qbz5n2kfra8p0\\LocalCache\\local-packages\\Python310\\site-packages\\sklearn\\ensemble\\_forest.py:578: UserWarning: Some inputs do not have OOB scores. This probably means too few trees were used to compute any reliable OOB estimates.\n",
      "  warn(\n"
     ]
    },
    {
     "name": "stdout",
     "output_type": "stream",
     "text": [
      "9 ExtraTreesClassifier (max_features=2)\n"
     ]
    },
    {
     "name": "stderr",
     "output_type": "stream",
     "text": [
      "C:\\Users\\carth\\AppData\\Local\\Packages\\PythonSoftwareFoundation.Python.3.10_qbz5n2kfra8p0\\LocalCache\\local-packages\\Python310\\site-packages\\sklearn\\ensemble\\_forest.py:578: UserWarning: Some inputs do not have OOB scores. This probably means too few trees were used to compute any reliable OOB estimates.\n",
      "  warn(\n"
     ]
    },
    {
     "name": "stdout",
     "output_type": "stream",
     "text": [
      "10 ExtraTreesClassifier (max_features=2)\n"
     ]
    },
    {
     "name": "stderr",
     "output_type": "stream",
     "text": [
      "C:\\Users\\carth\\AppData\\Local\\Packages\\PythonSoftwareFoundation.Python.3.10_qbz5n2kfra8p0\\LocalCache\\local-packages\\Python310\\site-packages\\sklearn\\ensemble\\_forest.py:578: UserWarning: Some inputs do not have OOB scores. This probably means too few trees were used to compute any reliable OOB estimates.\n",
      "  warn(\n"
     ]
    },
    {
     "name": "stdout",
     "output_type": "stream",
     "text": [
      "11 ExtraTreesClassifier (max_features=2)\n"
     ]
    },
    {
     "name": "stderr",
     "output_type": "stream",
     "text": [
      "C:\\Users\\carth\\AppData\\Local\\Packages\\PythonSoftwareFoundation.Python.3.10_qbz5n2kfra8p0\\LocalCache\\local-packages\\Python310\\site-packages\\sklearn\\ensemble\\_forest.py:578: UserWarning: Some inputs do not have OOB scores. This probably means too few trees were used to compute any reliable OOB estimates.\n",
      "  warn(\n"
     ]
    },
    {
     "name": "stdout",
     "output_type": "stream",
     "text": [
      "12 ExtraTreesClassifier (max_features=2)\n"
     ]
    },
    {
     "name": "stderr",
     "output_type": "stream",
     "text": [
      "C:\\Users\\carth\\AppData\\Local\\Packages\\PythonSoftwareFoundation.Python.3.10_qbz5n2kfra8p0\\LocalCache\\local-packages\\Python310\\site-packages\\sklearn\\ensemble\\_forest.py:578: UserWarning: Some inputs do not have OOB scores. This probably means too few trees were used to compute any reliable OOB estimates.\n",
      "  warn(\n"
     ]
    },
    {
     "name": "stdout",
     "output_type": "stream",
     "text": [
      "13 ExtraTreesClassifier (max_features=2)\n"
     ]
    },
    {
     "name": "stderr",
     "output_type": "stream",
     "text": [
      "C:\\Users\\carth\\AppData\\Local\\Packages\\PythonSoftwareFoundation.Python.3.10_qbz5n2kfra8p0\\LocalCache\\local-packages\\Python310\\site-packages\\sklearn\\ensemble\\_forest.py:578: UserWarning: Some inputs do not have OOB scores. This probably means too few trees were used to compute any reliable OOB estimates.\n",
      "  warn(\n"
     ]
    },
    {
     "name": "stdout",
     "output_type": "stream",
     "text": [
      "14 ExtraTreesClassifier (max_features=2)\n"
     ]
    },
    {
     "name": "stderr",
     "output_type": "stream",
     "text": [
      "C:\\Users\\carth\\AppData\\Local\\Packages\\PythonSoftwareFoundation.Python.3.10_qbz5n2kfra8p0\\LocalCache\\local-packages\\Python310\\site-packages\\sklearn\\ensemble\\_forest.py:578: UserWarning: Some inputs do not have OOB scores. This probably means too few trees were used to compute any reliable OOB estimates.\n",
      "  warn(\n"
     ]
    },
    {
     "name": "stdout",
     "output_type": "stream",
     "text": [
      "15 ExtraTreesClassifier (max_features=2)\n"
     ]
    },
    {
     "name": "stderr",
     "output_type": "stream",
     "text": [
      "C:\\Users\\carth\\AppData\\Local\\Packages\\PythonSoftwareFoundation.Python.3.10_qbz5n2kfra8p0\\LocalCache\\local-packages\\Python310\\site-packages\\sklearn\\ensemble\\_forest.py:578: UserWarning: Some inputs do not have OOB scores. This probably means too few trees were used to compute any reliable OOB estimates.\n",
      "  warn(\n"
     ]
    },
    {
     "name": "stdout",
     "output_type": "stream",
     "text": [
      "16 ExtraTreesClassifier (max_features=2)\n"
     ]
    },
    {
     "name": "stderr",
     "output_type": "stream",
     "text": [
      "C:\\Users\\carth\\AppData\\Local\\Packages\\PythonSoftwareFoundation.Python.3.10_qbz5n2kfra8p0\\LocalCache\\local-packages\\Python310\\site-packages\\sklearn\\ensemble\\_forest.py:578: UserWarning: Some inputs do not have OOB scores. This probably means too few trees were used to compute any reliable OOB estimates.\n",
      "  warn(\n"
     ]
    },
    {
     "name": "stdout",
     "output_type": "stream",
     "text": [
      "17 ExtraTreesClassifier (max_features=2)\n"
     ]
    },
    {
     "name": "stderr",
     "output_type": "stream",
     "text": [
      "C:\\Users\\carth\\AppData\\Local\\Packages\\PythonSoftwareFoundation.Python.3.10_qbz5n2kfra8p0\\LocalCache\\local-packages\\Python310\\site-packages\\sklearn\\ensemble\\_forest.py:578: UserWarning: Some inputs do not have OOB scores. This probably means too few trees were used to compute any reliable OOB estimates.\n",
      "  warn(\n"
     ]
    },
    {
     "name": "stdout",
     "output_type": "stream",
     "text": [
      "18 ExtraTreesClassifier (max_features=2)\n"
     ]
    },
    {
     "name": "stderr",
     "output_type": "stream",
     "text": [
      "C:\\Users\\carth\\AppData\\Local\\Packages\\PythonSoftwareFoundation.Python.3.10_qbz5n2kfra8p0\\LocalCache\\local-packages\\Python310\\site-packages\\sklearn\\ensemble\\_forest.py:578: UserWarning: Some inputs do not have OOB scores. This probably means too few trees were used to compute any reliable OOB estimates.\n",
      "  warn(\n"
     ]
    },
    {
     "name": "stdout",
     "output_type": "stream",
     "text": [
      "19 ExtraTreesClassifier (max_features=2)\n"
     ]
    },
    {
     "name": "stderr",
     "output_type": "stream",
     "text": [
      "C:\\Users\\carth\\AppData\\Local\\Packages\\PythonSoftwareFoundation.Python.3.10_qbz5n2kfra8p0\\LocalCache\\local-packages\\Python310\\site-packages\\sklearn\\ensemble\\_forest.py:578: UserWarning: Some inputs do not have OOB scores. This probably means too few trees were used to compute any reliable OOB estimates.\n",
      "  warn(\n"
     ]
    },
    {
     "name": "stdout",
     "output_type": "stream",
     "text": [
      "20 ExtraTreesClassifier (max_features=2)\n"
     ]
    },
    {
     "name": "stderr",
     "output_type": "stream",
     "text": [
      "C:\\Users\\carth\\AppData\\Local\\Packages\\PythonSoftwareFoundation.Python.3.10_qbz5n2kfra8p0\\LocalCache\\local-packages\\Python310\\site-packages\\sklearn\\ensemble\\_forest.py:578: UserWarning: Some inputs do not have OOB scores. This probably means too few trees were used to compute any reliable OOB estimates.\n",
      "  warn(\n"
     ]
    },
    {
     "name": "stdout",
     "output_type": "stream",
     "text": [
      "21 ExtraTreesClassifier (max_features=2)\n"
     ]
    },
    {
     "name": "stderr",
     "output_type": "stream",
     "text": [
      "C:\\Users\\carth\\AppData\\Local\\Packages\\PythonSoftwareFoundation.Python.3.10_qbz5n2kfra8p0\\LocalCache\\local-packages\\Python310\\site-packages\\sklearn\\ensemble\\_forest.py:578: UserWarning: Some inputs do not have OOB scores. This probably means too few trees were used to compute any reliable OOB estimates.\n",
      "  warn(\n"
     ]
    },
    {
     "name": "stdout",
     "output_type": "stream",
     "text": [
      "22 ExtraTreesClassifier (max_features=2)\n"
     ]
    },
    {
     "name": "stderr",
     "output_type": "stream",
     "text": [
      "C:\\Users\\carth\\AppData\\Local\\Packages\\PythonSoftwareFoundation.Python.3.10_qbz5n2kfra8p0\\LocalCache\\local-packages\\Python310\\site-packages\\sklearn\\ensemble\\_forest.py:578: UserWarning: Some inputs do not have OOB scores. This probably means too few trees were used to compute any reliable OOB estimates.\n",
      "  warn(\n"
     ]
    },
    {
     "name": "stdout",
     "output_type": "stream",
     "text": [
      "23 ExtraTreesClassifier (max_features=2)\n"
     ]
    },
    {
     "name": "stderr",
     "output_type": "stream",
     "text": [
      "C:\\Users\\carth\\AppData\\Local\\Packages\\PythonSoftwareFoundation.Python.3.10_qbz5n2kfra8p0\\LocalCache\\local-packages\\Python310\\site-packages\\sklearn\\ensemble\\_forest.py:578: UserWarning: Some inputs do not have OOB scores. This probably means too few trees were used to compute any reliable OOB estimates.\n",
      "  warn(\n"
     ]
    },
    {
     "name": "stdout",
     "output_type": "stream",
     "text": [
      "24 ExtraTreesClassifier (max_features=2)\n"
     ]
    },
    {
     "name": "stderr",
     "output_type": "stream",
     "text": [
      "C:\\Users\\carth\\AppData\\Local\\Packages\\PythonSoftwareFoundation.Python.3.10_qbz5n2kfra8p0\\LocalCache\\local-packages\\Python310\\site-packages\\sklearn\\ensemble\\_forest.py:578: UserWarning: Some inputs do not have OOB scores. This probably means too few trees were used to compute any reliable OOB estimates.\n",
      "  warn(\n"
     ]
    },
    {
     "name": "stdout",
     "output_type": "stream",
     "text": [
      "25 ExtraTreesClassifier (max_features=2)\n"
     ]
    },
    {
     "name": "stderr",
     "output_type": "stream",
     "text": [
      "C:\\Users\\carth\\AppData\\Local\\Packages\\PythonSoftwareFoundation.Python.3.10_qbz5n2kfra8p0\\LocalCache\\local-packages\\Python310\\site-packages\\sklearn\\ensemble\\_forest.py:578: UserWarning: Some inputs do not have OOB scores. This probably means too few trees were used to compute any reliable OOB estimates.\n",
      "  warn(\n"
     ]
    },
    {
     "name": "stdout",
     "output_type": "stream",
     "text": [
      "26 ExtraTreesClassifier (max_features=2)\n"
     ]
    },
    {
     "name": "stderr",
     "output_type": "stream",
     "text": [
      "C:\\Users\\carth\\AppData\\Local\\Packages\\PythonSoftwareFoundation.Python.3.10_qbz5n2kfra8p0\\LocalCache\\local-packages\\Python310\\site-packages\\sklearn\\ensemble\\_forest.py:578: UserWarning: Some inputs do not have OOB scores. This probably means too few trees were used to compute any reliable OOB estimates.\n",
      "  warn(\n"
     ]
    },
    {
     "name": "stdout",
     "output_type": "stream",
     "text": [
      "27 ExtraTreesClassifier (max_features=2)\n"
     ]
    },
    {
     "name": "stderr",
     "output_type": "stream",
     "text": [
      "C:\\Users\\carth\\AppData\\Local\\Packages\\PythonSoftwareFoundation.Python.3.10_qbz5n2kfra8p0\\LocalCache\\local-packages\\Python310\\site-packages\\sklearn\\ensemble\\_forest.py:578: UserWarning: Some inputs do not have OOB scores. This probably means too few trees were used to compute any reliable OOB estimates.\n",
      "  warn(\n"
     ]
    },
    {
     "name": "stdout",
     "output_type": "stream",
     "text": [
      "28 ExtraTreesClassifier (max_features=2)\n"
     ]
    },
    {
     "name": "stderr",
     "output_type": "stream",
     "text": [
      "C:\\Users\\carth\\AppData\\Local\\Packages\\PythonSoftwareFoundation.Python.3.10_qbz5n2kfra8p0\\LocalCache\\local-packages\\Python310\\site-packages\\sklearn\\ensemble\\_forest.py:578: UserWarning: Some inputs do not have OOB scores. This probably means too few trees were used to compute any reliable OOB estimates.\n",
      "  warn(\n"
     ]
    },
    {
     "name": "stdout",
     "output_type": "stream",
     "text": [
      "29 ExtraTreesClassifier (max_features=2)\n"
     ]
    },
    {
     "name": "stderr",
     "output_type": "stream",
     "text": [
      "C:\\Users\\carth\\AppData\\Local\\Packages\\PythonSoftwareFoundation.Python.3.10_qbz5n2kfra8p0\\LocalCache\\local-packages\\Python310\\site-packages\\sklearn\\ensemble\\_forest.py:578: UserWarning: Some inputs do not have OOB scores. This probably means too few trees were used to compute any reliable OOB estimates.\n",
      "  warn(\n"
     ]
    },
    {
     "name": "stdout",
     "output_type": "stream",
     "text": [
      "30 ExtraTreesClassifier (max_features=2)\n"
     ]
    },
    {
     "name": "stderr",
     "output_type": "stream",
     "text": [
      "C:\\Users\\carth\\AppData\\Local\\Packages\\PythonSoftwareFoundation.Python.3.10_qbz5n2kfra8p0\\LocalCache\\local-packages\\Python310\\site-packages\\sklearn\\ensemble\\_forest.py:578: UserWarning: Some inputs do not have OOB scores. This probably means too few trees were used to compute any reliable OOB estimates.\n",
      "  warn(\n"
     ]
    },
    {
     "name": "stdout",
     "output_type": "stream",
     "text": [
      "31 ExtraTreesClassifier (max_features=2)\n"
     ]
    },
    {
     "name": "stderr",
     "output_type": "stream",
     "text": [
      "C:\\Users\\carth\\AppData\\Local\\Packages\\PythonSoftwareFoundation.Python.3.10_qbz5n2kfra8p0\\LocalCache\\local-packages\\Python310\\site-packages\\sklearn\\ensemble\\_forest.py:578: UserWarning: Some inputs do not have OOB scores. This probably means too few trees were used to compute any reliable OOB estimates.\n",
      "  warn(\n"
     ]
    },
    {
     "name": "stdout",
     "output_type": "stream",
     "text": [
      "32 ExtraTreesClassifier (max_features=2)\n",
      "33 ExtraTreesClassifier (max_features=2)\n",
      "34 ExtraTreesClassifier (max_features=2)\n",
      "35 ExtraTreesClassifier (max_features=2)\n",
      "36 ExtraTreesClassifier (max_features=2)\n",
      "37 ExtraTreesClassifier (max_features=2)\n",
      "38 ExtraTreesClassifier (max_features=2)\n",
      "39 ExtraTreesClassifier (max_features=2)\n",
      "40 ExtraTreesClassifier (max_features=2)\n",
      "41 ExtraTreesClassifier (max_features=2)\n",
      "42 ExtraTreesClassifier (max_features=2)\n",
      "43 ExtraTreesClassifier (max_features=2)\n",
      "44 ExtraTreesClassifier (max_features=2)\n",
      "45 ExtraTreesClassifier (max_features=2)\n",
      "46 ExtraTreesClassifier (max_features=2)\n",
      "47 ExtraTreesClassifier (max_features=2)\n",
      "48 ExtraTreesClassifier (max_features=2)\n",
      "49 ExtraTreesClassifier (max_features=2)\n",
      "50 ExtraTreesClassifier (max_features=2)\n",
      "51 ExtraTreesClassifier (max_features=2)\n",
      "52 ExtraTreesClassifier (max_features=2)\n",
      "53 ExtraTreesClassifier (max_features=2)\n",
      "54 ExtraTreesClassifier (max_features=2)\n",
      "55 ExtraTreesClassifier (max_features=2)\n",
      "56 ExtraTreesClassifier (max_features=2)\n",
      "57 ExtraTreesClassifier (max_features=2)\n",
      "58 ExtraTreesClassifier (max_features=2)\n",
      "59 ExtraTreesClassifier (max_features=2)\n",
      "60 ExtraTreesClassifier (max_features=2)\n",
      "61 ExtraTreesClassifier (max_features=2)\n",
      "62 ExtraTreesClassifier (max_features=2)\n",
      "63 ExtraTreesClassifier (max_features=2)\n",
      "64 ExtraTreesClassifier (max_features=2)\n",
      "65 ExtraTreesClassifier (max_features=2)\n",
      "66 ExtraTreesClassifier (max_features=2)\n",
      "67 ExtraTreesClassifier (max_features=2)\n",
      "68 ExtraTreesClassifier (max_features=2)\n",
      "69 ExtraTreesClassifier (max_features=2)\n",
      "70 ExtraTreesClassifier (max_features=2)\n",
      "71 ExtraTreesClassifier (max_features=2)\n",
      "72 ExtraTreesClassifier (max_features=2)\n",
      "73 ExtraTreesClassifier (max_features=2)\n",
      "74 ExtraTreesClassifier (max_features=2)\n",
      "75 ExtraTreesClassifier (max_features=2)\n",
      "76 ExtraTreesClassifier (max_features=2)\n",
      "77 ExtraTreesClassifier (max_features=2)\n",
      "78 ExtraTreesClassifier (max_features=2)\n",
      "79 ExtraTreesClassifier (max_features=2)\n",
      "80 ExtraTreesClassifier (max_features=2)\n",
      "81 ExtraTreesClassifier (max_features=2)\n",
      "82 ExtraTreesClassifier (max_features=2)\n",
      "83 ExtraTreesClassifier (max_features=2)\n",
      "84 ExtraTreesClassifier (max_features=2)\n",
      "85 ExtraTreesClassifier (max_features=2)\n",
      "86 ExtraTreesClassifier (max_features=2)\n",
      "87 ExtraTreesClassifier (max_features=2)\n",
      "88 ExtraTreesClassifier (max_features=2)\n",
      "89 ExtraTreesClassifier (max_features=2)\n",
      "90 ExtraTreesClassifier (max_features=2)\n",
      "91 ExtraTreesClassifier (max_features=2)\n",
      "92 ExtraTreesClassifier (max_features=2)\n",
      "93 ExtraTreesClassifier (max_features=2)\n",
      "94 ExtraTreesClassifier (max_features=2)\n",
      "95 ExtraTreesClassifier (max_features=2)\n",
      "96 ExtraTreesClassifier (max_features=2)\n",
      "97 ExtraTreesClassifier (max_features=2)\n",
      "98 ExtraTreesClassifier (max_features=2)\n",
      "99 ExtraTreesClassifier (max_features=2)\n",
      "100 ExtraTreesClassifier (max_features=2)\n",
      "101 ExtraTreesClassifier (max_features=2)\n",
      "102 ExtraTreesClassifier (max_features=2)\n",
      "103 ExtraTreesClassifier (max_features=2)\n",
      "104 ExtraTreesClassifier (max_features=2)\n",
      "105 ExtraTreesClassifier (max_features=2)\n",
      "106 ExtraTreesClassifier (max_features=2)\n",
      "107 ExtraTreesClassifier (max_features=2)\n",
      "108 ExtraTreesClassifier (max_features=2)\n",
      "109 ExtraTreesClassifier (max_features=2)\n",
      "110 ExtraTreesClassifier (max_features=2)\n",
      "111 ExtraTreesClassifier (max_features=2)\n",
      "112 ExtraTreesClassifier (max_features=2)\n",
      "113 ExtraTreesClassifier (max_features=2)\n",
      "114 ExtraTreesClassifier (max_features=2)\n",
      "115 ExtraTreesClassifier (max_features=2)\n",
      "116 ExtraTreesClassifier (max_features=2)\n",
      "117 ExtraTreesClassifier (max_features=2)\n",
      "118 ExtraTreesClassifier (max_features=2)\n",
      "119 ExtraTreesClassifier (max_features=2)\n",
      "120 ExtraTreesClassifier (max_features=2)\n",
      "121 ExtraTreesClassifier (max_features=2)\n",
      "122 ExtraTreesClassifier (max_features=2)\n",
      "123 ExtraTreesClassifier (max_features=2)\n",
      "124 ExtraTreesClassifier (max_features=2)\n",
      "125 ExtraTreesClassifier (max_features=2)\n",
      "126 ExtraTreesClassifier (max_features=2)\n",
      "127 ExtraTreesClassifier (max_features=2)\n",
      "128 ExtraTreesClassifier (max_features=2)\n",
      "129 ExtraTreesClassifier (max_features=2)\n",
      "130 ExtraTreesClassifier (max_features=2)\n",
      "131 ExtraTreesClassifier (max_features=2)\n",
      "132 ExtraTreesClassifier (max_features=2)\n",
      "133 ExtraTreesClassifier (max_features=2)\n",
      "134 ExtraTreesClassifier (max_features=2)\n",
      "135 ExtraTreesClassifier (max_features=2)\n",
      "136 ExtraTreesClassifier (max_features=2)\n",
      "137 ExtraTreesClassifier (max_features=2)\n",
      "138 ExtraTreesClassifier (max_features=2)\n",
      "139 ExtraTreesClassifier (max_features=2)\n",
      "140 ExtraTreesClassifier (max_features=2)\n",
      "141 ExtraTreesClassifier (max_features=2)\n",
      "142 ExtraTreesClassifier (max_features=2)\n",
      "143 ExtraTreesClassifier (max_features=2)\n",
      "144 ExtraTreesClassifier (max_features=2)\n",
      "145 ExtraTreesClassifier (max_features=2)\n",
      "146 ExtraTreesClassifier (max_features=2)\n",
      "147 ExtraTreesClassifier (max_features=2)\n",
      "148 ExtraTreesClassifier (max_features=2)\n",
      "149 ExtraTreesClassifier (max_features=2)\n",
      "150 ExtraTreesClassifier (max_features=2)\n",
      "151 ExtraTreesClassifier (max_features=2)\n",
      "152 ExtraTreesClassifier (max_features=2)\n",
      "153 ExtraTreesClassifier (max_features=2)\n",
      "154 ExtraTreesClassifier (max_features=2)\n",
      "155 ExtraTreesClassifier (max_features=2)\n",
      "156 ExtraTreesClassifier (max_features=2)\n",
      "157 ExtraTreesClassifier (max_features=2)\n",
      "158 ExtraTreesClassifier (max_features=2)\n",
      "159 ExtraTreesClassifier (max_features=2)\n",
      "160 ExtraTreesClassifier (max_features=2)\n",
      "161 ExtraTreesClassifier (max_features=2)\n",
      "162 ExtraTreesClassifier (max_features=2)\n",
      "163 ExtraTreesClassifier (max_features=2)\n",
      "164 ExtraTreesClassifier (max_features=2)\n",
      "165 ExtraTreesClassifier (max_features=2)\n",
      "166 ExtraTreesClassifier (max_features=2)\n",
      "167 ExtraTreesClassifier (max_features=2)\n",
      "168 ExtraTreesClassifier (max_features=2)\n",
      "169 ExtraTreesClassifier (max_features=2)\n",
      "170 ExtraTreesClassifier (max_features=2)\n",
      "171 ExtraTreesClassifier (max_features=2)\n",
      "172 ExtraTreesClassifier (max_features=2)\n",
      "173 ExtraTreesClassifier (max_features=2)\n",
      "174 ExtraTreesClassifier (max_features=2)\n",
      "175 ExtraTreesClassifier (max_features=2)\n",
      "176 ExtraTreesClassifier (max_features=2)\n",
      "177 ExtraTreesClassifier (max_features=2)\n",
      "178 ExtraTreesClassifier (max_features=2)\n",
      "179 ExtraTreesClassifier (max_features=2)\n",
      "180 ExtraTreesClassifier (max_features=2)\n",
      "181 ExtraTreesClassifier (max_features=2)\n",
      "182 ExtraTreesClassifier (max_features=2)\n",
      "183 ExtraTreesClassifier (max_features=2)\n",
      "184 ExtraTreesClassifier (max_features=2)\n",
      "185 ExtraTreesClassifier (max_features=2)\n",
      "186 ExtraTreesClassifier (max_features=2)\n",
      "187 ExtraTreesClassifier (max_features=2)\n",
      "188 ExtraTreesClassifier (max_features=2)\n",
      "189 ExtraTreesClassifier (max_features=2)\n",
      "190 ExtraTreesClassifier (max_features=2)\n",
      "191 ExtraTreesClassifier (max_features=2)\n",
      "192 ExtraTreesClassifier (max_features=2)\n",
      "193 ExtraTreesClassifier (max_features=2)\n",
      "194 ExtraTreesClassifier (max_features=2)\n",
      "195 ExtraTreesClassifier (max_features=2)\n",
      "196 ExtraTreesClassifier (max_features=2)\n",
      "197 ExtraTreesClassifier (max_features=2)\n",
      "198 ExtraTreesClassifier (max_features=2)\n",
      "199 ExtraTreesClassifier (max_features=2)\n",
      "200 ExtraTreesClassifier (max_features=2)\n",
      "201 ExtraTreesClassifier (max_features=2)\n",
      "202 ExtraTreesClassifier (max_features=2)\n",
      "203 ExtraTreesClassifier (max_features=2)\n",
      "204 ExtraTreesClassifier (max_features=2)\n",
      "205 ExtraTreesClassifier (max_features=2)\n",
      "206 ExtraTreesClassifier (max_features=2)\n",
      "207 ExtraTreesClassifier (max_features=2)\n",
      "208 ExtraTreesClassifier (max_features=2)\n",
      "209 ExtraTreesClassifier (max_features=2)\n",
      "210 ExtraTreesClassifier (max_features=2)\n",
      "211 ExtraTreesClassifier (max_features=2)\n",
      "212 ExtraTreesClassifier (max_features=2)\n",
      "213 ExtraTreesClassifier (max_features=2)\n",
      "214 ExtraTreesClassifier (max_features=2)\n",
      "215 ExtraTreesClassifier (max_features=2)\n",
      "216 ExtraTreesClassifier (max_features=2)\n",
      "217 ExtraTreesClassifier (max_features=2)\n",
      "218 ExtraTreesClassifier (max_features=2)\n",
      "219 ExtraTreesClassifier (max_features=2)\n",
      "220 ExtraTreesClassifier (max_features=2)\n",
      "221 ExtraTreesClassifier (max_features=2)\n",
      "222 ExtraTreesClassifier (max_features=2)\n",
      "223 ExtraTreesClassifier (max_features=2)\n",
      "224 ExtraTreesClassifier (max_features=2)\n",
      "225 ExtraTreesClassifier (max_features=2)\n",
      "226 ExtraTreesClassifier (max_features=2)\n",
      "227 ExtraTreesClassifier (max_features=2)\n",
      "228 ExtraTreesClassifier (max_features=2)\n",
      "229 ExtraTreesClassifier (max_features=2)\n",
      "230 ExtraTreesClassifier (max_features=2)\n",
      "231 ExtraTreesClassifier (max_features=2)\n",
      "232 ExtraTreesClassifier (max_features=2)\n",
      "233 ExtraTreesClassifier (max_features=2)\n",
      "234 ExtraTreesClassifier (max_features=2)\n",
      "235 ExtraTreesClassifier (max_features=2)\n",
      "236 ExtraTreesClassifier (max_features=2)\n",
      "237 ExtraTreesClassifier (max_features=2)\n",
      "238 ExtraTreesClassifier (max_features=2)\n",
      "239 ExtraTreesClassifier (max_features=2)\n",
      "240 ExtraTreesClassifier (max_features=2)\n",
      "241 ExtraTreesClassifier (max_features=2)\n",
      "242 ExtraTreesClassifier (max_features=2)\n",
      "243 ExtraTreesClassifier (max_features=2)\n",
      "244 ExtraTreesClassifier (max_features=2)\n",
      "245 ExtraTreesClassifier (max_features=2)\n",
      "246 ExtraTreesClassifier (max_features=2)\n",
      "247 ExtraTreesClassifier (max_features=2)\n",
      "248 ExtraTreesClassifier (max_features=2)\n",
      "249 ExtraTreesClassifier (max_features=2)\n",
      "250 ExtraTreesClassifier (max_features=2)\n",
      "251 ExtraTreesClassifier (max_features=2)\n",
      "252 ExtraTreesClassifier (max_features=2)\n",
      "253 ExtraTreesClassifier (max_features=2)\n",
      "254 ExtraTreesClassifier (max_features=2)\n",
      "255 ExtraTreesClassifier (max_features=2)\n",
      "256 ExtraTreesClassifier (max_features=2)\n",
      "257 ExtraTreesClassifier (max_features=2)\n",
      "258 ExtraTreesClassifier (max_features=2)\n",
      "259 ExtraTreesClassifier (max_features=2)\n",
      "260 ExtraTreesClassifier (max_features=2)\n",
      "261 ExtraTreesClassifier (max_features=2)\n",
      "262 ExtraTreesClassifier (max_features=2)\n",
      "263 ExtraTreesClassifier (max_features=2)\n",
      "264 ExtraTreesClassifier (max_features=2)\n",
      "265 ExtraTreesClassifier (max_features=2)\n",
      "266 ExtraTreesClassifier (max_features=2)\n",
      "267 ExtraTreesClassifier (max_features=2)\n",
      "268 ExtraTreesClassifier (max_features=2)\n",
      "269 ExtraTreesClassifier (max_features=2)\n",
      "270 ExtraTreesClassifier (max_features=2)\n",
      "271 ExtraTreesClassifier (max_features=2)\n",
      "272 ExtraTreesClassifier (max_features=2)\n",
      "273 ExtraTreesClassifier (max_features=2)\n",
      "274 ExtraTreesClassifier (max_features=2)\n",
      "275 ExtraTreesClassifier (max_features=2)\n",
      "276 ExtraTreesClassifier (max_features=2)\n",
      "277 ExtraTreesClassifier (max_features=2)\n",
      "278 ExtraTreesClassifier (max_features=2)\n",
      "279 ExtraTreesClassifier (max_features=2)\n",
      "280 ExtraTreesClassifier (max_features=2)\n",
      "281 ExtraTreesClassifier (max_features=2)\n",
      "282 ExtraTreesClassifier (max_features=2)\n",
      "283 ExtraTreesClassifier (max_features=2)\n",
      "284 ExtraTreesClassifier (max_features=2)\n",
      "285 ExtraTreesClassifier (max_features=2)\n",
      "286 ExtraTreesClassifier (max_features=2)\n",
      "287 ExtraTreesClassifier (max_features=2)\n",
      "288 ExtraTreesClassifier (max_features=2)\n",
      "289 ExtraTreesClassifier (max_features=2)\n",
      "290 ExtraTreesClassifier (max_features=2)\n",
      "291 ExtraTreesClassifier (max_features=2)\n",
      "292 ExtraTreesClassifier (max_features=2)\n",
      "293 ExtraTreesClassifier (max_features=2)\n",
      "294 ExtraTreesClassifier (max_features=2)\n",
      "295 ExtraTreesClassifier (max_features=2)\n",
      "296 ExtraTreesClassifier (max_features=2)\n",
      "297 ExtraTreesClassifier (max_features=2)\n",
      "298 ExtraTreesClassifier (max_features=2)\n",
      "299 ExtraTreesClassifier (max_features=2)\n",
      "300 ExtraTreesClassifier (max_features=2)\n",
      "301 ExtraTreesClassifier (max_features=2)\n",
      "302 ExtraTreesClassifier (max_features=2)\n",
      "303 ExtraTreesClassifier (max_features=2)\n",
      "304 ExtraTreesClassifier (max_features=2)\n",
      "305 ExtraTreesClassifier (max_features=2)\n",
      "306 ExtraTreesClassifier (max_features=2)\n",
      "307 ExtraTreesClassifier (max_features=2)\n",
      "308 ExtraTreesClassifier (max_features=2)\n",
      "309 ExtraTreesClassifier (max_features=2)\n",
      "310 ExtraTreesClassifier (max_features=2)\n",
      "311 ExtraTreesClassifier (max_features=2)\n",
      "312 ExtraTreesClassifier (max_features=2)\n",
      "313 ExtraTreesClassifier (max_features=2)\n",
      "314 ExtraTreesClassifier (max_features=2)\n",
      "315 ExtraTreesClassifier (max_features=2)\n",
      "316 ExtraTreesClassifier (max_features=2)\n",
      "317 ExtraTreesClassifier (max_features=2)\n",
      "318 ExtraTreesClassifier (max_features=2)\n",
      "319 ExtraTreesClassifier (max_features=2)\n",
      "320 ExtraTreesClassifier (max_features=2)\n",
      "321 ExtraTreesClassifier (max_features=2)\n",
      "322 ExtraTreesClassifier (max_features=2)\n",
      "323 ExtraTreesClassifier (max_features=2)\n",
      "324 ExtraTreesClassifier (max_features=2)\n",
      "325 ExtraTreesClassifier (max_features=2)\n",
      "326 ExtraTreesClassifier (max_features=2)\n",
      "327 ExtraTreesClassifier (max_features=2)\n",
      "328 ExtraTreesClassifier (max_features=2)\n",
      "329 ExtraTreesClassifier (max_features=2)\n",
      "330 ExtraTreesClassifier (max_features=2)\n",
      "331 ExtraTreesClassifier (max_features=2)\n",
      "332 ExtraTreesClassifier (max_features=2)\n",
      "333 ExtraTreesClassifier (max_features=2)\n",
      "334 ExtraTreesClassifier (max_features=2)\n",
      "335 ExtraTreesClassifier (max_features=2)\n",
      "336 ExtraTreesClassifier (max_features=2)\n",
      "337 ExtraTreesClassifier (max_features=2)\n",
      "338 ExtraTreesClassifier (max_features=2)\n",
      "339 ExtraTreesClassifier (max_features=2)\n",
      "340 ExtraTreesClassifier (max_features=2)\n",
      "341 ExtraTreesClassifier (max_features=2)\n",
      "342 ExtraTreesClassifier (max_features=2)\n",
      "343 ExtraTreesClassifier (max_features=2)\n",
      "344 ExtraTreesClassifier (max_features=2)\n",
      "345 ExtraTreesClassifier (max_features=2)\n",
      "346 ExtraTreesClassifier (max_features=2)\n",
      "347 ExtraTreesClassifier (max_features=2)\n",
      "348 ExtraTreesClassifier (max_features=2)\n",
      "349 ExtraTreesClassifier (max_features=2)\n",
      "350 ExtraTreesClassifier (max_features=2)\n",
      "351 ExtraTreesClassifier (max_features=2)\n",
      "352 ExtraTreesClassifier (max_features=2)\n",
      "353 ExtraTreesClassifier (max_features=2)\n",
      "354 ExtraTreesClassifier (max_features=2)\n",
      "355 ExtraTreesClassifier (max_features=2)\n",
      "356 ExtraTreesClassifier (max_features=2)\n",
      "357 ExtraTreesClassifier (max_features=2)\n",
      "358 ExtraTreesClassifier (max_features=2)\n",
      "359 ExtraTreesClassifier (max_features=2)\n",
      "360 ExtraTreesClassifier (max_features=2)\n",
      "361 ExtraTreesClassifier (max_features=2)\n",
      "362 ExtraTreesClassifier (max_features=2)\n",
      "363 ExtraTreesClassifier (max_features=2)\n",
      "364 ExtraTreesClassifier (max_features=2)\n",
      "365 ExtraTreesClassifier (max_features=2)\n",
      "366 ExtraTreesClassifier (max_features=2)\n",
      "367 ExtraTreesClassifier (max_features=2)\n",
      "368 ExtraTreesClassifier (max_features=2)\n",
      "369 ExtraTreesClassifier (max_features=2)\n",
      "370 ExtraTreesClassifier (max_features=2)\n",
      "371 ExtraTreesClassifier (max_features=2)\n",
      "372 ExtraTreesClassifier (max_features=2)\n",
      "373 ExtraTreesClassifier (max_features=2)\n",
      "374 ExtraTreesClassifier (max_features=2)\n",
      "375 ExtraTreesClassifier (max_features=2)\n",
      "376 ExtraTreesClassifier (max_features=2)\n",
      "377 ExtraTreesClassifier (max_features=2)\n",
      "378 ExtraTreesClassifier (max_features=2)\n",
      "379 ExtraTreesClassifier (max_features=2)\n",
      "380 ExtraTreesClassifier (max_features=2)\n",
      "381 ExtraTreesClassifier (max_features=2)\n",
      "382 ExtraTreesClassifier (max_features=2)\n",
      "383 ExtraTreesClassifier (max_features=2)\n",
      "384 ExtraTreesClassifier (max_features=2)\n",
      "385 ExtraTreesClassifier (max_features=2)\n",
      "386 ExtraTreesClassifier (max_features=2)\n",
      "387 ExtraTreesClassifier (max_features=2)\n",
      "388 ExtraTreesClassifier (max_features=2)\n",
      "389 ExtraTreesClassifier (max_features=2)\n",
      "390 ExtraTreesClassifier (max_features=2)\n",
      "391 ExtraTreesClassifier (max_features=2)\n",
      "392 ExtraTreesClassifier (max_features=2)\n",
      "393 ExtraTreesClassifier (max_features=2)\n",
      "394 ExtraTreesClassifier (max_features=2)\n",
      "395 ExtraTreesClassifier (max_features=2)\n",
      "396 ExtraTreesClassifier (max_features=2)\n",
      "397 ExtraTreesClassifier (max_features=2)\n",
      "398 ExtraTreesClassifier (max_features=2)\n",
      "399 ExtraTreesClassifier (max_features=2)\n",
      "400 ExtraTreesClassifier (max_features=2)\n"
     ]
    },
    {
     "data": {
      "image/png": "[encoded data removed]",
      "text/plain": [
       "<Figure size 800x600 with 1 Axes>"
      ]
     },
     "metadata": {},
     "output_type": "display_data"
    }
   ],
   "source": [
    "\n",
    "import pylab\n",
    "\n",
    "from collections import OrderedDict\n",
    "from sklearn.datasets import make_classification\n",
    "from sklearn.ensemble import RandomForestClassifier, ExtraTreesClassifier\n",
    "\n",
    "RANDOM_STATE = 7\n",
    "\n",
    "# NOTE: Setting the `warm_start` construction parameter to `True` disables\n",
    "# support for paralellised ensembles but is necessary for tracking the OOB\n",
    "# error trajectory during training.\n",
    "clfs = [\n",
    "    (\"RandomForestClassifier (max_features='auto')\",\n",
    "        RandomForestClassifier(warm_start=True, oob_score=True, max_features=None,\n",
    "                               random_state=RANDOM_STATE)),\n",
    "    (\"RandomForestClassifier (max_features='sqrt')\",\n",
    "        RandomForestClassifier(warm_start=True, max_features=\"sqrt\", \n",
    "                               oob_score=True, random_state=RANDOM_STATE)),\n",
    "    (\"ExtraTreesClassifier (max_features='auto')\",\n",
    "        ExtraTreesClassifier(warm_start=True, max_features=None,\n",
    "                             oob_score=True, bootstrap=True,\n",
    "                             random_state=RANDOM_STATE)),\n",
    "    (\"ExtraTreesClassifier (max_features='sqrt')\",\n",
    "        ExtraTreesClassifier(warm_start=True, max_features=\"sqrt\",\n",
    "                             oob_score=True, bootstrap=True,\n",
    "                             random_state=RANDOM_STATE))\n",
    "]\n",
    "\n",
    "# Map a classifier name to a list of (<n_estimators>, <error rate>) pairs.\n",
    "error_rate = OrderedDict((label, []) for label, _ in clfs)\n",
    "\n",
    "# Max no. of estimators to use in each ensemble.\n",
    "n_estimators = 400\n",
    "\n",
    "for label, clf in clfs:\n",
    "    for i in range(1, n_estimators + 1):\n",
    "        clf.set_params(n_estimators=i)\n",
    "        clf.fit(X_train, y_train)\n",
    "        print(i, label)\n",
    "\n",
    "        # Record the <error rate> for each <n_estimators> setting. \n",
    "        error_rate[label].append((i, 1 - clf.oob_score_))\n",
    "\n",
    "# Generate the \"OOB error rate\" vs. \"no. of estimators\" plot\n",
    "for label, clf_err in error_rate.items():\n",
    "    xs, ys = zip(*clf_err)\n",
    "    pylab.plot(xs, ys, label=label)\n",
    "\n",
    "pylab.xlabel(\"n_estimators\")\n",
    "pylab.ylabel(\"OOB error rate\")\n",
    "pylab.legend(loc=\"upper right\")\n",
    "pylab.gcf().set_size_inches(8, 6)\n",
    "pylab.show()"
   ]
  },
  {
   "cell_type": "code",
   "execution_count": 70,
   "metadata": {},
   "outputs": [
    {
     "name": "stdout",
     "output_type": "stream",
     "text": [
      "Accuracy for 1 max_depth is:0.6749560551392358\n",
      "Accuracy for 2 max_depth is:0.6553797761124989\n",
      "Accuracy for 3 max_depth is:0.6400592099176612\n",
      "Accuracy for 4 max_depth is:0.6341567212508095\n",
      "Accuracy for 5 max_depth is:0.6552872606161532\n",
      "Accuracy for 6 max_depth is:0.6725876584327874\n",
      "Accuracy for 7 max_depth is:0.6982884633176057\n",
      "Accuracy for 8 max_depth is:0.7254695161439542\n",
      "Accuracy for 9 max_depth is:0.7538902766213341\n",
      "Accuracy for 10 max_depth is:0.7838652974373207\n",
      "Accuracy for 11 max_depth is:0.8130076787861967\n",
      "Accuracy for 12 max_depth is:0.8417985012489592\n",
      "Accuracy for 13 max_depth is:0.8667776852622814\n",
      "Accuracy for 14 max_depth is:0.8938107132944768\n",
      "Accuracy for 15 max_depth is:0.9128133962438708\n",
      "Accuracy for 16 max_depth is:0.9282264779350541\n",
      "Accuracy for 17 max_depth is:0.9373485058747341\n",
      "Accuracy for 18 max_depth is:0.941567212508095\n",
      "Accuracy for 19 max_depth is:0.9426403922657045\n",
      "Accuracy for 20 max_depth is:0.9414561939124804\n",
      "Accuracy for 21 max_depth is:0.9389582755111481\n",
      "Accuracy for 22 max_depth is:0.9372189841798502\n",
      "Accuracy for 23 max_depth is:0.9355166990470903\n",
      "Accuracy for 24 max_depth is:0.9348690905726709\n",
      "Accuracy for 25 max_depth is:0.9342769913960588\n",
      "Accuracy for 26 max_depth is:0.9333148302340643\n",
      "Accuracy for 27 max_depth is:0.9327967434545287\n",
      "Accuracy for 28 max_depth is:0.9324636876676843\n",
      "Accuracy for 29 max_depth is:0.9321491349801092\n",
      "Accuracy for 30 max_depth is:0.9317420667961883\n",
      "Accuracy for 31 max_depth is:0.9315940420020353\n",
      "Accuracy for 32 max_depth is:0.9310389490239616\n",
      "Accuracy for 33 max_depth is:0.9312794893144601\n",
      "Accuracy for 34 max_depth is:0.931260986215191\n",
      "Accuracy for 35 max_depth is:0.9310944583217688\n",
      "Accuracy for 36 max_depth is:0.9308724211305394\n",
      "Accuracy for 37 max_depth is:0.9310574521232307\n",
      "Accuracy for 38 max_depth is:0.9309279304283468\n",
      "Accuracy for 39 max_depth is:0.9310204459246924\n",
      "Accuracy for 40 max_depth is:0.9309279304283468\n",
      "Accuracy for 41 max_depth is:0.930816911832732\n",
      "Accuracy for 42 max_depth is:0.930964936626885\n",
      "Accuracy for 43 max_depth is:0.9309094273290777\n",
      "Accuracy for 44 max_depth is:0.9308909242298085\n",
      "Accuracy for 45 max_depth is:0.9309464335276159\n",
      "Accuracy for 46 max_depth is:0.9309279304283468\n",
      "Accuracy for 47 max_depth is:0.9308909242298085\n",
      "Accuracy for 48 max_depth is:0.9308724211305394\n",
      "Accuracy for 49 max_depth is:0.9309279304283468\n",
      "Accuracy for 50 max_depth is:0.9309279304283468\n",
      "Best accuracy is: 0.9426403922657045 and depth is 19\n"
     ]
    }
   ],
   "source": [
    "best_accuracy = 0\n",
    "Depth = []\n",
    "Acc = []\n",
    "for m in range(1,51):\n",
    "    Depth.append(m)\n",
    "\n",
    "    model = RandomForestClassifier(n_estimators=100, max_depth=m, n_jobs=-1, random_state=7)\n",
    "    model.fit(X_train, y_train)\n",
    "    y_pred = model.predict(X_val)\n",
    "    accuracy = accuracy_score(y_val, y_pred)\n",
    "    Acc.append(accuracy)\n",
    "\n",
    "    if accuracy> best_accuracy:\n",
    "        best_accuracy = accuracy\n",
    "        best_depth = m\n",
    "    print(f\"Accuracy for {m} max_depth is:{accuracy}\")\n",
    "list_of_tuples = list(zip(Depth, Acc))\n",
    "df = pd.DataFrame(list_of_tuples, columns=['Depth', 'Accuracy'])\n",
    "\n",
    "print(f\"Best accuracy is: {best_accuracy} and depth is {best_depth}\")\n",
    "    "
   ]
  },
  {
   "cell_type": "code",
   "execution_count": 69,
   "metadata": {},
   "outputs": [
    {
     "data": {
      "text/plain": [
       "<Axes: xlabel='Depth'>"
      ]
     },
     "execution_count": 69,
     "metadata": {},
     "output_type": "execute_result"
    },
    {
     "data": {
      "image/png": "[encoded data removed]",
      "text/plain": [
       "<Figure size 640x480 with 1 Axes>"
      ]
     },
     "metadata": {},
     "output_type": "display_data"
    }
   ],
   "source": [
    "df\n",
    "df.plot(x='Depth', y='Accuracy', kind=\"line\")"
   ]
  },
  {
   "cell_type": "code",
   "execution_count": 80,
   "metadata": {},
   "outputs": [],
   "source": [
    "from scipy.stats import randint\n",
    "from sklearn.model_selection import RandomizedSearchCV, train_test_split\n",
    "\n",
    "param_dist = {'max_depth': randint(1,20),\n",
    "              'n_estimators': randint(50,500),\n",
    "              'max_features': randint(1,8)\n",
    "              }\n",
    "\n",
    "# Create a random forest classifier\n",
    "rf = RandomForestClassifier(random_state=7)\n",
    "\n",
    "# Use random search to find the best hyperparameters\n",
    "rand_search = RandomizedSearchCV(rf, \n",
    "                                 param_distributions = param_dist, \n",
    "                                 n_iter=8, \n",
    "                                 cv=5, random_state=7)\n",
    "\n",
    "# Fit the random search object to the data\n",
    "rand_search.fit(X_train, y_train)"
   ]
  },
  {
   "cell_type": "code",
   "execution_count": null,
   "metadata": {},
   "outputs": [
    {
     "name": "stdout",
     "output_type": "stream",
     "text": [
      "Best hyperparameters: {'max_depth': 17, 'max_features': 4, 'min_samples_leaf': 190, 'min_samples_split': 2, 'n_estimators': 340}\n"
     ]
    }
   ],
   "source": [
    "# Create a variable for the best model\n",
    "best_rf = rand_search.best_estimator_\n",
    "\n",
    "# Print the best hyperparameters\n",
    "print('Best hyperparameters:',  rand_search.best_params_)"
   ]
  },
  {
   "cell_type": "markdown",
   "metadata": {},
   "source": [
    "Use the tuned hyperparameters for a new RF"
   ]
  },
  {
   "cell_type": "markdown",
   "metadata": {},
   "source": [
    "1st - Manually tuned using a validation set"
   ]
  },
  {
   "cell_type": "code",
   "execution_count": 71,
   "metadata": {},
   "outputs": [
    {
     "data": {
      "text/html": [
       "<style>#sk-container-id-2 {color: black;}#sk-container-id-2 pre{padding: 0;}#sk-container-id-2 div.sk-toggleable {background-color: white;}#sk-container-id-2 label.sk-toggleable__label {cursor: pointer;display: block;width: 100%;margin-bottom: 0;padding: 0.3em;box-sizing: border-box;text-align: center;}#sk-container-id-2 label.sk-toggleable__label-arrow:before {content: \"▸\";float: left;margin-right: 0.25em;color: #696969;}#sk-container-id-2 label.sk-toggleable__label-arrow:hover:before {color: black;}#sk-container-id-2 div.sk-estimator:hover label.sk-toggleable__label-arrow:before {color: black;}#sk-container-id-2 div.sk-toggleable__content {max-height: 0;max-width: 0;overflow: hidden;text-align: left;background-color: #f0f8ff;}#sk-container-id-2 div.sk-toggleable__content pre {margin: 0.2em;color: black;border-radius: 0.25em;background-color: #f0f8ff;}#sk-container-id-2 input.sk-toggleable__control:checked~div.sk-toggleable__content {max-height: 200px;max-width: 100%;overflow: auto;}#sk-container-id-2 input.sk-toggleable__control:checked~label.sk-toggleable__label-arrow:before {content: \"▾\";}#sk-container-id-2 div.sk-estimator input.sk-toggleable__control:checked~label.sk-toggleable__label {background-color: #d4ebff;}#sk-container-id-2 div.sk-label input.sk-toggleable__control:checked~label.sk-toggleable__label {background-color: #d4ebff;}#sk-container-id-2 input.sk-hidden--visually {border: 0;clip: rect(1px 1px 1px 1px);clip: rect(1px, 1px, 1px, 1px);height: 1px;margin: -1px;overflow: hidden;padding: 0;position: absolute;width: 1px;}#sk-container-id-2 div.sk-estimator {font-family: monospace;background-color: #f0f8ff;border: 1px dotted black;border-radius: 0.25em;box-sizing: border-box;margin-bottom: 0.5em;}#sk-container-id-2 div.sk-estimator:hover {background-color: #d4ebff;}#sk-container-id-2 div.sk-parallel-item::after {content: \"\";width: 100%;border-bottom: 1px solid gray;flex-grow: 1;}#sk-container-id-2 div.sk-label:hover label.sk-toggleable__label {background-color: #d4ebff;}#sk-container-id-2 div.sk-serial::before {content: \"\";position: absolute;border-left: 1px solid gray;box-sizing: border-box;top: 0;bottom: 0;left: 50%;z-index: 0;}#sk-container-id-2 div.sk-serial {display: flex;flex-direction: column;align-items: center;background-color: white;padding-right: 0.2em;padding-left: 0.2em;position: relative;}#sk-container-id-2 div.sk-item {position: relative;z-index: 1;}#sk-container-id-2 div.sk-parallel {display: flex;align-items: stretch;justify-content: center;background-color: white;position: relative;}#sk-container-id-2 div.sk-item::before, #sk-container-id-2 div.sk-parallel-item::before {content: \"\";position: absolute;border-left: 1px solid gray;box-sizing: border-box;top: 0;bottom: 0;left: 50%;z-index: -1;}#sk-container-id-2 div.sk-parallel-item {display: flex;flex-direction: column;z-index: 1;position: relative;background-color: white;}#sk-container-id-2 div.sk-parallel-item:first-child::after {align-self: flex-end;width: 50%;}#sk-container-id-2 div.sk-parallel-item:last-child::after {align-self: flex-start;width: 50%;}#sk-container-id-2 div.sk-parallel-item:only-child::after {width: 0;}#sk-container-id-2 div.sk-dashed-wrapped {border: 1px dashed gray;margin: 0 0.4em 0.5em 0.4em;box-sizing: border-box;padding-bottom: 0.4em;background-color: white;}#sk-container-id-2 div.sk-label label {font-family: monospace;font-weight: bold;display: inline-block;line-height: 1.2em;}#sk-container-id-2 div.sk-label-container {text-align: center;}#sk-container-id-2 div.sk-container {/* jupyter's `normalize.less` sets `[hidden] { display: none; }` but bootstrap.min.css set `[hidden] { display: none !important; }` so we also need the `!important` here to be able to override the default hidden behavior on the sphinx rendered scikit-learn.org. See: https://github.com/scikit-learn/scikit-learn/issues/21755 */display: inline-block !important;position: relative;}#sk-container-id-2 div.sk-text-repr-fallback {display: none;}</style><div id=\"sk-container-id-2\" class=\"sk-top-container\"><div class=\"sk-text-repr-fallback\"><pre>RandomForestClassifier(max_depth=19, n_jobs=-1, random_state=7)</pre><b>In a Jupyter environment, please rerun this cell to show the HTML representation or trust the notebook. <br />On GitHub, the HTML representation is unable to render, please try loading this page with nbviewer.org.</b></div><div class=\"sk-container\" hidden><div class=\"sk-item\"><div class=\"sk-estimator sk-toggleable\"><input class=\"sk-toggleable__control sk-hidden--visually\" id=\"sk-estimator-id-2\" type=\"checkbox\" checked><label for=\"sk-estimator-id-2\" class=\"sk-toggleable__label sk-toggleable__label-arrow\">RandomForestClassifier</label><div class=\"sk-toggleable__content\"><pre>RandomForestClassifier(max_depth=19, n_jobs=-1, random_state=7)</pre></div></div></div></div></div>"
      ],
      "text/plain": [
       "RandomForestClassifier(max_depth=19, n_jobs=-1, random_state=7)"
      ]
     },
     "execution_count": 71,
     "metadata": {},
     "output_type": "execute_result"
    }
   ],
   "source": [
    "rnd_clf_tweaked_man = RandomForestClassifier(n_estimators=100, max_depth=19, n_jobs=-1, random_state=7)\n",
    "rnd_clf_tweaked_man.fit(X_train, y_train)"
   ]
  },
  {
   "cell_type": "code",
   "execution_count": 72,
   "metadata": {},
   "outputs": [
    {
     "name": "stdout",
     "output_type": "stream",
     "text": [
      "Training score: 0.9731298219997649\n",
      "Testing score: 0.9426403922657045\n"
     ]
    }
   ],
   "source": [
    "rnd_clf_tweaked_man_train_score = rnd_clf_tweaked_man.score(X_train, y_train)\n",
    "rnd_clf_tweaked_man_test_score = rnd_clf_tweaked_man.score(X_test, y_test)\n",
    "print(\"Training score:\", rnd_clf_tweaked_man_train_score)\n",
    "print(\"Testing score:\", rnd_clf_tweaked_man_test_score )"
   ]
  },
  {
   "cell_type": "code",
   "execution_count": 73,
   "metadata": {},
   "outputs": [
    {
     "data": {
      "image/png": "[encoded data removed]",
      "text/plain": [
       "<Figure size 640x480 with 2 Axes>"
      ]
     },
     "metadata": {},
     "output_type": "display_data"
    }
   ],
   "source": [
    "y_tweaked_man_pred_rf = rnd_clf_tweaked_man.predict(X_test)\n",
    "\n",
    "cm = confusion_matrix(y_test, y_tweaked_man_pred_rf, labels=rnd_clf_tweaked_man.classes_)\n",
    "cmd = ConfusionMatrixDisplay(confusion_matrix = cm, display_labels=['1', '2', '3'])\n",
    "cmd.plot()\n",
    "plt.ylabel('Actual Values')\n",
    "plt.xlabel('Predicted Values')\n",
    "plt.show()"
   ]
  },
  {
   "cell_type": "code",
   "execution_count": 76,
   "metadata": {},
   "outputs": [
    {
     "data": {
      "image/png": "[encoded data removed]",
      "text/plain": [
       "<Figure size 640x480 with 1 Axes>"
      ]
     },
     "metadata": {},
     "output_type": "display_data"
    }
   ],
   "source": [
    "# Create a series containing feature importances from the model and feature names from the training data\n",
    "feature_importances = pd.Series(rnd_clf_tweaked_man.feature_importances_, index=X_train.columns).sort_values(ascending=False)\n",
    "\n",
    "# Plot a simple bar chart\n",
    "feature_importances.plot.bar();"
   ]
  },
  {
   "cell_type": "markdown",
   "metadata": {},
   "source": [
    "2nd - Tweak with CV version"
   ]
  },
  {
   "cell_type": "code",
   "execution_count": null,
   "metadata": {},
   "outputs": [],
   "source": [
    "rnd_clf_tweaked_CV = RandomForestClassifier(n_estimators=100, max_depth=19, n_jobs=-1, random_state=7)\n",
    "rnd_clf_tweaked_CV.fit(X_train, y_train)"
   ]
  },
  {
   "cell_type": "code",
   "execution_count": null,
   "metadata": {},
   "outputs": [],
   "source": [
    "rnd_clf_tweaked_CV_train_score = rnd_clf_tweaked_CV.score(X_train, y_train)\n",
    "rnd_clf_tweaked_CV_test_score = rnd_clf_tweaked_CV.score(X_test, y_test)\n",
    "print(\"Training score:\", rnd_clf_tweaked_CV_train_score)\n",
    "print(\"Testing score:\", rnd_clf_tweaked_CV_test_score )"
   ]
  },
  {
   "cell_type": "code",
   "execution_count": null,
   "metadata": {},
   "outputs": [],
   "source": [
    "y_tweaked_CV_pred_rf = rnd_clf_tweaked_CV.predict(X_test)\n",
    "\n",
    "cm = confusion_matrix(y_test, y_tweaked_CV_pred_rf, labels=rnd_clf_tweaked_CV.classes_)\n",
    "cmd = ConfusionMatrixDisplay(confusion_matrix = cm, display_labels=['1', '2', '3'])\n",
    "cmd.plot()\n",
    "plt.ylabel('Actual Values')\n",
    "plt.xlabel('Predicted Values')\n",
    "plt.show()"
   ]
  },
  {
   "cell_type": "code",
   "execution_count": null,
   "metadata": {},
   "outputs": [],
   "source": [
    "# Create a series containing feature importances from the model and feature names from the training data\n",
    "feature_importances = pd.Series(rnd_clf_tweaked_CV.feature_importances_, index=X_train.columns).sort_values(ascending=False)\n",
    "\n",
    "# Plot a simple bar chart\n",
    "feature_importances.plot.bar();"
   ]
  },
  {
   "cell_type": "markdown",
   "metadata": {},
   "source": [
    "https://www.datacamp.com/tutorial/random-forests-classifier-python"
   ]
  }
 ],
 "metadata": {
  "kernelspec": {
   "display_name": "Python 3",
   "language": "python",
   "name": "python3"
  },
  "language_info": {
   "codemirror_mode": {
    "name": "ipython",
    "version": 3
   },
   "file_extension": ".py",
   "mimetype": "text/x-python",
   "name": "python",
   "nbconvert_exporter": "python",
   "pygments_lexer": "ipython3",
   "version": "3.10.11"
  }
 },
 "nbformat": 4,
 "nbformat_minor": 2
}
