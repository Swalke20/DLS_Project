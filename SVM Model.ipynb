{
 "cells": [
  {
   "cell_type": "code",
   "execution_count": 1,
   "metadata": {},
   "outputs": [
    {
     "name": "stdout",
     "output_type": "stream",
     "text": [
      "Note: you may need to restart the kernel to use updated packages.\n"
     ]
    }
   ],
   "source": [
    "pip freeze > model_requirements.txt"
   ]
  },
  {
   "cell_type": "code",
   "execution_count": 2,
   "metadata": {},
   "outputs": [],
   "source": [
    "import pandas as pd\n",
    "import numpy as np\n",
    "from keras.layers import Input, Dense\n",
    "from keras.models import Model\n",
    "from keras import optimizers\n",
    "from sklearn.svm import SVC\n",
    "from sklearn.metrics import accuracy_score\n",
    "import matplotlib.pyplot as plt\n"
   ]
  },
  {
   "cell_type": "code",
   "execution_count": 3,
   "metadata": {},
   "outputs": [],
   "source": [
    "data_mm_train_df = pd.read_csv('data_smin_mm_train_csv')\n",
    "data_mm_test_df = pd.read_csv('data_mm_test_csv')\n",
    "data_mm_val_df = pd.read_csv('data_mm_val_csv')"
   ]
  },
  {
   "cell_type": "code",
   "execution_count": 4,
   "metadata": {},
   "outputs": [],
   "source": [
    "data_ss_train_df = pd.read_csv('data_smin_ss_train_csv')\n",
    "data_ss_test_df = pd.read_csv('data_ss_test_csv')\n",
    "data_ss_val_df = pd.read_csv('data_ss_val_csv')"
   ]
  },
  {
   "cell_type": "code",
   "execution_count": 5,
   "metadata": {},
   "outputs": [],
   "source": [
    "data_log_train_df = pd.read_csv('data_smin_log_train_csv')\n",
    "data_log_test_df = pd.read_csv('data_test_csv')\n",
    "data_log_val_df = pd.read_csv('data_val_csv')"
   ]
  },
  {
   "cell_type": "code",
   "execution_count": 6,
   "metadata": {},
   "outputs": [
    {
     "name": "stdout",
     "output_type": "stream",
     "text": [
      "Data_train: (288041, 10)\n",
      "Data_test: (27022, 10)\n",
      "Data_val: (54045, 10)\n"
     ]
    }
   ],
   "source": [
    "print(f\"Data_train: {data_mm_train_df.shape}\")\n",
    "print(f\"Data_test: {data_mm_test_df.shape}\")\n",
    "print(f\"Data_val: {data_mm_val_df.shape}\")\n",
    "\n",
    "#Divide by 10 for the sample"
   ]
  },
  {
   "cell_type": "code",
   "execution_count": 7,
   "metadata": {},
   "outputs": [],
   "source": [
    "#own module which takes in df for train, test and val and returns in x and y format.  Can also sample.\n",
    "from data_formatting import data_format"
   ]
  },
  {
   "cell_type": "code",
   "execution_count": 8,
   "metadata": {},
   "outputs": [],
   "source": [
    "X_ss_train_sample, X_ss_test_sample, X_ss_val_sample, y_ss_train_sample, y_ss_test_sample, y_ss_val_sample = data_format(data_ss_train_df, data_ss_test_df, data_ss_val_df, 'sample', 20)"
   ]
  },
  {
   "cell_type": "code",
   "execution_count": 9,
   "metadata": {},
   "outputs": [],
   "source": [
    "X_mm_train_sample, X_mm_test_sample, X_mm_val_sample, y_mm_train_sample, y_mm_test_sample, y_mm_val_sample = data_format(data_mm_train_df, data_mm_test_df, data_mm_val_df, 'sample', 20)\n",
    "X_ss_train_sample, X_ss_test_sample, X_ss_val_sample, y_ss_train_sample, y_ss_test_sample, y_ss_val_sample = data_format(data_ss_train_df, data_ss_test_df, data_ss_val_df, 'sample', 20)\n",
    "X_log_train_sample, X_log_test_sample, X_log_val_sample, y_log_train_sample, y_log_test_sample, y_log_val_sample = data_format(data_log_train_df, data_log_test_df, data_log_val_df, 'sample', 20)"
   ]
  },
  {
   "cell_type": "code",
   "execution_count": 10,
   "metadata": {},
   "outputs": [
    {
     "data": {
      "text/plain": [
       "(14402, 8)"
      ]
     },
     "execution_count": 10,
     "metadata": {},
     "output_type": "execute_result"
    }
   ],
   "source": [
    "X_mm_train_sample.shape"
   ]
  },
  {
   "cell_type": "code",
   "execution_count": 18,
   "metadata": {},
   "outputs": [],
   "source": [
    "X_ss_train, X_ss_test, X_ss_val, y_ss_train, y_ss_test, y_ss_val = data_format(data_ss_train_df, data_ss_test_df, data_ss_val_df, None, None)\n",
    "X_mm_train, X_mm_test, X_mm_val, y_mm_train, y_mm_test, y_mm_val = data_format(data_mm_train_df, data_mm_test_df, data_mm_val_df, None, None)\n",
    "X_log_train, X_log_test, X_log_val, y_log_train, y_log_test, y_log_val = data_format(data_log_train_df, data_log_test_df, data_log_val_df, None, None)"
   ]
  },
  {
   "cell_type": "markdown",
   "metadata": {},
   "source": [
    "SVM model"
   ]
  },
  {
   "cell_type": "code",
   "execution_count": 12,
   "metadata": {},
   "outputs": [],
   "source": [
    "from sklearn.svm import SVC\n",
    "from sklearn import metrics\n",
    "from sklearn.metrics import accuracy_score, confusion_matrix, classification_report, ConfusionMatrixDisplay"
   ]
  },
  {
   "cell_type": "code",
   "execution_count": 13,
   "metadata": {},
   "outputs": [
    {
     "ename": "NameError",
     "evalue": "name 'adfasdf' is not defined",
     "output_type": "error",
     "traceback": [
      "\u001b[1;31m---------------------------------------------------------------------------\u001b[0m",
      "\u001b[1;31mNameError\u001b[0m                                 Traceback (most recent call last)",
      "\u001b[1;32mc:\\Sophie Folder\\Birkbeck\\Project\\Git\\DLS_Project\\SVM Model.ipynb Cell 14\u001b[0m line \u001b[0;36m1\n\u001b[1;32m----> <a href='vscode-notebook-cell:/c%3A/Sophie%20Folder/Birkbeck/Project/Git/DLS_Project/SVM%20Model.ipynb#X16sZmlsZQ%3D%3D?line=0'>1</a>\u001b[0m adfasdf\n",
      "\u001b[1;31mNameError\u001b[0m: name 'adfasdf' is not defined"
     ]
    }
   ],
   "source": [
    "adfasdf"
   ]
  },
  {
   "cell_type": "markdown",
   "metadata": {},
   "source": [
    "Baseline one SVC"
   ]
  },
  {
   "cell_type": "code",
   "execution_count": 19,
   "metadata": {},
   "outputs": [
    {
     "name": "stdout",
     "output_type": "stream",
     "text": [
      "Training score: 0.5769456431549675, Testing score: 0.5824143290652062\n"
     ]
    },
    {
     "data": {
      "image/png": "[encoded data removed]",
      "text/plain": [
       "<Figure size 640x480 with 2 Axes>"
      ]
     },
     "metadata": {},
     "output_type": "display_data"
    },
    {
     "name": "stdout",
     "output_type": "stream",
     "text": [
      "              precision    recall  f1-score   support\n",
      "\n",
      "           0       0.76      0.60      0.67     13752\n",
      "           1       0.02      0.39      0.04       357\n",
      "           2       0.73      0.57      0.64     12913\n",
      "\n",
      "    accuracy                           0.58     27022\n",
      "   macro avg       0.50      0.52      0.45     27022\n",
      "weighted avg       0.74      0.58      0.65     27022\n",
      "\n"
     ]
    }
   ],
   "source": [
    "##SS and SMOTE data\n",
    "model = SVC(kernel=\"linear\", random_state=7)\n",
    "model.fit(X_ss_train, y_ss_train)\n",
    "\n",
    "model_train_score = model.score(X_ss_train, y_ss_train)\n",
    "model_test_score = model.score(X_ss_test, y_ss_test)\n",
    "print(f\"Training score: {model_train_score}, Testing score: {model_test_score}\" )\n",
    "\n",
    "y_pred = model.predict(X_ss_test)\n",
    "\n",
    "cm = confusion_matrix(y_ss_test, y_pred, labels=model.classes_)\n",
    "cmd = ConfusionMatrixDisplay(confusion_matrix = cm, display_labels=['0', '1', '2'])\n",
    "\n",
    "cmd.plot()\n",
    "plt.ylabel('Actual Values')\n",
    "plt.xlabel('Predicted Values')\n",
    "plt.show()\n",
    "\n",
    "print(classification_report(y_ss_test, y_pred))"
   ]
  },
  {
   "cell_type": "code",
   "execution_count": 20,
   "metadata": {},
   "outputs": [
    {
     "name": "stdout",
     "output_type": "stream",
     "text": [
      "Training score: 0.5699605264528314, Testing score: 0.5946266005477019\n"
     ]
    },
    {
     "data": {
      "image/png": "[encoded data removed]",
      "text/plain": [
       "<Figure size 640x480 with 2 Axes>"
      ]
     },
     "metadata": {},
     "output_type": "display_data"
    },
    {
     "name": "stdout",
     "output_type": "stream",
     "text": [
      "              precision    recall  f1-score   support\n",
      "\n",
      "           0       0.76      0.61      0.68     13752\n",
      "           1       0.03      0.43      0.05       357\n",
      "           2       0.73      0.58      0.65     12913\n",
      "\n",
      "    accuracy                           0.59     27022\n",
      "   macro avg       0.51      0.54      0.46     27022\n",
      "weighted avg       0.74      0.59      0.66     27022\n",
      "\n"
     ]
    }
   ],
   "source": [
    "##MM and SMOTE data\n",
    "model = SVC(kernel=\"linear\", random_state=7)\n",
    "model.fit(X_mm_train, y_mm_train)\n",
    "\n",
    "model_train_score = model.score(X_mm_train, y_mm_train)\n",
    "model_test_score = model.score(X_mm_test, y_mm_test)\n",
    "print(f\"Training score: {model_train_score}, Testing score: {model_test_score}\" )\n",
    "\n",
    "y_pred = model.predict(X_mm_test)\n",
    "\n",
    "cm = confusion_matrix(y_mm_test, y_pred, labels=model.classes_)\n",
    "cmd = ConfusionMatrixDisplay(confusion_matrix = cm, display_labels=['0', '1', '2'])\n",
    "\n",
    "cmd.plot()\n",
    "plt.ylabel('Actual Values')\n",
    "plt.xlabel('Predicted Values')\n",
    "plt.show()\n",
    "\n",
    "print(classification_report(y_mm_test, y_pred))"
   ]
  },
  {
   "cell_type": "code",
   "execution_count": null,
   "metadata": {},
   "outputs": [
    {
     "data": {
      "text/plain": [
       "(1351, 8)"
      ]
     },
     "execution_count": 18,
     "metadata": {},
     "output_type": "execute_result"
    }
   ],
   "source": [
    "X_log_test_sample.shape"
   ]
  },
  {
   "cell_type": "code",
   "execution_count": null,
   "metadata": {},
   "outputs": [],
   "source": [
    "#Log and SMOTE data\n",
    "model = SVC(kernel=\"linear\", random_state=7)\n",
    "model.fit(X_log_train_sample, y_log_train_sample)\n",
    "\n",
    "model_train_score = model.score(X_log_train_sample, y_log_train_sample)\n",
    "model_test_score = model.score(X_log_train_sample, y_log_test_sample)\n",
    "print(f\"Training score: {model_train_score}, Testing score: {model_test_score}\" )\n",
    "\n",
    "y_pred = model.predict(X_log_test_sample)\n",
    "\n",
    "cm = confusion_matrix(y_log_test_sample, y_pred, labels=model.classes_)\n",
    "cmd = ConfusionMatrixDisplay(confusion_matrix = cm, display_labels=['0', '1', '2'])\n",
    "\n",
    "cmd.plot()\n",
    "plt.ylabel('Actual Values')\n",
    "plt.xlabel('Predicted Values')\n",
    "plt.show()\n",
    "\n",
    "print(classification_report(y_log_test_sample, y_pred))"
   ]
  },
  {
   "cell_type": "code",
   "execution_count": null,
   "metadata": {},
   "outputs": [],
   "source": []
  },
  {
   "cell_type": "markdown",
   "metadata": {},
   "source": [
    "Seems to have slight underfitting, and data unlikely to be linearly separable"
   ]
  },
  {
   "cell_type": "code",
   "execution_count": null,
   "metadata": {},
   "outputs": [],
   "source": [
    "sdgdfg"
   ]
  },
  {
   "cell_type": "markdown",
   "metadata": {},
   "source": [
    "How do we choose whether MinMax, SS or Log is best?"
   ]
  },
  {
   "cell_type": "code",
   "execution_count": 14,
   "metadata": {},
   "outputs": [],
   "source": [
    "k_list = ['linear', 'rbf', 'sigmoid']\n",
    "gamma_list = [0.001, 0.01, 0.1, 1, 10, 100,200, 300]\n",
    "c_list = [0.001, 0.01, 0.1, 1, 10, 100, 200, 300]"
   ]
  },
  {
   "cell_type": "code",
   "execution_count": 26,
   "metadata": {},
   "outputs": [
    {
     "name": "stdout",
     "output_type": "stream",
     "text": [
      "MinMax\n",
      "linear, Gamma: 0.001, C: 0.001, Train Accuracy 0.35161783085682546, Validation Accuracy: 0.02220577350111029\n",
      "linear, Gamma: 0.001, C: 0.01, Train Accuracy 0.5224968754339675, Validation Accuracy: 0.6058475203552923\n",
      "linear, Gamma: 0.001, C: 0.1, Train Accuracy 0.5508262741285932, Validation Accuracy: 0.6099185788304959\n",
      "linear, Gamma: 0.001, C: 1, Train Accuracy 0.5525621441466463, Validation Accuracy: 0.5895632864544782\n",
      "linear, Gamma: 0.001, C: 10, Train Accuracy 0.5570059713928621, Validation Accuracy: 0.5847520355292376\n",
      "linear, Gamma: 0.001, C: 100, Train Accuracy 0.5781835856131093, Validation Accuracy: 0.5780903034789046\n",
      "linear, Gamma: 0.001, C: 200, Train Accuracy 0.576864324399389, Validation Accuracy: 0.5740192450037009\n",
      "linear, Gamma: 0.001, C: 300, Train Accuracy 0.576308845993612, Validation Accuracy: 0.572538860103627\n",
      "linear, Gamma: 0.01, C: 0.001, Train Accuracy 0.35161783085682546, Validation Accuracy: 0.02220577350111029\n",
      "linear, Gamma: 0.01, C: 0.01, Train Accuracy 0.5224968754339675, Validation Accuracy: 0.6058475203552923\n",
      "linear, Gamma: 0.01, C: 0.1, Train Accuracy 0.5508262741285932, Validation Accuracy: 0.6099185788304959\n",
      "linear, Gamma: 0.01, C: 1, Train Accuracy 0.5525621441466463, Validation Accuracy: 0.5895632864544782\n",
      "linear, Gamma: 0.01, C: 10, Train Accuracy 0.5570059713928621, Validation Accuracy: 0.5847520355292376\n",
      "linear, Gamma: 0.01, C: 100, Train Accuracy 0.5781835856131093, Validation Accuracy: 0.5780903034789046\n",
      "linear, Gamma: 0.01, C: 200, Train Accuracy 0.576864324399389, Validation Accuracy: 0.5740192450037009\n",
      "linear, Gamma: 0.01, C: 300, Train Accuracy 0.576308845993612, Validation Accuracy: 0.572538860103627\n",
      "linear, Gamma: 0.1, C: 0.001, Train Accuracy 0.35161783085682546, Validation Accuracy: 0.02220577350111029\n",
      "linear, Gamma: 0.1, C: 0.01, Train Accuracy 0.5224968754339675, Validation Accuracy: 0.6058475203552923\n",
      "linear, Gamma: 0.1, C: 0.1, Train Accuracy 0.5508262741285932, Validation Accuracy: 0.6099185788304959\n",
      "linear, Gamma: 0.1, C: 1, Train Accuracy 0.5525621441466463, Validation Accuracy: 0.5895632864544782\n",
      "linear, Gamma: 0.1, C: 10, Train Accuracy 0.5570059713928621, Validation Accuracy: 0.5847520355292376\n",
      "linear, Gamma: 0.1, C: 100, Train Accuracy 0.5781835856131093, Validation Accuracy: 0.5780903034789046\n",
      "linear, Gamma: 0.1, C: 200, Train Accuracy 0.576864324399389, Validation Accuracy: 0.5740192450037009\n",
      "linear, Gamma: 0.1, C: 300, Train Accuracy 0.576308845993612, Validation Accuracy: 0.572538860103627\n",
      "linear, Gamma: 1, C: 0.001, Train Accuracy 0.35161783085682546, Validation Accuracy: 0.02220577350111029\n",
      "linear, Gamma: 1, C: 0.01, Train Accuracy 0.5224968754339675, Validation Accuracy: 0.6058475203552923\n",
      "linear, Gamma: 1, C: 0.1, Train Accuracy 0.5508262741285932, Validation Accuracy: 0.6099185788304959\n",
      "linear, Gamma: 1, C: 1, Train Accuracy 0.5525621441466463, Validation Accuracy: 0.5895632864544782\n",
      "linear, Gamma: 1, C: 10, Train Accuracy 0.5570059713928621, Validation Accuracy: 0.5847520355292376\n",
      "linear, Gamma: 1, C: 100, Train Accuracy 0.5781835856131093, Validation Accuracy: 0.5780903034789046\n",
      "linear, Gamma: 1, C: 200, Train Accuracy 0.576864324399389, Validation Accuracy: 0.5740192450037009\n",
      "linear, Gamma: 1, C: 300, Train Accuracy 0.576308845993612, Validation Accuracy: 0.572538860103627\n",
      "linear, Gamma: 10, C: 0.001, Train Accuracy 0.35161783085682546, Validation Accuracy: 0.02220577350111029\n",
      "linear, Gamma: 10, C: 0.01, Train Accuracy 0.5224968754339675, Validation Accuracy: 0.6058475203552923\n",
      "linear, Gamma: 10, C: 0.1, Train Accuracy 0.5508262741285932, Validation Accuracy: 0.6099185788304959\n",
      "linear, Gamma: 10, C: 1, Train Accuracy 0.5525621441466463, Validation Accuracy: 0.5895632864544782\n",
      "linear, Gamma: 10, C: 10, Train Accuracy 0.5570059713928621, Validation Accuracy: 0.5847520355292376\n",
      "linear, Gamma: 10, C: 100, Train Accuracy 0.5781835856131093, Validation Accuracy: 0.5780903034789046\n",
      "linear, Gamma: 10, C: 200, Train Accuracy 0.576864324399389, Validation Accuracy: 0.5740192450037009\n",
      "linear, Gamma: 10, C: 300, Train Accuracy 0.576308845993612, Validation Accuracy: 0.572538860103627\n",
      "linear, Gamma: 100, C: 0.001, Train Accuracy 0.35161783085682546, Validation Accuracy: 0.02220577350111029\n",
      "linear, Gamma: 100, C: 0.01, Train Accuracy 0.5224968754339675, Validation Accuracy: 0.6058475203552923\n",
      "linear, Gamma: 100, C: 0.1, Train Accuracy 0.5508262741285932, Validation Accuracy: 0.6099185788304959\n",
      "linear, Gamma: 100, C: 1, Train Accuracy 0.5525621441466463, Validation Accuracy: 0.5895632864544782\n",
      "linear, Gamma: 100, C: 10, Train Accuracy 0.5570059713928621, Validation Accuracy: 0.5847520355292376\n",
      "linear, Gamma: 100, C: 100, Train Accuracy 0.5781835856131093, Validation Accuracy: 0.5780903034789046\n",
      "linear, Gamma: 100, C: 200, Train Accuracy 0.576864324399389, Validation Accuracy: 0.5740192450037009\n",
      "linear, Gamma: 100, C: 300, Train Accuracy 0.576308845993612, Validation Accuracy: 0.572538860103627\n",
      "linear, Gamma: 200, C: 0.001, Train Accuracy 0.35161783085682546, Validation Accuracy: 0.02220577350111029\n",
      "linear, Gamma: 200, C: 0.01, Train Accuracy 0.5224968754339675, Validation Accuracy: 0.6058475203552923\n",
      "linear, Gamma: 200, C: 0.1, Train Accuracy 0.5508262741285932, Validation Accuracy: 0.6099185788304959\n",
      "linear, Gamma: 200, C: 1, Train Accuracy 0.5525621441466463, Validation Accuracy: 0.5895632864544782\n",
      "linear, Gamma: 200, C: 10, Train Accuracy 0.5570059713928621, Validation Accuracy: 0.5847520355292376\n",
      "linear, Gamma: 200, C: 100, Train Accuracy 0.5781835856131093, Validation Accuracy: 0.5780903034789046\n",
      "linear, Gamma: 200, C: 200, Train Accuracy 0.576864324399389, Validation Accuracy: 0.5740192450037009\n",
      "linear, Gamma: 200, C: 300, Train Accuracy 0.576308845993612, Validation Accuracy: 0.572538860103627\n",
      "linear, Gamma: 300, C: 0.001, Train Accuracy 0.35161783085682546, Validation Accuracy: 0.02220577350111029\n",
      "linear, Gamma: 300, C: 0.01, Train Accuracy 0.5224968754339675, Validation Accuracy: 0.6058475203552923\n",
      "linear, Gamma: 300, C: 0.1, Train Accuracy 0.5508262741285932, Validation Accuracy: 0.6099185788304959\n",
      "linear, Gamma: 300, C: 1, Train Accuracy 0.5525621441466463, Validation Accuracy: 0.5895632864544782\n",
      "linear, Gamma: 300, C: 10, Train Accuracy 0.5570059713928621, Validation Accuracy: 0.5847520355292376\n",
      "linear, Gamma: 300, C: 100, Train Accuracy 0.5781835856131093, Validation Accuracy: 0.5780903034789046\n",
      "linear, Gamma: 300, C: 200, Train Accuracy 0.576864324399389, Validation Accuracy: 0.5740192450037009\n",
      "linear, Gamma: 300, C: 300, Train Accuracy 0.576308845993612, Validation Accuracy: 0.572538860103627\n",
      "rbf, Gamma: 0.001, C: 0.001, Train Accuracy 0.34439661158172474, Validation Accuracy: 0.009622501850481125\n",
      "rbf, Gamma: 0.001, C: 0.01, Train Accuracy 0.34439661158172474, Validation Accuracy: 0.009622501850481125\n",
      "rbf, Gamma: 0.001, C: 0.1, Train Accuracy 0.34439661158172474, Validation Accuracy: 0.009622501850481125\n",
      "rbf, Gamma: 0.001, C: 1, Train Accuracy 0.5051381752534371, Validation Accuracy: 0.5229459659511473\n",
      "rbf, Gamma: 0.001, C: 10, Train Accuracy 0.5300652687126788, Validation Accuracy: 0.5988156920799408\n",
      "rbf, Gamma: 0.001, C: 100, Train Accuracy 0.5519372309401472, Validation Accuracy: 0.6039970392301999\n",
      "rbf, Gamma: 0.001, C: 200, Train Accuracy 0.5575614497986391, Validation Accuracy: 0.6014063656550703\n",
      "rbf, Gamma: 0.001, C: 300, Train Accuracy 0.556381058186363, Validation Accuracy: 0.5962250185048112\n",
      "rbf, Gamma: 0.01, C: 0.001, Train Accuracy 0.34439661158172474, Validation Accuracy: 0.009622501850481125\n",
      "rbf, Gamma: 0.01, C: 0.01, Train Accuracy 0.34439661158172474, Validation Accuracy: 0.009622501850481125\n",
      "rbf, Gamma: 0.01, C: 0.1, Train Accuracy 0.5050687404527149, Validation Accuracy: 0.5188749074759438\n",
      "rbf, Gamma: 0.01, C: 1, Train Accuracy 0.530204138314123, Validation Accuracy: 0.5995558845299778\n",
      "rbf, Gamma: 0.01, C: 10, Train Accuracy 0.5590195806138036, Validation Accuracy: 0.6099185788304959\n",
      "rbf, Gamma: 0.01, C: 100, Train Accuracy 0.5786696292181641, Validation Accuracy: 0.6084381939304219\n",
      "rbf, Gamma: 0.01, C: 200, Train Accuracy 0.5929037633661991, Validation Accuracy: 0.61880088823094\n",
      "rbf, Gamma: 0.01, C: 300, Train Accuracy 0.6025552006665741, Validation Accuracy: 0.6243523316062176\n",
      "rbf, Gamma: 0.1, C: 0.001, Train Accuracy 0.34439661158172474, Validation Accuracy: 0.009622501850481125\n",
      "rbf, Gamma: 0.1, C: 0.01, Train Accuracy 0.4990279127898903, Validation Accuracy: 0.48038490007401924\n",
      "rbf, Gamma: 0.1, C: 0.1, Train Accuracy 0.5313845299263991, Validation Accuracy: 0.6010362694300518\n",
      "rbf, Gamma: 0.1, C: 1, Train Accuracy 0.5620052770448549, Validation Accuracy: 0.6113989637305699\n",
      "rbf, Gamma: 0.1, C: 10, Train Accuracy 0.6005415914456326, Validation Accuracy: 0.61880088823094\n",
      "rbf, Gamma: 0.1, C: 100, Train Accuracy 0.6311623385640883, Validation Accuracy: 0.654700222057735\n",
      "rbf, Gamma: 0.1, C: 200, Train Accuracy 0.6410220802666297, Validation Accuracy: 0.6595114729829755\n",
      "rbf, Gamma: 0.1, C: 300, Train Accuracy 0.6490765171503958, Validation Accuracy: 0.6606217616580311\n",
      "rbf, Gamma: 1, C: 0.001, Train Accuracy 0.35189557005971395, Validation Accuracy: 0.02146558105107328\n",
      "rbf, Gamma: 1, C: 0.01, Train Accuracy 0.5205527010137481, Validation Accuracy: 0.5928941524796447\n",
      "rbf, Gamma: 1, C: 0.1, Train Accuracy 0.5876267185113179, Validation Accuracy: 0.6043671354552184\n",
      "rbf, Gamma: 1, C: 1, Train Accuracy 0.612762116372726, Validation Accuracy: 0.6254626202812731\n",
      "rbf, Gamma: 1, C: 10, Train Accuracy 0.6741424802110818, Validation Accuracy: 0.6569207994078461\n",
      "rbf, Gamma: 1, C: 100, Train Accuracy 0.7343424524371615, Validation Accuracy: 0.6606217616580311\n",
      "rbf, Gamma: 1, C: 200, Train Accuracy 0.7494098041938619, Validation Accuracy: 0.6613619541080681\n",
      "rbf, Gamma: 1, C: 300, Train Accuracy 0.7568393278711291, Validation Accuracy: 0.6661732050333087\n",
      "rbf, Gamma: 10, C: 0.001, Train Accuracy 0.34439661158172474, Validation Accuracy: 0.009622501850481125\n",
      "rbf, Gamma: 10, C: 0.01, Train Accuracy 0.5778364116094987, Validation Accuracy: 0.5903034789045152\n",
      "rbf, Gamma: 10, C: 0.1, Train Accuracy 0.6803221774753506, Validation Accuracy: 0.6324944485566247\n",
      "rbf, Gamma: 10, C: 1, Train Accuracy 0.7729482016386613, Validation Accuracy: 0.6680236861584011\n",
      "rbf, Gamma: 10, C: 10, Train Accuracy 0.8343980002777392, Validation Accuracy: 0.7153960029607698\n",
      "rbf, Gamma: 10, C: 100, Train Accuracy 0.8784890987362867, Validation Accuracy: 0.7598075499629904\n",
      "rbf, Gamma: 10, C: 200, Train Accuracy 0.8908484932648243, Validation Accuracy: 0.765358993338268\n",
      "rbf, Gamma: 10, C: 300, Train Accuracy 0.898069712539925, Validation Accuracy: 0.7679496669133975\n",
      "rbf, Gamma: 100, C: 0.001, Train Accuracy 0.34439661158172474, Validation Accuracy: 0.009622501850481125\n",
      "rbf, Gamma: 100, C: 0.01, Train Accuracy 0.34439661158172474, Validation Accuracy: 0.009622501850481125\n",
      "rbf, Gamma: 100, C: 0.1, Train Accuracy 0.7680183307873907, Validation Accuracy: 0.6472982975573649\n",
      "rbf, Gamma: 100, C: 1, Train Accuracy 0.9193861963616164, Validation Accuracy: 0.765358993338268\n",
      "rbf, Gamma: 100, C: 10, Train Accuracy 0.9706290792945425, Validation Accuracy: 0.7757216876387861\n",
      "rbf, Gamma: 100, C: 100, Train Accuracy 0.9893764754895154, Validation Accuracy: 0.7635085122131754\n",
      "rbf, Gamma: 100, C: 200, Train Accuracy 0.9923621719205666, Validation Accuracy: 0.7616580310880829\n",
      "rbf, Gamma: 100, C: 300, Train Accuracy 0.9938897375364533, Validation Accuracy: 0.7564766839378239\n",
      "rbf, Gamma: 200, C: 0.001, Train Accuracy 0.34439661158172474, Validation Accuracy: 0.009622501850481125\n",
      "rbf, Gamma: 200, C: 0.01, Train Accuracy 0.34439661158172474, Validation Accuracy: 0.009622501850481125\n",
      "rbf, Gamma: 200, C: 0.1, Train Accuracy 0.6666435217330926, Validation Accuracy: 0.5270170244263509\n",
      "rbf, Gamma: 200, C: 1, Train Accuracy 0.9533398139147341, Validation Accuracy: 0.7760917838638046\n",
      "rbf, Gamma: 200, C: 10, Train Accuracy 0.9861824746562977, Validation Accuracy: 0.7620281273131014\n",
      "rbf, Gamma: 200, C: 100, Train Accuracy 0.9951395639494515, Validation Accuracy: 0.7598075499629904\n",
      "rbf, Gamma: 200, C: 200, Train Accuracy 0.9964588251631717, Validation Accuracy: 0.7605477424130274\n",
      "rbf, Gamma: 200, C: 300, Train Accuracy 0.9968059991667824, Validation Accuracy: 0.7623982235381199\n",
      "rbf, Gamma: 300, C: 0.001, Train Accuracy 0.34439661158172474, Validation Accuracy: 0.009622501850481125\n",
      "rbf, Gamma: 300, C: 0.01, Train Accuracy 0.34439661158172474, Validation Accuracy: 0.009622501850481125\n",
      "rbf, Gamma: 300, C: 0.1, Train Accuracy 0.6314400777669769, Validation Accuracy: 0.5140636565507032\n",
      "rbf, Gamma: 300, C: 1, Train Accuracy 0.9667407304541036, Validation Accuracy: 0.7579570688378978\n",
      "rbf, Gamma: 300, C: 10, Train Accuracy 0.9895847798916817, Validation Accuracy: 0.7490747594374537\n",
      "rbf, Gamma: 300, C: 100, Train Accuracy 0.9967365643660603, Validation Accuracy: 0.7475943745373798\n",
      "rbf, Gamma: 300, C: 200, Train Accuracy 0.997153173170393, Validation Accuracy: 0.7475943745373798\n",
      "rbf, Gamma: 300, C: 300, Train Accuracy 0.9974309123732815, Validation Accuracy: 0.7479644707623982\n",
      "sigmoid, Gamma: 0.001, C: 0.001, Train Accuracy 0.34439661158172474, Validation Accuracy: 0.009622501850481125\n",
      "sigmoid, Gamma: 0.001, C: 0.01, Train Accuracy 0.34439661158172474, Validation Accuracy: 0.009622501850481125\n",
      "sigmoid, Gamma: 0.001, C: 0.1, Train Accuracy 0.34439661158172474, Validation Accuracy: 0.009622501850481125\n",
      "sigmoid, Gamma: 0.001, C: 1, Train Accuracy 0.35161783085682546, Validation Accuracy: 0.02220577350111029\n",
      "sigmoid, Gamma: 0.001, C: 10, Train Accuracy 0.5224274406332454, Validation Accuracy: 0.6062176165803109\n",
      "sigmoid, Gamma: 0.001, C: 100, Train Accuracy 0.5508262741285932, Validation Accuracy: 0.6099185788304959\n",
      "sigmoid, Gamma: 0.001, C: 200, Train Accuracy 0.551242882932926, Validation Accuracy: 0.6028867505551443\n",
      "sigmoid, Gamma: 0.001, C: 300, Train Accuracy 0.5531176225524232, Validation Accuracy: 0.5999259807549963\n",
      "sigmoid, Gamma: 0.01, C: 0.001, Train Accuracy 0.34439661158172474, Validation Accuracy: 0.009622501850481125\n",
      "sigmoid, Gamma: 0.01, C: 0.01, Train Accuracy 0.34439661158172474, Validation Accuracy: 0.009622501850481125\n",
      "sigmoid, Gamma: 0.01, C: 0.1, Train Accuracy 0.35161783085682546, Validation Accuracy: 0.02220577350111029\n",
      "sigmoid, Gamma: 0.01, C: 1, Train Accuracy 0.5225663102346896, Validation Accuracy: 0.6058475203552923\n",
      "sigmoid, Gamma: 0.01, C: 10, Train Accuracy 0.550687404527149, Validation Accuracy: 0.6099185788304959\n",
      "sigmoid, Gamma: 0.01, C: 100, Train Accuracy 0.5514511873350924, Validation Accuracy: 0.5895632864544782\n",
      "sigmoid, Gamma: 0.01, C: 200, Train Accuracy 0.5504791001249827, Validation Accuracy: 0.5854922279792746\n",
      "sigmoid, Gamma: 0.01, C: 300, Train Accuracy 0.5493681433134286, Validation Accuracy: 0.5873427091043671\n",
      "sigmoid, Gamma: 0.1, C: 0.001, Train Accuracy 0.34439661158172474, Validation Accuracy: 0.009622501850481125\n",
      "sigmoid, Gamma: 0.1, C: 0.01, Train Accuracy 0.3494653520344397, Validation Accuracy: 0.018504811250925242\n",
      "sigmoid, Gamma: 0.1, C: 0.1, Train Accuracy 0.5212470490209693, Validation Accuracy: 0.6084381939304219\n",
      "sigmoid, Gamma: 0.1, C: 1, Train Accuracy 0.5465213164838217, Validation Accuracy: 0.6076980014803849\n",
      "sigmoid, Gamma: 0.1, C: 10, Train Accuracy 0.4566032495486738, Validation Accuracy: 0.45262768319763136\n",
      "sigmoid, Gamma: 0.1, C: 100, Train Accuracy 0.44632689904179973, Validation Accuracy: 0.5703182827535159\n",
      "sigmoid, Gamma: 0.1, C: 200, Train Accuracy 0.44389668101652546, Validation Accuracy: 0.5684678016284234\n",
      "sigmoid, Gamma: 0.1, C: 300, Train Accuracy 0.4439661158172476, Validation Accuracy: 0.5684678016284234\n",
      "sigmoid, Gamma: 1, C: 0.001, Train Accuracy 0.34439661158172474, Validation Accuracy: 0.009622501850481125\n",
      "sigmoid, Gamma: 1, C: 0.01, Train Accuracy 0.46875433967504515, Validation Accuracy: 0.4063656550703183\n",
      "sigmoid, Gamma: 1, C: 0.1, Train Accuracy 0.3702263574503541, Validation Accuracy: 0.4670614359733531\n",
      "sigmoid, Gamma: 1, C: 1, Train Accuracy 0.37036522705179836, Validation Accuracy: 0.48889711324944485\n",
      "sigmoid, Gamma: 1, C: 10, Train Accuracy 0.36925427024024443, Validation Accuracy: 0.48852701702442636\n",
      "sigmoid, Gamma: 1, C: 100, Train Accuracy 0.36911540063880016, Validation Accuracy: 0.48926720947446334\n",
      "sigmoid, Gamma: 1, C: 200, Train Accuracy 0.36925427024024443, Validation Accuracy: 0.48926720947446334\n",
      "sigmoid, Gamma: 1, C: 300, Train Accuracy 0.36925427024024443, Validation Accuracy: 0.48926720947446334\n",
      "sigmoid, Gamma: 10, C: 0.001, Train Accuracy 0.34439661158172474, Validation Accuracy: 0.009622501850481125\n",
      "sigmoid, Gamma: 10, C: 0.01, Train Accuracy 0.34439661158172474, Validation Accuracy: 0.009622501850481125\n",
      "sigmoid, Gamma: 10, C: 0.1, Train Accuracy 0.34439661158172474, Validation Accuracy: 0.009622501850481125\n",
      "sigmoid, Gamma: 10, C: 1, Train Accuracy 0.34439661158172474, Validation Accuracy: 0.009622501850481125\n",
      "sigmoid, Gamma: 10, C: 10, Train Accuracy 0.344535481183169, Validation Accuracy: 0.009622501850481125\n",
      "sigmoid, Gamma: 10, C: 100, Train Accuracy 0.3483543952228857, Validation Accuracy: 0.01628423390081421\n",
      "sigmoid, Gamma: 10, C: 200, Train Accuracy 0.33509234828496043, Validation Accuracy: 0.01924500370096225\n",
      "sigmoid, Gamma: 10, C: 300, Train Accuracy 0.3376614359116789, Validation Accuracy: 0.023316062176165803\n",
      "sigmoid, Gamma: 100, C: 0.001, Train Accuracy 0.34439661158172474, Validation Accuracy: 0.009622501850481125\n",
      "sigmoid, Gamma: 100, C: 0.01, Train Accuracy 0.34439661158172474, Validation Accuracy: 0.009622501850481125\n",
      "sigmoid, Gamma: 100, C: 0.1, Train Accuracy 0.34439661158172474, Validation Accuracy: 0.009622501850481125\n",
      "sigmoid, Gamma: 100, C: 1, Train Accuracy 0.34439661158172474, Validation Accuracy: 0.009622501850481125\n",
      "sigmoid, Gamma: 100, C: 10, Train Accuracy 0.34439661158172474, Validation Accuracy: 0.009622501850481125\n",
      "sigmoid, Gamma: 100, C: 100, Train Accuracy 0.34439661158172474, Validation Accuracy: 0.009622501850481125\n",
      "sigmoid, Gamma: 100, C: 200, Train Accuracy 0.34439661158172474, Validation Accuracy: 0.009622501850481125\n",
      "sigmoid, Gamma: 100, C: 300, Train Accuracy 0.34439661158172474, Validation Accuracy: 0.009622501850481125\n",
      "sigmoid, Gamma: 200, C: 0.001, Train Accuracy 0.34439661158172474, Validation Accuracy: 0.009622501850481125\n",
      "sigmoid, Gamma: 200, C: 0.01, Train Accuracy 0.34439661158172474, Validation Accuracy: 0.009622501850481125\n",
      "sigmoid, Gamma: 200, C: 0.1, Train Accuracy 0.34439661158172474, Validation Accuracy: 0.009622501850481125\n",
      "sigmoid, Gamma: 200, C: 1, Train Accuracy 0.34439661158172474, Validation Accuracy: 0.009622501850481125\n",
      "sigmoid, Gamma: 200, C: 10, Train Accuracy 0.34439661158172474, Validation Accuracy: 0.009622501850481125\n",
      "sigmoid, Gamma: 200, C: 100, Train Accuracy 0.34439661158172474, Validation Accuracy: 0.009622501850481125\n",
      "sigmoid, Gamma: 200, C: 200, Train Accuracy 0.34439661158172474, Validation Accuracy: 0.009622501850481125\n",
      "sigmoid, Gamma: 200, C: 300, Train Accuracy 0.34439661158172474, Validation Accuracy: 0.009622501850481125\n",
      "sigmoid, Gamma: 300, C: 0.001, Train Accuracy 0.34439661158172474, Validation Accuracy: 0.009622501850481125\n",
      "sigmoid, Gamma: 300, C: 0.01, Train Accuracy 0.34439661158172474, Validation Accuracy: 0.009622501850481125\n",
      "sigmoid, Gamma: 300, C: 0.1, Train Accuracy 0.34439661158172474, Validation Accuracy: 0.009622501850481125\n",
      "sigmoid, Gamma: 300, C: 1, Train Accuracy 0.34439661158172474, Validation Accuracy: 0.009622501850481125\n",
      "sigmoid, Gamma: 300, C: 10, Train Accuracy 0.34439661158172474, Validation Accuracy: 0.009622501850481125\n",
      "sigmoid, Gamma: 300, C: 100, Train Accuracy 0.34439661158172474, Validation Accuracy: 0.009622501850481125\n",
      "sigmoid, Gamma: 300, C: 200, Train Accuracy 0.34439661158172474, Validation Accuracy: 0.009622501850481125\n",
      "sigmoid, Gamma: 300, C: 300, Train Accuracy 0.34439661158172474, Validation Accuracy: 0.009622501850481125\n",
      "Best score: 0.78\n",
      "Best parameters: {'C': 1, 'gamma': 200, 'kernel': 'rbf'}\n"
     ]
    }
   ],
   "source": [
    "print(\"MinMax\")\n",
    "best_accuracy = 0\n",
    "\n",
    "for k in k_list:\n",
    "    for gamma in gamma_list:\n",
    "        for c in c_list:\n",
    "        # for each combination of parameters, train an SVC\n",
    "                \n",
    "            model = SVC(kernel=k, gamma=gamma, C=c, random_state = 7)\n",
    "            model.fit(X_mm_train_sample, y_mm_train_sample)\n",
    "            y_train_pred = model.predict(X_mm_train_sample)\n",
    "            y_val_pred = model.predict(X_mm_val_sample)\n",
    "\n",
    "            train_accuracy = accuracy_score(y_mm_train_sample, y_train_pred)\n",
    "            val_accuracy = accuracy_score(y_mm_val_sample, y_val_pred)\n",
    "            print(f\"{k}, Gamma: {gamma}, C: {c}, Train Accuracy {train_accuracy}, Validation Accuracy: {val_accuracy}\")\n",
    "\n",
    "        # if we got a better score, store the score and parameters\n",
    "            if val_accuracy > best_accuracy:\n",
    "                best_accuracy = val_accuracy\n",
    "                best_parameters = {'C': c, 'gamma': gamma, 'kernel': k}\n",
    "\n",
    "print(\"Best score: {:.2f}\".format(best_accuracy))\n",
    "print(\"Best parameters: {}\".format(best_parameters))"
   ]
  },
  {
   "cell_type": "code",
   "execution_count": 27,
   "metadata": {},
   "outputs": [
    {
     "name": "stdout",
     "output_type": "stream",
     "text": [
      "SS\n",
      "linear, Gamma: 0.001, C: 0.001, Train Accuracy: 0.5454797944729899, Validation Accuracy: 0.6032568467801629\n",
      "linear, Gamma: 0.001, C: 0.01, Train Accuracy: 0.5523538397444799, Validation Accuracy: 0.5947446336047373\n",
      "linear, Gamma: 0.001, C: 0.1, Train Accuracy: 0.5508262741285932, Validation Accuracy: 0.5862324204293117\n",
      "linear, Gamma: 0.001, C: 1, Train Accuracy: 0.5584641022080267, Validation Accuracy: 0.5836417468541821\n",
      "linear, Gamma: 0.001, C: 10, Train Accuracy: 0.5776975420080545, Validation Accuracy: 0.5766099185788305\n",
      "linear, Gamma: 0.001, C: 100, Train Accuracy: 0.5750590195806138, Validation Accuracy: 0.5721687638786085\n",
      "linear, Gamma: 0.001, C: 200, Train Accuracy: 0.5749895847798917, Validation Accuracy: 0.5729089563286455\n",
      "linear, Gamma: 0.001, C: 300, Train Accuracy: 0.5749895847798917, Validation Accuracy: 0.572538860103627\n",
      "linear, Gamma: 0.01, C: 0.001, Train Accuracy: 0.5454797944729899, Validation Accuracy: 0.6032568467801629\n",
      "linear, Gamma: 0.01, C: 0.01, Train Accuracy: 0.5523538397444799, Validation Accuracy: 0.5947446336047373\n",
      "linear, Gamma: 0.01, C: 0.1, Train Accuracy: 0.5508262741285932, Validation Accuracy: 0.5862324204293117\n",
      "linear, Gamma: 0.01, C: 1, Train Accuracy: 0.5584641022080267, Validation Accuracy: 0.5836417468541821\n",
      "linear, Gamma: 0.01, C: 10, Train Accuracy: 0.5776975420080545, Validation Accuracy: 0.5766099185788305\n",
      "linear, Gamma: 0.01, C: 100, Train Accuracy: 0.5750590195806138, Validation Accuracy: 0.5721687638786085\n",
      "linear, Gamma: 0.01, C: 200, Train Accuracy: 0.5749895847798917, Validation Accuracy: 0.5729089563286455\n",
      "linear, Gamma: 0.01, C: 300, Train Accuracy: 0.5749895847798917, Validation Accuracy: 0.572538860103627\n",
      "linear, Gamma: 0.1, C: 0.001, Train Accuracy: 0.5454797944729899, Validation Accuracy: 0.6032568467801629\n",
      "linear, Gamma: 0.1, C: 0.01, Train Accuracy: 0.5523538397444799, Validation Accuracy: 0.5947446336047373\n",
      "linear, Gamma: 0.1, C: 0.1, Train Accuracy: 0.5508262741285932, Validation Accuracy: 0.5862324204293117\n",
      "linear, Gamma: 0.1, C: 1, Train Accuracy: 0.5584641022080267, Validation Accuracy: 0.5836417468541821\n",
      "linear, Gamma: 0.1, C: 10, Train Accuracy: 0.5776975420080545, Validation Accuracy: 0.5766099185788305\n",
      "linear, Gamma: 0.1, C: 100, Train Accuracy: 0.5750590195806138, Validation Accuracy: 0.5721687638786085\n",
      "linear, Gamma: 0.1, C: 200, Train Accuracy: 0.5749895847798917, Validation Accuracy: 0.5729089563286455\n",
      "linear, Gamma: 0.1, C: 300, Train Accuracy: 0.5749895847798917, Validation Accuracy: 0.572538860103627\n",
      "linear, Gamma: 1, C: 0.001, Train Accuracy: 0.5454797944729899, Validation Accuracy: 0.6032568467801629\n",
      "linear, Gamma: 1, C: 0.01, Train Accuracy: 0.5523538397444799, Validation Accuracy: 0.5947446336047373\n",
      "linear, Gamma: 1, C: 0.1, Train Accuracy: 0.5508262741285932, Validation Accuracy: 0.5862324204293117\n",
      "linear, Gamma: 1, C: 1, Train Accuracy: 0.5584641022080267, Validation Accuracy: 0.5836417468541821\n",
      "linear, Gamma: 1, C: 10, Train Accuracy: 0.5776975420080545, Validation Accuracy: 0.5766099185788305\n",
      "linear, Gamma: 1, C: 100, Train Accuracy: 0.5750590195806138, Validation Accuracy: 0.5721687638786085\n",
      "linear, Gamma: 1, C: 200, Train Accuracy: 0.5749895847798917, Validation Accuracy: 0.5729089563286455\n",
      "linear, Gamma: 1, C: 300, Train Accuracy: 0.5749895847798917, Validation Accuracy: 0.572538860103627\n",
      "linear, Gamma: 10, C: 0.001, Train Accuracy: 0.5454797944729899, Validation Accuracy: 0.6032568467801629\n",
      "linear, Gamma: 10, C: 0.01, Train Accuracy: 0.5523538397444799, Validation Accuracy: 0.5947446336047373\n",
      "linear, Gamma: 10, C: 0.1, Train Accuracy: 0.5508262741285932, Validation Accuracy: 0.5862324204293117\n",
      "linear, Gamma: 10, C: 1, Train Accuracy: 0.5584641022080267, Validation Accuracy: 0.5836417468541821\n",
      "linear, Gamma: 10, C: 10, Train Accuracy: 0.5776975420080545, Validation Accuracy: 0.5766099185788305\n",
      "linear, Gamma: 10, C: 100, Train Accuracy: 0.5750590195806138, Validation Accuracy: 0.5721687638786085\n",
      "linear, Gamma: 10, C: 200, Train Accuracy: 0.5749895847798917, Validation Accuracy: 0.5729089563286455\n",
      "linear, Gamma: 10, C: 300, Train Accuracy: 0.5749895847798917, Validation Accuracy: 0.572538860103627\n",
      "linear, Gamma: 100, C: 0.001, Train Accuracy: 0.5454797944729899, Validation Accuracy: 0.6032568467801629\n",
      "linear, Gamma: 100, C: 0.01, Train Accuracy: 0.5523538397444799, Validation Accuracy: 0.5947446336047373\n",
      "linear, Gamma: 100, C: 0.1, Train Accuracy: 0.5508262741285932, Validation Accuracy: 0.5862324204293117\n",
      "linear, Gamma: 100, C: 1, Train Accuracy: 0.5584641022080267, Validation Accuracy: 0.5836417468541821\n",
      "linear, Gamma: 100, C: 10, Train Accuracy: 0.5776975420080545, Validation Accuracy: 0.5766099185788305\n",
      "linear, Gamma: 100, C: 100, Train Accuracy: 0.5750590195806138, Validation Accuracy: 0.5721687638786085\n",
      "linear, Gamma: 100, C: 200, Train Accuracy: 0.5749895847798917, Validation Accuracy: 0.5729089563286455\n",
      "linear, Gamma: 100, C: 300, Train Accuracy: 0.5749895847798917, Validation Accuracy: 0.572538860103627\n",
      "linear, Gamma: 200, C: 0.001, Train Accuracy: 0.5454797944729899, Validation Accuracy: 0.6032568467801629\n",
      "linear, Gamma: 200, C: 0.01, Train Accuracy: 0.5523538397444799, Validation Accuracy: 0.5947446336047373\n",
      "linear, Gamma: 200, C: 0.1, Train Accuracy: 0.5508262741285932, Validation Accuracy: 0.5862324204293117\n",
      "linear, Gamma: 200, C: 1, Train Accuracy: 0.5584641022080267, Validation Accuracy: 0.5836417468541821\n",
      "linear, Gamma: 200, C: 10, Train Accuracy: 0.5776975420080545, Validation Accuracy: 0.5766099185788305\n",
      "linear, Gamma: 200, C: 100, Train Accuracy: 0.5750590195806138, Validation Accuracy: 0.5721687638786085\n",
      "linear, Gamma: 200, C: 200, Train Accuracy: 0.5749895847798917, Validation Accuracy: 0.5729089563286455\n",
      "linear, Gamma: 200, C: 300, Train Accuracy: 0.5749895847798917, Validation Accuracy: 0.572538860103627\n",
      "linear, Gamma: 300, C: 0.001, Train Accuracy: 0.5454797944729899, Validation Accuracy: 0.6032568467801629\n",
      "linear, Gamma: 300, C: 0.01, Train Accuracy: 0.5523538397444799, Validation Accuracy: 0.5947446336047373\n",
      "linear, Gamma: 300, C: 0.1, Train Accuracy: 0.5508262741285932, Validation Accuracy: 0.5862324204293117\n",
      "linear, Gamma: 300, C: 1, Train Accuracy: 0.5584641022080267, Validation Accuracy: 0.5836417468541821\n",
      "linear, Gamma: 300, C: 10, Train Accuracy: 0.5776975420080545, Validation Accuracy: 0.5766099185788305\n",
      "linear, Gamma: 300, C: 100, Train Accuracy: 0.5750590195806138, Validation Accuracy: 0.5721687638786085\n",
      "linear, Gamma: 300, C: 200, Train Accuracy: 0.5749895847798917, Validation Accuracy: 0.5729089563286455\n",
      "linear, Gamma: 300, C: 300, Train Accuracy: 0.5749895847798917, Validation Accuracy: 0.572538860103627\n",
      "rbf, Gamma: 0.001, C: 0.001, Train Accuracy: 0.34439661158172474, Validation Accuracy: 0.009622501850481125\n",
      "rbf, Gamma: 0.001, C: 0.01, Train Accuracy: 0.34439661158172474, Validation Accuracy: 0.009622501850481125\n",
      "rbf, Gamma: 0.001, C: 0.1, Train Accuracy: 0.5159700041660881, Validation Accuracy: 0.5869726128793487\n",
      "rbf, Gamma: 0.001, C: 1, Train Accuracy: 0.5533953617553118, Validation Accuracy: 0.6036269430051814\n",
      "rbf, Gamma: 0.001, C: 10, Train Accuracy: 0.5790168032217747, Validation Accuracy: 0.5995558845299778\n",
      "rbf, Gamma: 0.001, C: 100, Train Accuracy: 0.602485765865852, Validation Accuracy: 0.6262028127313102\n",
      "rbf, Gamma: 0.001, C: 200, Train Accuracy: 0.6103318983474517, Validation Accuracy: 0.6365655070318282\n",
      "rbf, Gamma: 0.001, C: 300, Train Accuracy: 0.6193584224413275, Validation Accuracy: 0.6406365655070319\n",
      "rbf, Gamma: 0.01, C: 0.001, Train Accuracy: 0.34439661158172474, Validation Accuracy: 0.009622501850481125\n",
      "rbf, Gamma: 0.01, C: 0.01, Train Accuracy: 0.517705874184141, Validation Accuracy: 0.5840118430792006\n",
      "rbf, Gamma: 0.01, C: 0.1, Train Accuracy: 0.5680461047076795, Validation Accuracy: 0.6051073279052553\n",
      "rbf, Gamma: 0.01, C: 1, Train Accuracy: 0.5903346757394806, Validation Accuracy: 0.5888230940044411\n",
      "rbf, Gamma: 0.01, C: 10, Train Accuracy: 0.6242188584918761, Validation Accuracy: 0.6461880088823094\n",
      "rbf, Gamma: 0.01, C: 100, Train Accuracy: 0.6874739619497292, Validation Accuracy: 0.6724648408586232\n",
      "rbf, Gamma: 0.01, C: 200, Train Accuracy: 0.7084432717678101, Validation Accuracy: 0.6658031088082902\n",
      "rbf, Gamma: 0.01, C: 300, Train Accuracy: 0.7153173170393001, Validation Accuracy: 0.6650629163582531\n",
      "rbf, Gamma: 0.1, C: 0.001, Train Accuracy: 0.3695320094431329, Validation Accuracy: 0.0458919319022946\n",
      "rbf, Gamma: 0.1, C: 0.01, Train Accuracy: 0.5756144979863907, Validation Accuracy: 0.5843819393042191\n",
      "rbf, Gamma: 0.1, C: 0.1, Train Accuracy: 0.637203166226913, Validation Accuracy: 0.6243523316062176\n",
      "rbf, Gamma: 0.1, C: 1, Train Accuracy: 0.7304541035967227, Validation Accuracy: 0.656180606957809\n",
      "rbf, Gamma: 0.1, C: 10, Train Accuracy: 0.7914178586307458, Validation Accuracy: 0.6939304219096966\n",
      "rbf, Gamma: 0.1, C: 100, Train Accuracy: 0.8297458686293571, Validation Accuracy: 0.7261287934863064\n",
      "rbf, Gamma: 0.1, C: 200, Train Accuracy: 0.8384946535203444, Validation Accuracy: 0.7327905255366395\n",
      "rbf, Gamma: 0.1, C: 300, Train Accuracy: 0.8435633939730594, Validation Accuracy: 0.7368615840118431\n",
      "rbf, Gamma: 1, C: 0.001, Train Accuracy: 0.34439661158172474, Validation Accuracy: 0.009622501850481125\n",
      "rbf, Gamma: 1, C: 0.01, Train Accuracy: 0.6487987779475073, Validation Accuracy: 0.5384900074019245\n",
      "rbf, Gamma: 1, C: 0.1, Train Accuracy: 0.7953062074711845, Validation Accuracy: 0.6994818652849741\n",
      "rbf, Gamma: 1, C: 1, Train Accuracy: 0.8748090542980141, Validation Accuracy: 0.767579570688379\n",
      "rbf, Gamma: 1, C: 10, Train Accuracy: 0.9327871129009859, Validation Accuracy: 0.807920059215396\n",
      "rbf, Gamma: 1, C: 100, Train Accuracy: 0.9669490348562699, Validation Accuracy: 0.811621021465581\n",
      "rbf, Gamma: 1, C: 200, Train Accuracy: 0.9727815581169282, Validation Accuracy: 0.8105107327905255\n",
      "rbf, Gamma: 1, C: 300, Train Accuracy: 0.9757672545479794, Validation Accuracy: 0.8045891931902295\n",
      "rbf, Gamma: 10, C: 0.001, Train Accuracy: 0.34439661158172474, Validation Accuracy: 0.009622501850481125\n",
      "rbf, Gamma: 10, C: 0.01, Train Accuracy: 0.34439661158172474, Validation Accuracy: 0.009622501850481125\n",
      "rbf, Gamma: 10, C: 0.1, Train Accuracy: 0.6381058186363006, Validation Accuracy: 0.5136935603256847\n",
      "rbf, Gamma: 10, C: 1, Train Accuracy: 0.9734064713234273, Validation Accuracy: 0.7849740932642487\n",
      "rbf, Gamma: 10, C: 10, Train Accuracy: 0.9899319538952923, Validation Accuracy: 0.7968171724648409\n",
      "rbf, Gamma: 10, C: 100, Train Accuracy: 0.9957644771559505, Validation Accuracy: 0.7938564026646928\n",
      "rbf, Gamma: 10, C: 200, Train Accuracy: 0.9966671295653381, Validation Accuracy: 0.7934863064396743\n",
      "rbf, Gamma: 10, C: 300, Train Accuracy: 0.9968754339675046, Validation Accuracy: 0.7938564026646928\n",
      "rbf, Gamma: 100, C: 0.001, Train Accuracy: 0.34439661158172474, Validation Accuracy: 0.009622501850481125\n",
      "rbf, Gamma: 100, C: 0.01, Train Accuracy: 0.34439661158172474, Validation Accuracy: 0.009622501850481125\n",
      "rbf, Gamma: 100, C: 0.1, Train Accuracy: 0.5511040133314817, Validation Accuracy: 0.5107327905255367\n",
      "rbf, Gamma: 100, C: 1, Train Accuracy: 0.9947229551451188, Validation Accuracy: 0.6787564766839378\n",
      "rbf, Gamma: 100, C: 10, Train Accuracy: 0.9972226079711152, Validation Accuracy: 0.695040710584752\n",
      "rbf, Gamma: 100, C: 100, Train Accuracy: 0.9975003471740036, Validation Accuracy: 0.694300518134715\n",
      "rbf, Gamma: 100, C: 200, Train Accuracy: 0.99770865157617, Validation Accuracy: 0.6935603256846781\n",
      "rbf, Gamma: 100, C: 300, Train Accuracy: 0.9979863907790585, Validation Accuracy: 0.6861584011843079\n",
      "rbf, Gamma: 200, C: 0.001, Train Accuracy: 0.34439661158172474, Validation Accuracy: 0.009622501850481125\n",
      "rbf, Gamma: 200, C: 0.01, Train Accuracy: 0.34439661158172474, Validation Accuracy: 0.009622501850481125\n",
      "rbf, Gamma: 200, C: 0.1, Train Accuracy: 0.5872101097069852, Validation Accuracy: 0.5114729829755736\n",
      "rbf, Gamma: 200, C: 1, Train Accuracy: 0.9968059991667824, Validation Accuracy: 0.6358253145817913\n",
      "rbf, Gamma: 200, C: 10, Train Accuracy: 0.9974309123732815, Validation Accuracy: 0.6417468541820873\n",
      "rbf, Gamma: 200, C: 100, Train Accuracy: 0.9979169559783363, Validation Accuracy: 0.6413767579570688\n",
      "rbf, Gamma: 200, C: 200, Train Accuracy: 0.9981946951812248, Validation Accuracy: 0.6413767579570688\n",
      "rbf, Gamma: 200, C: 300, Train Accuracy: 0.9983335647826691, Validation Accuracy: 0.6413767579570688\n",
      "rbf, Gamma: 300, C: 0.001, Train Accuracy: 0.34439661158172474, Validation Accuracy: 0.009622501850481125\n",
      "rbf, Gamma: 300, C: 0.01, Train Accuracy: 0.34439661158172474, Validation Accuracy: 0.009622501850481125\n",
      "rbf, Gamma: 300, C: 0.1, Train Accuracy: 0.6305374253575893, Validation Accuracy: 0.5125832716506291\n",
      "rbf, Gamma: 300, C: 1, Train Accuracy: 0.9970143035689487, Validation Accuracy: 0.6113989637305699\n",
      "rbf, Gamma: 300, C: 10, Train Accuracy: 0.9975003471740036, Validation Accuracy: 0.6236121391561806\n",
      "rbf, Gamma: 300, C: 100, Train Accuracy: 0.9981252603805028, Validation Accuracy: 0.6236121391561806\n",
      "rbf, Gamma: 300, C: 200, Train Accuracy: 0.9983335647826691, Validation Accuracy: 0.6236121391561806\n",
      "rbf, Gamma: 300, C: 300, Train Accuracy: 0.9983335647826691, Validation Accuracy: 0.6236121391561806\n",
      "sigmoid, Gamma: 0.001, C: 0.001, Train Accuracy: 0.34439661158172474, Validation Accuracy: 0.009622501850481125\n",
      "sigmoid, Gamma: 0.001, C: 0.01, Train Accuracy: 0.34439661158172474, Validation Accuracy: 0.009622501850481125\n",
      "sigmoid, Gamma: 0.001, C: 0.1, Train Accuracy: 0.5004860436050549, Validation Accuracy: 0.5621761658031088\n",
      "sigmoid, Gamma: 0.001, C: 1, Train Accuracy: 0.5454797944729899, Validation Accuracy: 0.6032568467801629\n",
      "sigmoid, Gamma: 0.001, C: 10, Train Accuracy: 0.552423274545202, Validation Accuracy: 0.5947446336047373\n",
      "sigmoid, Gamma: 0.001, C: 100, Train Accuracy: 0.5502707957228162, Validation Accuracy: 0.5866025166543302\n",
      "sigmoid, Gamma: 0.001, C: 200, Train Accuracy: 0.5514511873350924, Validation Accuracy: 0.5877128053293856\n",
      "sigmoid, Gamma: 0.001, C: 300, Train Accuracy: 0.5528398833495348, Validation Accuracy: 0.5873427091043671\n",
      "sigmoid, Gamma: 0.01, C: 0.001, Train Accuracy: 0.34439661158172474, Validation Accuracy: 0.009622501850481125\n",
      "sigmoid, Gamma: 0.01, C: 0.01, Train Accuracy: 0.49993056519927787, Validation Accuracy: 0.5618060695780903\n",
      "sigmoid, Gamma: 0.01, C: 0.1, Train Accuracy: 0.5449243160672129, Validation Accuracy: 0.6036269430051814\n",
      "sigmoid, Gamma: 0.01, C: 1, Train Accuracy: 0.5487432301069296, Validation Accuracy: 0.5925240562546262\n",
      "sigmoid, Gamma: 0.01, C: 10, Train Accuracy: 0.5089570892931538, Validation Accuracy: 0.5669874167283494\n",
      "sigmoid, Gamma: 0.01, C: 100, Train Accuracy: 0.4385502013609221, Validation Accuracy: 0.42301998519615097\n",
      "sigmoid, Gamma: 0.01, C: 200, Train Accuracy: 0.43271767810026385, Validation Accuracy: 0.4156180606957809\n",
      "sigmoid, Gamma: 0.01, C: 300, Train Accuracy: 0.46021385918622415, Validation Accuracy: 0.47964470762398226\n",
      "sigmoid, Gamma: 0.1, C: 0.001, Train Accuracy: 0.4736147757255937, Validation Accuracy: 0.5225758697261288\n",
      "sigmoid, Gamma: 0.1, C: 0.01, Train Accuracy: 0.513053742535759, Validation Accuracy: 0.6043671354552184\n",
      "sigmoid, Gamma: 0.1, C: 0.1, Train Accuracy: 0.42042771837244824, Validation Accuracy: 0.48852701702442636\n",
      "sigmoid, Gamma: 0.1, C: 1, Train Accuracy: 0.3988334953478683, Validation Accuracy: 0.4848260547742413\n",
      "sigmoid, Gamma: 0.1, C: 10, Train Accuracy: 0.40640188862657967, Validation Accuracy: 0.49370836417468544\n",
      "sigmoid, Gamma: 0.1, C: 100, Train Accuracy: 0.406610193028746, Validation Accuracy: 0.49370836417468544\n",
      "sigmoid, Gamma: 0.1, C: 200, Train Accuracy: 0.40674906263019023, Validation Accuracy: 0.4925980754996299\n",
      "sigmoid, Gamma: 0.1, C: 300, Train Accuracy: 0.4065407582280239, Validation Accuracy: 0.49370836417468544\n",
      "sigmoid, Gamma: 1, C: 0.001, Train Accuracy: 0.4328565477017081, Validation Accuracy: 0.61880088823094\n",
      "sigmoid, Gamma: 1, C: 0.01, Train Accuracy: 0.33585613109290374, Validation Accuracy: 0.3993338267949667\n",
      "sigmoid, Gamma: 1, C: 0.1, Train Accuracy: 0.35279822246910153, Validation Accuracy: 0.4156180606957809\n",
      "sigmoid, Gamma: 1, C: 1, Train Accuracy: 0.3533537008748785, Validation Accuracy: 0.41302738712065135\n",
      "sigmoid, Gamma: 1, C: 10, Train Accuracy: 0.3537008748784891, Validation Accuracy: 0.41302738712065135\n",
      "sigmoid, Gamma: 1, C: 100, Train Accuracy: 0.35377030967921125, Validation Accuracy: 0.41302738712065135\n",
      "sigmoid, Gamma: 1, C: 200, Train Accuracy: 0.35356200527704484, Validation Accuracy: 0.41302738712065135\n",
      "sigmoid, Gamma: 1, C: 300, Train Accuracy: 0.35356200527704484, Validation Accuracy: 0.41302738712065135\n",
      "sigmoid, Gamma: 10, C: 0.001, Train Accuracy: 0.4198722399666713, Validation Accuracy: 0.5914137675795706\n",
      "sigmoid, Gamma: 10, C: 0.01, Train Accuracy: 0.31912234411887236, Validation Accuracy: 0.3789785344189489\n",
      "sigmoid, Gamma: 10, C: 0.1, Train Accuracy: 0.3246771281766421, Validation Accuracy: 0.38490007401924503\n",
      "sigmoid, Gamma: 10, C: 1, Train Accuracy: 0.32474656297736426, Validation Accuracy: 0.3852701702442635\n",
      "sigmoid, Gamma: 10, C: 10, Train Accuracy: 0.32474656297736426, Validation Accuracy: 0.384159881569208\n",
      "sigmoid, Gamma: 10, C: 100, Train Accuracy: 0.32474656297736426, Validation Accuracy: 0.3845299777942265\n",
      "sigmoid, Gamma: 10, C: 200, Train Accuracy: 0.32474656297736426, Validation Accuracy: 0.3845299777942265\n",
      "sigmoid, Gamma: 10, C: 300, Train Accuracy: 0.32474656297736426, Validation Accuracy: 0.3845299777942265\n",
      "sigmoid, Gamma: 100, C: 0.001, Train Accuracy: 0.4200805443688377, Validation Accuracy: 0.5910436713545522\n",
      "sigmoid, Gamma: 100, C: 0.01, Train Accuracy: 0.3188446049159839, Validation Accuracy: 0.3789785344189489\n",
      "sigmoid, Gamma: 100, C: 0.1, Train Accuracy: 0.3230801277600333, Validation Accuracy: 0.38341968911917096\n",
      "sigmoid, Gamma: 100, C: 1, Train Accuracy: 0.32460769337592, Validation Accuracy: 0.3837897853441895\n",
      "sigmoid, Gamma: 100, C: 10, Train Accuracy: 0.32460769337592, Validation Accuracy: 0.384159881569208\n",
      "sigmoid, Gamma: 100, C: 100, Train Accuracy: 0.32474656297736426, Validation Accuracy: 0.38490007401924503\n",
      "sigmoid, Gamma: 100, C: 200, Train Accuracy: 0.32474656297736426, Validation Accuracy: 0.38490007401924503\n",
      "sigmoid, Gamma: 100, C: 300, Train Accuracy: 0.32474656297736426, Validation Accuracy: 0.38490007401924503\n",
      "sigmoid, Gamma: 200, C: 0.001, Train Accuracy: 0.4202194139702819, Validation Accuracy: 0.5910436713545522\n",
      "sigmoid, Gamma: 200, C: 0.01, Train Accuracy: 0.32037217053187056, Validation Accuracy: 0.3512213175425611\n",
      "sigmoid, Gamma: 200, C: 0.1, Train Accuracy: 0.3255797805860297, Validation Accuracy: 0.3271650629163583\n",
      "sigmoid, Gamma: 200, C: 1, Train Accuracy: 0.3269684766004722, Validation Accuracy: 0.32568467801628426\n",
      "sigmoid, Gamma: 200, C: 10, Train Accuracy: 0.3268296069990279, Validation Accuracy: 0.3267949666913397\n",
      "sigmoid, Gamma: 200, C: 100, Train Accuracy: 0.32689904179975005, Validation Accuracy: 0.32642487046632124\n",
      "sigmoid, Gamma: 200, C: 200, Train Accuracy: 0.32689904179975005, Validation Accuracy: 0.32642487046632124\n",
      "sigmoid, Gamma: 200, C: 300, Train Accuracy: 0.32689904179975005, Validation Accuracy: 0.32642487046632124\n",
      "sigmoid, Gamma: 300, C: 0.001, Train Accuracy: 0.42028884877100403, Validation Accuracy: 0.5910436713545522\n",
      "sigmoid, Gamma: 300, C: 0.01, Train Accuracy: 0.3207887793362033, Validation Accuracy: 0.35085122131754254\n",
      "sigmoid, Gamma: 300, C: 0.1, Train Accuracy: 0.3255797805860297, Validation Accuracy: 0.3271650629163583\n",
      "sigmoid, Gamma: 300, C: 1, Train Accuracy: 0.3267601721983058, Validation Accuracy: 0.32568467801628426\n",
      "sigmoid, Gamma: 300, C: 10, Train Accuracy: 0.32669073739758364, Validation Accuracy: 0.32605477424130275\n",
      "sigmoid, Gamma: 300, C: 100, Train Accuracy: 0.32669073739758364, Validation Accuracy: 0.32605477424130275\n",
      "sigmoid, Gamma: 300, C: 200, Train Accuracy: 0.32669073739758364, Validation Accuracy: 0.32605477424130275\n",
      "sigmoid, Gamma: 300, C: 300, Train Accuracy: 0.32669073739758364, Validation Accuracy: 0.32605477424130275\n",
      "Best score: 0.81\n",
      "Best parameters: {'C': 100, 'gamma': 1, 'kernel': 'rbf'}\n"
     ]
    }
   ],
   "source": [
    "print(\"SS\")\n",
    "best_accuracy = 0\n",
    "\n",
    "for k in k_list:\n",
    "    for gamma in gamma_list:\n",
    "        for c in c_list:\n",
    "        # for each combination of parameters, train an SVC\n",
    "                \n",
    "            model = SVC(kernel=k, gamma=gamma, C=c, random_state = 7)\n",
    "            model.fit(X_ss_train_sample, y_ss_train_sample)\n",
    "            y_train_pred = model.predict(X_ss_train_sample)\n",
    "            y_val_pred = model.predict(X_ss_val_sample)\n",
    " \n",
    "            train_accuracy = accuracy_score(y_ss_train_sample, y_train_pred)\n",
    "            val_accuracy = accuracy_score(y_ss_val_sample, y_val_pred)\n",
    "            print(f\"{k}, Gamma: {gamma}, C: {c}, Train Accuracy: {train_accuracy}, Validation Accuracy: {val_accuracy}\")\n",
    "\n",
    "        # if we got a better score, store the score and parameters\n",
    "            if val_accuracy > best_accuracy:\n",
    "                best_accuracy = val_accuracy\n",
    "                best_parameters = {'C': c, 'gamma': gamma, 'kernel': k}\n",
    "\n",
    "print(\"Best score: {:.2f}\".format(best_accuracy))\n",
    "print(\"Best parameters: {}\".format(best_parameters))"
   ]
  },
  {
   "cell_type": "code",
   "execution_count": null,
   "metadata": {},
   "outputs": [],
   "source": [
    "kgkjjk"
   ]
  },
  {
   "cell_type": "code",
   "execution_count": null,
   "metadata": {},
   "outputs": [],
   "source": [
    "print(\"LogNorm\")\n",
    "best_accuracy = 0\n",
    "\n",
    "for k in k_list:\n",
    "    for gamma in gamma_list:\n",
    "        for c in c_list:\n",
    "        # for each combination of parameters, train an SVC\n",
    "                \n",
    "            model = SVC(kernel=k, gamma=gamma, C=c, random_state = 7)\n",
    "            model.fit(X_log_train_sample, y_log_train_sample)\n",
    "\n",
    "\n",
    "            y_train_pred = model.predict(X_log_train_sample)\n",
    "            y_val_pred = model.predict(X_log_val_sample)\n",
    " \n",
    "            train_accuracy = accuracy_score(y_log_train_sample, y_train_pred)\n",
    "            val_accuracy = accuracy_score(y_log_val_sample, y_val_pred)\n",
    "\n",
    "            print(f\"{k}, Gamma: {gamma}, C: {c}, Train Accuracy: {train_accuracy}, Validation Accuracy: {val_accuracy}\")\n",
    "\n",
    "        # if we got a better score, store the score and parameters\n",
    "            if val_accuracy > best_accuracy:\n",
    "                best_accuracy = val_accuracy\n",
    "                best_parameters = {'C': c, 'gamma': gamma, 'kernel': k}\n",
    "\n",
    "print(\"Best score: {:.2f}\".format(best_accuracy))\n",
    "print(\"Best parameters: {}\".format(best_parameters))"
   ]
  },
  {
   "cell_type": "code",
   "execution_count": null,
   "metadata": {},
   "outputs": [],
   "source": [
    "gkhjhk"
   ]
  },
  {
   "cell_type": "markdown",
   "metadata": {},
   "source": [
    "Visualise the learning curve for the C and kernel to show how it improves"
   ]
  },
  {
   "cell_type": "markdown",
   "metadata": {},
   "source": [
    "CHOOSE WHICHEVER mm or ss makes most sense and then tune on a range using the sample data.  BELOW need to change log_train data to whichever is best"
   ]
  },
  {
   "cell_type": "markdown",
   "metadata": {},
   "source": [
    "Use the best combination  ss data\n",
    "Best parameters: {'C': 100, 'gamma': 1, 'kernel': 'rbf'}"
   ]
  },
  {
   "cell_type": "code",
   "execution_count": 29,
   "metadata": {},
   "outputs": [
    {
     "name": "stdout",
     "output_type": "stream",
     "text": [
      "C: 10, Train Accuracy: 0.9327871129009859, Validation Accuracy: 0.807920059215396\n",
      "C: 20, Train Accuracy: 0.94535481183169, Validation Accuracy: 0.8097705403404886\n",
      "C: 30, Train Accuracy: 0.9511873350923483, Validation Accuracy: 0.8105107327905255\n",
      "C: 40, Train Accuracy: 0.9557005971392862, Validation Accuracy: 0.8097705403404886\n",
      "C: 50, Train Accuracy: 0.9585474239688933, Validation Accuracy: 0.8097705403404886\n",
      "C: 60, Train Accuracy: 0.9615331203999444, Validation Accuracy: 0.8082901554404145\n",
      "C: 70, Train Accuracy: 0.9629218164143869, Validation Accuracy: 0.8090303478904515\n",
      "C: 80, Train Accuracy: 0.9647271212331621, Validation Accuracy: 0.807179866765359\n",
      "C: 90, Train Accuracy: 0.9659075128454382, Validation Accuracy: 0.8090303478904515\n",
      "C: 100, Train Accuracy: 0.9669490348562699, Validation Accuracy: 0.811621021465581\n",
      "C: 110, Train Accuracy: 0.9676433828634912, Validation Accuracy: 0.810880829015544\n",
      "C: 120, Train Accuracy: 0.9685460352728787, Validation Accuracy: 0.8112509252405625\n",
      "C: 130, Train Accuracy: 0.9693792528815443, Validation Accuracy: 0.8119911176905995\n",
      "C: 140, Train Accuracy: 0.9698652964865991, Validation Accuracy: 0.8112509252405625\n",
      "C: 150, Train Accuracy: 0.9704207748923761, Validation Accuracy: 0.810880829015544\n",
      "C: 160, Train Accuracy: 0.9710456880988751, Validation Accuracy: 0.808660251665433\n",
      "C: 170, Train Accuracy: 0.97153173170393, Validation Accuracy: 0.8105107327905255\n",
      "C: 180, Train Accuracy: 0.9719483405082627, Validation Accuracy: 0.8105107327905255\n",
      "C: 190, Train Accuracy: 0.9725038189140397, Validation Accuracy: 0.811621021465581\n",
      "Best score: 0.81\n",
      "Best C: {best_c}\n",
      "Best accuracy is: 0.8119911176905995 and C is 130\n"
     ]
    },
    {
     "data": {
      "image/png": "[encoded data removed]",
      "text/plain": [
       "<Figure size 1000x600 with 1 Axes>"
      ]
     },
     "metadata": {},
     "output_type": "display_data"
    }
   ],
   "source": [
    "best_accuracy=0\n",
    "cs= []\n",
    "train_acc_list = []\n",
    "val_acc_list = []\n",
    "for c in range(10, 200, 10):\n",
    "    cs.append(c)\n",
    "            \n",
    "    model = SVC(kernel='rbf', gamma=1, C=c, random_state = 7)\n",
    "    model.fit(X_ss_train_sample, y_ss_train_sample)\n",
    "\n",
    "\n",
    "    y_train_pred = model.predict(X_ss_train_sample)\n",
    "    y_val_pred = model.predict(X_ss_val_sample)\n",
    " \n",
    "    train_accuracy = accuracy_score(y_ss_train_sample, y_train_pred)\n",
    "    val_accuracy = accuracy_score(y_ss_val_sample, y_val_pred)\n",
    "    train_acc_list.append(train_accuracy)\n",
    "    val_acc_list.append(val_accuracy)\n",
    "\n",
    "    print(f\"C: {c}, Train Accuracy: {train_accuracy}, Validation Accuracy: {val_accuracy}\")\n",
    "        # if we got a better score, store the score and parameters\n",
    "    if val_accuracy > best_accuracy:\n",
    "        best_accuracy = val_accuracy\n",
    "        best_c = c\n",
    "\n",
    "print(\"Best score: {:.2f}\".format(best_accuracy))\n",
    "print(\"Best C: {best_c}\")\n",
    "    \n",
    "cs_df = pd.DataFrame({'C': cs, 'Train Accuracy': train_acc_list, 'Validation Accuracy': val_acc_list})\n",
    "\n",
    "print(f\"Best accuracy is: {best_accuracy} and C is {best_c}\")\n",
    "\n",
    "plt.figure(figsize=(10, 6))\n",
    "plt.title('SVM Learning Curve')\n",
    "plt.xlabel('C')\n",
    "plt.ylabel('Accuracy')\n",
    "plt.plot(cs_df['C'], cs_df['Train Accuracy'], label='Training Accuracy', color='blue', marker='o')\n",
    "plt.plot(cs_df['C'], cs_df['Validation Accuracy'], label='Validation Accuracy', color='orange', marker='o')\n",
    "plt.legend()\n",
    "plt.show()"
   ]
  },
  {
   "cell_type": "markdown",
   "metadata": {},
   "source": [
    "TUNED C, have the kernel already and now train "
   ]
  },
  {
   "cell_type": "code",
   "execution_count": 32,
   "metadata": {},
   "outputs": [],
   "source": [
    "g_list = [0.1, 0.2, 0.3, 0.4, 0.5, 0.6, 0.7, 0.8, 0.9, 1, 1.1, 1.2, 1.3, 1.4, 1.5, 1.6, 1.7, 1.8, 1.9, 2, 2.1, 2.2, 2.3, 2.4,2.5, 2.6, 2.7, 2.8]"
   ]
  },
  {
   "cell_type": "code",
   "execution_count": 34,
   "metadata": {},
   "outputs": [
    {
     "name": "stdout",
     "output_type": "stream",
     "text": [
      "Gamma: 0.1, Train Accuracy: 0.8338425218719622, Validation Accuracy: 0.7276091783863805\n",
      "Gamma: 0.2, Train Accuracy: 0.8746701846965699, Validation Accuracy: 0.7679496669133975\n",
      "Gamma: 0.3, Train Accuracy: 0.900361060963755, Validation Accuracy: 0.7831236121391562\n",
      "Gamma: 0.4, Train Accuracy: 0.9195945007637828, Validation Accuracy: 0.7894152479644707\n",
      "Gamma: 0.5, Train Accuracy: 0.9342452437161506, Validation Accuracy: 0.7997779422649889\n",
      "Gamma: 0.6, Train Accuracy: 0.944174420219414, Validation Accuracy: 0.8060695780903034\n",
      "Gamma: 0.7, Train Accuracy: 0.9522288571031801, Validation Accuracy: 0.8053293856402665\n",
      "Gamma: 0.8, Train Accuracy: 0.9592417719761144, Validation Accuracy: 0.8053293856402665\n",
      "Gamma: 0.9, Train Accuracy: 0.9654909040411054, Validation Accuracy: 0.810140636565507\n",
      "Gamma: 1, Train Accuracy: 0.9693792528815443, Validation Accuracy: 0.8119911176905995\n",
      "Gamma: 1.1, Train Accuracy: 0.972087210109707, Validation Accuracy: 0.8127313101406366\n",
      "Gamma: 1.2, Train Accuracy: 0.974934036939314, Validation Accuracy: 0.8123612139156181\n",
      "Gamma: 1.3, Train Accuracy: 0.9766004721566449, Validation Accuracy: 0.8082901554404145\n",
      "Gamma: 1.4, Train Accuracy: 0.9782669073739758, Validation Accuracy: 0.8082901554404145\n",
      "Gamma: 1.5, Train Accuracy: 0.980072212192751, Validation Accuracy: 0.8090303478904515\n",
      "Gamma: 1.6, Train Accuracy: 0.9810442994028608, Validation Accuracy: 0.8064396743153219\n",
      "Gamma: 1.7, Train Accuracy: 0.982363560616581, Validation Accuracy: 0.8064396743153219\n",
      "Gamma: 1.8, Train Accuracy: 0.983474517428135, Validation Accuracy: 0.8053293856402665\n",
      "Gamma: 1.9, Train Accuracy: 0.9843771698375225, Validation Accuracy: 0.807179866765359\n",
      "Gamma: 2, Train Accuracy: 0.9851409526454659, Validation Accuracy: 0.8068097705403405\n",
      "Gamma: 2.1, Train Accuracy: 0.9856964310512429, Validation Accuracy: 0.807920059215396\n",
      "Gamma: 2.2, Train Accuracy: 0.986321344257742, Validation Accuracy: 0.8068097705403405\n",
      "Gamma: 2.3, Train Accuracy: 0.9870156922649632, Validation Accuracy: 0.8090303478904515\n",
      "Gamma: 2.4, Train Accuracy: 0.9875017358700181, Validation Accuracy: 0.807920059215396\n",
      "Gamma: 2.5, Train Accuracy: 0.9879183446743508, Validation Accuracy: 0.8060695780903034\n",
      "Gamma: 2.6, Train Accuracy: 0.9885432578808498, Validation Accuracy: 0.8068097705403405\n",
      "Gamma: 2.7, Train Accuracy: 0.9888904318844605, Validation Accuracy: 0.805699481865285\n",
      "Gamma: 2.8, Train Accuracy: 0.9893764754895154, Validation Accuracy: 0.8034789045151739\n",
      "Best score: 0.81\n",
      "Best Gamma: {best_g}\n",
      "Best accuracy is: 0.8127313101406366 and estimators is 1.1\n"
     ]
    },
    {
     "data": {
      "image/png": "[encoded data removed]",
      "text/plain": [
       "<Figure size 1000x600 with 1 Axes>"
      ]
     },
     "metadata": {},
     "output_type": "display_data"
    }
   ],
   "source": [
    "best_accuracy=0\n",
    "gamma_list= []\n",
    "train_acc_list = []\n",
    "val_acc_list = []\n",
    "for g in g_list:\n",
    "    gamma_list.append(g)\n",
    "            \n",
    "    model = SVC(kernel='rbf', gamma=g, C=130, random_state = 7)\n",
    "    model.fit(X_ss_train_sample, y_ss_train_sample)\n",
    "\n",
    "\n",
    "    y_train_pred = model.predict(X_ss_train_sample)\n",
    "    y_val_pred = model.predict(X_ss_val_sample)\n",
    " \n",
    "    train_accuracy = accuracy_score(y_ss_train_sample, y_train_pred)\n",
    "    val_accuracy = accuracy_score(y_ss_val_sample, y_val_pred)\n",
    "    train_acc_list.append(train_accuracy)\n",
    "    val_acc_list.append(val_accuracy)\n",
    "\n",
    "    print(f\"Gamma: {g}, Train Accuracy: {train_accuracy}, Validation Accuracy: {val_accuracy}\")\n",
    "        # if we got a better score, store the score and parameters\n",
    "    if val_accuracy > best_accuracy:\n",
    "        best_accuracy = val_accuracy\n",
    "        best_g = g\n",
    "\n",
    "print(\"Best score: {:.2f}\".format(best_accuracy))\n",
    "print(\"Best Gamma: {best_g}\")\n",
    "    \n",
    "gamma_df = pd.DataFrame({'Gamma': gamma_list, 'Train Accuracy': train_acc_list, 'Validation Accuracy': val_acc_list})\n",
    "\n",
    "print(f\"Best accuracy is: {best_accuracy} and estimators is {best_g}\")\n",
    "\n",
    "plt.figure(figsize=(10, 6))\n",
    "plt.title('SVM Learning Curve')\n",
    "plt.xlabel('Gamma')\n",
    "plt.ylabel('Accuracy')\n",
    "plt.plot(gamma_df['Gamma'], gamma_df['Train Accuracy'], label='Training Accuracy', color='blue', marker='o')\n",
    "plt.plot(gamma_df['Gamma'], gamma_df['Validation Accuracy'], label='Validation Accuracy', color='orange', marker='o')\n",
    "plt.legend()\n",
    "plt.show()"
   ]
  },
  {
   "cell_type": "code",
   "execution_count": 36,
   "metadata": {},
   "outputs": [
    {
     "name": "stdout",
     "output_type": "stream",
     "text": [
      "Train Accuracy: 0.9594988213483497, Val Accuracy: 0.9346655564807105, Test Accuracy: 0.9308341351491377\n"
     ]
    }
   ],
   "source": [
    "final_model= SVC(kernel=\"rbf\", random_state=7, C=130, gamma=1.1)\n",
    "final_model.fit(X_ss_train, y_ss_train)\n",
    "\n",
    "y_train_pred = final_model.predict(X_ss_train)\n",
    "y_val_pred = final_model.predict(X_ss_val)\n",
    "y_test_pred = final_model.predict(X_ss_test)\n",
    "\n",
    "# Model Accuracy: how often is the classifier correct?\n",
    "print(f\"Train Accuracy: {accuracy_score(y_ss_train, y_train_pred)}, Val Accuracy: {accuracy_score(y_ss_val, y_val_pred)}, Test Accuracy: {accuracy_score(y_ss_test, y_test_pred)}\")\n",
    "\n",
    "cm = confusion_matrix(y_ss_test, y_test_pred, labels=final_model.classes_)\n",
    "cmd = ConfusionMatrixDisplay(confusion_matrix = cm, display_labels=['0', '1', '2'])\n",
    "\n",
    "cmd.plot()\n",
    "plt.ylabel('Actual Values')\n",
    "plt.xlabel('Predicted Values')\n",
    "plt.show()\n",
    "\n",
    "print(classification_report(y_ss_test, y_pred))"
   ]
  },
  {
   "cell_type": "code",
   "execution_count": null,
   "metadata": {},
   "outputs": [],
   "source": [
    "sdfsdf"
   ]
  },
  {
   "cell_type": "code",
   "execution_count": 49,
   "metadata": {},
   "outputs": [
    {
     "name": "stdout",
     "output_type": "stream",
     "text": [
      "N: 1, Train Accuracy 0.9341063741147063, Validation Accuracy: 0.7657290895632864\n",
      "N: 51, Train Accuracy 0.9904874323010693, Validation Accuracy: 0.8060695780903034\n",
      "N: 101, Train Accuracy 0.9916678239133454, Validation Accuracy: 0.8082901554404145\n",
      "N: 151, Train Accuracy 0.9918761283155118, Validation Accuracy: 0.8075499629903775\n",
      "N: 201, Train Accuracy 0.9915289543119011, Validation Accuracy: 0.8090303478904515\n"
     ]
    }
   ],
   "source": [
    "from sklearn.ensemble import BaggingClassifier\n",
    "\n",
    "best_accuracy=0\n",
    "n_list= []\n",
    "train_acc_list = []\n",
    "val_acc_list = []\n",
    "\n",
    "model = SVC(kernel='rbf', gamma=g, C=130, random_state = 7)\n",
    "model.fit(X_ss_train_sample, y_ss_train_sample)\n",
    "\n",
    "for n in range(1, 1002, 100):\n",
    "    n_list.append(n)\n",
    "    bagging_model = BaggingClassifier(estimator=model, n_estimators=n, random_state=7)\n",
    "    bagging_model.fit(X_ss_train_sample, y_ss_train_sample)\n",
    "\n",
    "\n",
    "    y_train_pred = bagging_model.predict(X_ss_train_sample)\n",
    "    y_val_pred= bagging_model.predict(X_ss_val_sample)\n",
    "    train_accuracy = accuracy_score(y_ss_train_sample, y_train_pred)\n",
    "    val_accuracy = accuracy_score(y_ss_val_sample, y_val_pred)\n",
    "\n",
    "    train_acc_list.append(train_accuracy)\n",
    "    val_acc_list.append(val_accuracy)\n",
    "\n",
    "    print(f\"N: {n}, Train Accuracy {train_accuracy}, Validation Accuracy: {val_accuracy}\")\n",
    "\n",
    "    if val_accuracy > best_accuracy:\n",
    "        best_accuracy = val_accuracy\n",
    "        best_n = n\n",
    "\n",
    "print(\"Best score: {:.2f}\".format(best_accuracy))\n",
    "print(\"Best Gamma: {best_g}\")\n",
    "    \n",
    "n_df = pd.DataFrame({'Num Estimators': n_list, 'Train Accuracy': train_acc_list, 'Validation Accuracy': val_acc_list})\n",
    "print(f\"Best accuracy is: {best_accuracy} and estimators is {best_n}\")\n",
    "\n",
    "plt.figure(figsize=(10, 6))\n",
    "plt.title('Bagging SVM Learning Curve')\n",
    "plt.xlabel('Number of Estimators')\n",
    "plt.ylabel('Accuracy')\n",
    "plt.plot(n_df['Num Estimators'], n_df['Train Accuracy'], label='Training Accuracy', color='blue', marker='o')\n",
    "plt.plot(n_df['Num Estimators'], n_df['Validation Accuracy'], label='Validation Accuracy', color='orange', marker='o')\n",
    "plt.legend()\n",
    "plt.show()"
   ]
  },
  {
   "cell_type": "markdown",
   "metadata": {},
   "source": [
    "https://datascience.stackexchange.com/questions/66216/gridsearch-without-cv"
   ]
  },
  {
   "cell_type": "markdown",
   "metadata": {},
   "source": [
    "Autoencoder"
   ]
  },
  {
   "cell_type": "code",
   "execution_count": null,
   "metadata": {},
   "outputs": [],
   "source": [
    "import numpy as np\n",
    "from keras.layers import Input, Dense\n",
    "from keras.models import Model\n",
    "from keras import optimizers"
   ]
  },
  {
   "cell_type": "code",
   "execution_count": null,
   "metadata": {},
   "outputs": [],
   "source": [
    "k_list = ['linear', 'rbf', 'sigmoid']\n",
    "gamma_list = [0.001, 0.01, 0.1, 1, 10, 100,200, 300]\n",
    "c_list = [0.001, 0.01, 0.1, 1, 10, 100, 200, 300]"
   ]
  },
  {
   "cell_type": "code",
   "execution_count": null,
   "metadata": {},
   "outputs": [],
   "source": [
    "import numpy as np\n",
    "from keras.layers import Input, Dense\n",
    "from keras.models import Model\n",
    "from keras import optimizers\n",
    "from sklearn.model_selection import train_test_split\n",
    "from sklearn.preprocessing import StandardScaler\n",
    "from sklearn.datasets import make_classification\n",
    "from sklearn.svm import SVC\n",
    "from sklearn.metrics import accuracy_score\n",
    "\n",
    "# Define the architecture of the autoencoder\n",
    "input_dim = X_ss_train_sample.shape[1]\n",
    "encoding_dim = 10  # You can adjust this based on your preference\n",
    "\n",
    "input_layer = Input(shape=(input_dim,))\n",
    "encoded = Dense(encoding_dim, activation='relu')(input_layer)\n",
    "decoded = Dense(input_dim, activation='sigmoid')(encoded)\n",
    "\n",
    "autoencoder = Model(input_layer, decoded)\n",
    "\n",
    "# Compile the autoencoder\n",
    "autoencoder.compile(optimizer='adam', loss='sparse_categorical_crossentropy')\n",
    "\n",
    "# Train the autoencoder\n",
    "autoencoder.fit(X_ss_train_sample, X_ss_train_sample, epochs=50, batch_size=32, shuffle=True, validation_data=(X_ss_test_sample, X_ss_test_sample))\n",
    "\n",
    "# Extract features using the encoder part of the autoencoder\n",
    "encoder = Model(input_layer, encoded)\n",
    "encoded_features_train = encoder.predict(X_ss_train_sample)\n",
    "encoded_features_test = encoder.predict(X_ss_test_sample)\n",
    "\n",
    "best_accuracy = 0\n",
    "# Now use SVM as the classifier\n",
    "for k in k_list:\n",
    "    for c in c_list:\n",
    "        for g in gamma_list:\n",
    "            svm_classifier = SVC(C=c, gamma=g, kernel=k, random_state=7)  # You can adjust the kernel and C parameter based on your preference\n",
    "            svm_classifier.fit(encoded_features_train, y_ss_train_sample)\n",
    "\n",
    "            # Predict on the test set\n",
    "            svm_predictions = svm_classifier.predict(encoded_features_test)\n",
    "\n",
    "            # Evaluate accuracy\n",
    "            accuracy = accuracy_score(y_ss_test_sample, svm_predictions)\n",
    "            print(f'Kernel: {k}, C: {c}, Gamma: {g}, SVM Accuracy: {accuracy}')\n",
    "\n",
    "\n",
    "            if accuracy > best_accuracy:\n",
    "                best_accuracy = accuracy\n",
    "                best_parameters = {'C': c, 'gamma': gamma, 'kernel': k}\n",
    "\n",
    "print(\"Best score: {:.2f}\".format(best_accuracy))\n",
    "print(\"Best parameters: {}\".format(best_parameters))"
   ]
  },
  {
   "cell_type": "code",
   "execution_count": null,
   "metadata": {},
   "outputs": [],
   "source": [
    "k_list = ['rbf']\n",
    "gamma_list = [0.1, 0.2, 0.3, 0.4, 0.5, 0.6, 0.7, 0.8, 0.9, 1, 2, 3, 4, 5, 6, 7, 8, 9, 10]\n",
    "c_list = [ 0.1, 0.2, 0.3, 0.4, 0.5, 0.6, 0.7, 0.8, 0.9, 1, 2, 3, 4, 5, 6, 7, 8, 9, 10]"
   ]
  },
  {
   "cell_type": "code",
   "execution_count": null,
   "metadata": {},
   "outputs": [
    {
     "name": "stdout",
     "output_type": "stream",
     "text": [
      "Epoch 1/50\n"
     ]
    },
    {
     "ename": "InvalidArgumentError",
     "evalue": "Graph execution error:\n\nDetected at node sparse_categorical_crossentropy/SparseSoftmaxCrossEntropyWithLogits/SparseSoftmaxCrossEntropyWithLogits defined at (most recent call last):\n  File \"C:\\Program Files\\WindowsApps\\PythonSoftwareFoundation.Python.3.10_3.10.3056.0_x64__qbz5n2kfra8p0\\lib\\runpy.py\", line 196, in _run_module_as_main\n\n  File \"C:\\Program Files\\WindowsApps\\PythonSoftwareFoundation.Python.3.10_3.10.3056.0_x64__qbz5n2kfra8p0\\lib\\runpy.py\", line 86, in _run_code\n\n  File \"C:\\Users\\carth\\AppData\\Local\\Packages\\PythonSoftwareFoundation.Python.3.10_qbz5n2kfra8p0\\LocalCache\\local-packages\\Python310\\site-packages\\ipykernel_launcher.py\", line 17, in <module>\n\n  File \"C:\\Users\\carth\\AppData\\Local\\Packages\\PythonSoftwareFoundation.Python.3.10_qbz5n2kfra8p0\\LocalCache\\local-packages\\Python310\\site-packages\\traitlets\\config\\application.py\", line 1043, in launch_instance\n\n  File \"C:\\Users\\carth\\AppData\\Local\\Packages\\PythonSoftwareFoundation.Python.3.10_qbz5n2kfra8p0\\LocalCache\\local-packages\\Python310\\site-packages\\ipykernel\\kernelapp.py\", line 725, in start\n\n  File \"C:\\Users\\carth\\AppData\\Local\\Packages\\PythonSoftwareFoundation.Python.3.10_qbz5n2kfra8p0\\LocalCache\\local-packages\\Python310\\site-packages\\tornado\\platform\\asyncio.py\", line 195, in start\n\n  File \"C:\\Program Files\\WindowsApps\\PythonSoftwareFoundation.Python.3.10_3.10.3056.0_x64__qbz5n2kfra8p0\\lib\\asyncio\\base_events.py\", line 603, in run_forever\n\n  File \"C:\\Program Files\\WindowsApps\\PythonSoftwareFoundation.Python.3.10_3.10.3056.0_x64__qbz5n2kfra8p0\\lib\\asyncio\\base_events.py\", line 1909, in _run_once\n\n  File \"C:\\Program Files\\WindowsApps\\PythonSoftwareFoundation.Python.3.10_3.10.3056.0_x64__qbz5n2kfra8p0\\lib\\asyncio\\events.py\", line 80, in _run\n\n  File \"C:\\Users\\carth\\AppData\\Local\\Packages\\PythonSoftwareFoundation.Python.3.10_qbz5n2kfra8p0\\LocalCache\\local-packages\\Python310\\site-packages\\ipykernel\\kernelbase.py\", line 513, in dispatch_queue\n\n  File \"C:\\Users\\carth\\AppData\\Local\\Packages\\PythonSoftwareFoundation.Python.3.10_qbz5n2kfra8p0\\LocalCache\\local-packages\\Python310\\site-packages\\ipykernel\\kernelbase.py\", line 502, in process_one\n\n  File \"C:\\Users\\carth\\AppData\\Local\\Packages\\PythonSoftwareFoundation.Python.3.10_qbz5n2kfra8p0\\LocalCache\\local-packages\\Python310\\site-packages\\ipykernel\\kernelbase.py\", line 409, in dispatch_shell\n\n  File \"C:\\Users\\carth\\AppData\\Local\\Packages\\PythonSoftwareFoundation.Python.3.10_qbz5n2kfra8p0\\LocalCache\\local-packages\\Python310\\site-packages\\ipykernel\\kernelbase.py\", line 729, in execute_request\n\n  File \"C:\\Users\\carth\\AppData\\Local\\Packages\\PythonSoftwareFoundation.Python.3.10_qbz5n2kfra8p0\\LocalCache\\local-packages\\Python310\\site-packages\\ipykernel\\ipkernel.py\", line 422, in do_execute\n\n  File \"C:\\Users\\carth\\AppData\\Local\\Packages\\PythonSoftwareFoundation.Python.3.10_qbz5n2kfra8p0\\LocalCache\\local-packages\\Python310\\site-packages\\ipykernel\\zmqshell.py\", line 540, in run_cell\n\n  File \"C:\\Users\\carth\\AppData\\Local\\Packages\\PythonSoftwareFoundation.Python.3.10_qbz5n2kfra8p0\\LocalCache\\local-packages\\Python310\\site-packages\\IPython\\core\\interactiveshell.py\", line 3009, in run_cell\n\n  File \"C:\\Users\\carth\\AppData\\Local\\Packages\\PythonSoftwareFoundation.Python.3.10_qbz5n2kfra8p0\\LocalCache\\local-packages\\Python310\\site-packages\\IPython\\core\\interactiveshell.py\", line 3064, in _run_cell\n\n  File \"C:\\Users\\carth\\AppData\\Local\\Packages\\PythonSoftwareFoundation.Python.3.10_qbz5n2kfra8p0\\LocalCache\\local-packages\\Python310\\site-packages\\IPython\\core\\async_helpers.py\", line 129, in _pseudo_sync_runner\n\n  File \"C:\\Users\\carth\\AppData\\Local\\Packages\\PythonSoftwareFoundation.Python.3.10_qbz5n2kfra8p0\\LocalCache\\local-packages\\Python310\\site-packages\\IPython\\core\\interactiveshell.py\", line 3269, in run_cell_async\n\n  File \"C:\\Users\\carth\\AppData\\Local\\Packages\\PythonSoftwareFoundation.Python.3.10_qbz5n2kfra8p0\\LocalCache\\local-packages\\Python310\\site-packages\\IPython\\core\\interactiveshell.py\", line 3448, in run_ast_nodes\n\n  File \"C:\\Users\\carth\\AppData\\Local\\Packages\\PythonSoftwareFoundation.Python.3.10_qbz5n2kfra8p0\\LocalCache\\local-packages\\Python310\\site-packages\\IPython\\core\\interactiveshell.py\", line 3508, in run_code\n\n  File \"C:\\Users\\carth\\AppData\\Local\\Temp\\ipykernel_1396\\438131127.py\", line 25, in <module>\n\n  File \"C:\\Users\\carth\\AppData\\Local\\Packages\\PythonSoftwareFoundation.Python.3.10_qbz5n2kfra8p0\\LocalCache\\local-packages\\Python310\\site-packages\\keras\\src\\utils\\traceback_utils.py\", line 65, in error_handler\n\n  File \"C:\\Users\\carth\\AppData\\Local\\Packages\\PythonSoftwareFoundation.Python.3.10_qbz5n2kfra8p0\\LocalCache\\local-packages\\Python310\\site-packages\\keras\\src\\engine\\training.py\", line 1783, in fit\n\n  File \"C:\\Users\\carth\\AppData\\Local\\Packages\\PythonSoftwareFoundation.Python.3.10_qbz5n2kfra8p0\\LocalCache\\local-packages\\Python310\\site-packages\\keras\\src\\engine\\training.py\", line 1377, in train_function\n\n  File \"C:\\Users\\carth\\AppData\\Local\\Packages\\PythonSoftwareFoundation.Python.3.10_qbz5n2kfra8p0\\LocalCache\\local-packages\\Python310\\site-packages\\keras\\src\\engine\\training.py\", line 1360, in step_function\n\n  File \"C:\\Users\\carth\\AppData\\Local\\Packages\\PythonSoftwareFoundation.Python.3.10_qbz5n2kfra8p0\\LocalCache\\local-packages\\Python310\\site-packages\\keras\\src\\engine\\training.py\", line 1349, in run_step\n\n  File \"C:\\Users\\carth\\AppData\\Local\\Packages\\PythonSoftwareFoundation.Python.3.10_qbz5n2kfra8p0\\LocalCache\\local-packages\\Python310\\site-packages\\keras\\src\\engine\\training.py\", line 1127, in train_step\n\n  File \"C:\\Users\\carth\\AppData\\Local\\Packages\\PythonSoftwareFoundation.Python.3.10_qbz5n2kfra8p0\\LocalCache\\local-packages\\Python310\\site-packages\\keras\\src\\engine\\training.py\", line 1185, in compute_loss\n\n  File \"C:\\Users\\carth\\AppData\\Local\\Packages\\PythonSoftwareFoundation.Python.3.10_qbz5n2kfra8p0\\LocalCache\\local-packages\\Python310\\site-packages\\keras\\src\\engine\\compile_utils.py\", line 277, in __call__\n\n  File \"C:\\Users\\carth\\AppData\\Local\\Packages\\PythonSoftwareFoundation.Python.3.10_qbz5n2kfra8p0\\LocalCache\\local-packages\\Python310\\site-packages\\keras\\src\\losses.py\", line 143, in __call__\n\n  File \"C:\\Users\\carth\\AppData\\Local\\Packages\\PythonSoftwareFoundation.Python.3.10_qbz5n2kfra8p0\\LocalCache\\local-packages\\Python310\\site-packages\\keras\\src\\losses.py\", line 270, in call\n\n  File \"C:\\Users\\carth\\AppData\\Local\\Packages\\PythonSoftwareFoundation.Python.3.10_qbz5n2kfra8p0\\LocalCache\\local-packages\\Python310\\site-packages\\keras\\src\\losses.py\", line 2454, in sparse_categorical_crossentropy\n\n  File \"C:\\Users\\carth\\AppData\\Local\\Packages\\PythonSoftwareFoundation.Python.3.10_qbz5n2kfra8p0\\LocalCache\\local-packages\\Python310\\site-packages\\keras\\src\\backend.py\", line 5777, in sparse_categorical_crossentropy\n\nlogits and labels must have the same first dimension, got logits shape [32,8] and labels shape [256]\n\t [[{{node sparse_categorical_crossentropy/SparseSoftmaxCrossEntropyWithLogits/SparseSoftmaxCrossEntropyWithLogits}}]] [Op:__inference_train_function_2140]",
     "output_type": "error",
     "traceback": [
      "\u001b[1;31m---------------------------------------------------------------------------\u001b[0m",
      "\u001b[1;31mInvalidArgumentError\u001b[0m                      Traceback (most recent call last)",
      "\u001b[1;32mc:\\Sophie Folder\\Birkbeck\\Project\\Git\\DLS_Project\\SVM Model.ipynb Cell 37\u001b[0m line \u001b[0;36m2\n\u001b[0;32m     <a href='vscode-notebook-cell:/c%3A/Sophie%20Folder/Birkbeck/Project/Git/DLS_Project/SVM%20Model.ipynb#X46sZmlsZQ%3D%3D?line=21'>22</a>\u001b[0m autoencoder\u001b[39m.\u001b[39mcompile(optimizer\u001b[39m=\u001b[39m\u001b[39m'\u001b[39m\u001b[39madam\u001b[39m\u001b[39m'\u001b[39m, loss\u001b[39m=\u001b[39m\u001b[39m'\u001b[39m\u001b[39msparse_categorical_crossentropy\u001b[39m\u001b[39m'\u001b[39m)\n\u001b[0;32m     <a href='vscode-notebook-cell:/c%3A/Sophie%20Folder/Birkbeck/Project/Git/DLS_Project/SVM%20Model.ipynb#X46sZmlsZQ%3D%3D?line=23'>24</a>\u001b[0m \u001b[39m# Train the autoencoder\u001b[39;00m\n\u001b[1;32m---> <a href='vscode-notebook-cell:/c%3A/Sophie%20Folder/Birkbeck/Project/Git/DLS_Project/SVM%20Model.ipynb#X46sZmlsZQ%3D%3D?line=24'>25</a>\u001b[0m autoencoder\u001b[39m.\u001b[39;49mfit(X_ss_train_sample, X_ss_train_sample, epochs\u001b[39m=\u001b[39;49m\u001b[39m50\u001b[39;49m, batch_size\u001b[39m=\u001b[39;49m\u001b[39m32\u001b[39;49m, shuffle\u001b[39m=\u001b[39;49m\u001b[39mTrue\u001b[39;49;00m, validation_data\u001b[39m=\u001b[39;49m(X_ss_test_sample, X_ss_test_sample))\n\u001b[0;32m     <a href='vscode-notebook-cell:/c%3A/Sophie%20Folder/Birkbeck/Project/Git/DLS_Project/SVM%20Model.ipynb#X46sZmlsZQ%3D%3D?line=26'>27</a>\u001b[0m \u001b[39m# Extract features using the encoder part of the autoencoder\u001b[39;00m\n\u001b[0;32m     <a href='vscode-notebook-cell:/c%3A/Sophie%20Folder/Birkbeck/Project/Git/DLS_Project/SVM%20Model.ipynb#X46sZmlsZQ%3D%3D?line=27'>28</a>\u001b[0m encoder \u001b[39m=\u001b[39m Model(input_layer, encoded)\n",
      "File \u001b[1;32m~\\AppData\\Local\\Packages\\PythonSoftwareFoundation.Python.3.10_qbz5n2kfra8p0\\LocalCache\\local-packages\\Python310\\site-packages\\keras\\src\\utils\\traceback_utils.py:70\u001b[0m, in \u001b[0;36mfilter_traceback.<locals>.error_handler\u001b[1;34m(*args, **kwargs)\u001b[0m\n\u001b[0;32m     67\u001b[0m     filtered_tb \u001b[39m=\u001b[39m _process_traceback_frames(e\u001b[39m.\u001b[39m__traceback__)\n\u001b[0;32m     68\u001b[0m     \u001b[39m# To get the full stack trace, call:\u001b[39;00m\n\u001b[0;32m     69\u001b[0m     \u001b[39m# `tf.debugging.disable_traceback_filtering()`\u001b[39;00m\n\u001b[1;32m---> 70\u001b[0m     \u001b[39mraise\u001b[39;00m e\u001b[39m.\u001b[39mwith_traceback(filtered_tb) \u001b[39mfrom\u001b[39;00m \u001b[39mNone\u001b[39;00m\n\u001b[0;32m     71\u001b[0m \u001b[39mfinally\u001b[39;00m:\n\u001b[0;32m     72\u001b[0m     \u001b[39mdel\u001b[39;00m filtered_tb\n",
      "File \u001b[1;32m~\\AppData\\Local\\Packages\\PythonSoftwareFoundation.Python.3.10_qbz5n2kfra8p0\\LocalCache\\local-packages\\Python310\\site-packages\\tensorflow\\python\\eager\\execute.py:60\u001b[0m, in \u001b[0;36mquick_execute\u001b[1;34m(op_name, num_outputs, inputs, attrs, ctx, name)\u001b[0m\n\u001b[0;32m     53\u001b[0m   \u001b[39m# Convert any objects of type core_types.Tensor to Tensor.\u001b[39;00m\n\u001b[0;32m     54\u001b[0m   inputs \u001b[39m=\u001b[39m [\n\u001b[0;32m     55\u001b[0m       tensor_conversion_registry\u001b[39m.\u001b[39mconvert(t)\n\u001b[0;32m     56\u001b[0m       \u001b[39mif\u001b[39;00m \u001b[39misinstance\u001b[39m(t, core_types\u001b[39m.\u001b[39mTensor)\n\u001b[0;32m     57\u001b[0m       \u001b[39melse\u001b[39;00m t\n\u001b[0;32m     58\u001b[0m       \u001b[39mfor\u001b[39;00m t \u001b[39min\u001b[39;00m inputs\n\u001b[0;32m     59\u001b[0m   ]\n\u001b[1;32m---> 60\u001b[0m   tensors \u001b[39m=\u001b[39m pywrap_tfe\u001b[39m.\u001b[39mTFE_Py_Execute(ctx\u001b[39m.\u001b[39m_handle, device_name, op_name,\n\u001b[0;32m     61\u001b[0m                                       inputs, attrs, num_outputs)\n\u001b[0;32m     62\u001b[0m \u001b[39mexcept\u001b[39;00m core\u001b[39m.\u001b[39m_NotOkStatusException \u001b[39mas\u001b[39;00m e:\n\u001b[0;32m     63\u001b[0m   \u001b[39mif\u001b[39;00m name \u001b[39mis\u001b[39;00m \u001b[39mnot\u001b[39;00m \u001b[39mNone\u001b[39;00m:\n",
      "\u001b[1;31mInvalidArgumentError\u001b[0m: Graph execution error:\n\nDetected at node sparse_categorical_crossentropy/SparseSoftmaxCrossEntropyWithLogits/SparseSoftmaxCrossEntropyWithLogits defined at (most recent call last):\n  File \"C:\\Program Files\\WindowsApps\\PythonSoftwareFoundation.Python.3.10_3.10.3056.0_x64__qbz5n2kfra8p0\\lib\\runpy.py\", line 196, in _run_module_as_main\n\n  File \"C:\\Program Files\\WindowsApps\\PythonSoftwareFoundation.Python.3.10_3.10.3056.0_x64__qbz5n2kfra8p0\\lib\\runpy.py\", line 86, in _run_code\n\n  File \"C:\\Users\\carth\\AppData\\Local\\Packages\\PythonSoftwareFoundation.Python.3.10_qbz5n2kfra8p0\\LocalCache\\local-packages\\Python310\\site-packages\\ipykernel_launcher.py\", line 17, in <module>\n\n  File \"C:\\Users\\carth\\AppData\\Local\\Packages\\PythonSoftwareFoundation.Python.3.10_qbz5n2kfra8p0\\LocalCache\\local-packages\\Python310\\site-packages\\traitlets\\config\\application.py\", line 1043, in launch_instance\n\n  File \"C:\\Users\\carth\\AppData\\Local\\Packages\\PythonSoftwareFoundation.Python.3.10_qbz5n2kfra8p0\\LocalCache\\local-packages\\Python310\\site-packages\\ipykernel\\kernelapp.py\", line 725, in start\n\n  File \"C:\\Users\\carth\\AppData\\Local\\Packages\\PythonSoftwareFoundation.Python.3.10_qbz5n2kfra8p0\\LocalCache\\local-packages\\Python310\\site-packages\\tornado\\platform\\asyncio.py\", line 195, in start\n\n  File \"C:\\Program Files\\WindowsApps\\PythonSoftwareFoundation.Python.3.10_3.10.3056.0_x64__qbz5n2kfra8p0\\lib\\asyncio\\base_events.py\", line 603, in run_forever\n\n  File \"C:\\Program Files\\WindowsApps\\PythonSoftwareFoundation.Python.3.10_3.10.3056.0_x64__qbz5n2kfra8p0\\lib\\asyncio\\base_events.py\", line 1909, in _run_once\n\n  File \"C:\\Program Files\\WindowsApps\\PythonSoftwareFoundation.Python.3.10_3.10.3056.0_x64__qbz5n2kfra8p0\\lib\\asyncio\\events.py\", line 80, in _run\n\n  File \"C:\\Users\\carth\\AppData\\Local\\Packages\\PythonSoftwareFoundation.Python.3.10_qbz5n2kfra8p0\\LocalCache\\local-packages\\Python310\\site-packages\\ipykernel\\kernelbase.py\", line 513, in dispatch_queue\n\n  File \"C:\\Users\\carth\\AppData\\Local\\Packages\\PythonSoftwareFoundation.Python.3.10_qbz5n2kfra8p0\\LocalCache\\local-packages\\Python310\\site-packages\\ipykernel\\kernelbase.py\", line 502, in process_one\n\n  File \"C:\\Users\\carth\\AppData\\Local\\Packages\\PythonSoftwareFoundation.Python.3.10_qbz5n2kfra8p0\\LocalCache\\local-packages\\Python310\\site-packages\\ipykernel\\kernelbase.py\", line 409, in dispatch_shell\n\n  File \"C:\\Users\\carth\\AppData\\Local\\Packages\\PythonSoftwareFoundation.Python.3.10_qbz5n2kfra8p0\\LocalCache\\local-packages\\Python310\\site-packages\\ipykernel\\kernelbase.py\", line 729, in execute_request\n\n  File \"C:\\Users\\carth\\AppData\\Local\\Packages\\PythonSoftwareFoundation.Python.3.10_qbz5n2kfra8p0\\LocalCache\\local-packages\\Python310\\site-packages\\ipykernel\\ipkernel.py\", line 422, in do_execute\n\n  File \"C:\\Users\\carth\\AppData\\Local\\Packages\\PythonSoftwareFoundation.Python.3.10_qbz5n2kfra8p0\\LocalCache\\local-packages\\Python310\\site-packages\\ipykernel\\zmqshell.py\", line 540, in run_cell\n\n  File \"C:\\Users\\carth\\AppData\\Local\\Packages\\PythonSoftwareFoundation.Python.3.10_qbz5n2kfra8p0\\LocalCache\\local-packages\\Python310\\site-packages\\IPython\\core\\interactiveshell.py\", line 3009, in run_cell\n\n  File \"C:\\Users\\carth\\AppData\\Local\\Packages\\PythonSoftwareFoundation.Python.3.10_qbz5n2kfra8p0\\LocalCache\\local-packages\\Python310\\site-packages\\IPython\\core\\interactiveshell.py\", line 3064, in _run_cell\n\n  File \"C:\\Users\\carth\\AppData\\Local\\Packages\\PythonSoftwareFoundation.Python.3.10_qbz5n2kfra8p0\\LocalCache\\local-packages\\Python310\\site-packages\\IPython\\core\\async_helpers.py\", line 129, in _pseudo_sync_runner\n\n  File \"C:\\Users\\carth\\AppData\\Local\\Packages\\PythonSoftwareFoundation.Python.3.10_qbz5n2kfra8p0\\LocalCache\\local-packages\\Python310\\site-packages\\IPython\\core\\interactiveshell.py\", line 3269, in run_cell_async\n\n  File \"C:\\Users\\carth\\AppData\\Local\\Packages\\PythonSoftwareFoundation.Python.3.10_qbz5n2kfra8p0\\LocalCache\\local-packages\\Python310\\site-packages\\IPython\\core\\interactiveshell.py\", line 3448, in run_ast_nodes\n\n  File \"C:\\Users\\carth\\AppData\\Local\\Packages\\PythonSoftwareFoundation.Python.3.10_qbz5n2kfra8p0\\LocalCache\\local-packages\\Python310\\site-packages\\IPython\\core\\interactiveshell.py\", line 3508, in run_code\n\n  File \"C:\\Users\\carth\\AppData\\Local\\Temp\\ipykernel_1396\\438131127.py\", line 25, in <module>\n\n  File \"C:\\Users\\carth\\AppData\\Local\\Packages\\PythonSoftwareFoundation.Python.3.10_qbz5n2kfra8p0\\LocalCache\\local-packages\\Python310\\site-packages\\keras\\src\\utils\\traceback_utils.py\", line 65, in error_handler\n\n  File \"C:\\Users\\carth\\AppData\\Local\\Packages\\PythonSoftwareFoundation.Python.3.10_qbz5n2kfra8p0\\LocalCache\\local-packages\\Python310\\site-packages\\keras\\src\\engine\\training.py\", line 1783, in fit\n\n  File \"C:\\Users\\carth\\AppData\\Local\\Packages\\PythonSoftwareFoundation.Python.3.10_qbz5n2kfra8p0\\LocalCache\\local-packages\\Python310\\site-packages\\keras\\src\\engine\\training.py\", line 1377, in train_function\n\n  File \"C:\\Users\\carth\\AppData\\Local\\Packages\\PythonSoftwareFoundation.Python.3.10_qbz5n2kfra8p0\\LocalCache\\local-packages\\Python310\\site-packages\\keras\\src\\engine\\training.py\", line 1360, in step_function\n\n  File \"C:\\Users\\carth\\AppData\\Local\\Packages\\PythonSoftwareFoundation.Python.3.10_qbz5n2kfra8p0\\LocalCache\\local-packages\\Python310\\site-packages\\keras\\src\\engine\\training.py\", line 1349, in run_step\n\n  File \"C:\\Users\\carth\\AppData\\Local\\Packages\\PythonSoftwareFoundation.Python.3.10_qbz5n2kfra8p0\\LocalCache\\local-packages\\Python310\\site-packages\\keras\\src\\engine\\training.py\", line 1127, in train_step\n\n  File \"C:\\Users\\carth\\AppData\\Local\\Packages\\PythonSoftwareFoundation.Python.3.10_qbz5n2kfra8p0\\LocalCache\\local-packages\\Python310\\site-packages\\keras\\src\\engine\\training.py\", line 1185, in compute_loss\n\n  File \"C:\\Users\\carth\\AppData\\Local\\Packages\\PythonSoftwareFoundation.Python.3.10_qbz5n2kfra8p0\\LocalCache\\local-packages\\Python310\\site-packages\\keras\\src\\engine\\compile_utils.py\", line 277, in __call__\n\n  File \"C:\\Users\\carth\\AppData\\Local\\Packages\\PythonSoftwareFoundation.Python.3.10_qbz5n2kfra8p0\\LocalCache\\local-packages\\Python310\\site-packages\\keras\\src\\losses.py\", line 143, in __call__\n\n  File \"C:\\Users\\carth\\AppData\\Local\\Packages\\PythonSoftwareFoundation.Python.3.10_qbz5n2kfra8p0\\LocalCache\\local-packages\\Python310\\site-packages\\keras\\src\\losses.py\", line 270, in call\n\n  File \"C:\\Users\\carth\\AppData\\Local\\Packages\\PythonSoftwareFoundation.Python.3.10_qbz5n2kfra8p0\\LocalCache\\local-packages\\Python310\\site-packages\\keras\\src\\losses.py\", line 2454, in sparse_categorical_crossentropy\n\n  File \"C:\\Users\\carth\\AppData\\Local\\Packages\\PythonSoftwareFoundation.Python.3.10_qbz5n2kfra8p0\\LocalCache\\local-packages\\Python310\\site-packages\\keras\\src\\backend.py\", line 5777, in sparse_categorical_crossentropy\n\nlogits and labels must have the same first dimension, got logits shape [32,8] and labels shape [256]\n\t [[{{node sparse_categorical_crossentropy/SparseSoftmaxCrossEntropyWithLogits/SparseSoftmaxCrossEntropyWithLogits}}]] [Op:__inference_train_function_2140]"
     ]
    }
   ],
   "source": [
    "import numpy as np\n",
    "from keras.layers import Input, Dense\n",
    "from keras.models import Model\n",
    "from keras import optimizers\n",
    "from sklearn.model_selection import train_test_split\n",
    "from sklearn.preprocessing import StandardScaler\n",
    "from sklearn.datasets import make_classification\n",
    "from sklearn.svm import SVC\n",
    "from sklearn.metrics import accuracy_score\n",
    "\n",
    "# Define the architecture of the autoencoder\n",
    "input_dim = X_ss_train_sample.shape[1]\n",
    "encoding_dim = 10  # You can adjust this based on your preference\n",
    "\n",
    "input_layer = Input(shape=(input_dim,))\n",
    "encoded = Dense(encoding_dim, activation='relu')(input_layer)\n",
    "decoded = Dense(input_dim, activation='sigmoid')(encoded)\n",
    "\n",
    "autoencoder = Model(input_layer, decoded)\n",
    "\n",
    "# Compile the autoencoder\n",
    "autoencoder.compile(optimizer='adam', loss='sparse_categorical_crossentropy')\n",
    "\n",
    "# Train the autoencoder\n",
    "autoencoder.fit(X_ss_train_sample, X_ss_train_sample, epochs=50, batch_size=32, shuffle=True, validation_data=(X_ss_test_sample, X_ss_test_sample))\n",
    "\n",
    "# Extract features using the encoder part of the autoencoder\n",
    "encoder = Model(input_layer, encoded)\n",
    "encoded_features_train = encoder.predict(X_ss_train_sample)\n",
    "encoded_features_test = encoder.predict(X_ss_test_sample)\n",
    "\n",
    "best_accuracy = 0\n",
    "# Now use SVM as the classifier\n",
    "for k in k_list:\n",
    "    for c in c_list:\n",
    "        for g in gamma_list:\n",
    "            svm_classifier = SVC(C=c, gamma=g, kernel=k, random_state=7)  # You can adjust the kernel and C parameter based on your preference\n",
    "            svm_classifier.fit(encoded_features_train, y_ss_train_sample)\n",
    "\n",
    "            # Predict on the test set\n",
    "            svm_predictions = svm_classifier.predict(encoded_features_test)\n",
    "\n",
    "            # Evaluate accuracy\n",
    "            accuracy = accuracy_score(y_ss_test_sample, svm_predictions)\n",
    "            print(f'Kernel: {k}, C: {c}, Gamma: {g}, SVM Accuracy: {accuracy}')\n",
    "\n",
    "\n",
    "            if accuracy > best_accuracy:\n",
    "                best_accuracy = accuracy\n",
    "                best_parameters = {'C': c, 'gamma': g, 'kernel': k}\n",
    "\n",
    "print(\"Best score: {:.2f}\".format(best_accuracy))\n",
    "print(\"Best parameters: {}\".format(best_parameters))"
   ]
  },
  {
   "cell_type": "code",
   "execution_count": null,
   "metadata": {},
   "outputs": [],
   "source": [
    "k_list = ['linear', 'rbf', 'sigmoid']\n",
    "gamma_list = [0.001, 0.01, 0.1, 1, 10, 100,200, 300]\n",
    "c_list = [0.001, 0.01, 0.1, 1, 10, 100, 200, 300]"
   ]
  },
  {
   "cell_type": "code",
   "execution_count": null,
   "metadata": {},
   "outputs": [],
   "source": [
    "import numpy as np\n",
    "from keras.layers import Input, Dense\n",
    "from keras.models import Model\n",
    "from keras import optimizers\n",
    "from keras import regularizers\n",
    "from sklearn.svm import SVC\n",
    "from sklearn.metrics import accuracy_score\n",
    "\n",
    "# Define the architecture of the autoencoder\n",
    "input_dim = X_ss_train_sample.shape[1]\n",
    "encoding_dim = 10  # You can adjust this based on your preference\n",
    "\n",
    "input_layer = Input(shape=(input_dim,))\n",
    "encoded = Dense(encoding_dim, activation='relu', activity_regularizer=regularizers.l1(10e-5))(input_layer)\n",
    "decoded = Dense(input_dim, activation='sigmoid')(encoded)\n",
    "\n",
    "autoencoder = Model(input_layer, decoded)\n",
    "\n",
    "# Compile the autoencoder\n",
    "autoencoder.compile(optimizer='adam', loss='sparse_categorical_crossentropy')\n",
    "\n",
    "# Train the autoencoder\n",
    "autoencoder.fit(X_ss_train_sample, X_ss_train_sample, epochs=150, batch_size=32, shuffle=True, validation_data=(X_ss_test_sample, X_ss_test_sample))\n",
    "\n",
    "# Extract features using the encoder part of the autoencoder\n",
    "encoder = Model(input_layer, encoded)\n",
    "encoded_features_train = encoder.predict(X_ss_train_sample)\n",
    "encoded_features_test = encoder.predict(X_ss_test_sample)\n",
    "\n",
    "best_accuracy = 0\n",
    "# Now use SVM as the classifier\n",
    "for k in k_list:\n",
    "    for c in c_list:\n",
    "        for g in gamma_list:\n",
    "            svm_classifier = SVC(C=c, gamma=g, kernel=k, random_state=7)  # You can adjust the kernel and C parameter based on your preference\n",
    "            svm_classifier.fit(encoded_features_train, y_ss_train_sample)\n",
    "\n",
    "            # Predict on the test set\n",
    "            svm_predictions = svm_classifier.predict(encoded_features_test)\n",
    "\n",
    "            # Evaluate accuracy\n",
    "            accuracy = accuracy_score(y_ss_test_sample, svm_predictions)\n",
    "            print(f'Kernel: {k}, C: {c}, Gamma: {g}, SVM Accuracy: {accuracy}')\n",
    "\n",
    "\n",
    "            if accuracy > best_accuracy:\n",
    "                best_accuracy = accuracy\n",
    "                best_parameters = {'C': c, 'gamma': g, 'kernel': k}\n",
    "\n",
    "print(\"Best score: {:.2f}\".format(best_accuracy))\n",
    "print(\"Best parameters: {}\".format(best_parameters))"
   ]
  }
 ],
 "metadata": {
  "kernelspec": {
   "display_name": "Python 3",
   "language": "python",
   "name": "python3"
  },
  "language_info": {
   "codemirror_mode": {
    "name": "ipython",
    "version": 3
   },
   "file_extension": ".py",
   "mimetype": "text/x-python",
   "name": "python",
   "nbconvert_exporter": "python",
   "pygments_lexer": "ipython3",
   "version": "3.10.11"
  }
 },
 "nbformat": 4,
 "nbformat_minor": 2
}
