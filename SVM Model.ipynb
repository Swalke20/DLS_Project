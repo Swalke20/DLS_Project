{
 "cells": [
  {
   "cell_type": "code",
   "execution_count": 2,
   "metadata": {},
   "outputs": [
    {
     "name": "stdout",
     "output_type": "stream",
     "text": [
      "Note: you may need to restart the kernel to use updated packages.\n"
     ]
    }
   ],
   "source": [
    "pip freeze > model_requirements.txt"
   ]
  },
  {
   "cell_type": "code",
   "execution_count": 3,
   "metadata": {},
   "outputs": [],
   "source": [
    "import pandas as pd"
   ]
  },
  {
   "cell_type": "code",
   "execution_count": 4,
   "metadata": {},
   "outputs": [],
   "source": [
    "data_mm_train_df = pd.read_csv('data_smin_mm_train_csv')\n",
    "data_mm_test_df = pd.read_csv('data_mm_test_csv')\n",
    "data_mm_val_df = pd.read_csv('data_mm_val_csv')\n",
    "\n",
    "data_mm_train_df = data_mm_train_df.drop(['Unnamed: 0', 'Remaining overs and balls', 'Remaining Team Value', 'Remaining Average Team Value'], axis=1)\n",
    "data_mm_test_df = data_mm_test_df.drop(['Unnamed: 0', 'Remaining overs and balls', 'Remaining Team Value', 'Remaining Average Team Value'], axis=1)\n",
    "data_mm_val_df = data_mm_val_df.drop(['Unnamed: 0', 'Remaining overs and balls', 'Remaining Team Value', 'Remaining Average Team Value'], axis=1)"
   ]
  },
  {
   "cell_type": "code",
   "execution_count": null,
   "metadata": {},
   "outputs": [],
   "source": [
    "data_ss_train_df = pd.read_csv('data_smin_ss_train_csv')\n",
    "data_ss_test_df = pd.read_csv('data_ss_test_csv')\n",
    "data_ss_val_df = pd.read_csv('data_ss_val_csv')\n",
    "\n",
    "data_ss_train_df = data_ss_train_df.drop(['Unnamed: 0', 'Remaining overs and balls', 'Remaining Team Value', 'Remaining Average Team Value'], axis=1)\n",
    "data_ss_test_df = data_ss_test_df.drop(['Unnamed: 0', 'Remaining overs and balls', 'Remaining Team Value', 'Remaining Average Team Value'], axis=1)\n",
    "data_ss_val_df = data_ss_val_df.drop(['Unnamed: 0', 'Remaining overs and balls', 'Remaining Team Value', 'Remaining Average Team Value'], axis=1)"
   ]
  },
  {
   "cell_type": "code",
   "execution_count": null,
   "metadata": {},
   "outputs": [],
   "source": [
    "data_log_train_df = pd.read_csv('data_smin_log_train_csv')\n",
    "data_log_test_df = pd.read_csv('data_test_csv')\n",
    "data_log_val_df = pd.read_csv('data_val_csv')\n",
    "\n",
    "data_log_train_df = data_log_train_df.drop(['Unnamed: 0', 'Remaining overs and balls', 'Remaining Team Value', 'Remaining Average Team Value'], axis=1)\n",
    "data_log_test_df = data_log_test_df.drop(['Unnamed: 0', 'Remaining overs and balls', 'Remaining Team Value', 'Remaining Average Team Value'], axis=1)\n",
    "data_log_val_df = data_log_val_df.drop(['Unnamed: 0', 'Remaining overs and balls', 'Remaining Team Value', 'Remaining Average Team Value'], axis=1)"
   ]
  },
  {
   "cell_type": "code",
   "execution_count": null,
   "metadata": {},
   "outputs": [],
   "source": [
    "print(f\"Data_train: {data_mm_train_df.shape}\")\n",
    "print(f\"Data_test: {data_mm_test_df.shape}\")\n",
    "print(f\"Data_val: {data_mm_val_df.shape}\")\n",
    "\n",
    "#Divide by 10 for the sample"
   ]
  },
  {
   "cell_type": "code",
   "execution_count": 8,
   "metadata": {},
   "outputs": [],
   "source": [
    "data_mm_train_sample_df = data_mm_train_df.sample(n=28804, replace=False, random_state=7, axis=0)\n",
    "data_mm_val_sample_df = data_mm_val_df.sample(n=2702, replace=False, random_state=7, axis=0)\n",
    "data_mm_test_sample_df = data_mm_test_df.sample(n=5405, replace=False, random_state=7, axis=0)\n",
    "\n",
    "data_ss_train_sample_df = data_ss_train_df.sample(n=28804, replace=False, random_state=7, axis=0)\n",
    "data_ss_val_sample_df = data_ss_val_df.sample(n=2702, replace=False, random_state=7, axis=0)\n",
    "data_ss_test_sample_df = data_ss_test_df.sample(n=5405, replace=False, random_state=7, axis=0)"
   ]
  },
  {
   "cell_type": "code",
   "execution_count": 11,
   "metadata": {},
   "outputs": [],
   "source": [
    "y_mm_train_sample = data_mm_train_sample_df['Winner_num']\n",
    "X_mm_train_sample = data_mm_train_sample_df.drop('Winner_num',axis=1)\n",
    "\n",
    "X_mm_test_sample = data_mm_test_sample_df.drop('Winner_num',axis=1) \n",
    "y_mm_test_sample = data_mm_test_sample_df['Winner_num']\n",
    "\n",
    "X_mm_val_sample = data_mm_val_sample_df.drop('Winner_num',axis=1) \n",
    "y_mm_val_sample = data_mm_val_sample_df['Winner_num']\n",
    "\n",
    "y_ss_train_sample = data_ss_train_sample_df['Winner_num']\n",
    "X_ss_train_sample = data_ss_train_sample_df.drop('Winner_num',axis=1)\n",
    "\n",
    "X_ss_test_sample = data_mm_test_sample_df.drop('Winner_num',axis=1) \n",
    "y_ss_test_sample = data_mm_test_sample_df['Winner_num']\n",
    "\n",
    "X_ss_val_sample = data_ss_val_sample_df.drop('Winner_num',axis=1) \n",
    "y_ss_val_sample = data_ss_val_sample_df['Winner_num']\n",
    "\n",
    "\n",
    "y_log_train = data_log_train_df['Winner_num']\n",
    "X_log_train = data_log_train_df.drop('Winner_num',axis=1)\n",
    "\n",
    "X_log_test = data_log_test_df.drop('Winner_num',axis=1) \n",
    "y_log_test = data_log_test_df['Winner_num']\n",
    "\n",
    "X_log_val = data_log_test_df.drop('Winner_num',axis=1) \n",
    "y_log_val = data_log_test_df['Winner_num']"
   ]
  },
  {
   "cell_type": "code",
   "execution_count": null,
   "metadata": {},
   "outputs": [],
   "source": []
  },
  {
   "cell_type": "markdown",
   "metadata": {},
   "source": [
    "SVM model"
   ]
  },
  {
   "cell_type": "code",
   "execution_count": 14,
   "metadata": {},
   "outputs": [],
   "source": [
    "from sklearn import svm\n",
    "from sklearn import metrics\n",
    "from sklearn.metrics import accuracy_score, confusion_matrix, classification_report, ConfusionMatrixDisplay"
   ]
  },
  {
   "cell_type": "code",
   "execution_count": 15,
   "metadata": {},
   "outputs": [
    {
     "ename": "NameError",
     "evalue": "name 'adfasdf' is not defined",
     "output_type": "error",
     "traceback": [
      "\u001b[1;31m---------------------------------------------------------------------------\u001b[0m",
      "\u001b[1;31mNameError\u001b[0m                                 Traceback (most recent call last)",
      "\u001b[1;32mc:\\Sophie Folder\\Birkbeck\\Project\\Git\\DLS_Project\\SVM Model.ipynb Cell 15\u001b[0m line \u001b[0;36m1\n\u001b[1;32m----> <a href='vscode-notebook-cell:/c%3A/Sophie%20Folder/Birkbeck/Project/Git/DLS_Project/SVM%20Model.ipynb#X20sZmlsZQ%3D%3D?line=0'>1</a>\u001b[0m adfasdf\n",
      "\u001b[1;31mNameError\u001b[0m: name 'adfasdf' is not defined"
     ]
    }
   ],
   "source": [
    "adfasdf"
   ]
  },
  {
   "cell_type": "markdown",
   "metadata": {},
   "source": [
    "Baseline one SVC"
   ]
  },
  {
   "cell_type": "code",
   "execution_count": null,
   "metadata": {},
   "outputs": [],
   "source": [
    "#Import svm model\n",
    "from sklearn import svm\n",
    "\n",
    "#Create a svm Classifier\n",
    "clf = svm.SVC(kernel=\"linear\", random_state=7)\n",
    "\n",
    "#Train the model using the training sets\n",
    "clf.fit(X_train, y_train)\n",
    "\n",
    "#Predict the response for test dataset\n",
    "y_pred = clf.predict(X_test)"
   ]
  },
  {
   "cell_type": "code",
   "execution_count": null,
   "metadata": {},
   "outputs": [
    {
     "name": "stdout",
     "output_type": "stream",
     "text": [
      "Accuracy: 0.5992154540744579\n"
     ]
    }
   ],
   "source": [
    "#Import scikit-learn metrics module for accuracy calculation\n",
    "from sklearn import metrics\n",
    "\n",
    "# Model Accuracy: how often is the classifier correct?\n",
    "print(\"Accuracy:\",metrics.accuracy_score(y_test, y_pred))"
   ]
  },
  {
   "cell_type": "code",
   "execution_count": null,
   "metadata": {},
   "outputs": [
    {
     "ename": "NameError",
     "evalue": "name 'sdgdfg' is not defined",
     "output_type": "error",
     "traceback": [
      "\u001b[1;31m---------------------------------------------------------------------------\u001b[0m",
      "\u001b[1;31mNameError\u001b[0m                                 Traceback (most recent call last)",
      "\u001b[1;32mc:\\Sophie Folder\\Birkbeck\\Project\\Git\\DLS_Project\\SVM Model.ipynb Cell 14\u001b[0m line \u001b[0;36m1\n\u001b[1;32m----> <a href='vscode-notebook-cell:/c%3A/Sophie%20Folder/Birkbeck/Project/Git/DLS_Project/SVM%20Model.ipynb#X15sZmlsZQ%3D%3D?line=0'>1</a>\u001b[0m sdgdfg\n",
      "\u001b[1;31mNameError\u001b[0m: name 'sdgdfg' is not defined"
     ]
    }
   ],
   "source": [
    "sdgdfg"
   ]
  },
  {
   "cell_type": "code",
   "execution_count": null,
   "metadata": {},
   "outputs": [],
   "source": [
    "k_list = ['linear', 'rbf', 'sigmoid']\n",
    "gamma_list = [0.001, 0.01, 0.1, 1, 10, 100,200, 300]\n",
    "c_list = [0.001, 0.01, 0.1, 1, 10, 100, 200, 300]"
   ]
  },
  {
   "cell_type": "code",
   "execution_count": null,
   "metadata": {},
   "outputs": [
    {
     "name": "stdout",
     "output_type": "stream",
     "text": [
      "linear, Gamma: 0.001, C: 0.001, Accuracy: 0.01\n",
      "linear, Gamma: 0.001, C: 0.01, Accuracy: 0.5612\n",
      "linear, Gamma: 0.001, C: 0.1, Accuracy: 0.5944\n",
      "linear, Gamma: 0.001, C: 1, Accuracy: 0.5908\n",
      "linear, Gamma: 0.001, C: 10, Accuracy: 0.5924\n",
      "linear, Gamma: 0.001, C: 100, Accuracy: 0.5904\n",
      "linear, Gamma: 0.001, C: 200, Accuracy: 0.5904\n",
      "linear, Gamma: 0.001, C: 300, Accuracy: 0.5904\n",
      "linear, Gamma: 0.01, C: 0.001, Accuracy: 0.01\n",
      "linear, Gamma: 0.01, C: 0.01, Accuracy: 0.5612\n",
      "linear, Gamma: 0.01, C: 0.1, Accuracy: 0.5944\n",
      "linear, Gamma: 0.01, C: 1, Accuracy: 0.5908\n",
      "linear, Gamma: 0.01, C: 10, Accuracy: 0.5924\n",
      "linear, Gamma: 0.01, C: 100, Accuracy: 0.5904\n",
      "linear, Gamma: 0.01, C: 200, Accuracy: 0.5904\n",
      "linear, Gamma: 0.01, C: 300, Accuracy: 0.5904\n",
      "linear, Gamma: 0.1, C: 0.001, Accuracy: 0.01\n",
      "linear, Gamma: 0.1, C: 0.01, Accuracy: 0.5612\n",
      "linear, Gamma: 0.1, C: 0.1, Accuracy: 0.5944\n",
      "linear, Gamma: 0.1, C: 1, Accuracy: 0.5908\n",
      "linear, Gamma: 0.1, C: 10, Accuracy: 0.5924\n",
      "linear, Gamma: 0.1, C: 100, Accuracy: 0.5904\n",
      "linear, Gamma: 0.1, C: 200, Accuracy: 0.5904\n",
      "linear, Gamma: 0.1, C: 300, Accuracy: 0.5904\n",
      "linear, Gamma: 1, C: 0.001, Accuracy: 0.01\n",
      "linear, Gamma: 1, C: 0.01, Accuracy: 0.5612\n",
      "linear, Gamma: 1, C: 0.1, Accuracy: 0.5944\n",
      "linear, Gamma: 1, C: 1, Accuracy: 0.5908\n",
      "linear, Gamma: 1, C: 10, Accuracy: 0.5924\n",
      "linear, Gamma: 1, C: 100, Accuracy: 0.5904\n",
      "linear, Gamma: 1, C: 200, Accuracy: 0.5904\n",
      "linear, Gamma: 1, C: 300, Accuracy: 0.5904\n",
      "linear, Gamma: 10, C: 0.001, Accuracy: 0.01\n",
      "linear, Gamma: 10, C: 0.01, Accuracy: 0.5612\n",
      "linear, Gamma: 10, C: 0.1, Accuracy: 0.5944\n",
      "linear, Gamma: 10, C: 1, Accuracy: 0.5908\n",
      "linear, Gamma: 10, C: 10, Accuracy: 0.5924\n",
      "linear, Gamma: 10, C: 100, Accuracy: 0.5904\n",
      "linear, Gamma: 10, C: 200, Accuracy: 0.5904\n",
      "linear, Gamma: 10, C: 300, Accuracy: 0.5904\n",
      "linear, Gamma: 100, C: 0.001, Accuracy: 0.01\n",
      "linear, Gamma: 100, C: 0.01, Accuracy: 0.5612\n",
      "linear, Gamma: 100, C: 0.1, Accuracy: 0.5944\n",
      "linear, Gamma: 100, C: 1, Accuracy: 0.5908\n",
      "linear, Gamma: 100, C: 10, Accuracy: 0.5924\n",
      "linear, Gamma: 100, C: 100, Accuracy: 0.5904\n",
      "linear, Gamma: 100, C: 200, Accuracy: 0.5904\n",
      "linear, Gamma: 100, C: 300, Accuracy: 0.5904\n",
      "linear, Gamma: 200, C: 0.001, Accuracy: 0.01\n",
      "linear, Gamma: 200, C: 0.01, Accuracy: 0.5612\n",
      "linear, Gamma: 200, C: 0.1, Accuracy: 0.5944\n",
      "linear, Gamma: 200, C: 1, Accuracy: 0.5908\n",
      "linear, Gamma: 200, C: 10, Accuracy: 0.5924\n",
      "linear, Gamma: 200, C: 100, Accuracy: 0.5904\n",
      "linear, Gamma: 200, C: 200, Accuracy: 0.5904\n",
      "linear, Gamma: 200, C: 300, Accuracy: 0.5904\n",
      "linear, Gamma: 300, C: 0.001, Accuracy: 0.01\n",
      "linear, Gamma: 300, C: 0.01, Accuracy: 0.5612\n",
      "linear, Gamma: 300, C: 0.1, Accuracy: 0.5944\n",
      "linear, Gamma: 300, C: 1, Accuracy: 0.5908\n",
      "linear, Gamma: 300, C: 10, Accuracy: 0.5924\n",
      "linear, Gamma: 300, C: 100, Accuracy: 0.5904\n",
      "linear, Gamma: 300, C: 200, Accuracy: 0.5904\n",
      "linear, Gamma: 300, C: 300, Accuracy: 0.5904\n",
      "rbf, Gamma: 0.001, C: 0.001, Accuracy: 0.01\n",
      "rbf, Gamma: 0.001, C: 0.01, Accuracy: 0.01\n",
      "rbf, Gamma: 0.001, C: 0.1, Accuracy: 0.01\n",
      "rbf, Gamma: 0.001, C: 1, Accuracy: 0.01\n",
      "rbf, Gamma: 0.001, C: 10, Accuracy: 0.58\n",
      "rbf, Gamma: 0.001, C: 100, Accuracy: 0.6\n",
      "rbf, Gamma: 0.001, C: 200, Accuracy: 0.5972\n",
      "rbf, Gamma: 0.001, C: 300, Accuracy: 0.5964\n",
      "rbf, Gamma: 0.01, C: 0.001, Accuracy: 0.01\n",
      "rbf, Gamma: 0.01, C: 0.01, Accuracy: 0.01\n",
      "rbf, Gamma: 0.01, C: 0.1, Accuracy: 0.01\n",
      "rbf, Gamma: 0.01, C: 1, Accuracy: 0.5796\n",
      "rbf, Gamma: 0.01, C: 10, Accuracy: 0.6\n",
      "rbf, Gamma: 0.01, C: 100, Accuracy: 0.5876\n",
      "rbf, Gamma: 0.01, C: 200, Accuracy: 0.584\n",
      "rbf, Gamma: 0.01, C: 300, Accuracy: 0.5856\n",
      "rbf, Gamma: 0.1, C: 0.001, Accuracy: 0.01\n",
      "rbf, Gamma: 0.1, C: 0.01, Accuracy: 0.01\n",
      "rbf, Gamma: 0.1, C: 0.1, Accuracy: 0.5776\n",
      "rbf, Gamma: 0.1, C: 1, Accuracy: 0.5984\n",
      "rbf, Gamma: 0.1, C: 10, Accuracy: 0.5836\n",
      "rbf, Gamma: 0.1, C: 100, Accuracy: 0.57\n",
      "rbf, Gamma: 0.1, C: 200, Accuracy: 0.574\n",
      "rbf, Gamma: 0.1, C: 300, Accuracy: 0.5792\n",
      "rbf, Gamma: 1, C: 0.001, Accuracy: 0.01\n",
      "rbf, Gamma: 1, C: 0.01, Accuracy: 0.5632\n",
      "rbf, Gamma: 1, C: 0.1, Accuracy: 0.5936\n",
      "rbf, Gamma: 1, C: 1, Accuracy: 0.568\n",
      "rbf, Gamma: 1, C: 10, Accuracy: 0.5828\n",
      "rbf, Gamma: 1, C: 100, Accuracy: 0.606\n",
      "rbf, Gamma: 1, C: 200, Accuracy: 0.6088\n",
      "rbf, Gamma: 1, C: 300, Accuracy: 0.6072\n",
      "rbf, Gamma: 10, C: 0.001, Accuracy: 0.01\n",
      "rbf, Gamma: 10, C: 0.01, Accuracy: 0.5472\n",
      "rbf, Gamma: 10, C: 0.1, Accuracy: 0.6072\n",
      "rbf, Gamma: 10, C: 1, Accuracy: 0.6172\n",
      "rbf, Gamma: 10, C: 10, Accuracy: 0.6644\n",
      "rbf, Gamma: 10, C: 100, Accuracy: 0.6972\n",
      "rbf, Gamma: 10, C: 200, Accuracy: 0.7072\n",
      "rbf, Gamma: 10, C: 300, Accuracy: 0.708\n",
      "rbf, Gamma: 100, C: 0.001, Accuracy: 0.01\n",
      "rbf, Gamma: 100, C: 0.01, Accuracy: 0.01\n",
      "rbf, Gamma: 100, C: 0.1, Accuracy: 0.6748\n",
      "rbf, Gamma: 100, C: 1, Accuracy: 0.7212\n",
      "rbf, Gamma: 100, C: 10, Accuracy: 0.7216\n",
      "rbf, Gamma: 100, C: 100, Accuracy: 0.7128\n",
      "rbf, Gamma: 100, C: 200, Accuracy: 0.7156\n",
      "rbf, Gamma: 100, C: 300, Accuracy: 0.7128\n",
      "rbf, Gamma: 200, C: 0.001, Accuracy: 0.01\n",
      "rbf, Gamma: 200, C: 0.01, Accuracy: 0.01\n",
      "rbf, Gamma: 200, C: 0.1, Accuracy: 0.592\n",
      "rbf, Gamma: 200, C: 1, Accuracy: 0.7264\n",
      "rbf, Gamma: 200, C: 10, Accuracy: 0.7124\n",
      "rbf, Gamma: 200, C: 100, Accuracy: 0.716\n",
      "rbf, Gamma: 200, C: 200, Accuracy: 0.7204\n",
      "rbf, Gamma: 200, C: 300, Accuracy: 0.7192\n",
      "rbf, Gamma: 300, C: 0.001, Accuracy: 0.01\n",
      "rbf, Gamma: 300, C: 0.01, Accuracy: 0.01\n",
      "rbf, Gamma: 300, C: 0.1, Accuracy: 0.5164\n",
      "rbf, Gamma: 300, C: 1, Accuracy: 0.7156\n",
      "rbf, Gamma: 300, C: 10, Accuracy: 0.712\n",
      "rbf, Gamma: 300, C: 100, Accuracy: 0.7148\n",
      "rbf, Gamma: 300, C: 200, Accuracy: 0.714\n",
      "rbf, Gamma: 300, C: 300, Accuracy: 0.7128\n",
      "Best score: 0.73\n",
      "Best parameters: {'C': 1, 'gamma': 200, 'kernel': 'rbf'}\n"
     ]
    }
   ],
   "source": [
    "print(\"MinMax\")\n",
    "best_accuracy = 0\n",
    "\n",
    "for k in k_list:\n",
    "    for gamma in gamma_list:\n",
    "        for c in c_list:\n",
    "        # for each combination of parameters, train an SVC\n",
    "                \n",
    "            model = svm.SVC(kernel=k, gamma=gamma, C=c, random_state = 7)\n",
    "            model.fit(X_mm_train_sample, y_mm_train_sample)\n",
    "            y_mm_pred = model.predict(X_mm_val_sample)\n",
    "            accuracy = accuracy_score(y_mm_val_sample, y_mm_pred)\n",
    "            print(f\"{k}, Gamma: {gamma}, C: {c}, Accuracy: {accuracy}\")\n",
    "\n",
    "        # if we got a better score, store the score and parameters\n",
    "            if accuracy > best_accuracy:\n",
    "                best_accuracy = accuracy\n",
    "                best_parameters = {'C': c, 'gamma': gamma, 'kernel': k}\n",
    "\n",
    "print(\"Best score: {:.2f}\".format(best_accuracy))\n",
    "print(\"Best parameters: {}\".format(best_parameters))"
   ]
  },
  {
   "cell_type": "code",
   "execution_count": null,
   "metadata": {},
   "outputs": [
    {
     "name": "stdout",
     "output_type": "stream",
     "text": [
      "MinMax\n"
     ]
    },
    {
     "ename": "NameError",
     "evalue": "name 'k_list' is not defined",
     "output_type": "error",
     "traceback": [
      "\u001b[1;31m---------------------------------------------------------------------------\u001b[0m",
      "\u001b[1;31mNameError\u001b[0m                                 Traceback (most recent call last)",
      "\u001b[1;32mc:\\Sophie Folder\\Birkbeck\\Project\\Git\\DLS_Project\\SVM Model.ipynb Cell 23\u001b[0m line \u001b[0;36m4\n\u001b[0;32m      <a href='vscode-notebook-cell:/c%3A/Sophie%20Folder/Birkbeck/Project/Git/DLS_Project/SVM%20Model.ipynb#X44sZmlsZQ%3D%3D?line=0'>1</a>\u001b[0m \u001b[39mprint\u001b[39m(\u001b[39m\"\u001b[39m\u001b[39mMinMax\u001b[39m\u001b[39m\"\u001b[39m)\n\u001b[0;32m      <a href='vscode-notebook-cell:/c%3A/Sophie%20Folder/Birkbeck/Project/Git/DLS_Project/SVM%20Model.ipynb#X44sZmlsZQ%3D%3D?line=1'>2</a>\u001b[0m best_accuracy \u001b[39m=\u001b[39m \u001b[39m0\u001b[39m\n\u001b[1;32m----> <a href='vscode-notebook-cell:/c%3A/Sophie%20Folder/Birkbeck/Project/Git/DLS_Project/SVM%20Model.ipynb#X44sZmlsZQ%3D%3D?line=3'>4</a>\u001b[0m \u001b[39mfor\u001b[39;00m k \u001b[39min\u001b[39;00m k_list:\n\u001b[0;32m      <a href='vscode-notebook-cell:/c%3A/Sophie%20Folder/Birkbeck/Project/Git/DLS_Project/SVM%20Model.ipynb#X44sZmlsZQ%3D%3D?line=4'>5</a>\u001b[0m     \u001b[39mfor\u001b[39;00m gamma \u001b[39min\u001b[39;00m [\u001b[39m0.001\u001b[39m, \u001b[39m0.01\u001b[39m, \u001b[39m0.1\u001b[39m, \u001b[39m1\u001b[39m, \u001b[39m10\u001b[39m, \u001b[39m100\u001b[39m,\u001b[39m200\u001b[39m, \u001b[39m300\u001b[39m]:\n\u001b[0;32m      <a href='vscode-notebook-cell:/c%3A/Sophie%20Folder/Birkbeck/Project/Git/DLS_Project/SVM%20Model.ipynb#X44sZmlsZQ%3D%3D?line=5'>6</a>\u001b[0m         \u001b[39mfor\u001b[39;00m c \u001b[39min\u001b[39;00m [\u001b[39m0.001\u001b[39m, \u001b[39m0.01\u001b[39m, \u001b[39m0.1\u001b[39m, \u001b[39m1\u001b[39m, \u001b[39m10\u001b[39m, \u001b[39m100\u001b[39m, \u001b[39m200\u001b[39m, \u001b[39m300\u001b[39m]:\n\u001b[0;32m      <a href='vscode-notebook-cell:/c%3A/Sophie%20Folder/Birkbeck/Project/Git/DLS_Project/SVM%20Model.ipynb#X44sZmlsZQ%3D%3D?line=6'>7</a>\u001b[0m         \u001b[39m# for each combination of parameters, train an SVC\u001b[39;00m\n",
      "\u001b[1;31mNameError\u001b[0m: name 'k_list' is not defined"
     ]
    }
   ],
   "source": [
    "print(\"SS\")\n",
    "best_accuracy = 0\n",
    "\n",
    "for k in k_list:\n",
    "    for gamma in gamma_list:\n",
    "        for c in c_list:\n",
    "        # for each combination of parameters, train an SVC\n",
    "                \n",
    "            model = svm.SVC(kernel=k, gamma=gamma, C=c, random_state = 7)\n",
    "            model.fit(X_ss_train_sample, y_ss_train_sample)\n",
    "            y_ss_pred = model.predict(X_ss_val_sample)\n",
    "            accuracy = accuracy_score(y_ss_val_sample, y_ss_pred)\n",
    "            print(f\"{k}, Gamma: {gamma}, C: {c}, Accuracy: {accuracy}\")\n",
    "\n",
    "        # if we got a better score, store the score and parameters\n",
    "            if accuracy > best_accuracy:\n",
    "                best_accuracy = accuracy\n",
    "                best_parameters = {'C': c, 'gamma': gamma, 'kernel': k}\n",
    "\n",
    "print(\"Best score: {:.2f}\".format(best_accuracy))\n",
    "print(\"Best parameters: {}\".format(best_parameters))"
   ]
  },
  {
   "cell_type": "code",
   "execution_count": null,
   "metadata": {},
   "outputs": [
    {
     "name": "stdout",
     "output_type": "stream",
     "text": [
      "rbf, Gamma: 100, C: 0.1, Accuracy: 0.6748\n",
      "rbf, Gamma: 100, C: 0.2, Accuracy: 0.694\n",
      "rbf, Gamma: 100, C: 0.3, Accuracy: 0.6972\n",
      "rbf, Gamma: 100, C: 0.4, Accuracy: 0.7028\n",
      "rbf, Gamma: 100, C: 0.5, Accuracy: 0.7104\n",
      "rbf, Gamma: 100, C: 0.6, Accuracy: 0.7168\n",
      "rbf, Gamma: 100, C: 0.7, Accuracy: 0.7144\n",
      "rbf, Gamma: 100, C: 0.8, Accuracy: 0.714\n",
      "rbf, Gamma: 100, C: 0.9, Accuracy: 0.7176\n",
      "rbf, Gamma: 200, C: 0.1, Accuracy: 0.592\n",
      "rbf, Gamma: 200, C: 0.2, Accuracy: 0.6776\n",
      "rbf, Gamma: 200, C: 0.3, Accuracy: 0.7044\n",
      "rbf, Gamma: 200, C: 0.4, Accuracy: 0.712\n",
      "rbf, Gamma: 200, C: 0.5, Accuracy: 0.716\n",
      "rbf, Gamma: 200, C: 0.6, Accuracy: 0.7176\n",
      "rbf, Gamma: 200, C: 0.7, Accuracy: 0.7208\n",
      "rbf, Gamma: 200, C: 0.8, Accuracy: 0.726\n",
      "rbf, Gamma: 200, C: 0.9, Accuracy: 0.7248\n",
      "rbf, Gamma: 300, C: 0.1, Accuracy: 0.5164\n",
      "rbf, Gamma: 300, C: 0.2, Accuracy: 0.6164\n",
      "rbf, Gamma: 300, C: 0.3, Accuracy: 0.6776\n",
      "rbf, Gamma: 300, C: 0.4, Accuracy: 0.6956\n",
      "rbf, Gamma: 300, C: 0.5, Accuracy: 0.7068\n",
      "rbf, Gamma: 300, C: 0.6, Accuracy: 0.712\n",
      "rbf, Gamma: 300, C: 0.7, Accuracy: 0.7172\n",
      "rbf, Gamma: 300, C: 0.8, Accuracy: 0.7148\n",
      "rbf, Gamma: 300, C: 0.9, Accuracy: 0.7164\n",
      "Best score: 0.73\n",
      "Best parameters: {'C': 0.8, 'gamma': 200, 'kernel': 'rbf'}\n"
     ]
    }
   ],
   "source": [
    "print(\"LogNorm\")\n",
    "best_accuracy = 0\n",
    "\n",
    "for k in k_list:\n",
    "    for gamma in gamma_list:\n",
    "        for c in c_list:\n",
    "        # for each combination of parameters, train an SVC\n",
    "                \n",
    "            model = svm.SVC(kernel=k, gamma=gamma, C=c, random_state = 7)\n",
    "            model.fit(X_log_train_sample, y_log_train_sample)\n",
    "            y_log_pred = model.predict(X_log_val_sample)\n",
    "            accuracy = accuracy_score(y_log_val_sample, y_log_pred)\n",
    "            print(f\"{k}, Gamma: {gamma}, C: {c}, Accuracy: {accuracy}\")\n",
    "\n",
    "        # if we got a better score, store the score and parameters\n",
    "            if accuracy > best_accuracy:\n",
    "                best_accuracy = accuracy\n",
    "                best_parameters = {'C': c, 'gamma': gamma, 'kernel': k}\n",
    "\n",
    "print(\"Best score: {:.2f}\".format(best_accuracy))\n",
    "print(\"Best parameters: {}\".format(best_parameters))"
   ]
  },
  {
   "cell_type": "code",
   "execution_count": 20,
   "metadata": {},
   "outputs": [
    {
     "name": "stderr",
     "output_type": "stream",
     "text": [
      "C:\\Users\\carth\\AppData\\Local\\Packages\\PythonSoftwareFoundation.Python.3.10_qbz5n2kfra8p0\\LocalCache\\local-packages\\Python310\\site-packages\\sklearn\\ensemble\\_base.py:156: FutureWarning: `base_estimator` was renamed to `estimator` in version 1.2 and will be removed in 1.4.\n",
      "  warnings.warn(\n",
      "C:\\Users\\carth\\AppData\\Local\\Packages\\PythonSoftwareFoundation.Python.3.10_qbz5n2kfra8p0\\LocalCache\\local-packages\\Python310\\site-packages\\sklearn\\ensemble\\_base.py:156: FutureWarning: `base_estimator` was renamed to `estimator` in version 1.2 and will be removed in 1.4.\n",
      "  warnings.warn(\n",
      "C:\\Users\\carth\\AppData\\Local\\Packages\\PythonSoftwareFoundation.Python.3.10_qbz5n2kfra8p0\\LocalCache\\local-packages\\Python310\\site-packages\\sklearn\\ensemble\\_base.py:156: FutureWarning: `base_estimator` was renamed to `estimator` in version 1.2 and will be removed in 1.4.\n",
      "  warnings.warn(\n",
      "C:\\Users\\carth\\AppData\\Local\\Packages\\PythonSoftwareFoundation.Python.3.10_qbz5n2kfra8p0\\LocalCache\\local-packages\\Python310\\site-packages\\sklearn\\ensemble\\_base.py:156: FutureWarning: `base_estimator` was renamed to `estimator` in version 1.2 and will be removed in 1.4.\n",
      "  warnings.warn(\n",
      "C:\\Users\\carth\\AppData\\Local\\Packages\\PythonSoftwareFoundation.Python.3.10_qbz5n2kfra8p0\\LocalCache\\local-packages\\Python310\\site-packages\\sklearn\\ensemble\\_base.py:156: FutureWarning: `base_estimator` was renamed to `estimator` in version 1.2 and will be removed in 1.4.\n",
      "  warnings.warn(\n",
      "C:\\Users\\carth\\AppData\\Local\\Packages\\PythonSoftwareFoundation.Python.3.10_qbz5n2kfra8p0\\LocalCache\\local-packages\\Python310\\site-packages\\sklearn\\ensemble\\_base.py:156: FutureWarning: `base_estimator` was renamed to `estimator` in version 1.2 and will be removed in 1.4.\n",
      "  warnings.warn(\n",
      "C:\\Users\\carth\\AppData\\Local\\Packages\\PythonSoftwareFoundation.Python.3.10_qbz5n2kfra8p0\\LocalCache\\local-packages\\Python310\\site-packages\\sklearn\\ensemble\\_base.py:156: FutureWarning: `base_estimator` was renamed to `estimator` in version 1.2 and will be removed in 1.4.\n",
      "  warnings.warn(\n",
      "C:\\Users\\carth\\AppData\\Local\\Packages\\PythonSoftwareFoundation.Python.3.10_qbz5n2kfra8p0\\LocalCache\\local-packages\\Python310\\site-packages\\sklearn\\ensemble\\_base.py:156: FutureWarning: `base_estimator` was renamed to `estimator` in version 1.2 and will be removed in 1.4.\n",
      "  warnings.warn(\n",
      "C:\\Users\\carth\\AppData\\Local\\Packages\\PythonSoftwareFoundation.Python.3.10_qbz5n2kfra8p0\\LocalCache\\local-packages\\Python310\\site-packages\\sklearn\\ensemble\\_base.py:156: FutureWarning: `base_estimator` was renamed to `estimator` in version 1.2 and will be removed in 1.4.\n",
      "  warnings.warn(\n",
      "C:\\Users\\carth\\AppData\\Local\\Packages\\PythonSoftwareFoundation.Python.3.10_qbz5n2kfra8p0\\LocalCache\\local-packages\\Python310\\site-packages\\sklearn\\ensemble\\_base.py:156: FutureWarning: `base_estimator` was renamed to `estimator` in version 1.2 and will be removed in 1.4.\n",
      "  warnings.warn(\n",
      "C:\\Users\\carth\\AppData\\Local\\Packages\\PythonSoftwareFoundation.Python.3.10_qbz5n2kfra8p0\\LocalCache\\local-packages\\Python310\\site-packages\\sklearn\\ensemble\\_base.py:156: FutureWarning: `base_estimator` was renamed to `estimator` in version 1.2 and will be removed in 1.4.\n",
      "  warnings.warn(\n",
      "C:\\Users\\carth\\AppData\\Local\\Packages\\PythonSoftwareFoundation.Python.3.10_qbz5n2kfra8p0\\LocalCache\\local-packages\\Python310\\site-packages\\sklearn\\ensemble\\_base.py:156: FutureWarning: `base_estimator` was renamed to `estimator` in version 1.2 and will be removed in 1.4.\n",
      "  warnings.warn(\n",
      "C:\\Users\\carth\\AppData\\Local\\Packages\\PythonSoftwareFoundation.Python.3.10_qbz5n2kfra8p0\\LocalCache\\local-packages\\Python310\\site-packages\\sklearn\\ensemble\\_base.py:156: FutureWarning: `base_estimator` was renamed to `estimator` in version 1.2 and will be removed in 1.4.\n",
      "  warnings.warn(\n",
      "C:\\Users\\carth\\AppData\\Local\\Packages\\PythonSoftwareFoundation.Python.3.10_qbz5n2kfra8p0\\LocalCache\\local-packages\\Python310\\site-packages\\sklearn\\ensemble\\_base.py:156: FutureWarning: `base_estimator` was renamed to `estimator` in version 1.2 and will be removed in 1.4.\n",
      "  warnings.warn(\n",
      "C:\\Users\\carth\\AppData\\Local\\Packages\\PythonSoftwareFoundation.Python.3.10_qbz5n2kfra8p0\\LocalCache\\local-packages\\Python310\\site-packages\\sklearn\\ensemble\\_base.py:156: FutureWarning: `base_estimator` was renamed to `estimator` in version 1.2 and will be removed in 1.4.\n",
      "  warnings.warn(\n",
      "C:\\Users\\carth\\AppData\\Local\\Packages\\PythonSoftwareFoundation.Python.3.10_qbz5n2kfra8p0\\LocalCache\\local-packages\\Python310\\site-packages\\sklearn\\ensemble\\_base.py:156: FutureWarning: `base_estimator` was renamed to `estimator` in version 1.2 and will be removed in 1.4.\n",
      "  warnings.warn(\n",
      "C:\\Users\\carth\\AppData\\Local\\Packages\\PythonSoftwareFoundation.Python.3.10_qbz5n2kfra8p0\\LocalCache\\local-packages\\Python310\\site-packages\\sklearn\\ensemble\\_base.py:156: FutureWarning: `base_estimator` was renamed to `estimator` in version 1.2 and will be removed in 1.4.\n",
      "  warnings.warn(\n",
      "C:\\Users\\carth\\AppData\\Local\\Packages\\PythonSoftwareFoundation.Python.3.10_qbz5n2kfra8p0\\LocalCache\\local-packages\\Python310\\site-packages\\sklearn\\ensemble\\_base.py:156: FutureWarning: `base_estimator` was renamed to `estimator` in version 1.2 and will be removed in 1.4.\n",
      "  warnings.warn(\n",
      "C:\\Users\\carth\\AppData\\Local\\Packages\\PythonSoftwareFoundation.Python.3.10_qbz5n2kfra8p0\\LocalCache\\local-packages\\Python310\\site-packages\\sklearn\\ensemble\\_base.py:156: FutureWarning: `base_estimator` was renamed to `estimator` in version 1.2 and will be removed in 1.4.\n",
      "  warnings.warn(\n",
      "C:\\Users\\carth\\AppData\\Local\\Packages\\PythonSoftwareFoundation.Python.3.10_qbz5n2kfra8p0\\LocalCache\\local-packages\\Python310\\site-packages\\sklearn\\ensemble\\_base.py:156: FutureWarning: `base_estimator` was renamed to `estimator` in version 1.2 and will be removed in 1.4.\n",
      "  warnings.warn(\n",
      "C:\\Users\\carth\\AppData\\Local\\Packages\\PythonSoftwareFoundation.Python.3.10_qbz5n2kfra8p0\\LocalCache\\local-packages\\Python310\\site-packages\\sklearn\\ensemble\\_base.py:156: FutureWarning: `base_estimator` was renamed to `estimator` in version 1.2 and will be removed in 1.4.\n",
      "  warnings.warn(\n",
      "C:\\Users\\carth\\AppData\\Local\\Packages\\PythonSoftwareFoundation.Python.3.10_qbz5n2kfra8p0\\LocalCache\\local-packages\\Python310\\site-packages\\sklearn\\ensemble\\_base.py:156: FutureWarning: `base_estimator` was renamed to `estimator` in version 1.2 and will be removed in 1.4.\n",
      "  warnings.warn(\n",
      "C:\\Users\\carth\\AppData\\Local\\Packages\\PythonSoftwareFoundation.Python.3.10_qbz5n2kfra8p0\\LocalCache\\local-packages\\Python310\\site-packages\\sklearn\\ensemble\\_base.py:156: FutureWarning: `base_estimator` was renamed to `estimator` in version 1.2 and will be removed in 1.4.\n",
      "  warnings.warn(\n",
      "C:\\Users\\carth\\AppData\\Local\\Packages\\PythonSoftwareFoundation.Python.3.10_qbz5n2kfra8p0\\LocalCache\\local-packages\\Python310\\site-packages\\sklearn\\ensemble\\_base.py:156: FutureWarning: `base_estimator` was renamed to `estimator` in version 1.2 and will be removed in 1.4.\n",
      "  warnings.warn(\n",
      "C:\\Users\\carth\\AppData\\Local\\Packages\\PythonSoftwareFoundation.Python.3.10_qbz5n2kfra8p0\\LocalCache\\local-packages\\Python310\\site-packages\\sklearn\\ensemble\\_base.py:156: FutureWarning: `base_estimator` was renamed to `estimator` in version 1.2 and will be removed in 1.4.\n",
      "  warnings.warn(\n",
      "C:\\Users\\carth\\AppData\\Local\\Packages\\PythonSoftwareFoundation.Python.3.10_qbz5n2kfra8p0\\LocalCache\\local-packages\\Python310\\site-packages\\sklearn\\ensemble\\_base.py:156: FutureWarning: `base_estimator` was renamed to `estimator` in version 1.2 and will be removed in 1.4.\n",
      "  warnings.warn(\n",
      "C:\\Users\\carth\\AppData\\Local\\Packages\\PythonSoftwareFoundation.Python.3.10_qbz5n2kfra8p0\\LocalCache\\local-packages\\Python310\\site-packages\\sklearn\\ensemble\\_base.py:156: FutureWarning: `base_estimator` was renamed to `estimator` in version 1.2 and will be removed in 1.4.\n",
      "  warnings.warn(\n",
      "C:\\Users\\carth\\AppData\\Local\\Packages\\PythonSoftwareFoundation.Python.3.10_qbz5n2kfra8p0\\LocalCache\\local-packages\\Python310\\site-packages\\sklearn\\ensemble\\_base.py:156: FutureWarning: `base_estimator` was renamed to `estimator` in version 1.2 and will be removed in 1.4.\n",
      "  warnings.warn(\n",
      "C:\\Users\\carth\\AppData\\Local\\Packages\\PythonSoftwareFoundation.Python.3.10_qbz5n2kfra8p0\\LocalCache\\local-packages\\Python310\\site-packages\\sklearn\\ensemble\\_base.py:156: FutureWarning: `base_estimator` was renamed to `estimator` in version 1.2 and will be removed in 1.4.\n",
      "  warnings.warn(\n",
      "C:\\Users\\carth\\AppData\\Local\\Packages\\PythonSoftwareFoundation.Python.3.10_qbz5n2kfra8p0\\LocalCache\\local-packages\\Python310\\site-packages\\sklearn\\ensemble\\_base.py:156: FutureWarning: `base_estimator` was renamed to `estimator` in version 1.2 and will be removed in 1.4.\n",
      "  warnings.warn(\n",
      "C:\\Users\\carth\\AppData\\Local\\Packages\\PythonSoftwareFoundation.Python.3.10_qbz5n2kfra8p0\\LocalCache\\local-packages\\Python310\\site-packages\\sklearn\\ensemble\\_base.py:156: FutureWarning: `base_estimator` was renamed to `estimator` in version 1.2 and will be removed in 1.4.\n",
      "  warnings.warn(\n",
      "C:\\Users\\carth\\AppData\\Local\\Packages\\PythonSoftwareFoundation.Python.3.10_qbz5n2kfra8p0\\LocalCache\\local-packages\\Python310\\site-packages\\sklearn\\ensemble\\_base.py:156: FutureWarning: `base_estimator` was renamed to `estimator` in version 1.2 and will be removed in 1.4.\n",
      "  warnings.warn(\n",
      "C:\\Users\\carth\\AppData\\Local\\Packages\\PythonSoftwareFoundation.Python.3.10_qbz5n2kfra8p0\\LocalCache\\local-packages\\Python310\\site-packages\\sklearn\\ensemble\\_base.py:156: FutureWarning: `base_estimator` was renamed to `estimator` in version 1.2 and will be removed in 1.4.\n",
      "  warnings.warn(\n",
      "C:\\Users\\carth\\AppData\\Local\\Packages\\PythonSoftwareFoundation.Python.3.10_qbz5n2kfra8p0\\LocalCache\\local-packages\\Python310\\site-packages\\sklearn\\ensemble\\_base.py:156: FutureWarning: `base_estimator` was renamed to `estimator` in version 1.2 and will be removed in 1.4.\n",
      "  warnings.warn(\n",
      "C:\\Users\\carth\\AppData\\Local\\Packages\\PythonSoftwareFoundation.Python.3.10_qbz5n2kfra8p0\\LocalCache\\local-packages\\Python310\\site-packages\\sklearn\\ensemble\\_base.py:156: FutureWarning: `base_estimator` was renamed to `estimator` in version 1.2 and will be removed in 1.4.\n",
      "  warnings.warn(\n",
      "C:\\Users\\carth\\AppData\\Local\\Packages\\PythonSoftwareFoundation.Python.3.10_qbz5n2kfra8p0\\LocalCache\\local-packages\\Python310\\site-packages\\sklearn\\ensemble\\_base.py:156: FutureWarning: `base_estimator` was renamed to `estimator` in version 1.2 and will be removed in 1.4.\n",
      "  warnings.warn(\n",
      "C:\\Users\\carth\\AppData\\Local\\Packages\\PythonSoftwareFoundation.Python.3.10_qbz5n2kfra8p0\\LocalCache\\local-packages\\Python310\\site-packages\\sklearn\\ensemble\\_base.py:156: FutureWarning: `base_estimator` was renamed to `estimator` in version 1.2 and will be removed in 1.4.\n",
      "  warnings.warn(\n",
      "C:\\Users\\carth\\AppData\\Local\\Packages\\PythonSoftwareFoundation.Python.3.10_qbz5n2kfra8p0\\LocalCache\\local-packages\\Python310\\site-packages\\sklearn\\ensemble\\_base.py:156: FutureWarning: `base_estimator` was renamed to `estimator` in version 1.2 and will be removed in 1.4.\n",
      "  warnings.warn(\n",
      "C:\\Users\\carth\\AppData\\Local\\Packages\\PythonSoftwareFoundation.Python.3.10_qbz5n2kfra8p0\\LocalCache\\local-packages\\Python310\\site-packages\\sklearn\\ensemble\\_base.py:156: FutureWarning: `base_estimator` was renamed to `estimator` in version 1.2 and will be removed in 1.4.\n",
      "  warnings.warn(\n",
      "C:\\Users\\carth\\AppData\\Local\\Packages\\PythonSoftwareFoundation.Python.3.10_qbz5n2kfra8p0\\LocalCache\\local-packages\\Python310\\site-packages\\sklearn\\ensemble\\_base.py:156: FutureWarning: `base_estimator` was renamed to `estimator` in version 1.2 and will be removed in 1.4.\n",
      "  warnings.warn(\n",
      "C:\\Users\\carth\\AppData\\Local\\Packages\\PythonSoftwareFoundation.Python.3.10_qbz5n2kfra8p0\\LocalCache\\local-packages\\Python310\\site-packages\\sklearn\\ensemble\\_base.py:156: FutureWarning: `base_estimator` was renamed to `estimator` in version 1.2 and will be removed in 1.4.\n",
      "  warnings.warn(\n",
      "C:\\Users\\carth\\AppData\\Local\\Packages\\PythonSoftwareFoundation.Python.3.10_qbz5n2kfra8p0\\LocalCache\\local-packages\\Python310\\site-packages\\sklearn\\ensemble\\_base.py:156: FutureWarning: `base_estimator` was renamed to `estimator` in version 1.2 and will be removed in 1.4.\n",
      "  warnings.warn(\n",
      "C:\\Users\\carth\\AppData\\Local\\Packages\\PythonSoftwareFoundation.Python.3.10_qbz5n2kfra8p0\\LocalCache\\local-packages\\Python310\\site-packages\\sklearn\\ensemble\\_base.py:156: FutureWarning: `base_estimator` was renamed to `estimator` in version 1.2 and will be removed in 1.4.\n",
      "  warnings.warn(\n",
      "C:\\Users\\carth\\AppData\\Local\\Packages\\PythonSoftwareFoundation.Python.3.10_qbz5n2kfra8p0\\LocalCache\\local-packages\\Python310\\site-packages\\sklearn\\ensemble\\_base.py:156: FutureWarning: `base_estimator` was renamed to `estimator` in version 1.2 and will be removed in 1.4.\n",
      "  warnings.warn(\n",
      "C:\\Users\\carth\\AppData\\Local\\Packages\\PythonSoftwareFoundation.Python.3.10_qbz5n2kfra8p0\\LocalCache\\local-packages\\Python310\\site-packages\\sklearn\\ensemble\\_base.py:156: FutureWarning: `base_estimator` was renamed to `estimator` in version 1.2 and will be removed in 1.4.\n",
      "  warnings.warn(\n"
     ]
    }
   ],
   "source": [
    "from sklearn.model_selection import GridSearchCV\n",
    "from sklearn.ensemble import BaggingClassifier\n",
    "from sklearn.svm import SVC\n",
    "from sklearn.metrics import accuracy_score\n",
    "\n",
    "# Define the SVM base classifier\n",
    "svm_classifier = SVC()\n",
    "\n",
    "# Define the parameters to tune (you can customize this based on your needs)\n",
    "param_grid = {\n",
    "    'base_estimator__C': [0.1, 1, 10],\n",
    "    'base_estimator__kernel': ['linear', 'rbf', 'poly'],\n",
    "    'base_estimator__gamma': ['scale', 'auto'],\n",
    "    'n_estimators': [10, 50, 100],\n",
    "}\n",
    "\n",
    "# Create the bagging classifier with SVM as the base estimator\n",
    "bagging_classifier = BaggingClassifier(base_estimator=svm_classifier, random_state=42)\n",
    "\n",
    "# Create the GridSearchCV object for hyperparameter tuning\n",
    "grid_search = GridSearchCV(bagging_classifier, param_grid, cv=3, scoring='accuracy')\n",
    "\n",
    "# Fit the GridSearchCV object to the training data\n",
    "grid_search.fit(X_train_sample, y_train_sample)\n",
    "\n",
    "# Get the best parameters from the grid search\n",
    "best_params = grid_search.best_params_\n",
    "print(\"Best Parameters:\", best_params)\n",
    "\n",
    "# Use the best parameters to create the final bagging classifier\n",
    "final_bagging_classifier = BaggingClassifier(base_estimator=SVC(**best_params['base_estimator']), \n",
    "                                             n_estimators=best_params['n_estimators'],\n",
    "                                             random_state=42)\n",
    "\n",
    "# Train the final bagging classifier on the training data\n",
    "final_bagging_classifier.fit(X_train_sample, y_train_sample)\n",
    "\n",
    "# Evaluate the classifier on the validation set\n",
    "val_predictions = final_bagging_classifier.predict(X_val)\n",
    "val_accuracy = accuracy_score(y_val_sample, val_predictions)\n",
    "print(\"Validation Accuracy:\", val_accuracy)\n",
    "\n",
    "\n",
    "\n",
    "# Evaluate the classifier on the test set\n",
    "#test_predictions = final_bagging_classifier.predict(X_test)\n",
    "#test_accuracy = accuracy_score(y_test, test_predictions)\n",
    "#print(\"Test Accuracy:\", test_accuracy)\n"
   ]
  },
  {
   "cell_type": "markdown",
   "metadata": {},
   "source": [
    "https://datascience.stackexchange.com/questions/66216/gridsearch-without-cv"
   ]
  }
 ],
 "metadata": {
  "kernelspec": {
   "display_name": "Python 3",
   "language": "python",
   "name": "python3"
  },
  "language_info": {
   "codemirror_mode": {
    "name": "ipython",
    "version": 3
   },
   "file_extension": ".py",
   "mimetype": "text/x-python",
   "name": "python",
   "nbconvert_exporter": "python",
   "pygments_lexer": "ipython3",
   "version": "3.10.11"
  }
 },
 "nbformat": 4,
 "nbformat_minor": 2
}
